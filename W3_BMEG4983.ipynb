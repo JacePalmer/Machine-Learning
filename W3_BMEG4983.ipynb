{
  "nbformat": 4,
  "nbformat_minor": 0,
  "metadata": {
    "colab": {
      "provenance": [],
      "toc_visible": true,
      "include_colab_link": true
    },
    "kernelspec": {
      "name": "python3",
      "display_name": "Python 3"
    },
    "language_info": {
      "name": "python"
    }
  },
  "cells": [
    {
      "cell_type": "markdown",
      "metadata": {
        "id": "view-in-github",
        "colab_type": "text"
      },
      "source": [
        "<a href=\"https://colab.research.google.com/github/JacePalmer/Machine-Learning/blob/main/W3_BMEG4983.ipynb\" target=\"_parent\"><img src=\"https://colab.research.google.com/assets/colab-badge.svg\" alt=\"Open In Colab\"/></a>"
      ]
    },
    {
      "cell_type": "markdown",
      "source": [
        "<img src=https://brand.uark.edu/_resources/images/UA_Logo_Horizontal.jpg width=\"400\" height=\"96\">\n",
        "\n",
        "####BMEG 4983 - Genome Engineering and Synthetic Biology -\n",
        "####For more information, check out the Nelson lab for Therapeutic Genome Engineering (https://nelsonlab.uark.edu/)\n",
        "\n",
        "#3. Data Workshop 3 - CRISPR gRNA design\n",
        "Update for 2025\n",
        "\n",
        "\n",
        "The goal for today is to take a sequence file and design CRISPR gRNAs that tile the whole sequence (Every available PAM). This will combine our previous two lessons in using python, data I/O, and handling sequence data."
      ],
      "metadata": {
        "id": "5O0S6pHiqLuR"
      }
    },
    {
      "cell_type": "markdown",
      "source": [
        "# 3.1 Outline\n",
        "\n",
        "\n",
        "*   Data Input - We need to get sequence data into the computer\n",
        "*   Dealing with sequence data\n",
        "*   Iterating through a data set\n",
        "*   Data output\n"
      ],
      "metadata": {
        "id": "oMTwU8lzqZeN"
      }
    },
    {
      "cell_type": "markdown",
      "source": [
        "# 3.2 Data Input\n",
        "\n",
        "First we need to get some data. There are several ways to do this.\n",
        "1. Import from your computer\n",
        "2. Import from online\n",
        "3. Import from google drive\n",
        "\n",
        "The file type we are using is a fasta file\n",
        "It has a header defined by '>'\n",
        "The remaining lines are sequence lines.\n",
        "Fasta files may have multiple entries so you may have to write a function that can deal with multiple fasta sequences\n",
        "\n",
        "A few notes / reminders\n",
        "*   I tried out a shortcut script to get genome data from USC genome browswer (warning - this isn't great)\n",
        "*   You can pull data from NIH (be careful doing this!) You can read tutorials online but don't get banned\n",
        "*   Data from github - this is the easiest for this class and so I will focus the code below on that method\n",
        "\n",
        "For more information on data input and output, see this document:\n",
        "https://colab.research.google.com/notebooks/io.ipynb\n",
        "\n"
      ],
      "metadata": {
        "id": "OAz_5ucOrKvg"
      }
    },
    {
      "cell_type": "markdown",
      "source": [
        "## 3.2.1 Getting coordinates for your gene by exon"
      ],
      "metadata": {
        "id": "RvrlRELdsQIi"
      }
    },
    {
      "cell_type": "markdown",
      "source": [
        "## 3.2.1 Pulling data from genome browser\n",
        "\n",
        "One way I found is to scrape xml data from the genome browser\n",
        "\n",
        "You can get sequence data in XML format from here:\n",
        "http://genome.ucsc.edu/cgi-bin/das/hg38/dna?segment=chrX:83803113,83803313\n",
        "\n",
        "You can see above that this uses hg38 (human genome version 38) and pulls data from the X chromosome, coordinates between 83803113 to 83803313. Make sure not to grab a large section.\n"
      ],
      "metadata": {
        "id": "uCqd1OaYr-zf"
      }
    },
    {
      "cell_type": "code",
      "source": [
        "#This could be better\n",
        "\n",
        "import pandas as pd\n",
        "df = pd.read_csv('http://genome.ucsc.edu/cgi-bin/das/hg38/dna?segment=chrX:83803113,83803313')\n",
        "seq = ''\n",
        "index = 4\n",
        "print(df)\n",
        "while True:\n",
        "  df.iat[index,0]\n",
        "  seq = seq+df.iat[index,0]\n",
        "  index = index +1\n",
        "  if (df.iat[index,0]==\"</DNA>\"):\n",
        "    print('break')\n",
        "    break\n",
        "print(seq)"
      ],
      "metadata": {
        "colab": {
          "base_uri": "https://localhost:8080/"
        },
        "id": "-Xtd_JSev74g",
        "outputId": "13944d5d-c6f3-404b-ee5e-fefb6ffa1699"
      },
      "execution_count": null,
      "outputs": [
        {
          "output_type": "stream",
          "name": "stdout",
          "text": [
            "                <?xml version=\"1.0\" standalone=\"no\"?>\n",
            "0   <!DOCTYPE DASDNA SYSTEM \"http://www.biodas.org...\n",
            "1                                            <DASDNA>\n",
            "2   <SEQUENCE id=\"chrX\" start=\"83803113\" stop=\"838...\n",
            "3                                  <DNA length=\"201\">\n",
            "4   tcgatttaatcattttgtgtactggtaggctttgattcctttctgt...\n",
            "5   cctgtgtatctactgcaggatttttagtgacattgcaatgaggctt...\n",
            "6   acagcatcctatagtgatatcagtttattttaagttgataacaact...\n",
            "7   tttgacatgtctttattttctgttagtaccattataatacatatat...\n",
            "8                                                   a\n",
            "9                                              </DNA>\n",
            "10                                        </SEQUENCE>\n",
            "11                                          </DASDNA>\n",
            "break\n",
            "tcgatttaatcattttgtgtactggtaggctttgattcctttctgtttctcctgtgtatctactgcaggatttttagtgacattgcaatgaggcttacatacagcatcctatagtgatatcagtttattttaagttgataacaacttaattttgacatgtctttattttctgttagtaccattataatacatatattgcaa\n"
          ]
        }
      ]
    },
    {
      "cell_type": "markdown",
      "source": [
        "## 3.2.2 Pulling data from github\n",
        "One way to get data into google colab is to pull directly from github. For you to do this with your own sequence, you will need to set up a github account."
      ],
      "metadata": {
        "id": "TMC9rFWrT6UG"
      }
    },
    {
      "cell_type": "code",
      "source": [
        "#Function to grab a fasta from github\n",
        "import pandas as pd\n",
        "def get_github_fasta(url):\n",
        "\n",
        "  df = pd.read_csv('https://raw.githubusercontent.com/chrisnelsonlab/BMEG4983/master/test_seq.fa');\n",
        "  header_list = df.columns.values.tolist()\n",
        "  header = header_list[0]\n",
        "\n",
        "  seq = ''\n",
        "  index = 0\n",
        "  for i in range(0, len(df)):\n",
        "    seq = seq+df.iat[i,0]\n",
        "\n",
        "  return header, seq\n",
        "header, seq = get_github_fasta('https://raw.githubusercontent.com/chrisnelsonlab/BMEG4983/master/test_seq.fa')\n",
        "print(header)\n",
        "print(seq)"
      ],
      "metadata": {
        "colab": {
          "base_uri": "https://localhost:8080/"
        },
        "id": "_Boa-cxL6f4M",
        "outputId": "ff0a220c-06d7-4953-ff6d-a94d1fb9c5b7"
      },
      "execution_count": null,
      "outputs": [
        {
          "output_type": "stream",
          "name": "stdout",
          "text": [
            ">Portion of DMD gene\n",
            "tcgatttaatcattttgtgtactggtaggctttgattcctttctgtttctcctgtgtatctactgcaggatttttagtgacattgcaatgaggcttacatacagcatcctatagtgatatcagtttattttaagttgataacaacttaattttgacatgtctttattttctgttagtaccattataatacatatattgcaa\n"
          ]
        }
      ]
    },
    {
      "cell_type": "markdown",
      "source": [
        "## 3.2.3 Getting data from an input file\n",
        "We could also upload a file from our own PC:\n",
        "\n",
        "```python\n",
        "from google.colab import files\n",
        "uploaded = files.upload()\n",
        "for fn in uploaded.keys():\n",
        "  print('User uploaded file \"{name}\" with length {length} bytes'.format(\n",
        "      name=fn, length=len(uploaded[fn])))\n",
        "```\n",
        "\n",
        "We will need to write a quick wrapper function to get this fasta data and save a header and sequence data:"
      ],
      "metadata": {
        "id": "PZMdF0dlUOjN"
      }
    },
    {
      "cell_type": "code",
      "source": [
        "#FYI I'm having trouble getting this to work all of the time. It seems browser dependent. It may work for you\n",
        "#UPDATE it looks like a third party cookie issue. You can google the following if you have trouble and follow\n",
        "#the directions: Upload widget is only available when the cell has been executed in the current browser session. Please rerun this cell to enable.\n",
        "\n",
        "from google.colab import files\n",
        "def get_fasta_from_pc():\n",
        "  uploaded = files.upload()\n",
        "  for fn in uploaded.keys():\n",
        "    print('User uploaded file \"{name}\" with length {length} bytes'.format(\n",
        "      name=fn, length=len(uploaded[fn])))\n",
        "  seq_list=uploaded[fn].decode(\"utf-8\").splitlines()\n",
        "  header = seq_list[0]\n",
        "  header = header.replace('>','')\n",
        "\n",
        "  seq = ''\n",
        "  for i in range(1,len(seq_list)):\n",
        "    seq = seq+seq_list[i]\n",
        "\n",
        "  return header, seq\n",
        "#Now get the sequence data out of the file\n",
        "my_header, my_seq = get_fasta_from_pc()\n",
        "print('header')\n",
        "print(my_header)\n",
        "print('my seq')\n",
        "print(my_seq)\n",
        "\n",
        "#consider what would happen if you had more than one entry in the fasta file\n"
      ],
      "metadata": {
        "colab": {
          "base_uri": "https://localhost:8080/",
          "height": 162
        },
        "id": "JiJ5JfolUoUJ",
        "outputId": "f0aedeb8-4354-4361-9e1e-749998de5528"
      },
      "execution_count": null,
      "outputs": [
        {
          "output_type": "display_data",
          "data": {
            "text/plain": [
              "<IPython.core.display.HTML object>"
            ],
            "text/html": [
              "\n",
              "     <input type=\"file\" id=\"files-53ff6995-2964-47fb-8faf-5dcac187dbab\" name=\"files[]\" multiple disabled\n",
              "        style=\"border:none\" />\n",
              "     <output id=\"result-53ff6995-2964-47fb-8faf-5dcac187dbab\">\n",
              "      Upload widget is only available when the cell has been executed in the\n",
              "      current browser session. Please rerun this cell to enable.\n",
              "      </output>\n",
              "      <script>// Copyright 2017 Google LLC\n",
              "//\n",
              "// Licensed under the Apache License, Version 2.0 (the \"License\");\n",
              "// you may not use this file except in compliance with the License.\n",
              "// You may obtain a copy of the License at\n",
              "//\n",
              "//      http://www.apache.org/licenses/LICENSE-2.0\n",
              "//\n",
              "// Unless required by applicable law or agreed to in writing, software\n",
              "// distributed under the License is distributed on an \"AS IS\" BASIS,\n",
              "// WITHOUT WARRANTIES OR CONDITIONS OF ANY KIND, either express or implied.\n",
              "// See the License for the specific language governing permissions and\n",
              "// limitations under the License.\n",
              "\n",
              "/**\n",
              " * @fileoverview Helpers for google.colab Python module.\n",
              " */\n",
              "(function(scope) {\n",
              "function span(text, styleAttributes = {}) {\n",
              "  const element = document.createElement('span');\n",
              "  element.textContent = text;\n",
              "  for (const key of Object.keys(styleAttributes)) {\n",
              "    element.style[key] = styleAttributes[key];\n",
              "  }\n",
              "  return element;\n",
              "}\n",
              "\n",
              "// Max number of bytes which will be uploaded at a time.\n",
              "const MAX_PAYLOAD_SIZE = 100 * 1024;\n",
              "\n",
              "function _uploadFiles(inputId, outputId) {\n",
              "  const steps = uploadFilesStep(inputId, outputId);\n",
              "  const outputElement = document.getElementById(outputId);\n",
              "  // Cache steps on the outputElement to make it available for the next call\n",
              "  // to uploadFilesContinue from Python.\n",
              "  outputElement.steps = steps;\n",
              "\n",
              "  return _uploadFilesContinue(outputId);\n",
              "}\n",
              "\n",
              "// This is roughly an async generator (not supported in the browser yet),\n",
              "// where there are multiple asynchronous steps and the Python side is going\n",
              "// to poll for completion of each step.\n",
              "// This uses a Promise to block the python side on completion of each step,\n",
              "// then passes the result of the previous step as the input to the next step.\n",
              "function _uploadFilesContinue(outputId) {\n",
              "  const outputElement = document.getElementById(outputId);\n",
              "  const steps = outputElement.steps;\n",
              "\n",
              "  const next = steps.next(outputElement.lastPromiseValue);\n",
              "  return Promise.resolve(next.value.promise).then((value) => {\n",
              "    // Cache the last promise value to make it available to the next\n",
              "    // step of the generator.\n",
              "    outputElement.lastPromiseValue = value;\n",
              "    return next.value.response;\n",
              "  });\n",
              "}\n",
              "\n",
              "/**\n",
              " * Generator function which is called between each async step of the upload\n",
              " * process.\n",
              " * @param {string} inputId Element ID of the input file picker element.\n",
              " * @param {string} outputId Element ID of the output display.\n",
              " * @return {!Iterable<!Object>} Iterable of next steps.\n",
              " */\n",
              "function* uploadFilesStep(inputId, outputId) {\n",
              "  const inputElement = document.getElementById(inputId);\n",
              "  inputElement.disabled = false;\n",
              "\n",
              "  const outputElement = document.getElementById(outputId);\n",
              "  outputElement.innerHTML = '';\n",
              "\n",
              "  const pickedPromise = new Promise((resolve) => {\n",
              "    inputElement.addEventListener('change', (e) => {\n",
              "      resolve(e.target.files);\n",
              "    });\n",
              "  });\n",
              "\n",
              "  const cancel = document.createElement('button');\n",
              "  inputElement.parentElement.appendChild(cancel);\n",
              "  cancel.textContent = 'Cancel upload';\n",
              "  const cancelPromise = new Promise((resolve) => {\n",
              "    cancel.onclick = () => {\n",
              "      resolve(null);\n",
              "    };\n",
              "  });\n",
              "\n",
              "  // Wait for the user to pick the files.\n",
              "  const files = yield {\n",
              "    promise: Promise.race([pickedPromise, cancelPromise]),\n",
              "    response: {\n",
              "      action: 'starting',\n",
              "    }\n",
              "  };\n",
              "\n",
              "  cancel.remove();\n",
              "\n",
              "  // Disable the input element since further picks are not allowed.\n",
              "  inputElement.disabled = true;\n",
              "\n",
              "  if (!files) {\n",
              "    return {\n",
              "      response: {\n",
              "        action: 'complete',\n",
              "      }\n",
              "    };\n",
              "  }\n",
              "\n",
              "  for (const file of files) {\n",
              "    const li = document.createElement('li');\n",
              "    li.append(span(file.name, {fontWeight: 'bold'}));\n",
              "    li.append(span(\n",
              "        `(${file.type || 'n/a'}) - ${file.size} bytes, ` +\n",
              "        `last modified: ${\n",
              "            file.lastModifiedDate ? file.lastModifiedDate.toLocaleDateString() :\n",
              "                                    'n/a'} - `));\n",
              "    const percent = span('0% done');\n",
              "    li.appendChild(percent);\n",
              "\n",
              "    outputElement.appendChild(li);\n",
              "\n",
              "    const fileDataPromise = new Promise((resolve) => {\n",
              "      const reader = new FileReader();\n",
              "      reader.onload = (e) => {\n",
              "        resolve(e.target.result);\n",
              "      };\n",
              "      reader.readAsArrayBuffer(file);\n",
              "    });\n",
              "    // Wait for the data to be ready.\n",
              "    let fileData = yield {\n",
              "      promise: fileDataPromise,\n",
              "      response: {\n",
              "        action: 'continue',\n",
              "      }\n",
              "    };\n",
              "\n",
              "    // Use a chunked sending to avoid message size limits. See b/62115660.\n",
              "    let position = 0;\n",
              "    do {\n",
              "      const length = Math.min(fileData.byteLength - position, MAX_PAYLOAD_SIZE);\n",
              "      const chunk = new Uint8Array(fileData, position, length);\n",
              "      position += length;\n",
              "\n",
              "      const base64 = btoa(String.fromCharCode.apply(null, chunk));\n",
              "      yield {\n",
              "        response: {\n",
              "          action: 'append',\n",
              "          file: file.name,\n",
              "          data: base64,\n",
              "        },\n",
              "      };\n",
              "\n",
              "      let percentDone = fileData.byteLength === 0 ?\n",
              "          100 :\n",
              "          Math.round((position / fileData.byteLength) * 100);\n",
              "      percent.textContent = `${percentDone}% done`;\n",
              "\n",
              "    } while (position < fileData.byteLength);\n",
              "  }\n",
              "\n",
              "  // All done.\n",
              "  yield {\n",
              "    response: {\n",
              "      action: 'complete',\n",
              "    }\n",
              "  };\n",
              "}\n",
              "\n",
              "scope.google = scope.google || {};\n",
              "scope.google.colab = scope.google.colab || {};\n",
              "scope.google.colab._files = {\n",
              "  _uploadFiles,\n",
              "  _uploadFilesContinue,\n",
              "};\n",
              "})(self);\n",
              "</script> "
            ]
          },
          "metadata": {}
        },
        {
          "output_type": "stream",
          "name": "stdout",
          "text": [
            "Saving TP53.fasta to TP53 (5).fasta\n",
            "User uploaded file \"TP53 (5).fasta\" with length 19534 bytes\n",
            "hg38_dna range=chr17:7668421-7687490 5'pad=0 3'pad=0 strand=+ repeatMasking=none\n",
            "did it work?\n",
            "TGGCAGCAAAGTTTTATTGTAAAATAAGAGATCGATATAAAAATGGGATATAAAAAGGGAGAAGGAGGGGAAGGGTGGGGTGAAAATGCAGATGTGCTTGCAGAATGTAAAAGATGTTGACCCTTCCAGCTGGACGTGGTGGCTCACAATTGTAATCCCAGCACTCTGGGAGGCTGAGACAGGTGGATCGCCTGAGCCCAGGAGTTTGAGACCAGCCTGGGCAACACTGTGAGACCCCATCTCTACAAAACATGCAAAAGTTGGCTGGCCATGGTGGCATGAACCTGTGGTCCCAGCTACTCCGGAGGCTGAGGCAGGACTGCTCGAGCCGGGGAGGCAAAGGCTGCAGTAAGCCAAGATCACGCCACTCCACTCCAGCCTGGGCAACAAAGCGAGACCCAGTCTCAAAGAAAAAGAAAAAAAAAAAAAAAAAAGAAAAAAGAAATTGACCCTGAGCATAAAACAAGTCTTGGTGGATCCAGATCATCATATACAAGAGATGAAATCCTCCAGGGTGTGGGATGGGGTGAGATTTCCTTTTAGGTACTAAGGTTCACCAAGAGGTTGTCAGACAGGGTTTGGCTGGGCCAGCAGAGACTTGACAACTCCCTCTACCTAACCAGCTGCCCAACTGTAGAAACTACCAACCCACCGACCAACAGGGAGAGGGAACAAGCACCCTCAAGGGGGTCAAGTTCTAGACCCCATGTAATAAAAGGTGGTTTCAAGGCCAGATGTACATTATTTCATTAACCCTCACAATGCACTCTGTGAGGTAGGTGCAAATGCCAGCATTTCACAGATATGGGCCTTGAAGTTAGAGAAAATTCAACAGTGAGGGACAGCTTCCCTGGTTAGTACGGTGAAGTGGGCCCCTACCTAGAATGTGGCTGATTGTAAACTAACCCTTAACTGCAAGAACATTTCTTACATCTCCCAAACATCCCTCACAGTAAAAACCTTAAAATCTAAGCTGGTATGTCCTACTCCCCATCCTCCTCCCCACAACAAAACACCAGTGCAGGCCAACTTGTTCAGTGGAGCCCCGGGACAAAGCAAATGGAAGTCCTGGGTGCTTCTGACGCACACCTATTGCAAGCAAGGGTTCAAAGACCCAAAACCCAAAATGGCAGGGGAGGGAGAGATGGGGGTGGGAGGCTGTCAGTGGGGAACAAGAAGTGGAGAATGTCAGTCTGAGTCAGGCCCTTCTGTCTTGAACATGAGTTTTTTATGGCGGGAGGTAGACTGACCCTTTTTGGACTTCAGGTGGCTGTAGGAGACAGAAGCAGGGAGGAGAGATGACATCACATGAGTGAGAGGGTCTGTGCCCCTTTTCCCTGACCAATGCTTTGAAGGGCCTAAGGCTGGGACAACGGGAATTCAAATCAAGATGGTGGCCACACCCCATGCAAATATGTTTACTGAGCACCTCAGAGTATTAGTGTGTATTAGTCTCGTAATCTTCCCTTACCCCATTTTACTTTATTTATCTTTTTTGAGACGGAGTTTCACTCTTGTTGCCCAGGCTGGAGTGTAATGGTGAGATCTCAGCTCACCGCAACCTCTGCCTCCCGGGTTCAAGCGATTCTCCTGCCTCAGCCTCCCGAGTAGGTAGCTGGGATTACAGGCATGCATCACCACGCCCGGCTACTTTTGTATTTTTAGTAGAGATGGGGTTTCTCCATGTTGGTCAGGCTGGGCTCAAACTCCCGACCTCAGGTGATCCACTCGCCTTGGCCTCCCAGAGTGTGGGATTCGTGAGCCACTGCGCCCGGCCCCCTTACCCCATTTTATATATAAGGAAACTGAGTTTGACGGGGGTCACCTAGGACCTGCCGGTGCATGGCAGGGCTGAGTATATGACCTGAAACTCTGGCTGTATTCAGTATTACACAATTATTAGGCCCCTCCTTGAGACCCTCCAGCTCTGGGCTGGGAGTTGCGGAGAATGGCAAAGAAGTATCCACACTCGTCCCTGGGTTTGGATGTTCTGTGGATACACTGAGGCAAGAATGTGGTTATAGGATTCAACCGGAGGAAGACTAAAAAAATGTCTGTGCAGGGCTGGGACCCAATGAGATGGGGTCAGCTGCCTTTGACCATGAAGGCAGGATGAGAATGGAATCCTATGGCTTTCCAACCTAGGAAGGCAGGGGAGTAGGGCCAGGAAGGGGCTGAGGTCACTCACCTGGAGTGAGCCCTGCTCCCCCCTGGCTCCTTCCCAGCCTGGGCATCCTTGAGTTCCAAGGCCTCATTCAGCTCTCGGAACATCTCGAAGCGCTCACGCCCACGGATCTGCAGCAACAGAGGAGGGGGAGAAGTAAGTATATACACAGTACCTGAGTTAAAAGATGGTTCAAGTTACAATTGTTTGACTTTATGACGGTACAAAAGCAACATGCATTTAGTAGAAACTGCACTTCAAGTACCTATACAGCTGACTTTTAAAAATATTTATTTATTTATTTTGAGATGGGGTCTCACTCTGTTGCCCAGGCGGGAGTGCAATGGTGCAATCTTGGCTGATTGCAATCTCCGCCTCTGGGGTTCAAGTGATTCTTGTGCCTCAGCCTCCCGAGTAGCTGGGACTACAGGCGTGTGCTACCACACCTGGCTAATTTTTGTGTTTTTAGTAGAGATGGGGCTTCACCATGTTAGCCAGGCTGGTTTCCAACTCCTGACGTCAGGTGATCTACCCACCTCCACCTCCCAAAGTGCTGGGATTACAGGTGTGAGCCACTGTGCCCGGCCCTTTTTTAAATTTTAGAGATGATGTCTTGCTATGTTGTTCAGGCTGGACTCAAACTCTTGGGCTCAAGAGATCCTCCTGCCTTAGCCTCTCAAGTAACTGGGACTACATGTGCATGCGACTGTGCCTCGTTTCTTTTCTTTTTTTTCTGAGACGGAGTCTCACTCTATCGCCCAGGCTGGAGTGCAGTGGCGCCATCTTGGCTCCCTGCAACCTCCGCCTCCTGGTTCAAGCGATTCTCCTGCCTCAGCCTCCCAAGTAGCTGGGATTACAGGCACCTGCCATCACGCCCGGTTAATTTTTGTATTTTAGTAGAGACGGGGTTTCACCATGTTGGCTAGGCTGGTCTTGAACTCCTGACCTCAGGTGATCCACCCGCCTCAGCCTCCCGAAATGCTGGGATTACAGGCGTGAGCCAGTGCGCCTGGCCTTTTCTTTTTTTGAGTCTCGCTCTGCGCCCAGGCTGTGCCTGGCTCGACTGTGCCTCCTTTCATGCAACCATGCTGTTTCTCACTTTCAGTAACAATATTCAATAAATCACATGAGATATACAACATTTTATTACTATAAAAAGGGCTTTGTGTTAGATGACTTTGCCCAACTGTAGGGTAACTTAAATGCTCTGAACACGTTTCAAGTAGGCTAGGGCTGAGTGTGGTAGCTCATGCCTGTAACCCCAATACTTGGGGAGGCTGAGGTGGAAGGATTGATTGAGCCCAGGGGTTTGATACCAGCATGGGCAACGTAGCAAGACCTTGACTTCACAGAAAATAAAAAATTAGCTGGGTGTCGTGGCATGTGCCTGTAGTCCTAGCTACTTGGGAGGGTGAAATCACCGGAGCCCAGGGAGGTCAAGGCTGCAGTGAGCTGAGATGGTGCCACTGCACTCTAGCCTGAGTGACAGAGTGAGACTCTGTCTTTAAATAAATAAATAAAAATTAGCCGGGCGTGGTGGCTCACACCTGTAATCCCAGCACTTTGGGAGGCCGAGGCGGGCGGATCACATGGTCAGAAGTTCGAGACCAGCCTGGCCAACATGGTGAAACCCTGTCTCTACTAAAAATACAAAAATTAGCTGGGCGTGGTAGCAGGCGCTTGTAGTCCTAGCTATTCGGGAGGCTGAGGCAGGAGAATCACTTGAACCCAGGAGGCAGAGGTTGCAGTGAGCCGAGATCATGCCACTGCACTCCAGCCTGGGCGACAGAGTGAGACTGAGTCTCAAAAAAATAAAATAAAATAAAATAAAAATAAATAAATAAAAATTAGCCAGGCATGGTGGTGCAGGCCTGTAGTTGAAGCAACTTGGGAGGCTGAGCTGGGAGGATGGATGGAGCCTGGGAGGTGGAGGCTGCAGTGAGCTGTGACTGCACTACTGCACTCTATCCAGCCTGGGTGACAGAGCAAGACCTTGTCTCAAAAAAGTAGGCTAGAGACCAGCCTGGGCAACATAGTGAGACTCTATCTATCTACAAAAAATTTTAAAAATTAGCTGGGTATGGTGGTGTATGCCTGTGGTCCTAGCTACTGGGGAGGCAGAGTTAGGGGGATTGCTTGAGCCCAGGAGGGTATAATGAGCTATGATCACATCACTGTAATCCAGCCTGGGCAACAGAGCAAGATGCTGTCTCCATTAAAAATAAAATAAAAGTAGGCTAGGCAGGCCGGGTGCGGTGGCTCACGCCTGTAATCCCAGCACTTTGGGAGGCCAAGGCAGGCAGATCACAAGGTCAGGAGTTCGAGACTAGCCTGGCCAACATGGTGAAACCTCATCTCTACTAAAAAAAAAAATAAATAAATAACAAAAAATTAGCTGGGCGTCGGGGCAGGTGCCTGTAATCCCAGCTACTCAGTGGGCTGAGGCAGGAGAATCGCTTGAACCCAGAAGGCGGAGGTTGCAGTGAGCCGAGATCCCGCCACTGCACTCCAGCCTGGGTGACAGAGTGAGACTCTGTCTCCAAAAAAAAAAAAAAAAAAAGCAGGCTAGGCTAAGCTATGATGTTCCTTAGATTAGGTGTATTAAATCCATTTTCAACTTACAATATTTTCAACTTACGACGAGTTTATCAGGAAGTAACACCATCGTAAGTCAAGTAGCATCTGTATCAGGCAAAGTCATAGAACCATTTTCATGCTCTCTTTAACAATTTTCTTTTTGAAAGCTGGTCTGGTCCTTTAAAATATATATTATGGTATAAGTTGGTGTTCTGAAGTTAGTTAGCTACAACCAGGAGCCATTGTCTTTGAGGCATCACTGCCCCCTGATGGCAAATGCCCCAATTGCAGGTAAAACAGTCAAGAAGAAAACGGCATTTTGAGTGTTAGACTGGAAACTTTCCACTTGATAAGAGGTCCCAAGACTTAGTACCTGAAGGGTGAAATATTCTCCATCCAGTGGTTTCTTCTTTGGCTGGGGAGAGGAGCTGGTGTTGTTGGGCAGTGCTAGGAAAGAGGCAAGGAAAGGTGATAAAAGTGAATCTGAGGCATAACTGCACCCTTGGTCTCCTCCACCGCTTCTTGTCCTGCTTGCTTACCTCGCTTAGTGCTCCCTGGGGGCAGCTCGTGGTGAGGCTCCCCTTTCTTGCGGAGATTCTCTTCCTCTGTGCGCCGGTCTCTCCCAGGACAGGCACAAACACGCACCTCAAAGCTGTTCCGTCCCAGTAGATTACCACTACTCAGGATAGGAAAAGAGAAGCAAGAGGCAGTAAGGAAATCAGGTCCTACCTGTCCCATTTAAAAAACCAGGCTCCATCTACTCCCAACCACCCTTGTCCTTTCTGGAGCCTAAGCTCCAGCTCCAGGTAGGTGGAGGAGAAGCCACAGGTTAAGAGGTCCCAAAGCCAGAGAAAAGAAAACTGAGTGGGAGCAGTAAGGAGATTCCCCGCCGGGGATGTGATGAGAGGTGGATGGGTAGTAGTATGGAAGAAATCGGTAAGAGGTGGGCCCAGGGGTCAGAGGCAAGCAGAGGCTGGGGCACAGCAGGCCAGTGTGCAGGGTGGCAAGTGGCTCCTGACCTGGAGTCTTCCAGTGTGATGATGGTGAGGATGGGCCTCCGGTTCATGCCGCCCATGCAGGAACTGTTACACATGTAGTTGTAGTGGATGGTGGTACAGTCAGAGCCAACCTAGGAGATAACACAGGCCCAAGATGAGGCCAGTGCGCCTTGGGGAGACCTGTGGCAAGCAGGGGAGGCCTTTTTTTTTTTTTTTTGAGATGGAATCTCGCTCTGTCGCCCAGGCTGGAGTGCAGTGGCGTGATCTCAGCTCACTGCAAGCTCCACCGCCCAGGTTCACGCCATTCTCCTTCCTCAGCCTCCCGAGTAGCTGGGACTACAGGTGCCCAGCACCACGCCCGGCTAATTTTTTTTTGTATTTTTCAGTAGAGACGGGGTTTCACCGTTAGCCAGGATGGTCTCGATCTCCCAACCTCGTGATCCGCCTGCCTTGGCCTCCCAAAGTGCTGGGATTACAGGCATGAGCCACTGCGCCCAGCCAAGCAGGGGAGGCCCTTAGCCTCTGTAAGCTTCAGTTTTTTCAACTGTGCAATAGTTAAACCCATTTACTTTGCACATCTCATGGGGTTATAGGGAGGTCAAATAAGCAGCAGGAGAAAGCCCCCCTACTGCTCACCTGGAGGGCCACTGACAACCACCCTTAACCCCTCCTCCCAGAGACCCCAGTTGCAAACCAGACCTCAGGCGGCTCATAGGGCACCACCACACTATGTCGAAAAGTGTTTCTGTCATCCAAATACTCCACACGCAAATTTCCTTCCACTCGGATAAGATGCTGAGGAGGGGCCAGACCTAAGAGCAATCAGTGAGGAATCAGAGGCCTGGGGACCCTGGGCAACCAGCCCTGTCGTCTCTCCAGCCCCAGCTGCTCACCATCGCTATCTGAGCAGCGCTCATGGTGGGGGCAGCGCCTCACAACCTCCGTCATGTGCTGTGACTGCTTGTAGATGGCCATGGCGCGGACGCGGGTGCCGGGCGGGGGTGTGGAATCAACCCACAGCTGCACAGGGCAGGTCTTGGCCAGTTGGCAAAACATCTTGTTGAGGGCAGGGGAGTACTGTAGGAAGAGGAAGGAGACAGAGTTGAAAGTCAGGGCACAAGTGAACAGATAAAGCAACTGGAAGACGGCAGCAAAGAAACAAACATGCGTAAGCACCTCCTGCAACCCACTAGCGAGCTAGAGAGAGTTGGCGTCTACACCTCAGGAGCTTTTCTTTTTTTTTTTTTTTTTTGAGATAGGGTCTTGCTCTGTCACTCAGGCTGGAGCACAGTGGTGTGATCACAGCTCACTGCAGCCTCCATCTCCTGGCCTCAAGTGATCTTCCCACCTCAGCCTCCTAAGTGGCTGGGACTATAGGTGTGCACCACCATGCCTGGCTAATTTTTTGTATTTTTTTGTAGAGACGAGGTTTCATCATGTTACCCAGGCTGGTCTTGAACTCCTGGGCTCAGGTGATCTGCCTGCCTTGGCCTCTTTGAGAGTGCTGGGATTGCAGGTGTGAGCCACCAAGCCTGGTCAGGAGCTTATTTTCAAAAGCCAAGGAATACACGTGGATGAAGAAAAAGAAAAGTTCTGCATCCCCAGGAGAGATGCTGAGGGTGTGATGGGATGGATAAAAGCCCAAATTCAAGGGGGGAATATTCAACTTTGGGACAGGAGTCAGAGATCACACATTAAGTGGGTAAACTATAAAAAAACACTGACAGGAAGCCAAAGGGTGAAGAGGAATCCCAAAGTTCCAAACAAAAGAAATGCAGGGGGATACGGCCAGGCATTGAAGTCTCATGGAAGCCAGCCCCTCAGGGCAACTGACCGTGCAAGTCACAGACTTGGCTGTCCCAGAATGCAAGAAGCCCAGACGGAAACCGTAGCTGCCCTGGTAGGTTTTCTGGGAAGGGACAGAAGATGACAGGGGCCAGGAGGGGGCTGGTGCAGGGGCCGCCGGTGTAGGAGCTGCTGGTGCAGGGGCCACGGGGGGAGCAGCCTCTGGCATTCTGGGAGCTTCATCTGGACCTGGGTCTTCAGTGAACCATTGTTCAATATCGTCCGGGGACAGCATCAAATCATCCATTGCTTGGGACGGCAAGGGGGACTGTAGATGGGTGAAAAGAGCAGTCAGAGGACCAGGTCCTCAGCCCCCCAGCCCCCCAGCCCTCCAGGTCCCCAGCCCTCCAGGTCCCCAGCCCAACCCTTGTCCTTACCAGAACGTTGTTTTCAGGAAGTCTGAAAGACAAGAGCAGAAAGTCAGTCCCATGGAATTTTCGCTTCCCACAGGTCTCTGCTAGGGGGCTGGGGTTGGGGTGGGGGTGGTGGGCCTGCCCTTCCAATGGATCCACTCACAGTTTCCATAGGTCTGAAAATGTTTCCTGACTCAGAGGGGGCTCGACGCTAGGATCTGACTGCGGCTCCTCCATGGCAGTGACCCGGAAGGCAGTCTGGCTGCTGCAAGAGGAAAAGTGGGGATCCAGCATGAGACACTTCCAACCCTGGGTCACCTGGGCCTGCAGAGAAGGAACCCCCTCCCCCAACACCATGCCAGTGTCTGAGACAGCTCGGCTTCCTGTGGAGCAGGAAAAGAATGGCTGCTTCACATTCTCTCTTCCAATGTTTCACCACAACCCAAGCACTCCTGCCCCACCCCTCACCAGCCATGCACTTCTTTGAGGAAAAGACAATCAGAGAGGGACTTCCAACCTTCCCACCACTAAATCCCCAAGACTTCCTAAATGTGCACCCTATTCCCAACTCCCTTCCTGTATTTTTTTTTTTTTTTTGAGATGGAGTCTCTCTCTGTCACCTAGGCTGGAGCACAGTGGCATGATCTCAGCTCACTGCAACCTCTACCTTCCGGGTTCAAGCCATTCTCCTGCCTCAGTCTCCCGAGTAGCTGGGATTACAGGCGAGTACCACCACACCCAGCTAATTTTTGTATTTTTAGTAGAGACAGGGCTTTGCATGTTGGCCAGGCTGGTCTCGAACTCCTTACTTCAGGTGATCGGCCCGCCTCAGCCTCCTAAAGTGCCAAGATTACAGGTGTGAGCTACCGTGCCCTGCTCCCACCTCCTGTTAACAAGGATATAGTCATTCTCAGCCTGCAATCTCTGTATGGGGAAGGACACCCCCTTGGCCCCCACCCTTCCCCACCTGATACACGGCTCCATTTCTTTGATTCCTTTCACTGCAAAGCTTCTGGAAGAACAACTGTCTCACCGCTCACCTGCCCATTCTCTTCGGACACTCCTCAGCCCTGCATTACAAACCCCTCACGAATGGCCCGTCTCGGCTTCTTTAATCTCATCTCTTAACAACCACTCCCTCTTCCCCAAAAGCTCTAGCTAGACTGGCTGCCCTTCTCTGCTAATCAACTGGTGGTTCCTTGGCTAGCCAGGAACATGGGGGTAGGCTCCTTCCCGTGCAGACTTTAAGTCATCCTATTTTAATTCACATCACCTCATTTGCATTCTCATAGCACTTACATTGTCTGATACTTTTCCTTGTTTATTTTATCTGTTTCCTCTAATAGCATATACACTTCCTAAGGGCAGGGCAGTGATCTATCTTGTTGTCTTGCTGACCAAAGTATTAGATCACAATGCCTTGCACCTGCTTGGGCTCAATAAATGTGAATAACACACAAGCCTGTTATATGAGAGGTTAAGAGAGCGAGAAAGAGCAAGGGGCAGCCCCTGTGTGGACCAGCATCTTGCACGAAGTTATGCAACTATCATCGCACCTTCTCCCAGACAAGCTTTCAAAGGCTTTGCCATGTTTTCTTTTGTTTTGTTTTTTTGTTTGTTTTTTGAGATGGAGTTTGGCTCTTTTCGCCCAGGCTGGAGTGCAGTGGTGCAGTCTAGGCTCACTGCAACCTCTGCCTTCTGGTTTCAAGCAATTCTCCTGCCTCAGCCTCCCGAGTAGCTGGGATTACAGGCCCCTGCCACCATGCCTGGCTGATTTTTTGTATTTTTAGTAGAGACAGGGTTTCACCATGTTGGCCAGGCTGGTGTGGAACTCCTGACCTTGTGATCCACCTGCCTCGGCCTCTCAAAGCGCTGGGATTACAGGTGTGAGCCACTGTGCCTGGCCCGCCATGTTCTTTCTTTCTTTCTTTTTTCTTTTGAGGCAGGGTCTTGCTTTGTTGCCCAAGCTAGGGTACAGTGGTGCAATCATGGCTCACTACAGCCTCGGACTCCTGGGCTCAGTGATTCTCCTGCCTCAGCCTCCCAAGTAGCTGGGACCACAGAGGCCTGCCTGGCTAATTTTTTAGTCTTTTTCTTTTTCTTTTTTTTTTTGGAGACGGAGTCTCGCCCTGTCACCCAGGCTAGAGTGCAGTGGTGTGATCTCGACTCACTGTAACCTCCACCTCCCAGATTCAAGCGATCCTCTTGCCTCAACTTCCTGAGTAGCTGGGATTACAGGCGCCCACCAATGCGCCTGATTAATTTTTTGTATTTTTAGTAGAGATGGGGTTTTGCCATGTTGGCCAGGCTGGTTTCGAACTCCTGACCTCAGGTGATCCTCCCGCCTCCGACTCCCAAAGTGCTGGGATTACAGGTGTGAGCCACTGCACCCGGCCAATTTTTGAGTTTTTTTGTAGAGGCAGGGTTTCACTATGTTGCCCAGGCAGGATGCTCTCTTTCTTTTTCTTTTTTTTTTTTTCAGGGATGCTCTCTTTCTTTATGCCAAATTTGTCATCAGATTTGCTAAGAAACATGCCTACTGTAAGTGTTTGTTACACTTTTCTGTTTTTTTTTTTTTTTGAGACAGAGTTTTGCTCTCGTCCAGGCTGGAGTGCAATGGTGCGATCTCGGCTCACCGCAACCTCTGCCTCCCAGGTTCAAGCGATTCTCCTGCCTCAGCCTCCCGAGTAGCTGGGATTACAGGCATGCGCCACTGCGCCCGGCTAATTTTGTATTTTTAGTAGAGACGGGGTTTCTCCATATTGGTCAGGCTGGTCTTGAACTCCCAACTTCAGGTGATCCGCCCGCCTTGGCCTCCCAAAGTGCTGGGATTACAGGCATGAACCACTGTGCCCAGCCCACTTTTCTGTTGTTTGCACTGACAAAACATCCCCTACCAAACAGCTCCTTTAATGGCAGGCTCTTTTCTTTTTTTATTTTATTTTATTTTATTTTATTTTATTTTATTTTATTTTGAGACGGAGTCTCAGCTCTTATTGCCCAGGCTGGAGTACAGTGGCACTATCTCCGCTTACTGCAACCTCCTCCCGGATTCAAATGATTCTCCTGCCTCAGCCTGCTGAGTAGCTAGGACTACAAGCATGTGCCACCACACCTGGCTAATTTTGTACTTCTAGTAGAGACGGGGTTTCACCATGTTGGTCAGGCTGGTCTTGAACTCCCGACCTCAGGTGATCCACCCCCCTTGGCCTCCTAAAGTGCTGGGATTACAGGCGTGAGCCACCAAGCCTGGCCTACCTAGTACTCTGTGTATTATGGGAAATGTAGAGTTGAGGAAAGTGCTGGGCACACAGTAAGAGCTCAACAAAGGTTAGCTCTTTCTGCAATTGTTCTATTTCACTTGTTCTATATTATTATTCTAGAGAGAACTGTGTGATTGTTAGTGCGGATCTGTGGTACTGCTCCCACCCCCACTCCATTAATGCAAGTACACCTCCTTCAGGGATCTATTCAGTCAACAGGCCAGGAGGTGCTGTCCTGAAATGGGGGGCCCAAAGTCTCAATCCCACTTGGAGGGACACAGGTCTACAGACAGGTCTCCCTGTCTTTATCTCTCAAATCTTCAGTAGCAACTAAAATCTCCGTGTTTTTCAGAGCAGGACCTTCCCAGGGGTACCAGCATCAGTGGGCCAGGATACAAATGTGCCAGGCTGAACTAGGCCTTCCAAATGGCCAGGGAGCCAAGAGAAATGCAGGTGCCCTTGGCTGGGTGGGAAGGCAATGAGATCAACTGAGACCCCAAACAGGGGCAGGCCTGACCAGAATCTTAACAGTGGCTGCTGGTATCAGTCTTGAAGGCCTATATGTCCAGTGATTCCCTAAACAATATAGTACAAGTACTTACATACATACTTGCATGTACATTAGCATTTTCATTGTATGGGGGTAATGTAAGTAATCTAGAGATAATTTAAACTATATGGGAGGATATGTGTAGGTTAAATCCAAATACTATACCGTCTTATATATGGGACTTAGACATCTGTGGGTTTGGTGTGTGAGGAGTCCCAGAACCAAGCCCCTACAGATAGAGGGATAACTATATTGCCCTGTAACCTGCAACCCTGCTATATTTATTTATTAGTTTTGGTAGCTTTTTATGGATTTTCCATTAGGACTTTTTTTTTTTTTTGAGATAGAGTTTCACTCTTTTTTTTTTTTTTTGAGACGGAATCTCGCTCTGTTGCCCGGCGTGGTGTGCAATGGCATGATCTCAGCTCACTGCAACCTCCACCTCCTGGGTTCAAGCAATTCTTCTGTCTCAGCCTCCCAAGTAGCTGGGATTACAGGCGCCCACCACTACACCCAGCTAATTCTTGTATTTTTAGTAGAGACGGGGTTTCACCATGTTAGGTTGGTCTCAAACTCCTGACCTCAGGTGATCGGCCTGCCTCAGCCTCCCGAAGTGCTGGGATTACAGGCGTAAGCCACCACACCCTGCCGGAGTTTCACTCTTGTTGCCCAGGCTGGAGTGCAATAGCGCGATCTCGGCTCACTGCAACCTCTGCCTCCCAGGTCCAAGCAATTCTCCTGCCTCAGCCTCCTGAGTAGCTGGGATTAGAGGTGCCCGTCACCACGCCTGGCTGATTTTTTGTATTTTTATTAGAGTTGGGGTTTCACCATGTTGGCCAGGCTGGTCCCAGGGAAGCCACCTGCCTCAGCCTCCTAAAAGTGCTAGGATTACAGGCATGAGCCACCACGCCTGGCCCCATTAGGACATGTATGTATAGAATCATACTGGCTGTGAATGTGTTTTATTTCTTCCTTTCTAATCGTTATTTTTTTTCTTTCCTTTTTTTTTTTTTTTTTTGACATGGAATTTTGCTCTTGTCGCCTAGGCTGGAGTGCAATGGGACAATCTCGGCTCACTGCAACCTCTGCCTCCTGGGTTCAAGTGATTCTCCTGCCTCTGCCTCCTGAGTAGCTGGGACTACAGGCGTTCACCACTACCCCTGGCTAATTCTTTTTTTTTTGAGACGGAGTTTTTGCTTTTGTCACCCAGGCTGGAGTGCAATGGTGCAATCTCGGCTCACTACAACCTCCGCCTCCCAGGTTCAAGCGATTCTCCTGCCTAAGCCTCCCAAGTAGCTGGGATTACAGGCGCCCGCCACTACGCCCGGCTAATTTTTGTATTTTTAGTAGAGATGGGGTTTCACCATGTTGGCCAGGCTGGTGTTGAACTCCTGACCTCAGGTGATCCACCCACCTCGGCCTCCCAAAGTGCTGGGATTACAGGCATGAGCCACTGTACCCGGCCAACGCCTGGCTATTTTTTTAATATTTTAATAGAGACGAGGTTTCACCATCTTTGTCAGGCTGGTCTCCAACTCCAGACCTCAGGTGATCTGCCCACCTCGGCCTCCCAAAGTGCTGGGATTATAGGCGTGAGACATCGGGCCACTAATCATTATTTCTTTTTCTTTTTTTTTTTTTGAGACACAGTCTTGCTCTGTCGCCCAGGCTGGAGTGCAGTGGCTCGATCTCAGCTCACTGCAAGCTCCGCCCCCTGAGTTCACGCCATTCTCCTGCCTCAGCCTCCCGAGTAGCTGGGACTACAGGCGCCCGCCACTACGCCCGGCTAATTTTTTGTATATTTAGTAGAGACAGGGTTTCACCGTGTTAGCCAGGATGGTCTCGATCTCCTGACCTCGTGATCCACCCGTCTCGGCTTCCCAAAGTGCTGGGATTACAGGCCTGAGCCACCGCACCCGGCCCTCATTATTTCTTTTTCTTGCCTGGTTAAAACCTCCAGTATGGTATCAACGTTGTGAGAGTCAAATCCTTTTCTAGTTCCTGATCTTAGAGGAAAAAGCGTTGAGTTTTCTTTTCTTTTTTTTTTTTTTTTTTTTTTGAGACGAAGTCTCACTCTGTCACCCAGGCTGGAGTGCAGTGGCACGATCTAGGCTCTGCAAGCTCCGCCTCCCGGGTTCACGCCATTCTCTCGCCTCAGCCTCCCGAGTAGCTGGGACTATAGGCGCCCGCCACCATGCCCGGCTAATTTTTTGTTTTTGTATTTTTAGTAGAGACGGGGTTTCAGCATGCTAGTCAGGACAGTCTCGATCTCCTGACCTCGTGATCCGCCCGCCTAGGCCTCCCAAAGTGCTGGCATTACAGGCGTGAGCCACCGCGCCCGGCAGCACTGAGTTTTCTACCATTATGTATGCTGCTAGTGGAACTCCGACTGTGGACGCCCTGTTATCAAACTAGGTTAAGTTTCCTTTCCCTAGTTTGCTAGGAGGTTGGTTGGTTTGTAATCATGCATATGTGTTGAATATCATTAACTGCTTTTGCTACATCTGTTGAAATGATCATAGGGTTTTTATGTTTCCCTTTGTTAATGTGGTGAATTACACAGACTGATTTTTTTCCCCCCAGTAAAGACCAGTCTGACTATGTTGCCCAGGCTGGTCTTGAAATCCTGGGCTCAAGAGATCTTCCTGCCTCAGCCTCCTAAAATGTTGGGATTACAGGCCTGAGCTACTGCACCAGGCCAATTTTTGAATGTTGAATCAGCTACAATCATGAGATAAACATTATTTGGTTAGAATGTATTTATCCTTTTTCTTTTTCTTTTTTTGAGATGGAGTCTCACTCTGTTGCCCAGGCTGGAGTGCAATGGTGTGATCCCAGCTCAGTGCAACTTCTGCCTCCTGGGTTCAAGCGATTCTCCTGCCTCAGACTCCCGAGTAGCTGGGATTTCAGGTGCCCACCACCATGCCCAGCTAATTTTTTTTTTTTTTTGAGATGAAGTCTTGCTCTGTCGCCCAGGCTGGAGTGCAGTGGCACGATCTTGGCTCACTGCAACCTCTGCCTCCCGGGTTCAAGCAATTCTGCCTCAGCCTCCTGAGTAGCTGGGATTACAGGCAGGTGCCACCACACCGGCTGATTTTTGTATTTTTAGTAGAGATGGCGTTTCACCACATTGGTCAGGCTGGTCTTGAACTCCTGACCTCGTGATCTGCCCACCTCGGCCTCCCAAAGTGCTGGGATTACAGGCGTGAGCCACCGTGCCCAGCCTGATTTTTGTATTTTTATTAGAAACGGGGTTTCACCATGTTGGTCAGGCTGGTCTCAAACTCCTGACCTCAAGTGATCTGCCTGCCTCAGCCTCCCAAAGTGCTGGGATTACAGGCGTGAGCCACCGCGACTGGCCTATTTATCCTTTTTTCTATATTACCAGGTTTGGTTTGCTAAAATTGGTTAGCTGTTGCATGTCTATGCTAACAGGAATATTGGTCTATATTTTCTTTTCTTATAATGTCCTTGTTTGGTTTTGGTACCAGGATTATGCTGGCTTCGAAAACAAGTTGGGAAATATTCCTCTATTTTTTCTTTCTTTCTTTTTTTTTCTGAGACAGGGTCTCACTCTGTTGCCCAGGCTGGAGTGCAGTGGCGCAATCTCGGCTCACTGCAACCTCCGCTTCCCAGGTTCAAGGGATTCTTGTGCCTCAGCCTCCTGAGTAACTGGCATTACAGGTATGTGTCACCACGCCTAGCTACTTTTTGTATTTTTAGTAGAGATGGGGTTTCGCCGTGTTGGCCAGGCTGGTCTCGAACTCCCGACCTCAAATGATCCCCTGCCTCAGCGTACCAAAGTGCTGAGATTACAGGTATGAGCCACCGCGCCCAGTCTGTTCCTCTGTTTTCTGAAGAGTTTGTGTAAGATGGGTACTGTTTCTTCCTCCAACGTTTAAAGAGAGCAGAGAACAGAGGAGATAAATAGAAAATAGCACTAAGAGGTCAGGCATGGTGGCTCACACCTGTAATCCCAGCACTTTGGGAGGCCGAGATGGGATGAAAGCTTGAGGCCAGCAGTTTGAGACCAGCCTGGGCAACATAGTGAGATCCTGTCAATACAAAAAAATAAAATAGTTAGCTGGGTGTGGTGGAGTAATCCCAGCTACTCGTGAGGCTGCTAGAGGACTGCTTGAGCCCAGGGGTTCGAGGCTGCAGTAAGCCTTGATTGTGCCATTGTACTCTAGCCTGGGCAACAGTGTGAGTCCCTGTCTCAAAAATTAACAAAGAAAAAAAGAAAATAGCACTAAAATGGTAGCCCTATACTCCAACTGTAAAATAATTAAAATTAAAAGCATTCAGTAGAGAAAGGAAGCCTATTTCAACAAGTGGAGACAGAATAACTGGATTTCCATACAGGAAAGATACCAGAGACTGACTCCTACACCTCACACCATAAACAATTAATTTTAAGAATTAATTAATGGCTCAAGGACCTTACTGTAAAACTTACAACCATAAAGGTCCTAAAAGAAAATGTAAGATAATATCTTCATGACCCTGGGGTTAAAAAAAAAAAAAAAGATGTCCTAAACAGGACAAGGCAAATACTGAACATAAAAAAGATAAATCCACTCCTCTTAAGATACTGTAAACTCTGTAAAGCAAACAAATAGGCAAGCAACAGATCAGAAGAAAACATTCACGACACATGGATCTGATAAAGGACTTGTATCCAGAATGTATAAAGCAGTCCCACAACTGAACAATAAAAACAAACAAAAAACCAAAATAACAGGTAAAAGACTCGAAGAGCTACTTTACAAACAAAATACGAATGGCCAATAGGCACATGAAAAAATGCTGAACATCCTTAGTCAATAGAGAACTGTAAATTACAACCACAAGGATATACCACATTAGAAAGACTGACAATACCTAATGTCCGGAAGGCTGTGGCACAACCATAATAACTCCCATACCTTGCTAGTTGGAGTGTAAAATGGTACAACCGCTCTGGAAAACTCAGAGCTTCTGAAAAAGTTCAAAATACAGCTACTTTTTACTTCCAAACTCGCAATTCCCCTCCTAAGTATTTCTCCAAGAAACACGAAAACATATGATCACAAAAAGAATTGTACAAGAATGTTTATAGCAGCTTTATTTCATAACCGCAAATGGGAAACAACTCAAAAGGCCATCAAAAGGACGGATATACAATCGATGGACTATACTAAATGAAAAGGAGCAAAATACTGATATATACAACATGAACGAATGTCAGACAGTACATTGAAGGACAGAAGCCCGACAAAAATGAGCACATAATGTATGATTCCCCCCTTTTTTTTGAGACGGAGTTTCGTTCTTGTCGCCCAGGCTGGAGTGTAGTGGCACGATCTTGGCTCACTGCAACCTCTGCCTCCCGGGTTCAAGCGATTCTCCTGCCTCACCCTCCCGAATAGCTGGGATTACAGGCACCCACCACGCCCAGCTAATTTTTGTATTTTTTAGTAGAGACGGGGATTCACCACGTTGGCCACGCTGGTCTGGAACTCCTATCCTCAAGTAATCCGCCCGCCTCGGCCTCCCAAAGTGCAGGCGTGAGCCACAGCGCCCAGCCTGATTCCATTCTATATGAAGTTCTCCAACAGGCAAAATGGTTATGGAGATCAAAATAAAGGTGGGGTCGGGAATCGACTGGGAAGAGACGTGATGAAACGTTTCTGGGACGATGAAAAGGGTCTGTGACTTGGTAGGCATCACGGAGCGGTTAGGGGCCAAAACTCATCTTCCTGTGCACTTGCTGTGTGCACTGGCGCTGTGTGTAAATGCCACCTCGATTTAGGAAAAAGATGACGTAAGTACGGCACAAAGTGGCCGGTACGCGGCAGGTGCATGGGAAGAAACTGCGGAATGAAACAACCGCGAGCTAAGAGATGGGGCAGCGGGAGAAATGAATTCGAGTTCCGCCTCCTACCAGGAAGAACCGGCTCGGGCCGGAGGGCTGCACGGAGGACCACACGGACGCCTGCGGGCCCGCCCCTTCCGCTTCACGACGTTCAGCCTGCGTCTGGAACTGGAATGGCCTAGCCCAAAGCTAGATAACAGGTAGATTGTTTTTCCGACAAATTATCAAACGACCCATCATTGCACTCTTTCAAAATTTGATTCTCAGACGTACCCATTCTTTTTTTTTTTCCTCCGGGAAGATGAGATATACTCATTCTTGAAAATACCTCCGGGCTTGCCTTCTGCACACTTCTTTCCCTCCCTGTCTCACGCCATGGTAGCGTCCGCCTAGGTTGCAGGCGACCCGCGGGGTGGGGCACACCATTCAAAGAAGGGGAGGGATTGAGGTTTGCATCAAAACAAATACCCCTGCCTTTGCAAAGGCCATAACTAAGTAATCCAGAAAAAGAAATGCAGGCGGAGAATAGCAGCCTCCCTCTGCCAAGTAAGAGGAACCGGCCTAAAGGACATTTTCTCTCTCTCTCCTCCCCTCTCATCGGGTGAATAGTGAGCTGCTCCGGCAAAAAGAAACCGGAAATGCTGCTGCAAGAGGCAGAAATGTAAATGTGGAGCCAAACAATAACAGGGCTGCCGGGCCTCTCAGATTGCGACGGTCCTCCTCGGCCTGGCGGGCAAACCCCTGGTTTAGCACTTCTCACTTCCACGACTGACAGCCTTCAATTGGATTTTCTCCATCTAGCGGAGCCGGGGGCTGCCTGGAAAGATCGCTCCAGGAAGGACAAAGGTCCGGAAGTTGTGGGACCTTAGCAGCTTGGGCTCCCCGGATCACCCCCAAATGATCATTTCGGAATGGAGCCCCAGTTTTCACTAGGATGCCATGGGCTCTAAAATATACAGCTATGAGTTCTCAATGTTTCGAGATCCAAAAGTCTCAGACCTCAATGCTTTGTGCATCTTTTATTTCAGGGATTCCCTACGCCCAGCACCGGGTGGATGTGCAAAGAAGTACGCTTTAGGCCGGCTCAAGGTTCCCCAAAGCTCCACTCCTCTGCCTAGGCGTTCAACTTTGAGTTCGGATGGTCCTAACATCCCCATCATCTACACCCAGGTCTCCCAACAATGCAACTCCTATGATGATCCCTCTAGCCAAGCTTCCATCCCACTCACCCCCAAACTCGCTAAGTCCCCACTGCCCCACCCCCAGCCCCAGCGATTTTCCCGAGCTGAAAATACACGGAGCCGAGAGCCCGTGACTCAGAGAGGACTCATCAAGTTCAGTCAGGAGCTTACCCAATCCAGGGAAGCGTGTCACCGTCGTGGAAAGCACGCTCCCAGCCCGAACGCAAAGTGTCCCCGGAGCCCAGCAGCTACCTGCTCCCTGGACGGTGGCTCTAGACTTTTGAG\n"
          ]
        }
      ]
    },
    {
      "cell_type": "markdown",
      "source": [
        "### 3.2.4 Getting data from Table Browser\n",
        "\n",
        "**First find your gene in genome browser**\n",
        "\n",
        "\n",
        "<img src=https://raw.githubusercontent.com/chrisnelsonlab/BMEG49803_2025/refs/heads/main/TB1.png>\n",
        "\n",
        "\n",
        "**Now go to table browser with your information:**\n",
        "<img src=https://raw.githubusercontent.com/chrisnelsonlab/BMEG49803_2025/refs/heads/main/TB2.png>\n",
        "\n",
        "\n",
        "**Choose paste list and put in your target gene and submit**\n",
        "<img src=https://raw.githubusercontent.com/chrisnelsonlab/BMEG49803_2025/refs/heads/main/TB3.png>\n",
        "\n",
        "**Choose output as sequence**\n",
        "<img src=https://raw.githubusercontent.com/chrisnelsonlab/BMEG49803_2025/refs/heads/main/TB4.png>\n",
        "\n",
        "\n",
        "**Choose genomic**\n",
        "<img src=https://raw.githubusercontent.com/chrisnelsonlab/BMEG49803_2025/refs/heads/main/TB5.png>\n",
        "\n",
        "**Now change some of these to get the output you want. I would deselect introns**\n",
        "\n",
        "<img src=https://raw.githubusercontent.com/chrisnelsonlab/BMEG49803_2025/refs/heads/main/TB6.png>\n",
        "\n",
        "**Finally here is the output** Can you import this and get the data into a usable format in python?\n",
        "\n",
        "If you manage to write a script to talk with UCSC or NIH directly to do this, let me know."
      ],
      "metadata": {
        "id": "kxxUsNHafAkU"
      }
    },
    {
      "cell_type": "markdown",
      "source": [
        "# 3.3 Dealing with sequence data\n",
        "\n",
        "\n",
        "*   Reverse complement function\n",
        "*   Function to check if a sequence is a PAM. Compares two sequence motifs\n",
        "  Can you get this to work with the ambigious nucleotide letters?\n",
        "\n"
      ],
      "metadata": {
        "id": "xHiJqdjfrrf7"
      }
    },
    {
      "cell_type": "markdown",
      "source": [
        "## 3.3.1 Reverse complement\n",
        "\n",
        "We will need to find CRISPR gRNAs on both strands. To do this, we will need to reverse complement the sequence. Let's write our own sequence:\n",
        "\n",
        "To reverse compelement, we need to:\n",
        "1. reverse the string (remember the -1 trick!)\n",
        "2. Compelement the string (remember the intermediate trick)\n",
        "3. Extra challenge, can you handle all of the ambiguous letters?\n",
        "\n",
        "Reminder:\n",
        "* A, T, C, G – already defined\n",
        "* N = “Any” = A,T,C, or G\n",
        "* R = “puRine” = G or A\n",
        "* Y = “pYrimidine” = C or T\n",
        "* S = “Strong” = G or C\n",
        "* W = “Weak” = A or T\n",
        "* K = “Keto” = G or T\n",
        "* M = “Amino” = A or C\n",
        "* B = “anything but A” = T, C, or G\n",
        "* D = “anything but C” = A, T, or G\n",
        "* H = “Anything but G” = A,T, or C\n",
        "* V = “anything but T” = A, C, or G\n"
      ],
      "metadata": {
        "id": "R1vkiH81AdcD"
      }
    },
    {
      "cell_type": "code",
      "source": [
        "def reverse_complement(my_seq):\n",
        " #Make a dictionary with ambiguous symbols\n",
        "  complements = { \"A\":\"T\", \"T\":\"A\",\"C\":\"G\",\"G\":\"C\",\"N\":\"N\",\"R\":\"Y\",\"Y\":\"R\",\n",
        "                 \"S\":\"S\",\"W\":\"W\",\"K\":\"M\",\"M\":\"K\",\"B\":\"V\",\"V\":\"B\",\"D\":\"H\",\"H\":\"D\",\n",
        "                 \"a\":\"t\", \"t\":\"a\",\"c\":\"g\",\"g\":\"c\",\"n\":\"n\",\"r\":\"y\",\"y\":\"r\",\n",
        "                 \"s\":\"s\",\"w\":\"w\",\"k\":\"m\",\"m\":\"k\",\"b\":\"v\",\"v\":\"b\",\"d\":\"h\",\"h\":\"d\"}\n",
        "  #This line is doing the work. It is iterating through a reversed my_seq\n",
        "  #and putting each nucleotide into the variable base. For each of those\n",
        "  #it looks up in the dictionary what the complement is and adds those to\n",
        "  #a growing string.\n",
        "  return \"\".join(complements[base] for base in reversed(my_seq))\n",
        "\n",
        "#Example\n",
        "print(reverse_complement('ATGCTGANNNnnnRRGatcg'))"
      ],
      "metadata": {
        "id": "8P-MgETM_uhz",
        "colab": {
          "base_uri": "https://localhost:8080/"
        },
        "outputId": "d294bb04-a57c-4f72-fd6b-c56e7f03eef0"
      },
      "execution_count": null,
      "outputs": [
        {
          "output_type": "stream",
          "name": "stdout",
          "text": [
            "cgatCYYnnnNNNTCAGCAT\n"
          ]
        }
      ]
    },
    {
      "cell_type": "code",
      "execution_count": null,
      "metadata": {
        "colab": {
          "base_uri": "https://localhost:8080/"
        },
        "id": "L-mJ8T2mp-Vt",
        "outputId": "81af2622-7999-4e41-fab2-2dc8c71904d1",
        "cellView": "form"
      },
      "outputs": [
        {
          "output_type": "stream",
          "name": "stdout",
          "text": [
            "CGAT\n"
          ]
        }
      ],
      "source": [
        "#@title Hidden Reverse Complement Function. Double click to reveal\n",
        "def reverse_complement(seq):\n",
        "  #This function returns a reverse complement of a sequence. Not designed\n",
        "  #to be computationally efficient\n",
        "  #Also only handles ATCG\n",
        "  seq = seq.upper()\n",
        "  seq = seq[::-1]\n",
        "  seq = seq.replace(\"A\", \"t\")\n",
        "  seq = seq.replace(\"C\", \"g\")\n",
        "  seq = seq.replace(\"T\", \"a\")\n",
        "  seq = seq.replace(\"G\", \"c\")\n",
        "  seq = seq.upper()\n",
        "  return seq\n",
        "print(reverse_complement('ATCG'))"
      ]
    },
    {
      "cell_type": "markdown",
      "source": [
        "## 3.3.2 Finding PAM sequences\n",
        "The Cas9 protein seeks out pam sequences. In SpCas9, it seeks 5'-NGG-3'\n",
        "\n",
        "We need to make a function that decides if a sequence is a PAM. There are a fewways we could do this:\n",
        "1. Iterate through our sequence, take three characters out of the string, and see if that is an NGG. We know that N = anything, so we really only need to look at the last two:\n",
        "```python\n",
        "if(my_sequence[i+1:i+3] = 'GG'):\n",
        "  #record the previous 20 bases\n",
        "else:\n",
        "  # not a pam, we really don't need this else\n",
        "```\n",
        "2. Another way is to be more flexible about the PAM - e.g. let the user define the PAM. We would need to iterate through the sequence and check if each is a PAM. Could this also handle ambiguous letters?\n",
        "\n",
        "Try writing a function below that compares two sequences to see if the sequene is the same. Try to make the function as flexible as possible (different lengths, ambiguous letters, etc).\n",
        "\n",
        "I have my version hidden below. It returns true if the sequence matches, false if it doesn't\n"
      ],
      "metadata": {
        "id": "oGQudgReBJXm"
      }
    },
    {
      "cell_type": "code",
      "source": [
        "#Function takes in two input arguments, a sequence to compare and a PAM\n",
        "def is_pam(seq,PAM):\n",
        "  #Your code here\n",
        "  return True #or false?\n"
      ],
      "metadata": {
        "id": "dcTn_ClDCeGJ"
      },
      "execution_count": null,
      "outputs": []
    },
    {
      "cell_type": "markdown",
      "source": [
        "Hidden Code below for is_pam function"
      ],
      "metadata": {
        "id": "pe-o1nwzbv54"
      }
    },
    {
      "cell_type": "code",
      "source": [
        "def is_pam(seq,PAM):\n",
        "    #This function decides if a given seq is a PAM. This should work for any\n",
        "    #length of PAM. This takes into account generic nucleotide letters\n",
        "    for x,char in enumerate(PAM):\n",
        "        if char =='N':\n",
        "            continue\n",
        "        elif char ==\"A\" and seq[x]==\"A\":\n",
        "            continue\n",
        "        elif char ==\"T\" and seq[x]==\"T\":\n",
        "            continue\n",
        "        elif char ==\"C\" and seq[x]==\"C\":\n",
        "            continue\n",
        "        elif char ==\"G\" and seq[x]==\"G\":\n",
        "            continue\n",
        "        elif char ==\"R\" and (seq[x]==\"G\" or seq[x]==\"A\"):\n",
        "            continue\n",
        "        elif char ==\"Y\" and (seq[x]==\"C\" or seq[x]==\"T\"):\n",
        "            continue\n",
        "        elif char ==\"S\" and (seq[x]==\"G\" or seq[x]==\"C\"):\n",
        "            continue\n",
        "        elif char ==\"W\" and (seq[x]==\"A\" or seq[x]==\"T\"):\n",
        "            continue\n",
        "        elif char ==\"K\" and (seq[x]==\"G\" or seq[x]==\"T\"):\n",
        "            continue\n",
        "        elif char ==\"M\" and (seq[x]==\"A\" or seq[x]==\"C\"):\n",
        "            continue\n",
        "        elif char ==\"B\" and (seq[x]==\"C\" or seq[x]==\"G\" or seq[x]==\"T\"):\n",
        "            continue\n",
        "        elif char ==\"D\" and (seq[x]==\"A\" or seq[x]==\"G\" or seq[x]==\"T\"):\n",
        "            continue\n",
        "        elif char ==\"H\" and (seq[x]==\"A\" or seq[x]==\"C\" or seq[x]==\"T\"):\n",
        "            continue\n",
        "        elif char ==\"V\" and (seq[x]==\"A\" or seq[x]==\"C\" or seq[x]==\"G\"):\n",
        "            continue\n",
        "        else:\n",
        "            return False\n",
        "    return True\n",
        "print(is_pam('ATC','NGG')) # Should be false\n",
        "print(is_pam('ATGAAT', 'NNGRRT')) #Should be true"
      ],
      "metadata": {
        "colab": {
          "base_uri": "https://localhost:8080/"
        },
        "id": "RIACXswZ4wVY",
        "outputId": "09a55a19-48d5-490f-bf9d-8854a4e5df98"
      },
      "execution_count": null,
      "outputs": [
        {
          "output_type": "stream",
          "name": "stdout",
          "text": [
            "False\n",
            "True\n"
          ]
        }
      ]
    },
    {
      "cell_type": "markdown",
      "source": [
        "## 3.3.3 Iteratating through sequence data\n",
        "\n",
        "Next we need to iterate through the sequence data and find all of the protospacer sequences.\n",
        "\n",
        "We need to search both strands.\n",
        "\n",
        "First, we can search the sequence that we were provided. To avoid out-of-bounds errors, there is no reason to start until 20bp into the sequence\n",
        "\n",
        "Next, we will reverse complement the sequence and search the reverse complmenet strand.\n",
        "\n",
        "We can add these to a list (easy). More difficult, can you make a better table (or use pandas) to make a table that records the sequence, PAM, positition, and strand? Something like:\n",
        "\n",
        "| Position      | Protospacer | PAM | Strand |\n",
        "| ----------- | ----------- | ----------- | ----------- |\n",
        "| 200      | GTATCTGATCGTACTGTTATA       | TGG       | +       |\n",
        "| 235      | CATCTGGTACTTGTCGTTATT       | AGG       | -       |\n",
        "\n",
        "\n",
        "\n",
        "\n"
      ],
      "metadata": {
        "id": "DjeshpAMDF8P"
      }
    },
    {
      "cell_type": "code",
      "source": [
        "def get_protospacer_list():\n",
        "  #Try to make a function that does this. You can use the function\n",
        "  #below as inspiration if you get stuck."
      ],
      "metadata": {
        "id": "XsT99ba0TTku"
      },
      "execution_count": null,
      "outputs": []
    },
    {
      "cell_type": "code",
      "source": [
        "import pandas as pd\n",
        "#This function takes in a desired protospacer size, a PAM, and a sequence\n",
        "#It needs the functions is_pam, and reverse_complement to work\n",
        "def get_protospacer_list(protospacer_size,PAM,seq):\n",
        "  protospacer_size = 20\n",
        "  PAM = 'NGG'\n",
        "  Cut_Position_from_PAM = 3\n",
        "  df = pd.DataFrame(columns = ['CutPosition', 'Protospacer','PAM', 'Strand'])\n",
        "\n",
        "  # Create the pandas DataFrame\n",
        "  try:\n",
        "    print('your sequence:')\n",
        "    print('length: '+str(len(seq))+' bp')\n",
        "    print(seq)\n",
        "  except:\n",
        "    print('you need to define a sequence first')\n",
        "    print('for now, I will use a default sequence')\n",
        "    seq = 'tcgatttaatcattttgtgtactggtaggctttgattcctttctgtttctcctgtgtatctactgcaggatttttagtgacattgcaatgaggcttacatacagcatcctatagtgatatcagtttattttaagttgataacaacttaattttgacatgtctttattttctgttagtaccattataatacatatattgcaa'\n",
        "\n",
        "  seq=seq.upper()\n",
        "\n",
        "  for i in range(protospacer_size,len(seq)-len(PAM)):\n",
        "    if(is_pam(seq[i:i+len(PAM)],PAM)):\n",
        "    #troubleshooting\n",
        "    #print(i)\n",
        "    #print(seq[i:i+len(PAM)])\n",
        "    #print(seq[i-protospacer_size:i])\n",
        "      df = df.append({'CutPosition':i-Cut_Position_from_PAM,'Protospacer':seq[i-protospacer_size:i],'PAM':seq[i:i+len(PAM)],'Strand':'+'}, ignore_index=True)\n",
        "\n",
        "  #Check reverse complement\n",
        "  RCseq = reverse_complement(seq)\n",
        "  fasize = len(seq)\n",
        "  for i in range(protospacer_size,len(RCseq)-len(PAM)):\n",
        "    if(is_pam(RCseq[i:i+len(PAM)],PAM)):\n",
        "      #troubleshooting\n",
        "      #print(i)\n",
        "      #print(RCseq[i:i+len(PAM)])\n",
        "      #print(RCseq[i-protospacer_size:i])\n",
        "\n",
        "      #Notice the change in position to make sure we have the original strands position\n",
        "      df = df.append({'CutPosition':str(fasize-i+Cut_Position_from_PAM),'Protospacer':RCseq[i-protospacer_size:i],'PAM':RCseq[i:i+len(PAM)],'Strand':'-'}, ignore_index=True)\n",
        "  return df\n",
        "\n",
        "my_seq = 'tcgatttaatcattttgtgtactggtaggctttgattcctttctgtttctcctgtgtatctactgcaggatttttagtgacattgcaatgaggcttacatacagcatcctatagtgatatcagtttattttaagttgataacaacttaattttgacatgtctttattttctgttagtaccattataatacatatattgcaa'\n",
        "print(get_protospacer_list(20,'NGG',my_seq))"
      ],
      "metadata": {
        "colab": {
          "base_uri": "https://localhost:8080/"
        },
        "id": "9BsruC00Kp7U",
        "outputId": "06fc3859-22ff-4b39-f69d-a8d7828f1702"
      },
      "execution_count": null,
      "outputs": [
        {
          "output_type": "stream",
          "name": "stdout",
          "text": [
            "your sequence:\n",
            "length: 201 bp\n",
            "tcgatttaatcattttgtgtactggtaggctttgattcctttctgtttctcctgtgtatctactgcaggatttttagtgacattgcaatgaggcttacatacagcatcctatagtgatatcagtttattttaagttgataacaacttaattttgacatgtctttattttctgttagtaccattataatacatatattgcaa\n",
            "  CutPosition           Protospacer  PAM Strand\n",
            "0          19  GATTTAATCATTTTGTGTAC  TGG      +\n",
            "1          23  TAATCATTTTGTGTACTGGT  AGG      +\n",
            "2          63  TTCTCCTGTGTATCTACTGC  AGG      +\n",
            "3          87  TTTTTAGTGACATTGCAATG  AGG      +\n",
            "4         184  TTGCAATATATGTATTATAA  TGG      -\n",
            "5         113  AAATAAACTGATATCACTAT  AGG      -\n",
            "6          56  AAATCCTGCAGTAGATACAC  AGG      -\n",
            "7          43  GATACACAGGAGAAACAGAA  AGG      -\n"
          ]
        }
      ]
    },
    {
      "cell_type": "code",
      "source": [
        "Str = \"tcgatttaatcattttgtgtactggtaggctttgattcctttc\"\n",
        "print(len(Str))\n",
        "print(57-43)"
      ],
      "metadata": {
        "colab": {
          "base_uri": "https://localhost:8080/"
        },
        "id": "yfxRJlQKKiza",
        "outputId": "24eeebb1-b0cd-40b3-b9b4-e6062c823e6e"
      },
      "execution_count": null,
      "outputs": [
        {
          "output_type": "stream",
          "name": "stdout",
          "text": [
            "43\n",
            "14\n"
          ]
        }
      ]
    },
    {
      "cell_type": "markdown",
      "source": [
        "#3.4 Data output and putting it all together\n",
        "Finally, we need to output the data into something useful for later. We could copy/paste the output from the function, but we could also export the data onto our own computer for future use.\n",
        "\n",
        "In google colab, you can save data from google colab saved temporarilly over to the left (see the foldericon). Also, you can save to your google drive. You can also prompt a downloading window. We can export our table as a csv\n",
        "\n",
        "```python\n",
        "from google.colab import files\n",
        "df.to_csv('filename.csv')\n",
        "files.download('filename.csv')\n",
        "```"
      ],
      "metadata": {
        "id": "Jr5Zbwi6Efzu"
      }
    },
    {
      "cell_type": "code",
      "source": [
        "from google.colab import files\n",
        "#get sequence from github (input section 3.2)\n",
        "#header, my_seq = get_github_fasta('https://raw.githubusercontent.com/chrisnelsonlab/BMEG4983/master/test_seq.fa')\n",
        "\n",
        "#ALTERNATE - Get data from your PC - uncomment to try it out\n",
        "#header, my_seq = get_fasta_from_pc()\n",
        "\n",
        "#You can also put a sequence in here directly\n",
        "#replace with imported sequence if your prefer, this sequence is for demo purposes\n",
        "my_seq = 'AAAGGTTATGCAGCGCGTGAACATGATCATGGCAGAATCACCAGGCCTCATCACCATCTGCCTTTTAGGATATCTACTCAGTGCTGAATGTACAGGTTTGT'\n",
        "#Dealing with sequence data (Section 3.3)\n",
        "#You can change the protospacer sizeand PAM here\n",
        "df = get_protospacer_list(20,'NGG',my_seq)\n",
        "\n",
        "#Output (Section 3.4)\n",
        "df.to_csv('my_protospacers.csv')\n",
        "files.download('my_protospacers.csv')\n",
        "\n",
        "\n"
      ],
      "metadata": {
        "colab": {
          "base_uri": "https://localhost:8080/",
          "height": 72
        },
        "id": "OnERHFeeRiib",
        "outputId": "8faf4add-41b8-4245-9e3e-949a4597c79a"
      },
      "execution_count": null,
      "outputs": [
        {
          "output_type": "stream",
          "name": "stdout",
          "text": [
            "your sequence:\n",
            "length: 101 bp\n",
            "AAAGGTTATGCAGCGCGTGAACATGATCATGGCAGAATCACCAGGCCTCATCACCATCTGCCTTTTAGGATATCTACTCAGTGCTGAATGTACAGGTTTGT\n"
          ]
        },
        {
          "output_type": "display_data",
          "data": {
            "application/javascript": [
              "\n",
              "    async function download(id, filename, size) {\n",
              "      if (!google.colab.kernel.accessAllowed) {\n",
              "        return;\n",
              "      }\n",
              "      const div = document.createElement('div');\n",
              "      const label = document.createElement('label');\n",
              "      label.textContent = `Downloading \"${filename}\": `;\n",
              "      div.appendChild(label);\n",
              "      const progress = document.createElement('progress');\n",
              "      progress.max = size;\n",
              "      div.appendChild(progress);\n",
              "      document.body.appendChild(div);\n",
              "\n",
              "      const buffers = [];\n",
              "      let downloaded = 0;\n",
              "\n",
              "      const channel = await google.colab.kernel.comms.open(id);\n",
              "      // Send a message to notify the kernel that we're ready.\n",
              "      channel.send({})\n",
              "\n",
              "      for await (const message of channel.messages) {\n",
              "        // Send a message to notify the kernel that we're ready.\n",
              "        channel.send({})\n",
              "        if (message.buffers) {\n",
              "          for (const buffer of message.buffers) {\n",
              "            buffers.push(buffer);\n",
              "            downloaded += buffer.byteLength;\n",
              "            progress.value = downloaded;\n",
              "          }\n",
              "        }\n",
              "      }\n",
              "      const blob = new Blob(buffers, {type: 'application/binary'});\n",
              "      const a = document.createElement('a');\n",
              "      a.href = window.URL.createObjectURL(blob);\n",
              "      a.download = filename;\n",
              "      div.appendChild(a);\n",
              "      a.click();\n",
              "      div.remove();\n",
              "    }\n",
              "  "
            ],
            "text/plain": [
              "<IPython.core.display.Javascript object>"
            ]
          },
          "metadata": {}
        },
        {
          "output_type": "display_data",
          "data": {
            "application/javascript": [
              "download(\"download_719738b3-9f9a-4f25-aab2-983d567e6966\", \"my_protospacers.csv\", 289)"
            ],
            "text/plain": [
              "<IPython.core.display.Javascript object>"
            ]
          },
          "metadata": {}
        }
      ]
    },
    {
      "cell_type": "markdown",
      "source": [
        "# 3.5 Review\n",
        "\n",
        "**To recap: We designed for every possible CRISPR gRNA by:**\n",
        "* importing our own fasta file\n",
        "* iterating through the sequence\n",
        "* Finding a PAM\n",
        "* reverse complementing the whole thing\n",
        "* Saving data as a table in pandas\n",
        "* Exporting data as a csv\n",
        "\n",
        "\n",
        "**There are other improvments we could make:**\n",
        "* Removing poly_N (polyT) - guide RNAs with poly nucleotides often don't work or are not very specific. Four Ts in a row stops the gRNA from working\n",
        "* Removing extreme GC content (less than 20% greater than 80%) - Guide RNAs with GC content (the percentage of Gs and Cs) less than 20 or larger than 80 seem to not work as well. Can you make a fucntion to remove those?\n",
        "* Off-targets - more difficult, can you search the whole genome for mismatches to these gRNAs? This may not be possible in free google colab."
      ],
      "metadata": {
        "id": "BB8YrtnbR-qA"
      }
    },
    {
      "cell_type": "markdown",
      "source": [
        "#3.6 HW3 - Designing a library of CRISPR gRNAs\n",
        "\n",
        "##3.6.1 HW3 Q1 - Get exon coordinates for your gene\n",
        "Use hg38. Choose just one isoform. Find the starting location and the end location for each exon. Store these in an appropriate data structure of your choice.\n",
        "\n",
        "In order to determine a more efficient way of doing this, I have opted for using the following curl request within Ubuntu (Linux Operator)\n",
        "\n",
        "curl -s \"https://genome.ucsc.edu/cgi-bin/das/hg38/dna?segment=chr22:44150657,44150740\" | grep -v \"<\"\n",
        "\n",
        "gctcggatgatcctcagtggtctggggtgcaggcttcaaacctgtagctg\n",
        "tctagtgacagagtggttcaattccacctttgta\n",
        "\n",
        "##3.6.2 HW3 Q2 - Find the exon sequences of your gene for targeting with CRISPR gRNAs.\n",
        "Include 20 bp on each side of the exon to allow for gRNAs to target the genomic DNA near splice sites. Make it a fasta file with an entry for each exon. Lower case can be intron sequence (20 bp flanking) and upper case can be exon sequence.\n",
        "\n",
        "##3.6.3 HW3 Q3 -\n",
        "Write (or adapt) a function that scans a sequence for all gRNAs. Make sure to include a check that the cutting location is in the coding region of the gene.\n",
        "\n",
        "##3.6.3 HW3 Q4 - Design a gRNA libary for your gene\n",
        "Considerations:\n",
        "Design a **saturating** gRNA library for the **coding sequence** of your gene. To prevent long genes from causing issues, you can limit the library to 2000 bp of coding sequence or 100 gRNAs, whichever comes first.\n",
        "\n",
        "\n",
        "\n"
      ],
      "metadata": {
        "id": "Q9fpsJJwc8-n"
      }
    },
    {
      "cell_type": "markdown",
      "source": [
        "#3.7 Sample solution\n",
        "\n",
        "**Q1 Exon coordinates for TP53**\n"
      ],
      "metadata": {
        "id": "5TIoeHwcRr21"
      }
    },
    {
      "cell_type": "code",
      "source": [
        "#Derived manually from genome browser\n",
        "#chr17:7,676,521-7,676,622\n",
        "#chr17:7,676,382-7,676,403\n",
        "#chr17:7,675,993-7,676,272"
      ],
      "metadata": {
        "id": "EumWMa33R03h"
      },
      "execution_count": null,
      "outputs": []
    },
    {
      "cell_type": "markdown",
      "source": [
        "**Q2 Exon seqeunces of TP53**\n",
        "\n",
        "This code will pull 20 bp flanking each side of the exon, put those in lower case and put the coding region in upper case.\n"
      ],
      "metadata": {
        "id": "bElmSovoR1N8"
      }
    },
    {
      "cell_type": "code",
      "source": [
        "#Here is a hacky version of getting sequence data by chromosome from UCSC\n",
        "#The function takes in a chromosome and start and stop coords. I made it\n",
        "#where it will give an error if you ask for more than 1000 bp\n",
        "import pandas as pd\n",
        "def getseqdatafromcoords(chr_num_as_str, start, stop):\n",
        "  if(stop<start):\n",
        "    print('warning, your start and stop coordinates are inverted')\n",
        "    return ''\n",
        "  if(stop - start > 2000):\n",
        "    print('warning, you asked for a seq larger than 2000 bp')\n",
        "    return ''\n",
        "  url_for_seq = 'http://genome.ucsc.edu/cgi-bin/das/hg38/dna?segment=chr'+str(chr_num_as_str)+':'+str(start)+','+str(stop)\n",
        "  print(url_for_seq)\n",
        "  df = pd.read_csv(url_for_seq)\n",
        "  seq = ''\n",
        "  index = 4\n",
        "  while True:\n",
        "    df.iat[index,0]\n",
        "    seq = seq+df.iat[index,0]\n",
        "    index = index +1\n",
        "    if (df.iat[index,0]==\"</DNA>\"):\n",
        "      print('break')\n",
        "      break\n",
        "  return seq\n",
        "\n",
        "#chr17:7,676,521-7,676,622\n",
        "#chr17:7,676,382-7,676,403\n",
        "#chr17:7,675,993-7,676,272\n",
        "exonA = getseqdatafromcoords('17', 7676521-20, 7676622+20)\n",
        "exonA = exonA[0:20].lower()+exonA[20:len(exonA)-20].upper()+exonA[len(exonA)-20:].lower()\n",
        "print(exonA)\n",
        "exonB = getseqdatafromcoords('17', 7676382-20, 7676403+20)\n",
        "exonB = exonB[0:20].lower()+exonB[20:len(exonB)-20].upper()+exonB[len(exonB)-20:].lower()\n",
        "print(exonB)\n",
        "exonC = getseqdatafromcoords('17', 7675993-20,7676272+20)\n",
        "exonC = exonA[0:20].lower()+exonC[20:len(exonC)-20].upper()+exonC[len(exonC)-20:].lower()\n",
        "print(exonC)\n"
      ],
      "metadata": {
        "colab": {
          "base_uri": "https://localhost:8080/"
        },
        "id": "5kvmlQ3gSBg1",
        "outputId": "c0f485b9-9a38-4a98-b10e-b5f42e32a944"
      },
      "execution_count": null,
      "outputs": [
        {
          "output_type": "stream",
          "name": "stdout",
          "text": [
            "http://genome.ucsc.edu/cgi-bin/das/hg38/dna?segment=chr17:7676501,7676642\n",
            "break\n",
            "cttccaatggatccactcacAGTTTCCATAGGTCTGAAAATGTTTCCTGACTCAGAGGGGGCTCGACGCTAGGATCTGACTGCGGCTCCTCCATGGCAGTGACCCGGAAGGCAGTCTGGCTGctgcaagaggaaaagtgggg\n",
            "http://genome.ucsc.edu/cgi-bin/das/hg38/dna?segment=chr17:7676362,7676423\n",
            "break\n",
            "agcccaacccttgtccttacCAGAACGTTGTTTTCAGGAAGTctgaaagacaagagcagaaa\n",
            "http://genome.ucsc.edu/cgi-bin/das/hg38/dna?segment=chr17:7675973,7676292\n",
            "break\n",
            "cttccaatggatccactcacCCGTGCAAGTCACAGACTTGGCTGTCCCAGAATGCAAGAAGCCCAGACGGAAACCGTAGCTGCCCTGGTAGGTTTTCTGGGAAGGGACAGAAGATGACAGGGGCCAGGAGGGGGCTGGTGCAGGGGCCGCCGGTGTAGGAGCTGCTGGTGCAGGGGCCACGGGGGGAGCAGCCTCTGGCATTCTGGGAGCTTCATCTGGACCTGGGTCTTCAGTGAACCATTGTTCAATATCGTCCGGGGACAGCATCAAATCATCCATTGCTTGGGACGGCAAGGGGGActgtagatgggtgaaaagag\n"
          ]
        }
      ]
    },
    {
      "cell_type": "markdown",
      "source": [
        "**Q3 Code (or pseudocode) for finding potential gRNAs**"
      ],
      "metadata": {
        "id": "fBX4EYwTSCSx"
      }
    },
    {
      "cell_type": "code",
      "source": [
        "#See code above that is used by Q4"
      ],
      "metadata": {
        "id": "Y3bt3tNgSLFM"
      },
      "execution_count": null,
      "outputs": []
    },
    {
      "cell_type": "markdown",
      "source": [
        "**Q4 Designing a gRNA library targeting coding sequence**\n"
      ],
      "metadata": {
        "id": "Pf__TwdeSLlt"
      }
    },
    {
      "cell_type": "code",
      "source": [
        "from google.colab import files\n",
        "#get sequence from github (input section 3.2)\n",
        "#header, my_seq = get_github_fasta('https://raw.githubusercontent.com/chrisnelsonlab/BMEG4983/master/test_seq.fa')\n",
        "\n",
        "#ALTERNATE - Get data from your PC - uncomment to try it out\n",
        "#header, my_seq = get_fasta_from_pc()\n",
        "\n",
        "#You can also put a sequence in here directly\n",
        "#replace with imported sequence if your prefer, this sequence is for demo purposes\n",
        "my_seq = 'AAAGGTTATGCAGCGCGTGAACATGATCATGGCAGAATCACCAGGCCTCATCACCATCTGCCTTTTAGGATATCTACTCAGTGCTGAATGTACAGGTTTGT'\n",
        "#Dealing with sequence data (Section 3.3)\n",
        "#You can change the protospacer sizeand PAM here\n",
        "df = get_protospacer_list(20,'NGG',exonA)\n",
        "\n",
        "#Output (Section 3.4)\n",
        "df.to_csv('ExonA.csv')\n",
        "files.download('ExonA.csv')\n",
        "\n",
        "df = get_protospacer_list(20,'NGG',exonB)\n",
        "df.to_csv('ExonB.csv')\n",
        "files.download('ExonB.csv')\n",
        "df = get_protospacer_list(20,'NGG',exonC)\n",
        "df.to_csv('ExonC.csv')\n",
        "files.download('ExonC.csv')\n",
        "\n"
      ],
      "metadata": {
        "colab": {
          "base_uri": "https://localhost:8080/",
          "height": 193
        },
        "id": "JiKr_i1iSTxT",
        "outputId": "9beb3829-1558-412b-f8e3-4779e7e97a6d"
      },
      "execution_count": null,
      "outputs": [
        {
          "output_type": "stream",
          "name": "stdout",
          "text": [
            "your sequence:\n",
            "length: 142 bp\n",
            "cttccaatggatccactcacAGTTTCCATAGGTCTGAAAATGTTTCCTGACTCAGAGGGGGCTCGACGCTAGGATCTGACTGCGGCTCCTCCATGGCAGTGACCCGGAAGGCAGTCTGGCTGctgcaagaggaaaagtgggg\n"
          ]
        },
        {
          "output_type": "display_data",
          "data": {
            "text/plain": [
              "<IPython.core.display.Javascript object>"
            ],
            "application/javascript": [
              "\n",
              "    async function download(id, filename, size) {\n",
              "      if (!google.colab.kernel.accessAllowed) {\n",
              "        return;\n",
              "      }\n",
              "      const div = document.createElement('div');\n",
              "      const label = document.createElement('label');\n",
              "      label.textContent = `Downloading \"${filename}\": `;\n",
              "      div.appendChild(label);\n",
              "      const progress = document.createElement('progress');\n",
              "      progress.max = size;\n",
              "      div.appendChild(progress);\n",
              "      document.body.appendChild(div);\n",
              "\n",
              "      const buffers = [];\n",
              "      let downloaded = 0;\n",
              "\n",
              "      const channel = await google.colab.kernel.comms.open(id);\n",
              "      // Send a message to notify the kernel that we're ready.\n",
              "      channel.send({})\n",
              "\n",
              "      for await (const message of channel.messages) {\n",
              "        // Send a message to notify the kernel that we're ready.\n",
              "        channel.send({})\n",
              "        if (message.buffers) {\n",
              "          for (const buffer of message.buffers) {\n",
              "            buffers.push(buffer);\n",
              "            downloaded += buffer.byteLength;\n",
              "            progress.value = downloaded;\n",
              "          }\n",
              "        }\n",
              "      }\n",
              "      const blob = new Blob(buffers, {type: 'application/binary'});\n",
              "      const a = document.createElement('a');\n",
              "      a.href = window.URL.createObjectURL(blob);\n",
              "      a.download = filename;\n",
              "      div.appendChild(a);\n",
              "      a.click();\n",
              "      div.remove();\n",
              "    }\n",
              "  "
            ]
          },
          "metadata": {}
        },
        {
          "output_type": "display_data",
          "data": {
            "text/plain": [
              "<IPython.core.display.Javascript object>"
            ],
            "application/javascript": [
              "download(\"download_ac8a5eca-6e4b-42a6-9091-dd4247ee9ac7\", \"my_protospacers.csv\", 759)"
            ]
          },
          "metadata": {}
        },
        {
          "output_type": "stream",
          "name": "stdout",
          "text": [
            "your sequence:\n",
            "length: 62 bp\n",
            "agcccaacccttgtccttacCAGAACGTTGTTTTCAGGAAGTctgaaagacaagagcagaaa\n"
          ]
        },
        {
          "output_type": "display_data",
          "data": {
            "text/plain": [
              "<IPython.core.display.Javascript object>"
            ],
            "application/javascript": [
              "\n",
              "    async function download(id, filename, size) {\n",
              "      if (!google.colab.kernel.accessAllowed) {\n",
              "        return;\n",
              "      }\n",
              "      const div = document.createElement('div');\n",
              "      const label = document.createElement('label');\n",
              "      label.textContent = `Downloading \"${filename}\": `;\n",
              "      div.appendChild(label);\n",
              "      const progress = document.createElement('progress');\n",
              "      progress.max = size;\n",
              "      div.appendChild(progress);\n",
              "      document.body.appendChild(div);\n",
              "\n",
              "      const buffers = [];\n",
              "      let downloaded = 0;\n",
              "\n",
              "      const channel = await google.colab.kernel.comms.open(id);\n",
              "      // Send a message to notify the kernel that we're ready.\n",
              "      channel.send({})\n",
              "\n",
              "      for await (const message of channel.messages) {\n",
              "        // Send a message to notify the kernel that we're ready.\n",
              "        channel.send({})\n",
              "        if (message.buffers) {\n",
              "          for (const buffer of message.buffers) {\n",
              "            buffers.push(buffer);\n",
              "            downloaded += buffer.byteLength;\n",
              "            progress.value = downloaded;\n",
              "          }\n",
              "        }\n",
              "      }\n",
              "      const blob = new Blob(buffers, {type: 'application/binary'});\n",
              "      const a = document.createElement('a');\n",
              "      a.href = window.URL.createObjectURL(blob);\n",
              "      a.download = filename;\n",
              "      div.appendChild(a);\n",
              "      a.click();\n",
              "      div.remove();\n",
              "    }\n",
              "  "
            ]
          },
          "metadata": {}
        },
        {
          "output_type": "display_data",
          "data": {
            "text/plain": [
              "<IPython.core.display.Javascript object>"
            ],
            "application/javascript": [
              "download(\"download_a949a5a9-cd50-4175-92ad-3f14393f4617\", \"my_protospacers.csv\", 258)"
            ]
          },
          "metadata": {}
        },
        {
          "output_type": "stream",
          "name": "stdout",
          "text": [
            "your sequence:\n",
            "length: 320 bp\n",
            "cttccaatggatccactcacCCGTGCAAGTCACAGACTTGGCTGTCCCAGAATGCAAGAAGCCCAGACGGAAACCGTAGCTGCCCTGGTAGGTTTTCTGGGAAGGGACAGAAGATGACAGGGGCCAGGAGGGGGCTGGTGCAGGGGCCGCCGGTGTAGGAGCTGCTGGTGCAGGGGCCACGGGGGGAGCAGCCTCTGGCATTCTGGGAGCTTCATCTGGACCTGGGTCTTCAGTGAACCATTGTTCAATATCGTCCGGGGACAGCATCAAATCATCCATTGCTTGGGACGGCAAGGGGGActgtagatgggtgaaaagag\n"
          ]
        },
        {
          "output_type": "display_data",
          "data": {
            "text/plain": [
              "<IPython.core.display.Javascript object>"
            ],
            "application/javascript": [
              "\n",
              "    async function download(id, filename, size) {\n",
              "      if (!google.colab.kernel.accessAllowed) {\n",
              "        return;\n",
              "      }\n",
              "      const div = document.createElement('div');\n",
              "      const label = document.createElement('label');\n",
              "      label.textContent = `Downloading \"${filename}\": `;\n",
              "      div.appendChild(label);\n",
              "      const progress = document.createElement('progress');\n",
              "      progress.max = size;\n",
              "      div.appendChild(progress);\n",
              "      document.body.appendChild(div);\n",
              "\n",
              "      const buffers = [];\n",
              "      let downloaded = 0;\n",
              "\n",
              "      const channel = await google.colab.kernel.comms.open(id);\n",
              "      // Send a message to notify the kernel that we're ready.\n",
              "      channel.send({})\n",
              "\n",
              "      for await (const message of channel.messages) {\n",
              "        // Send a message to notify the kernel that we're ready.\n",
              "        channel.send({})\n",
              "        if (message.buffers) {\n",
              "          for (const buffer of message.buffers) {\n",
              "            buffers.push(buffer);\n",
              "            downloaded += buffer.byteLength;\n",
              "            progress.value = downloaded;\n",
              "          }\n",
              "        }\n",
              "      }\n",
              "      const blob = new Blob(buffers, {type: 'application/binary'});\n",
              "      const a = document.createElement('a');\n",
              "      a.href = window.URL.createObjectURL(blob);\n",
              "      a.download = filename;\n",
              "      div.appendChild(a);\n",
              "      a.click();\n",
              "      div.remove();\n",
              "    }\n",
              "  "
            ]
          },
          "metadata": {}
        },
        {
          "output_type": "display_data",
          "data": {
            "text/plain": [
              "<IPython.core.display.Javascript object>"
            ],
            "application/javascript": [
              "download(\"download_c4d9efcb-6cfc-4bb4-920d-e7c9c67a46a9\", \"my_protospacers.csv\", 2353)"
            ]
          },
          "metadata": {}
        }
      ]
    }
  ]
}