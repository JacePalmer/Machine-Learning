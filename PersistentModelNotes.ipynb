{
 "cells": [
  {
   "cell_type": "code",
   "execution_count": 9,
   "id": "03394dd3-8553-4018-8c99-2e01b30f98a7",
   "metadata": {},
   "outputs": [
    {
     "name": "stdout",
     "output_type": "stream",
     "text": [
      "[0 1]\n"
     ]
    },
    {
     "data": {
      "text/plain": [
       "['decision_tree_model.joblib']"
      ]
     },
     "execution_count": 9,
     "metadata": {},
     "output_type": "execute_result"
    }
   ],
   "source": [
    "import pandas as pd\n",
    "from sklearn.model_selection import train_test_split\n",
    "from sklearn.tree import DecisionTreeClassifier\n",
    "from sklearn.preprocessing import LabelEncoder\n",
    "import joblib  # Import joblib for model persistence\n",
    "\n",
    "# Example data\n",
    "data = {\n",
    "    'Age': [25, 30, 22, 28, 35, 27, 31, 29, 24],\n",
    "    'Gender': ['Male', 'Female', 'Male', 'Female', 'Male', 'Female', 'Male', 'Female', 'Male'],\n",
    "    'Music': ['Rock', 'Pop', 'Jazz', 'Classical', 'Pop', 'Rock', 'Jazz', 'Classical', 'Pop'],\n",
    "    'Target': [1, 0, 1, 0, 0, 1, 1, 0, 1]  # Example target variable\n",
    "}\n",
    "\n",
    "# Create a DataFrame\n",
    "df = pd.DataFrame(data)\n",
    "\n",
    "# Separate features and target\n",
    "X = df[['Age', 'Gender', 'Music']].copy()  # Use .copy() to avoid SettingWithCopyWarning\n",
    "y = df['Target']\n",
    "\n",
    "# Encode categorical variables\n",
    "label_encoder = LabelEncoder()\n",
    "\n",
    "X.loc[:, 'Gender'] = label_encoder.fit_transform(X['Gender'])\n",
    "X.loc[:, 'Music'] = label_encoder.fit_transform(X['Music'])\n",
    "\n",
    "# Split the data into training and testing sets\n",
    "X_train, X_test, y_train, y_test = train_test_split(X, y, test_size=0.2, random_state=42)\n",
    "\n",
    "# Initialize and train the model\n",
    "model = DecisionTreeClassifier()\n",
    "model.fit(X_train, y_train)\n",
    "\n",
    "# Print the model's predictions for the test set\n",
    "predictions = model.predict(X_test)\n",
    "print(predictions)\n",
    "\n",
    "# Save the model to a file using joblib\n",
    "joblib.dump(model, 'decision_tree_model.joblib')\n",
    "\n",
    "# Later, you can load the model from the file\n",
    "# loaded_model = joblib.load('decision_tree_model.joblib')\n",
    "\n"
   ]
  },
  {
   "cell_type": "code",
   "execution_count": 11,
   "id": "34c6d8a0-ea7e-408b-9f5e-15d7f1b8fbaf",
   "metadata": {},
   "outputs": [
    {
     "data": {
      "text/plain": [
       "array([0, 1], dtype=int64)"
      ]
     },
     "execution_count": 11,
     "metadata": {},
     "output_type": "execute_result"
    }
   ],
   "source": [
    "import pandas as pd\n",
    "from sklearn.model_selection import train_test_split\n",
    "from sklearn.tree import DecisionTreeClassifier\n",
    "from sklearn.preprocessing import LabelEncoder\n",
    "import joblib  # Import joblib for model persistence\n",
    "\n",
    "# # Example data\n",
    "# data = {\n",
    "#     'Age': [25, 30, 22, 28, 35, 27, 31, 29, 24],\n",
    "#     'Gender': ['Male', 'Female', 'Male', 'Female', 'Male', 'Female', 'Male', 'Female', 'Male'],\n",
    "#     'Music': ['Rock', 'Pop', 'Jazz', 'Classical', 'Pop', 'Rock', 'Jazz', 'Classical', 'Pop'],\n",
    "#     'Target': [1, 0, 1, 0, 0, 1, 1, 0, 1]  # Example target variable\n",
    "# }\n",
    "\n",
    "# Create a DataFrame\n",
    "# df = pd.DataFrame(data)\n",
    "\n",
    "# # Separate features and target\n",
    "# X = df[['Age', 'Gender', 'Music']].copy()  # Use .copy() to avoid SettingWithCopyWarning\n",
    "# y = df['Target']\n",
    "\n",
    "# # Encode categorical variables\n",
    "# label_encoder = LabelEncoder()\n",
    "\n",
    "# X.loc[:, 'Gender'] = label_encoder.fit_transform(X['Gender'])\n",
    "# X.loc[:, 'Music'] = label_encoder.fit_transform(X['Music'])\n",
    "\n",
    "# # Split the data into training and testing sets\n",
    "# X_train, X_test, y_train, y_test = train_test_split(X, y, test_size=0.2, random_state=42)\n",
    "\n",
    "# # Initialize and train the model\n",
    "# model = DecisionTreeClassifier()\n",
    "# model.fit(X_train, y_train)\n",
    "\n",
    "# # Print the model's predictions for the test set\n",
    "# predictions = model.predict(X_test)\n",
    "# print(predictions)\n",
    "\n",
    "# # Save the model to a file using joblib\n",
    "# joblib.dump(model, 'decision_tree_model.joblib')\n",
    "\n",
    "model = joblib.load('decision_tree_model.joblib')\n",
    "predictions = model.predict(X_test)\n",
    "predictions"
   ]
  },
  {
   "cell_type": "code",
   "execution_count": 13,
   "id": "5a2c0bea-193c-445c-93ae-74590354e902",
   "metadata": {},
   "outputs": [
    {
     "name": "stdout",
     "output_type": "stream",
     "text": [
      "Accuracy: 0.50\n",
      "Precision: 0.00\n",
      "Recall: 0.00\n",
      "Confusion Matrix:\n",
      "[[1 1]\n",
      " [0 0]]\n"
     ]
    },
    {
     "name": "stderr",
     "output_type": "stream",
     "text": [
      "C:\\Users\\palme\\anaconda3\\Lib\\site-packages\\sklearn\\metrics\\_classification.py:1344: UndefinedMetricWarning: Recall is ill-defined and being set to 0.0 due to no true samples. Use `zero_division` parameter to control this behavior.\n",
      "  _warn_prf(average, modifier, msg_start, len(result))\n"
     ]
    }
   ],
   "source": [
    "# Example Script Integration\n",
    "# Here's how your complete script might look after integrating these evaluation steps:\n",
    "\n",
    "import pandas as pd\n",
    "from sklearn.model_selection import train_test_split\n",
    "from sklearn.tree import DecisionTreeClassifier\n",
    "from sklearn.preprocessing import LabelEncoder\n",
    "from sklearn.metrics import accuracy_score, precision_score, recall_score, confusion_matrix\n",
    "import joblib\n",
    "\n",
    "# Load the model from file\n",
    "model = joblib.load('decision_tree_model.joblib')\n",
    "\n",
    "# Assuming X_test and y_test are already defined from your train_test_split\n",
    "# Make predictions on the test set\n",
    "predictions = model.predict(X_test)\n",
    "\n",
    "# Evaluate model performance\n",
    "accuracy = accuracy_score(y_test, predictions)\n",
    "precision = precision_score(y_test, predictions)\n",
    "recall = recall_score(y_test, predictions)\n",
    "cm = confusion_matrix(y_test, predictions)\n",
    "\n",
    "# Print evaluation metrics\n",
    "print(f'Accuracy: {accuracy:.2f}')\n",
    "print(f'Precision: {precision:.2f}')\n",
    "print(f'Recall: {recall:.2f}')\n",
    "print('Confusion Matrix:')\n",
    "print(cm)\n"
   ]
  }
 ],
 "metadata": {
  "kernelspec": {
   "display_name": "Python 3 (ipykernel)",
   "language": "python",
   "name": "python3"
  },
  "language_info": {
   "codemirror_mode": {
    "name": "ipython",
    "version": 3
   },
   "file_extension": ".py",
   "mimetype": "text/x-python",
   "name": "python",
   "nbconvert_exporter": "python",
   "pygments_lexer": "ipython3",
   "version": "3.11.7"
  }
 },
 "nbformat": 4,
 "nbformat_minor": 5
}
