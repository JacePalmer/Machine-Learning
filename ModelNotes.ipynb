{
 "cells": [
  {
   "cell_type": "code",
   "execution_count": 2,
   "id": "03394dd3-8553-4018-8c99-2e01b30f98a7",
   "metadata": {},
   "outputs": [
    {
     "name": "stdout",
     "output_type": "stream",
     "text": [
      "[0 1]\n"
     ]
    }
   ],
   "source": [
    "import pandas as pd\n",
    "from sklearn.model_selection import train_test_split\n",
    "from sklearn.tree import DecisionTreeClassifier\n",
    "from sklearn.preprocessing import LabelEncoder\n",
    "\n",
    "# Example data\n",
    "data = {\n",
    "    'Age': [25, 30, 22, 28, 35, 27, 31, 29, 24],\n",
    "    'Gender': ['Male', 'Female', 'Male', 'Female', 'Male', 'Female', 'Male', 'Female', 'Male'],\n",
    "    'Music': ['Rock', 'Pop', 'Jazz', 'Classical', 'Pop', 'Rock', 'Jazz', 'Classical', 'Pop'],\n",
    "    'Target': [1, 0, 1, 0, 0, 1, 1, 0, 1]  # Example target variable\n",
    "}\n",
    "\n",
    "# Create a DataFrame\n",
    "df = pd.DataFrame(data)\n",
    "\n",
    "# Separate features and target\n",
    "X = df[['Age', 'Gender', 'Music']].copy()  # Use .copy() to avoid SettingWithCopyWarning\n",
    "y = df['Target']\n",
    "\n",
    "# Encode categorical variables\n",
    "label_encoder = LabelEncoder()\n",
    "\n",
    "X.loc[:, 'Gender'] = label_encoder.fit_transform(X['Gender'])\n",
    "X.loc[:, 'Music'] = label_encoder.fit_transform(X['Music'])\n",
    "\n",
    "# Split the data into training and testing sets\n",
    "X_train, X_test, y_train, y_test = train_test_split(X, y, test_size=0.2, random_state=42)\n",
    "\n",
    "# Initialize and train the model\n",
    "model = DecisionTreeClassifier()\n",
    "model.fit(X_train, y_train)\n",
    "\n",
    "# Print the model's predictions for the test set\n",
    "predictions = model.predict(X_test)\n",
    "print(predictions)\n",
    "\n"
   ]
  },
  {
   "cell_type": "code",
   "execution_count": 4,
   "id": "7b99df84-12c7-4eb0-a142-3b93546ac00b",
   "metadata": {},
   "outputs": [
    {
     "name": "stdout",
     "output_type": "stream",
     "text": [
      "Actual labels: [0 0]\n",
      "Predictions: [0 1]\n",
      "Accuracy: 0.5\n"
     ]
    }
   ],
   "source": [
    "from sklearn.metrics import accuracy_score\n",
    "\n",
    "# Print the actual labels\n",
    "print(\"Actual labels:\", y_test.values)\n",
    "\n",
    "# Print the predictions\n",
    "print(\"Predictions:\", predictions)\n",
    "\n",
    "# Calculate and print the accuracy\n",
    "accuracy = accuracy_score(y_test, predictions)\n",
    "print(\"Accuracy:\", accuracy)\n"
   ]
  },
  {
   "cell_type": "code",
   "execution_count": null,
   "id": "877730ad-c805-4595-81f4-e774307f0bef",
   "metadata": {},
   "outputs": [],
   "source": []
  }
 ],
 "metadata": {
  "kernelspec": {
   "display_name": "Python 3 (ipykernel)",
   "language": "python",
   "name": "python3"
  },
  "language_info": {
   "codemirror_mode": {
    "name": "ipython",
    "version": 3
   },
   "file_extension": ".py",
   "mimetype": "text/x-python",
   "name": "python",
   "nbconvert_exporter": "python",
   "pygments_lexer": "ipython3",
   "version": "3.11.7"
  }
 },
 "nbformat": 4,
 "nbformat_minor": 5
}
