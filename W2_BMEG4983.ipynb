{
  "nbformat": 4,
  "nbformat_minor": 0,
  "metadata": {
    "colab": {
      "provenance": [],
      "include_colab_link": true
    },
    "kernelspec": {
      "name": "python3",
      "display_name": "Python 3"
    },
    "language_info": {
      "name": "python"
    }
  },
  "cells": [
    {
      "cell_type": "markdown",
      "metadata": {
        "id": "view-in-github",
        "colab_type": "text"
      },
      "source": [
        "<a href=\"https://colab.research.google.com/github/JacePalmer/Machine-Learning/blob/main/W2_BMEG4983.ipynb\" target=\"_parent\"><img src=\"https://colab.research.google.com/assets/colab-badge.svg\" alt=\"Open In Colab\"/></a>"
      ]
    },
    {
      "cell_type": "markdown",
      "source": [
        "<img src=https://brand.uark.edu/_resources/images/UA_Logo_Horizontal.jpg width=\"400\" height=\"96\">\n",
        "\n",
        "####BMEG 4983 - Genome Engineering and Synthetic Biology -\n",
        "####For more information, check out the Nelson lab for Therapeutic Genome Engineering (https://nelsonlab.uark.edu/)\n",
        "\n",
        "\n",
        "#2. Data Workshop 2 - Python and sequence data\n",
        "\n",
        "Today, we are going to examine how to access information on our selected\n",
        "genes, do some basic python manipulaiting strings, and introduce some data I/O.\n",
        "\n",
        "Remember to check the table of contents button on the upper right.\n",
        "\n",
        "Updated Jan 22, 2025"
      ],
      "metadata": {
        "id": "aukZIGV5Nnwb"
      }
    },
    {
      "cell_type": "markdown",
      "source": [
        "# 2.1 Outline\n",
        "\n",
        "This workbook will cover how we can handle sequence-based data. We will start with manual access and build toward abstracting this information.\n",
        "\n",
        "\n",
        "To analyze genomic data, we will need to have a way to access this data. If you have your own installation of python, you can download the genome to your own PC (Link). In google colab, we have a few options to pull in data in smaller chunks. The free version of google colab is also limited on RAM. We will keep our analysis focused on smaller sets of data.\n",
        "\n",
        "The outline today (remember, you can view the outline using the table of contents button on the left)\n",
        "\n",
        "*   Input and output options\n",
        " * Local - upload files from your PC\n",
        " * Google drive - you can access data in your google drive\n",
        "*   Manual sequence database access (i.e. go to the website)\n",
        "*   Programmatic sequence database access\n",
        " *   Data Commons\n",
        " *   Entrez via Biopython\n",
        " *   Genome Browser XML (Hacky version that can work)\n",
        "\n",
        "A note: For all of the public database options, make sure that you access these infrequently and don't make many requests. See the rules list below.\n",
        "\n"
      ],
      "metadata": {
        "id": "M9vcmeS-MeM_"
      }
    },
    {
      "cell_type": "markdown",
      "source": [
        "# 2.2 Input/Output in Google colab (Local)\n",
        "\n",
        "We can import files from our own computer if needed.\n",
        "\n",
        "The code below will open a dialog box on your PC."
      ],
      "metadata": {
        "id": "e8xpUGWNdKvf"
      }
    },
    {
      "cell_type": "code",
      "source": [
        "#This cell allows you to import a local file. Depending on the file, you can\n",
        "#decide what to do with it\n",
        "from google.colab import files\n",
        "uploaded = files.upload()\n",
        "for fn in uploaded.keys():\n",
        "  print('User uploaded file \"{name}\" with length {length} bytes'.format(\n",
        "      name=fn, length=len(uploaded[fn])))"
      ],
      "metadata": {
        "id": "N-cw-YQ-pAXS",
        "colab": {
          "base_uri": "https://localhost:8080/",
          "height": 38
        },
        "outputId": "07f2a65e-42bc-4995-cb44-d776f04ff4cd"
      },
      "execution_count": null,
      "outputs": [
        {
          "output_type": "display_data",
          "data": {
            "text/plain": [
              "<IPython.core.display.HTML object>"
            ],
            "text/html": [
              "\n",
              "     <input type=\"file\" id=\"files-a454bc03-37c6-4a69-a2ea-0aba99fb0cad\" name=\"files[]\" multiple disabled\n",
              "        style=\"border:none\" />\n",
              "     <output id=\"result-a454bc03-37c6-4a69-a2ea-0aba99fb0cad\">\n",
              "      Upload widget is only available when the cell has been executed in the\n",
              "      current browser session. Please rerun this cell to enable.\n",
              "      </output>\n",
              "      <script>// Copyright 2017 Google LLC\n",
              "//\n",
              "// Licensed under the Apache License, Version 2.0 (the \"License\");\n",
              "// you may not use this file except in compliance with the License.\n",
              "// You may obtain a copy of the License at\n",
              "//\n",
              "//      http://www.apache.org/licenses/LICENSE-2.0\n",
              "//\n",
              "// Unless required by applicable law or agreed to in writing, software\n",
              "// distributed under the License is distributed on an \"AS IS\" BASIS,\n",
              "// WITHOUT WARRANTIES OR CONDITIONS OF ANY KIND, either express or implied.\n",
              "// See the License for the specific language governing permissions and\n",
              "// limitations under the License.\n",
              "\n",
              "/**\n",
              " * @fileoverview Helpers for google.colab Python module.\n",
              " */\n",
              "(function(scope) {\n",
              "function span(text, styleAttributes = {}) {\n",
              "  const element = document.createElement('span');\n",
              "  element.textContent = text;\n",
              "  for (const key of Object.keys(styleAttributes)) {\n",
              "    element.style[key] = styleAttributes[key];\n",
              "  }\n",
              "  return element;\n",
              "}\n",
              "\n",
              "// Max number of bytes which will be uploaded at a time.\n",
              "const MAX_PAYLOAD_SIZE = 100 * 1024;\n",
              "\n",
              "function _uploadFiles(inputId, outputId) {\n",
              "  const steps = uploadFilesStep(inputId, outputId);\n",
              "  const outputElement = document.getElementById(outputId);\n",
              "  // Cache steps on the outputElement to make it available for the next call\n",
              "  // to uploadFilesContinue from Python.\n",
              "  outputElement.steps = steps;\n",
              "\n",
              "  return _uploadFilesContinue(outputId);\n",
              "}\n",
              "\n",
              "// This is roughly an async generator (not supported in the browser yet),\n",
              "// where there are multiple asynchronous steps and the Python side is going\n",
              "// to poll for completion of each step.\n",
              "// This uses a Promise to block the python side on completion of each step,\n",
              "// then passes the result of the previous step as the input to the next step.\n",
              "function _uploadFilesContinue(outputId) {\n",
              "  const outputElement = document.getElementById(outputId);\n",
              "  const steps = outputElement.steps;\n",
              "\n",
              "  const next = steps.next(outputElement.lastPromiseValue);\n",
              "  return Promise.resolve(next.value.promise).then((value) => {\n",
              "    // Cache the last promise value to make it available to the next\n",
              "    // step of the generator.\n",
              "    outputElement.lastPromiseValue = value;\n",
              "    return next.value.response;\n",
              "  });\n",
              "}\n",
              "\n",
              "/**\n",
              " * Generator function which is called between each async step of the upload\n",
              " * process.\n",
              " * @param {string} inputId Element ID of the input file picker element.\n",
              " * @param {string} outputId Element ID of the output display.\n",
              " * @return {!Iterable<!Object>} Iterable of next steps.\n",
              " */\n",
              "function* uploadFilesStep(inputId, outputId) {\n",
              "  const inputElement = document.getElementById(inputId);\n",
              "  inputElement.disabled = false;\n",
              "\n",
              "  const outputElement = document.getElementById(outputId);\n",
              "  outputElement.innerHTML = '';\n",
              "\n",
              "  const pickedPromise = new Promise((resolve) => {\n",
              "    inputElement.addEventListener('change', (e) => {\n",
              "      resolve(e.target.files);\n",
              "    });\n",
              "  });\n",
              "\n",
              "  const cancel = document.createElement('button');\n",
              "  inputElement.parentElement.appendChild(cancel);\n",
              "  cancel.textContent = 'Cancel upload';\n",
              "  const cancelPromise = new Promise((resolve) => {\n",
              "    cancel.onclick = () => {\n",
              "      resolve(null);\n",
              "    };\n",
              "  });\n",
              "\n",
              "  // Wait for the user to pick the files.\n",
              "  const files = yield {\n",
              "    promise: Promise.race([pickedPromise, cancelPromise]),\n",
              "    response: {\n",
              "      action: 'starting',\n",
              "    }\n",
              "  };\n",
              "\n",
              "  cancel.remove();\n",
              "\n",
              "  // Disable the input element since further picks are not allowed.\n",
              "  inputElement.disabled = true;\n",
              "\n",
              "  if (!files) {\n",
              "    return {\n",
              "      response: {\n",
              "        action: 'complete',\n",
              "      }\n",
              "    };\n",
              "  }\n",
              "\n",
              "  for (const file of files) {\n",
              "    const li = document.createElement('li');\n",
              "    li.append(span(file.name, {fontWeight: 'bold'}));\n",
              "    li.append(span(\n",
              "        `(${file.type || 'n/a'}) - ${file.size} bytes, ` +\n",
              "        `last modified: ${\n",
              "            file.lastModifiedDate ? file.lastModifiedDate.toLocaleDateString() :\n",
              "                                    'n/a'} - `));\n",
              "    const percent = span('0% done');\n",
              "    li.appendChild(percent);\n",
              "\n",
              "    outputElement.appendChild(li);\n",
              "\n",
              "    const fileDataPromise = new Promise((resolve) => {\n",
              "      const reader = new FileReader();\n",
              "      reader.onload = (e) => {\n",
              "        resolve(e.target.result);\n",
              "      };\n",
              "      reader.readAsArrayBuffer(file);\n",
              "    });\n",
              "    // Wait for the data to be ready.\n",
              "    let fileData = yield {\n",
              "      promise: fileDataPromise,\n",
              "      response: {\n",
              "        action: 'continue',\n",
              "      }\n",
              "    };\n",
              "\n",
              "    // Use a chunked sending to avoid message size limits. See b/62115660.\n",
              "    let position = 0;\n",
              "    do {\n",
              "      const length = Math.min(fileData.byteLength - position, MAX_PAYLOAD_SIZE);\n",
              "      const chunk = new Uint8Array(fileData, position, length);\n",
              "      position += length;\n",
              "\n",
              "      const base64 = btoa(String.fromCharCode.apply(null, chunk));\n",
              "      yield {\n",
              "        response: {\n",
              "          action: 'append',\n",
              "          file: file.name,\n",
              "          data: base64,\n",
              "        },\n",
              "      };\n",
              "\n",
              "      let percentDone = fileData.byteLength === 0 ?\n",
              "          100 :\n",
              "          Math.round((position / fileData.byteLength) * 100);\n",
              "      percent.textContent = `${percentDone}% done`;\n",
              "\n",
              "    } while (position < fileData.byteLength);\n",
              "  }\n",
              "\n",
              "  // All done.\n",
              "  yield {\n",
              "    response: {\n",
              "      action: 'complete',\n",
              "    }\n",
              "  };\n",
              "}\n",
              "\n",
              "scope.google = scope.google || {};\n",
              "scope.google.colab = scope.google.colab || {};\n",
              "scope.google.colab._files = {\n",
              "  _uploadFiles,\n",
              "  _uploadFilesContinue,\n",
              "};\n",
              "})(self);\n",
              "</script> "
            ]
          },
          "metadata": {}
        }
      ]
    },
    {
      "cell_type": "code",
      "source": [
        "uploaded['filename.txt']"
      ],
      "metadata": {
        "id": "zGV--dYSpEzI",
        "colab": {
          "base_uri": "https://localhost:8080/",
          "height": 141
        },
        "outputId": "e20923d3-5ac8-4da6-8ca8-7a28c01607a6"
      },
      "execution_count": null,
      "outputs": [
        {
          "output_type": "error",
          "ename": "KeyError",
          "evalue": "'filename.txt'",
          "traceback": [
            "\u001b[0;31m---------------------------------------------------------------------------\u001b[0m",
            "\u001b[0;31mKeyError\u001b[0m                                  Traceback (most recent call last)",
            "\u001b[0;32m<ipython-input-2-7fb4a49a139a>\u001b[0m in \u001b[0;36m<cell line: 0>\u001b[0;34m()\u001b[0m\n\u001b[0;32m----> 1\u001b[0;31m \u001b[0muploaded\u001b[0m\u001b[0;34m[\u001b[0m\u001b[0;34m'filename.txt'\u001b[0m\u001b[0;34m]\u001b[0m\u001b[0;34m\u001b[0m\u001b[0;34m\u001b[0m\u001b[0m\n\u001b[0m",
            "\u001b[0;31mKeyError\u001b[0m: 'filename.txt'"
          ]
        }
      ]
    },
    {
      "cell_type": "markdown",
      "source": [
        "# 2.3 Input/Output in Google colab (Online)\n",
        "\n",
        "```python\n",
        "import pandas as pd\n",
        "\n",
        "df = pd.read_csv('https://raw.githubusercontent.com/chrisnelsonlab/BMEG4983/master/NM_Data.csv')\n",
        "\n",
        "```\n",
        "\n",
        "This uses a pre-built library called Pandas. More on using pandas in a later workshop. Notice the 'raw' in the filename. Make sure you get this link, otherwise, it will try to load an HTML file. You can make your own github account or host data on your own. Github free does limit file sizes as well. You may need to do a search to figure out how to get data out of the dataframe or reorganize the dataframe. Try asking chatGPT how to do it.\n",
        "\n",
        "Let's do an example where we pull in a small fasta file.\n",
        "\n"
      ],
      "metadata": {
        "id": "gkTtvPkQpHyH"
      }
    },
    {
      "cell_type": "code",
      "source": [
        "import pandas as pd #more on pandas later, this is a good tool for importing data\n",
        "\n",
        "#I have the mitochondrial DNA sequence stored here\n",
        "file_name = 'https://raw.githubusercontent.com/chrisnelsonlab/BMEG4983/master/chrM.fa'\n",
        "\n",
        "df = pd.read_csv('https://raw.githubusercontent.com/chrisnelsonlab/BMEG4983/master/chrM.fa')\n",
        "\n",
        "#Notice the output is now in a 'dataframe'. It has a first line with\n",
        "#a > character to indicate the name of the sequence\n",
        "print(df)\n",
        "\n",
        "#Check out top rows:\n",
        "data_top = df.head()\n",
        "print(data_top)\n",
        "\n",
        "#Get column names out (we only have one)\n",
        "for col in df.columns:\n",
        "    header = col\n",
        "    header = header.replace('>', '') #remove the marker\n",
        "    print('Here is our header: '+header)\n",
        "seq = ''\n",
        "for index, row in df.iterrows():\n",
        "    seq = seq + row['>'+header]\n",
        "print('our sequence for '+header+' is '+str(len(seq))+' bp long')"
      ],
      "metadata": {
        "colab": {
          "base_uri": "https://localhost:8080/"
        },
        "id": "_AbUOSMsQesk",
        "outputId": "ce0e9bc5-6665-4066-d2c5-b04ad1a24878"
      },
      "execution_count": null,
      "outputs": [
        {
          "output_type": "stream",
          "name": "stdout",
          "text": [
            "                                                 >chrM\n",
            "0    GATCACAGGTCTATCACCCTATTAACCACTCACGGGAGCTCTCCAT...\n",
            "1    CGTCTGGGGGGTATGCACGCGATAGCATTGCGAGACGCTGGAGCCG...\n",
            "2    GCAGTATCTGTCTTTGATTCCTGCCTCATCCTATTATTTATCGCAC...\n",
            "3    ACAGGCGAACATACTTACTAAAGTGTGTTAATTAATTAATGCTTGT...\n",
            "4    ACAATTGAATGTCTGCACAGCCACTTTCCACACAGACATCATAACA...\n",
            "..                                                 ...\n",
            "272  CATTTACCGTACATAGCACATTACAGTCAAATCCCTTCTCGTCCCC...\n",
            "273  TCAGATAGGGGTCCCTTGACCACCATCCTCCGTGAAATCAATATCC...\n",
            "274  ACTCTCCTCGCTCCGGGCCCATAACACTTGGGGGTAGCTAAAGTGA...\n",
            "275  CTGGTTCCTACTTCAGGGTCATAAAGCCTAAATAGCCCACACGTTC...\n",
            "276                                          ATCACGATG\n",
            "\n",
            "[277 rows x 1 columns]\n",
            "                                               >chrM\n",
            "0  GATCACAGGTCTATCACCCTATTAACCACTCACGGGAGCTCTCCAT...\n",
            "1  CGTCTGGGGGGTATGCACGCGATAGCATTGCGAGACGCTGGAGCCG...\n",
            "2  GCAGTATCTGTCTTTGATTCCTGCCTCATCCTATTATTTATCGCAC...\n",
            "3  ACAGGCGAACATACTTACTAAAGTGTGTTAATTAATTAATGCTTGT...\n",
            "4  ACAATTGAATGTCTGCACAGCCACTTTCCACACAGACATCATAACA...\n",
            "Here is our header: chrM\n",
            "our sequence for chrM is 16569 bp long\n"
          ]
        }
      ]
    },
    {
      "cell_type": "markdown",
      "source": [
        "# 2.4 Structure of a gene and genome browser\n",
        "We will do this demonstration in class together. This cell is maintained for refreshing our memory (or in the event of a snow day)\n",
        "\n",
        "First, we need to know what a gene looks like when we go to NCBI or genome browser. Below is an image that shows some of the terms we need to know.\n",
        "\n",
        "<img src=https://cdn.prod.website-files.com/621e95f9ac30687a56e4297e/64a8d81f6ab0d4000f523e5d_V2_1675983443470_27429827-33c6-438e-8abc-eb95ef861e80.png>\n",
        "\n",
        "From left to right in the eukaryotic version\n",
        "1. Distal control elements - these are enhancers or silencers. They can be some distance away in the 1D structure of DNA but can loop back and be in close proximity. We may discuss this in more detail later.\n",
        "2. Proximal control elements - Here we are mostly talking about the promoter. This helps the cell control what cell type should be expressing this protein\n",
        "3. Next which isn't really shown is the 5' untranslated region (UTR). This is made into RNA but not protein\n",
        "4. Exons - These are the part of the gene that will be in the mature RNA\n",
        "5. Introns - These are transcribed into RNA but removed from teh final mRNA\n",
        "6. Not shown - 3' UTR, makes it to the final mRNA but is not made into protein\n",
        "7. Transriptional termination - a signal that stops RNA from being made\n",
        "8. Distal elements - Similar to the upstream control elements\n",
        "\n",
        "Here is what that looks like in genome browser:\n",
        "\n",
        "<img src=https://genome.ucsc.edu/images/multiRegionButton.png>\n",
        "(Ignore the red arrow, this was the best image I could find hosted online)\n",
        "\n",
        "A few things to note here. We are looking at the gene ACE2. This is on the X chromosome. You can see where on the chromosome we are with the little red line in p22.2. The coordinates are also displayed (chrX:15,560,138-15,602,945). So we are looking at 10s of thousands of bases at once here.\n",
        "\n",
        "Another thing to note is that genes can run either from right to left or left to right. In this case, ACE2 is running from right to left which means the coding region will be on the reverse complment.\n",
        "\n",
        "Genome browser also shows several isoforms here. You can see there are three versions of ACE2 that are slightly different (I can't spot the difference from this view) and one that is quite a bit shorter (the bottom one).\n",
        "\n",
        "Introns are shown as the thin line with '<' pointing in the direction of the gene\n",
        "\n",
        "Sequences that are part of the mature mRNA are shown as boxes. There are thicker boxes which represent coding regions and thinner boxes that represent the UTR. ACE2 has a fairly small 5' UTR (which is on the right b/c this gene is running right to left). The bottom variant has a much larger 3'UTR (running off the side on the left). The top 3 variants are running off the page here. We can move our window or zoom out to examine the remainder of the gene.\n",
        "\n",
        "Go to genome browser at UCSC and find your gene. Treat this like google maps. Try zooming in until you see the amino acid sequence. Try zooming in until you see the DNA sequence.  Look at the beginning of exons. What two bp are right before every exon? What two bp are right at the end of every exon?\n",
        "\n"
      ],
      "metadata": {
        "id": "Ujk6Y6HU3Tzo"
      }
    },
    {
      "cell_type": "markdown",
      "source": [
        "#2.5 Dealing with Strings\n",
        "After you get your gene sequence into google colab, this is a good chance to tinker with strings. Try some of the following."
      ],
      "metadata": {
        "id": "ETZoMa5nTm9B"
      }
    },
    {
      "cell_type": "markdown",
      "source": [
        "## 2.5.1 Counting nucleotides\n",
        "Try implementing the code from workbook 1 to the sequence from mitochondria\n"
      ],
      "metadata": {
        "id": "KlgCnpIA3264"
      }
    },
    {
      "cell_type": "code",
      "source": [
        "#Placeholder code for counting nucleotides\n",
        "print(seq) #If you still have this variable active from 2.3\n",
        "#you can also make your own sequence below\n"
      ],
      "metadata": {
        "id": "aNhPfnHExonc",
        "colab": {
          "base_uri": "https://localhost:8080/"
        },
        "outputId": "bdad2e98-4f43-4230-8bac-6a1aff136bec"
      },
      "execution_count": null,
      "outputs": [
        {
          "output_type": "stream",
          "name": "stdout",
          "text": [
            "GATCACAGGTCTATCACCCTATTAACCACTCACGGGAGCTCTCCATGCATTTGGTATTTTCGTCTGGGGGGTATGCACGCGATAGCATTGCGAGACGCTGGAGCCGGAGCACCCTATGTCGCAGTATCTGTCTTTGATTCCTGCCTCATCCTATTATTTATCGCACCTACGTTCAATATTACAGGCGAACATACTTACTAAAGTGTGTTAATTAATTAATGCTTGTAGGACATAATAATAACAATTGAATGTCTGCACAGCCACTTTCCACACAGACATCATAACAAAAAATTTCCACCAAACCCCCCCTCCCCCGCTTCTGGCCACAGCACTTAAACACATCTCTGCCAAACCCCAAAAACAAAGAACCCTAACACCAGCCTAACCAGATTTCAAATTTTATCTTTTGGCGGTATGCACTTTTAACAGTCACCCCCCAACTAACACATTATTTTCCCCTCCCACTCCCATACTACTAATCTCATCAATACAACCCCCGCCCATCCTACCCAGCACACACACACCGCTGCTAACCCCATACCCCGAACCAACCAAACCCCAAAGACACCCCCCACAGTTTATGTAGCTTACCTCCTCAAAGCAATACACTGAAAATGTTTAGACGGGCTCACATCACCCCATAAACAAATAGGTTTGGTCCTAGCCTTTCTATTAGCTCTTAGTAAGATTACACATGCAAGCATCCCCGTTCCAGTGAGTTCACCCTCTAAATCACCACGATCAAAAGGAACAAGCATCAAGCACGCAGCAATGCAGCTCAAAACGCTTAGCCTAGCCACACCCCCACGGGAAACAGCAGTGATTAACCTTTAGCAATAAACGAAAGTTTAACTAAGCTATACTAACCCCAGGGTTGGTCAATTTCGTGCCAGCCACCGCGGTCACACGATTAACCCAAGTCAATAGAAGCCGGCGTAAAGAGTGTTTTAGATCACCCCCTCCCCAATAAAGCTAAAACTCACCTGAGTTGTAAAAAACTCCAGTTGACACAAAATAGACTACGAAAGTGGCTTTAACATATCTGAACACACAATAGCTAAGACCCAAACTGGGATTAGATACCCCACTATGCTTAGCCCTAAACCTCAACAGTTAAATCAACAAAACTGCTCGCCAGAACACTACGAGCCACAGCTTAAAACTCAAAGGACCTGGCGGTGCTTCATATCCCTCTAGAGGAGCCTGTTCTGTAATCGATAAACCCCGATCAACCTCACCACCTCTTGCTCAGCCTATATACCGCCATCTTCAGCAAACCCTGATGAAGGCTACAAAGTAAGCGCAAGTACCCACGTAAAGACGTTAGGTCAAGGTGTAGCCCATGAGGTGGCAAGAAATGGGCTACATTTTCTACCCCAGAAAACTACGATAGCCCTTATGAAACTTAAGGGTCGAAGGTGGATTTAGCAGTAAACTAAGAGTAGAGTGCTTAGTTGAACAGGGCCCTGAAGCGCGTACACACCGCCCGTCACCCTCCTCAAGTATACTTCAAAGGACATTTAACTAAAACCCCTACGCATTTATATAGAGGAGACAAGTCGTAACATGGTAAGTGTACTGGAAAGTGCACTTGGACGAACCAGAGTGTAGCTTAACACAAAGCACCCAACTTACACTTAGGAGATTTCAACTTAACTTGACCGCTCTGAGCTAAACCTAGCCCCAAACCCACTCCACCTTACTACCAGACAACCTTAGCCAAACCATTTACCCAAATAAAGTATAGGCGATAGAAATTGAAACCTGGCGCAATAGATATAGTACCGCAAGGGAAAGATGAAAAATTATAACCAAGCATAATATAGCAAGGACTAACCCCTATACCTTCTGCATAATGAATTAACTAGAAATAACTTTGCAAGGAGAGCCAAAGCTAAGACCCCCGAAACCAGACGAGCTACCTAAGAACAGCTAAAAGAGCACACCCGTCTATGTAGCAAAATAGTGGGAAGATTTATAGGTAGAGGCGACAAACCTACCGAGCCTGGTGATAGCTGGTTGTCCAAGATAGAATCTTAGTTCAACTTTAAATTTGCCCACAGAACCCTCTAAATCCCCTTGTAAATTTAACTGTTAGTCCAAAGAGGAACAGCTCTTTGGACACTAGGAAAAAACCTTGTAGAGAGAGTAAAAAATTTAACACCCATAGTAGGCCTAAAAGCAGCCACCAATTAAGAAAGCGTTCAAGCTCAACACCCACTACCTAAAAAATCCCAAACATATAACTGAACTCCTCACACCCAATTGGACCAATCTATCACCCTATAGAAGAACTAATGTTAGTATAAGTAACATGAAAACATTCTCCTCCGCATAAGCCTGCGTCAGATTAAAACACTGAACTGACAATTAACAGCCCAATATCTACAATCAACCAACAAGTCATTATTACCCTCACTGTCAACCCAACACAGGCATGCTCATAAGGAAAGGTTAAAAAAAGTAAAAGGAACTCGGCAAATCTTACCCCGCCTGTTTACCAAAAACATCACCTCTAGCATCACCAGTATTAGAGGCACCGCCTGCCCAGTGACACATGTTTAACGGCCGCGGTACCCTAACCGTGCAaaggtagcataatcacttgttccttaaatagggacctgtatgaatggctccacgagggttcagctgtctcttacttttaaccagtgaaattgacctgcccgtgaagaggcgggcataacacagcaagacgagaagaccctatggagctttaatttaTTAATGCAAACAGTACCTAACAAACCCACAGGTCCTAAACTACCAAACCTGCATTAAAAATTTCGGTTGGGGCGACCTCGGAGCAGAACCCAACCTCCGAGCAGTACATGCTAAGACTTCACCAGTCAAAGCGAACTACTATACTCAATTGATCCAATAACTTGACCAACGGAACAAGTTACCCTAGGGATAACAGCGCAATCCTATTCTAGAGTCCATATCAACAATAGGGTTTACGACCTCGATGTTGGATCAGGACATCCCGATGGTGCAGCCGCTATTAAAGGTTCGTTTGTTCAACGATTAAAGTCCTACGTGATCTGAGTTCAGACCGGAGTAATCCAGGTCGGTTTCTATCTACNTTCAAATTCCTCCCTGTACGAAAGGACAAGAGAAATAAGGCCTACTTCACAAAGCGCCTTCCCCCGTAAATGATATCATCTCAACTTAGTATTATACCCACACCCACCCAAGAACAGGGTTTgttaagatggcagagcccggtaatcgcataaaacttaaaactttacagtcagaggttcaattcctcttcttaacaacaTACCCATGGCCAACCTCCTACTCCTCATTGTACCCATTCTAATCGCAATGGCATTCCTAATGCTTACCGAACGAAAAATTCTAGGCTATATACAACTACGCAAAGGCCCCAACGTTGTAGGCCCCTACGGGCTACTACAACCCTTCGCTGACGCCATAAAACTCTTCACCAAAGAGCCCCTAAAACCCGCCACATCTACCATCACCCTCTACATCACCGCCCCGACCTTAGCTCTCACCATCGCTCTTCTACTATGAACCCCCCTCCCCATACCCAACCCCCTGGTCAACCTCAACCTAGGCCTCCTATTTATTCTAGCCACCTCTAGCCTAGCCGTTTACTCAATCCTCTGATCAGGGTGAGCATCAAACTCAAACTACGCCCTGATCGGCGCACTGCGAGCAGTAGCCCAAACAATCTCATATGAAGTCACCCTAGCCATCATTCTACTATCAACATTACTAATAAGTGGCTCCTTTAACCTCTCCACCCTTATCACAACACAAGAACACCTCTGATTACTCCTGCCATCATGACCCTTGGCCATAATATGATTTATCTCCACACTAGCAGAGACCAACCGAACCCCCTTCGACCTTGCCGAAGGGGAGTCCGAACTAGTCTCAGGCTTCAACATCGAATACGCCGCAGGCCCCTTCGCCCTATTCTTCATAGCCGAATACACAAACATTATTATAATAAACACCCTCACCACTACAATCTTCCTAGGAACAACATATGACGCACTCTCCCCTGAACTCTACACAACATATTTTGTCACCAAGACCCTACTTCTAACCTCCCTGTTCTTATGAATTCGAACAGCATACCCCCGATTCCGCTACGACCAACTCATACACCTCCTATGAAAAAACTTCCTACCACTCACCCTAGCATTACTTATATGATATGTCTCCATACCCATTACAATCTCCAGCATTCCCCCTCAAACCTAAGAAATATGTCTGATAAAAGAGTTACTTTGATAGAGTAAATAATAGGAGCTTAAACCCCCTTATTTctaggactatgagaatcgaacccatccctgagaatccaaaattctccgtgccacctatcacaccccatcctaAAGTAAGGTCAGCTAAATAAGCTATCGGGCCCATACCCCGAAAATGTTGGTTATACCCTTCCCGTACTAATTAATCCCCTGGCCCAACCCGTCATCTACTCTACCATCTTTGCAGGCACACTCATCACAGCGCTAAGCTCGCACTGATTTTTTACCTGAGTAGGCCTAGAAATAAACATGCTAGCTTTTATTCCAGTTCTAACCAAAAAAATAAACCCTCGTTCCACAGAAGCTGCCATCAAGTATTTCCTCACGCAAGCAACCGCATCCATAATCCTTCTAATAGCTATCCTCTTCAACAATATACTCTCCGGACAATGAACCATAACCAATACTACCAATCAATACTCATCATTAATAATCATAATAGCTATAGCAATAAAACTAGGAATAGCCCCCTTTCACTTCTGAGTCCCAGAGGTTACCCAAGGCACCCCTCTGACATCCGGCCTGCTTCTTCTCACATGACAAAAACTAGCCCCCATCTCAATCATATACCAAATCTCTCCCTCACTAAACGTAAGCCTTCTCCTCACTCTCTCAATCTTATCCATCATAGCAGGCAGTTGAGGTGGATTAAACCAAACCCAGCTACGCAAAATCTTAGCATACTCCTCAATTACCCACATAGGATGAATAATAGCAGTTCTACCGTACAACCCTAACATAACCATTCTTAATTTAACTATTTATATTATCCTAACTACTACCGCATTCCTACTACTCAACTTAAACTCCAGCACCACGACCCTACTACTATCTCGCACCTGAAACAAGCTAACATGACTAACACCCTTAATTCCATCCACCCTCCTCTCCCTAGGAGGCCTGCCCCCGCTAACCGGCTTTTTGCCCAAATGGGCCATTATCGAAGAATTCACAAAAAACAATAGCCTCATCATCCCCACCATCATAGCCACCATCACCCTCCTTAACCTCTACTTCTACCTACGCCTAATCTACTCCACCTCAATCACACTACTCCCCATATCTAACAACGTAAAAATAAAATGACAGTTTGAACATACAAAACCCACCCCATTCCTCCCCACACTCATCGCCCTTACCACGCTACTCCTACCTATCTCCCCTTTTATACTAATAATCTTATAGAAATTTAGGTTAAATACAGACCAAGAGCCTTCAAAGCCCTCAGTAAGTTGCAATACTTAATTTCTGTAACAGCTAAGGACTGCAAAACCCCACTCTGCATCAACTGAACGCAAATCAGCCACTTTAATTAAGCTAAGCCCTTACTAGACCAATGGGACTTAAACCCACAAACACTTAGTTAACAGCTAAGCACCCTAATCAACTGGCTTCAATCTACTTCTCCCGCCGCCGGGAAAAAAGGCGGGAGAAGCCCCGGCAGGTTTGAAGCTGCTTCTTCGAATTTGCAATTCAATATGAAAATCACCTCGGAGCTGGTAAAAAGAGGCCTAACCCCTGTCTTTAGATTTACAGTCCAATGCTTCACTCAGCCATTTTACCTCACCCCCACTGATGTTCGCCGACCGTTGACTATTCTCTACAAACCACAAAGACATTGGAACACTATACCTATTATTCGGCGCATGAGCTGGAGTCCTAGGCACAGCTCTAAGCCTCCTTATTCGAGCCGAGCTGGGCCAGCCAGGCAACCTTCTAGGTAACGACCACATCTACAACGTTATCGTCACAGCCCATGCATTTGTAATAATCTTCTTCATAGTAATACCCATCATAATCGGAGGCTTTGGCAACTGACTAGTTCCCCTAATAATCGGTGCCCCCGATATGGCGTTTCCCCGCATAAACAACATAAGCTTCTGACTCTTACCTCCCTCTCTCCTACTCCTGCTCGCATCTGCTATAGTGGAGGCCGGAGCAGGAACAGGTTGAACAGTCTACCCTCCCTTAGCAGGGAACTACTCCCACCCTGGAGCCTCCGTAGACCTAACCATCTTCTCCTTACACCTAGCAGGTGTCTCCTCTATCTTAGGGGCCATCAATTTCATCACAACAATTATCAATATAAAACCCCCTGCCATAACCCAATACCAAACGCCCCTCTTCGTCTGATCCGTCCTAATCACAGCAGTCCTACTTCTCCTATCTCTCCCAGTCCTAGCTGCTGGCATCACTATACTACTAACAGACCGCAACCTCAACACCACCTTCTTCGACCCCGCCGGAGGAGGAGACCCCATTCTATACCAACACCTATTCTGATTTTTCGGTCACCCTGAAGTTTATATTCTTATCCTACCAGGCTTCGGAATAATCTCCCATATTGTAACTTACTACTCCGGAAAAAAAGAACCATTTGGATACATAGGTATGGTCTGAGCTATGATATCAATTGGCTTCCTAGGGTTTATCGTGTGAGCACACCATATATTTACAGTAGGAATAGACGTAGACACACGAGCATATTTCACCTCCGCTACCATAATCATCGCTATCCCCACCGGCGTCAAAGTATTTAGCTGACTCGCCACACTCCACGGAAGCAATATGAAATGATCTGCTGCAGTGCTCTGAGCCCTAGGATTCATCTTTCTTTTCACCGTAGGTGGCCTGACTGGCATTGTATTAGCAAACTCATCACTAGACATCGTACTACACGACACGTACTACGTTGTAGCCCACTTCCACTATGTCCTATCAATAGGAGCTGTATTTGCCATCATAGGAGGCTTCATTCACTGATTTCCCCTATTCTCAGGCTACACCCTAGACCAAACCTACGCCAAAATCCATTTCACTATCATATTCATCGGCGTAAATCTAACTTTCTTCCCACAACACTTTCTCGGCCTATCCGGAATGCCCCGACGTTACTCGGACTACCCCGATGCATACACCACATGAAACATCCTATCATCTGTAGGCTCATTCATTTCTCTAACAGCAGTAATATTAATAATTTTCATGATTTGAGAAGCCTTCGCTTCGAAGCGAAAAGTCCTAATAGTAGAAGAACCCTCCATAAACCTGGAGTGACTATATGGATGCCCCCCACCCTACCACACATTCGAAGAACCCGTATACATAAAATCTAGACAaaaaaggaaggaatcgaaccccccaaagctggtttcaagccaaccccatggcctccatgactttttcAAAAAGGTATTAGAAAAACCATTTCATAACTTTGTCAAAGTTAAATTATAGGCTAAATCCTATATATCTTAATGGCACATGCAGCGCAAGTAGGTCTACAAGACGCTACTTCCCCTATCATAGAAGAGCTTATCACCTTTCATGATCACGCCCTCATAATCATTTTCCTTATCTGCTTCCTAGTCCTGTATGCCCTTTTCCTAACACTCACAACAAAACTAACTAATACTAACATCTCAGACGCTCAGGAAATAGAAACCGTCTGAACTATCCTGCCCGCCATCATCCTAGTCCTCATCGCCCTCCCATCCCTACGCATCCTTTACATAACAGACGAGGTCAACGATCCCTCCCTTACCATCAAATCAATTGGCCACCAATGGTACTGAACCTACGAGTACACCGACTACGGCGGACTAATCTTCAACTCCTACATACTTCCCCCATTATTCCTAGAACCAGGCGACCTGCGACTCCTTGACGTTGACAATCGAGTAGTACTCCCGATTGAAGCCCCCATTCGTATAATAATTACATCACAAGACGTCTTGCACTCATGAGCTGTCCCCACATTAGGCTTAAAAACAGATGCAATTCCCGGACGTCTAAACCAAACCACTTTCACCGCTACACGACCGGGGGTATACTACGGTCAATGCTCTGAAATCTGTGGAGCAAACCACAGTTTCATGCCCATCGTCCTAGAATTAATTCCCCTAAAAATCTTTGAAATAGGGCCCGTATTTACCCTATAGCACCCCCTCTACCCCCTCTAGAGCCCACTGTAAAGCTAACTTAGCATTAACCTTTTAAGTTAAAGATTAAGAGAACCAACACCTCTTTACAGTGAAATGCCCCAACTAAATACTACCGTATGGCCCACCATAATTACCCCCATACTCCTTACACTATTCCTCATCACCCAACTAAAAATATTAAACACAAACTACCACCTACCTCCCTCACCAAAGCCCATAAAAATAAAAAATTATAACAAACCCTGAGAACCAAAATGAACGAAAATCTGTTCGCTTCATTCATTGCCCCCACAATCCTAGGCCTACCCGCCGCAGTACTGATCATTCTATTTCCCCCTCTATTGATCCCCACCTCCAAATATCTCATCAACAACCGACTAATCACCACCCAACAATGACTAATCAAACTAACCTCAAAACAAATGATAACCATACACAACACTAAAGGACGAACCTGATCTCTTATACTAGTATCCTTAATCATTTTTATTGCCACAACTAACCTCCTCGGACTCCTGCCTCACTCATTTACACCAACCACCCAACTATCTATAAACCTAGCCATGGCCATCCCCTTATGAGCGGGCACAGTGATTATAGGCTTTCGCTCTAAGATTAAAAATGCCCTAGCCCACTTCTTACCACAAGGCACACCTACACCCCTTATCCCCATACTAGTTATTATCGAAACCATCAGCCTACTCATTCAACCAATAGCCCTGGCCGTACGCCTAACCGCTAACATTACTGCAGGCCACCTACTCATGCACCTAATTGGAAGCGCCACCCTAGCAATATCAACCATTAACCTTCCCTCTACACTTATCATCTTCACAATTCTAATTCTACTGACTATCCTAGAAATCGCTGTCGCCTTAATCCAAGCCTACGTTTTCACACTTCTAGTAAGCCTCTACCTGCACGACAACACATAATGACCCACCAATCACATGCCTATCATATAGTAAAACCCAGCCCATGACCCCTAACAGGGGCCCTCTCAGCCCTCCTAATGACCTCCGGCCTAGCCATGTGATTTCACTTCCACTCCATAACGCTCCTCATACTAGGCCTACTAACCAACACACTAACCATATACCAATGATGGCGCGATGTAACACGAGAAAGCACATACCAAGGCCACCACACACCACCTGTCCAAAAAGGCCTTCGATACGGGATAATCCTATTTATTACCTCAGAAGTTTTTTTCTTCGCAGGATTTTTCTGAGCCTTTTACCACTCCAGCCTAGCCCCTACCCCCCAATTAGGAGGGCACTGGCCCCCAACAGGCATCACCCCGCTAAATCCCCTAGAAGTCCCACTCCTAAACACATCCGTATTACTCGCATCAGGAGTATCAATCACCTGAGCTCACCATAGTCTAATAGAAAACAACCGAAACCAAATAATTCAAGCACTGCTTATTACAATTTTACTGGGTCTCTATTTTACCCTCCTACAAGCCTCAGAGTACTTCGAGTCTCCCTTCACCATTTCCGACGGCATCTACGGCTCAACATTTTTTGTAGCCACAGGCTTCCACGGACTTCACGTCATTATTGGCTCAACTTTCCTCACTATCTGCTTCATCCGCCAACTAATATTTCACTTTACATCCAAACATCACTTTGGCTTCGAAGCCGCCGCCTGATACTGGCATTTTGTAGATGTGGTTTGACTATTTCTGTATGTCTCCATCTATTGATGAGGGTCTTACTCTTTTAGTATAAATAGTACCGTTAACTTCCAATTAACTAGTTTTGACAACATTCAAAAAAGAGTAATAAACTTCGCCTTAATTTTAATAATCAACACCCTCCTAGCCTTACTACTAATAATTATTACATTTTGACTACCACAACTCAACGGCTACATAGAAAAATCCACCCCTTACGAGTGCGGCTTCGACCCTATATCCCCCGCCCGCGTCCCTTTCTCCATAAAATTCTTCTTAGTAGCTATTACCTTCTTATTATTTGATCTAGAAATTGCCCTCCTTTTACCCCTACCATGAGCCCTACAAACAACTAACCTGCCACTAATAGTTATGTCATCCCTCTTATTAATCATCATCCTAGCCCTAAGTCTGGCCTATGAGTGACTACAAAAAGGATTAGACTGAACCGAATTGGTATATAGTTTAAACAAAACGAATGATTTCGACTCATTAAATTATGATAATCATATTTACCAAATGCCCCTCATTTACATAAATATTATACTAGCATTTACCATCTCACTTCTAGGAATACTAGTATATCGCTCACACCTCATATCCTCCCTACTATGCCTAGAAGGAATAATACTATCGCTGTTCATTATAGCTACTCTCATAACCCTCAACACCCACTCCCTCTTAGCCAATATTGTGCCTATTGCCATACTAGTCTTTGCCGCCTGCGAAGCAGCGGTGGGCCTAGCCCTACTAGTCTCAATCTCCAACACATATGGCCTAGACTACGTACATAACCTAAACCTACTCCAATGCTAAAACTAATCGTCCCAACAATTATATTACTACCACTGACATGACTTTCCAAAAAACACATAATTTGAATCAACACAACCACCCACAGCCTAATTATTAGCATCATCCCTCTACTATTTTTTAACCAAATCAACAACAACCTATTTAGCTGTTCCCCAACCTTTTCCTCCGACCCCCTAACAACCCCCCTCCTAATACTAACTACCTGACTCCTACCCCTCACAATCATGGCAAGCCAACGCCACTTATCCAGTGAACCACTATCACGAAAAAAACTCTACCTCTCTATACTAATCTCCCTACAAATCTCCTTAATTATAACATTCACAGCCACAGAACTAATCATATTTTATATCTTCTTCGAAACCACACTTATCCCCACCTTGGCTATCATCACCCGATGAGGCAACCAGCCAGAACGCCTGAACGCAGGCACATACTTCCTATTCTACACCCTAGTAGGCTCCCTTCCCCTACTCATCGCACTAATTTACACTCACAACACCCTAGGCTCACTAAACATTCTACTACTCACTCTCACTGCCCAAGAACTATCAAACTCCTGAGCCAACAACTTAATATGACTAGCTTACACAATAGCTTTTATAGTAAAGATACCTCTTTACGGACTCCACTTATGACTCCCTAAAGCCCATGTCGAAGCCCCCATCGCTGGGTCAATAGTACTTGCCGCAGTACTCTTAAAACTAGGCGGCTATGGTATAATACGCCTCACACTCATTCTCAACCCCCTGACAAAACACATAGCCTACCCCTTCCTTGTACTATCCCTATGAGGCATAATTATAACAAGCTCCATCTGCCTACGACAAACAGACCTAAAATCGCTCATTGCATACTCTTCAATCAGCCACATAGCCCTCGTAGTAACAGCCATTCTCATCCAAACCCCCTGAAGCTTCACCGGCGCAGTCATTCTCATAATCGCCCACGGGCTTACATCCTCATTACTATTCTGCCTAGCAAACTCAAACTACGAACGCACTCACAGTCGCATCATAATCCTCTCTCAAGGACTTCAAACTCTACTCCCACTAATAGCTTTTTGATGACTTCTAGCAAGCCTCGCTAACCTCGCCTTACCCCCCACTATTAACCTACTGGGAGAACTCTCTGTGCTAGTAACCACGTTCTCCTGATCAAATATCACTCTCCTACTTACAGGACTCAACATACTAGTCACAGCCCTATACTCCCTCTACATATTTACCACAACACAATGGGGCTCACTCACCCACCACATTAACAACATAAAACCCTCATTCACACGAGAAAACACCCTCATGTTCATACACCTATCCCCCATTCTCCTCCTATCCCTCAACCCCGACATCATTACCGGGTTTTCCTCTTGTAAATATAGTTTAACCAAAACATCAGATTGTGAATCTGACAACAGAGGCTTACGACCCCTTATTTACCGAGAAAGCTCACAAGAACTGCTAACTCATGCCCCCATGTCTAACAACATGGCTTTCTCAACTTTTAAAGGATAACAGCTATCCATTGGTCTTAGGCCCCAAAAATTTTGGTGCAACTCCAAATAAAAGTAATAACCATGCACACTACTATAACCACCCTAACCCTGACTTCCCTAATTCCCCCCATCCTTACCACCCTCGTTAACCCTAACAAAAAAAACTCATACCCCCATTATGTAAAATCCATTGTCGCATCCACCTTTATTATCAGTCTCTTCCCCACAACAATATTCATGTGCCTAGACCAAGAAGTTATTATCTCGAACTGACACTGAGCCACAACCCAAACAACCCAGCTCTCCCTAAGCTTCAAACTAGACTACTTCTCCATAATATTCATCCCTGTAGCATTGTTCGTTACATGGTCCATCATAGAATTCTCACTGTGATATATAAACTCAGACCCAAACATTAATCAGTTCTTCAAATATCTACTCATCTTCCTAATTACCATACTAATCTTAGTTACCGCTAACAACCTATTCCAACTGTTCATCGGCTGAGAGGGCGTAGGAATTATATCCTTCTTGCTCATCAGTTGATGATACGCCCGAGCAGATGCCAACACAGCAGCCATTCAAGCAATCCTATACAACCGTATCGGCGATATCGGTTTCATCCTCGCCTTAGCATGATTTATCCTACACTCCAACTCATGAGACCCACAACAAATAGCCCTTCTAAACGCTAATCCAAGCCTCACCCCACTACTAGGCCTCCTCCTAGCAGCAGCAGGCAAATCAGCCCAATTAGGTCTCCACCCCTGACTCCCCTCAGCCATAGAAGGCCCCACCCCAGTCTCAGCCCTACTCCACTCAAGCACTATAGTTGTAGCAGGAATCTTCTTACTCATCCGCTTCCACCCCCTAGCAGAAAATAGCCCACTAATCCAAACTCTAACACTATGCTTAGGCGCTATCACCACTCTGTTCGCAGCAGTCTGCGCCCTTACACAAAATGACATCAAAAAAATCGTAGCCTTCTCCACTTCAAGTCAACTAGGACTCATAATAGTTACAATCGGCATCAACCAACCACACCTAGCATTCCTGCACATCTGTACCCACGCCTTCTTCAAAGCCATACTATTTATGTGCTCCGGGTCCATCATCCACAACCTTAACAATGAACAAGATATTCGAAAAATAGGAGGACTACTCAAAACCATACCTCTCACTTCAACCTCCCTCACCATTGGCAGCCTAGCATTAGCAGGAATACCTTTCCTCACAGGTTTCTACTCCAAAGACCACATCATCGAAACCGCAAACATATCATACACAAACGCCTGAGCCCTATCTATTACTCTCATCGCTACCTCCCTGACAAGCGCCTATAGCACTCGAATAATTCTTCTCACCCTAACAGGTCAACCTCGCTTCCCCACCCTTACTAACATTAACGAAAATAACCCCACCCTACTAAACCCCATTAAACGCCTGGCAGCCGGAAGCCTATTCGCAGGATTTCTCATTACTAACAACATTTCCCCCGCATCCCCCTTCCAAACAACAATCCCCCTCTACCTAAAACTCACAGCCCTCGCTGTCACTTTCCTAGGACTTCTAACAGCCCTAGACCTCAACTACCTAACCAACAAACTTAAAATAAAATCCCCACTATGCACATTTTATTTCTCCAACATACTCGGATTCTACCCTAGCATCACACACCGCACAATCCCCTATCTAGGCCTTCTTACGAGCCAAAACCTGCCCCTACTCCTCCTAGACCTAACCTGACTAGAAAAGCTATTACCTAAAACAATTTCACAGCACCAAATCTCCACCTCCATCATCACCTCAACCCAAAAAGGCATAATTAAACTTTACTTCCTCTCTTTCTTCTTCCCACTCATCCTAACCCTACTCCTAATCACATAACCTATTCCCCCGAGCAATCTCAATTACAATATATACACCAACAAACAATGTTCAACCAGTAACTACTACTAATCAACGCCCATAATCATACAAAGCCCCCGCACCAATAGGATCCTCCCGAATCAACCCTGACCCCTCTCCTTCATAAATTATTCAGCTTCCTACACTATTAAAGTTTACCACAACCACCACCCCATCATACTCTTTCACCCACAGCACCAATCCTACCTCCATCGCTAACCCCACTAAAACACTCACCAAGACCTCAACCCCTGACCCCCATGCCTCAGGATACTCCTCAATAGCCATCGCTGTAGTATATCCAAAGACAACCATCATTCCCCCTAAATAAATTAAAAAAACTATTAAACCCATATAACCTCCCCCAAAATTCAGAATAATAACACACCCGACCACACCGCTAACAATCAATACTAAACCCCCATAAATAGGAGAAGGCTTAGAAGAAAACCCCACAAACCCCATTACTAAACCCACACTCAACAGAAACAAAGCATACATCATTATTCTCGCACGGACTACAACCACGACCAATGATATGAAAAACCATCGTTGTATTTCAACTACAAGAACACCAATGACCCCAATACGCAAAACTAACCCCCTAATAAAATTAATTAACCACTCATTCATCGACCTCCCCACCCCATCCAACATCTCCGCATGATGAAACTTCGGCTCACTCCTTGGCGCCTGCCTGATCCTCCAAATCACCACAGGACTATTCCTAGCCATGCACTACTCACCAGACGCCTCAACCGCCTTTTCATCAATCGCCCACATCACTCGAGACGTAAATTATGGCTGAATCATCCGCTACCTTCACGCCAATGGCGCCTCAATATTCTTTATCTGCCTCTTCCTACACATCGGGCGAGGCCTATATTACGGATCATTTCTCTACTCAGAAACCTGAAACATCGGCATTATCCTCCTGCTTGCAACTATAGCAACAGCCTTCATAGGCTATGTCCTCCCGTGAGGCCAAATATCATTCTGAGGGGCCACAGTAATTACAAACTTACTATCCGCCATCCCATACATTGGGACAGACCTAGTTCAATGAATCTGAGGAGGCTACTCAGTAGACAGTCCCACCCTCACACGATTCTTTACCTTTCACTTCATCTTGCCCTTCATTATTGCAGCCCTAGCAACACTCCACCTCCTATTCTTGCACGAAACGGGATCAAACAACCCCCTAGGAATCACCTCCCATTCCGATAAAATCACCTTCCACCCTTACTACACAATCAAAGACGCCCTCGGCTTACTTCTCTTCCTTCTCTCCTTAATGACATTAACACTATTCTCACCAGACCTCCTAGGCGACCCAGACAATTATACCCTAGCCAACCCCTTAAACACCCCTCCCCACATCAAGCCCGAATGATATTTCCTATTCGCCTACACAATTCTCCGATCCGTCCCTAACAAACTAGGAGGCGTCCTTGCCCTATTACTATCCATCCTCATCCTAGCAATAATCCCCATCCTCCATATATCCAAACAACAAAGCATAATATTTCGCCCACTAAGCCAATCACTTTATTGACTCCTAGCCGCAGACCTCCTCATTCTAACCTGAATCGGAGGACAACCAGTAAGCTACCCTTTTACCATCATTGGACAAGTAGCATCCGTACTATACTTCACAACAATCCTAATCCTAATACCAACTATCTCCCTAATTGAAAACAAAATACTCAAATGGGCCTGTCCTTGTAGTATAAACTAATACACCAGTCTTGTAAACCGGAGATGAAAACCTTTTTCCAAGGACAAATCAGAGAAAAAGTCTTTAACTCCACCATTAGCACCCAAAGCTAAGATTCTAATTTAAACTATTCTCTGTTCTTTCATGGGGAAGCAGATTTGGGTACCACCCAAGTATTGACTCACCCATCAACAACCGCTATGTATTTCGTACATTACTGCCAGCCACCATGAATATTGTACGGTACCATAAATACTTGACCACCTGTAGTACATAAAAACCCAATCCACATCAAAACCCCCTCCCCATGCTTACAAGcaagtacagcaatcaaccctcaactatcacacatcaactgcaactCCAAAGCCACCCCTCACCCACTAGGATACCAACAAACCTACCCACCCTTAACAGTACATAGTACATAAAGCCATTTACCGTACATAGCACATTACAGTCAAATCCCTTCTCGTCCCCATGGATGACCCCCCTCAGATAGGGGTCCCTTGACCACCATCCTCCGTGAAATCAATATCCCGCACAAGAGTGCTACTCTCCTCGCTCCGGGCCCATAACACTTGGGGGTAGCTAAAGTGAACTGTATCCGACATCTGGTTCCTACTTCAGGGTCATAAAGCCTAAATAGCCCACACGTTCCCCTTAAATAAGACATCACGATG\n"
          ]
        }
      ]
    },
    {
      "cell_type": "markdown",
      "source": [
        "## 2.5.2 Translating your protein sequence"
      ],
      "metadata": {
        "id": "XOTteMcX7xfA"
      }
    },
    {
      "cell_type": "code",
      "source": [
        "#Placeholder code for translating a sequence\n",
        "print(seq) #If you still have this variable active from 2.3\n",
        "#you can also make your own sequence below"
      ],
      "metadata": {
        "id": "qGuxQ55t794y",
        "colab": {
          "base_uri": "https://localhost:8080/"
        },
        "outputId": "90ca9fae-17e1-4b93-eb60-39aa5f3fa449"
      },
      "execution_count": null,
      "outputs": [
        {
          "output_type": "stream",
          "name": "stdout",
          "text": [
            "GATCACAGGTCTATCACCCTATTAACCACTCACGGGAGCTCTCCATGCATTTGGTATTTTCGTCTGGGGGGTATGCACGCGATAGCATTGCGAGACGCTGGAGCCGGAGCACCCTATGTCGCAGTATCTGTCTTTGATTCCTGCCTCATCCTATTATTTATCGCACCTACGTTCAATATTACAGGCGAACATACTTACTAAAGTGTGTTAATTAATTAATGCTTGTAGGACATAATAATAACAATTGAATGTCTGCACAGCCACTTTCCACACAGACATCATAACAAAAAATTTCCACCAAACCCCCCCTCCCCCGCTTCTGGCCACAGCACTTAAACACATCTCTGCCAAACCCCAAAAACAAAGAACCCTAACACCAGCCTAACCAGATTTCAAATTTTATCTTTTGGCGGTATGCACTTTTAACAGTCACCCCCCAACTAACACATTATTTTCCCCTCCCACTCCCATACTACTAATCTCATCAATACAACCCCCGCCCATCCTACCCAGCACACACACACCGCTGCTAACCCCATACCCCGAACCAACCAAACCCCAAAGACACCCCCCACAGTTTATGTAGCTTACCTCCTCAAAGCAATACACTGAAAATGTTTAGACGGGCTCACATCACCCCATAAACAAATAGGTTTGGTCCTAGCCTTTCTATTAGCTCTTAGTAAGATTACACATGCAAGCATCCCCGTTCCAGTGAGTTCACCCTCTAAATCACCACGATCAAAAGGAACAAGCATCAAGCACGCAGCAATGCAGCTCAAAACGCTTAGCCTAGCCACACCCCCACGGGAAACAGCAGTGATTAACCTTTAGCAATAAACGAAAGTTTAACTAAGCTATACTAACCCCAGGGTTGGTCAATTTCGTGCCAGCCACCGCGGTCACACGATTAACCCAAGTCAATAGAAGCCGGCGTAAAGAGTGTTTTAGATCACCCCCTCCCCAATAAAGCTAAAACTCACCTGAGTTGTAAAAAACTCCAGTTGACACAAAATAGACTACGAAAGTGGCTTTAACATATCTGAACACACAATAGCTAAGACCCAAACTGGGATTAGATACCCCACTATGCTTAGCCCTAAACCTCAACAGTTAAATCAACAAAACTGCTCGCCAGAACACTACGAGCCACAGCTTAAAACTCAAAGGACCTGGCGGTGCTTCATATCCCTCTAGAGGAGCCTGTTCTGTAATCGATAAACCCCGATCAACCTCACCACCTCTTGCTCAGCCTATATACCGCCATCTTCAGCAAACCCTGATGAAGGCTACAAAGTAAGCGCAAGTACCCACGTAAAGACGTTAGGTCAAGGTGTAGCCCATGAGGTGGCAAGAAATGGGCTACATTTTCTACCCCAGAAAACTACGATAGCCCTTATGAAACTTAAGGGTCGAAGGTGGATTTAGCAGTAAACTAAGAGTAGAGTGCTTAGTTGAACAGGGCCCTGAAGCGCGTACACACCGCCCGTCACCCTCCTCAAGTATACTTCAAAGGACATTTAACTAAAACCCCTACGCATTTATATAGAGGAGACAAGTCGTAACATGGTAAGTGTACTGGAAAGTGCACTTGGACGAACCAGAGTGTAGCTTAACACAAAGCACCCAACTTACACTTAGGAGATTTCAACTTAACTTGACCGCTCTGAGCTAAACCTAGCCCCAAACCCACTCCACCTTACTACCAGACAACCTTAGCCAAACCATTTACCCAAATAAAGTATAGGCGATAGAAATTGAAACCTGGCGCAATAGATATAGTACCGCAAGGGAAAGATGAAAAATTATAACCAAGCATAATATAGCAAGGACTAACCCCTATACCTTCTGCATAATGAATTAACTAGAAATAACTTTGCAAGGAGAGCCAAAGCTAAGACCCCCGAAACCAGACGAGCTACCTAAGAACAGCTAAAAGAGCACACCCGTCTATGTAGCAAAATAGTGGGAAGATTTATAGGTAGAGGCGACAAACCTACCGAGCCTGGTGATAGCTGGTTGTCCAAGATAGAATCTTAGTTCAACTTTAAATTTGCCCACAGAACCCTCTAAATCCCCTTGTAAATTTAACTGTTAGTCCAAAGAGGAACAGCTCTTTGGACACTAGGAAAAAACCTTGTAGAGAGAGTAAAAAATTTAACACCCATAGTAGGCCTAAAAGCAGCCACCAATTAAGAAAGCGTTCAAGCTCAACACCCACTACCTAAAAAATCCCAAACATATAACTGAACTCCTCACACCCAATTGGACCAATCTATCACCCTATAGAAGAACTAATGTTAGTATAAGTAACATGAAAACATTCTCCTCCGCATAAGCCTGCGTCAGATTAAAACACTGAACTGACAATTAACAGCCCAATATCTACAATCAACCAACAAGTCATTATTACCCTCACTGTCAACCCAACACAGGCATGCTCATAAGGAAAGGTTAAAAAAAGTAAAAGGAACTCGGCAAATCTTACCCCGCCTGTTTACCAAAAACATCACCTCTAGCATCACCAGTATTAGAGGCACCGCCTGCCCAGTGACACATGTTTAACGGCCGCGGTACCCTAACCGTGCAaaggtagcataatcacttgttccttaaatagggacctgtatgaatggctccacgagggttcagctgtctcttacttttaaccagtgaaattgacctgcccgtgaagaggcgggcataacacagcaagacgagaagaccctatggagctttaatttaTTAATGCAAACAGTACCTAACAAACCCACAGGTCCTAAACTACCAAACCTGCATTAAAAATTTCGGTTGGGGCGACCTCGGAGCAGAACCCAACCTCCGAGCAGTACATGCTAAGACTTCACCAGTCAAAGCGAACTACTATACTCAATTGATCCAATAACTTGACCAACGGAACAAGTTACCCTAGGGATAACAGCGCAATCCTATTCTAGAGTCCATATCAACAATAGGGTTTACGACCTCGATGTTGGATCAGGACATCCCGATGGTGCAGCCGCTATTAAAGGTTCGTTTGTTCAACGATTAAAGTCCTACGTGATCTGAGTTCAGACCGGAGTAATCCAGGTCGGTTTCTATCTACNTTCAAATTCCTCCCTGTACGAAAGGACAAGAGAAATAAGGCCTACTTCACAAAGCGCCTTCCCCCGTAAATGATATCATCTCAACTTAGTATTATACCCACACCCACCCAAGAACAGGGTTTgttaagatggcagagcccggtaatcgcataaaacttaaaactttacagtcagaggttcaattcctcttcttaacaacaTACCCATGGCCAACCTCCTACTCCTCATTGTACCCATTCTAATCGCAATGGCATTCCTAATGCTTACCGAACGAAAAATTCTAGGCTATATACAACTACGCAAAGGCCCCAACGTTGTAGGCCCCTACGGGCTACTACAACCCTTCGCTGACGCCATAAAACTCTTCACCAAAGAGCCCCTAAAACCCGCCACATCTACCATCACCCTCTACATCACCGCCCCGACCTTAGCTCTCACCATCGCTCTTCTACTATGAACCCCCCTCCCCATACCCAACCCCCTGGTCAACCTCAACCTAGGCCTCCTATTTATTCTAGCCACCTCTAGCCTAGCCGTTTACTCAATCCTCTGATCAGGGTGAGCATCAAACTCAAACTACGCCCTGATCGGCGCACTGCGAGCAGTAGCCCAAACAATCTCATATGAAGTCACCCTAGCCATCATTCTACTATCAACATTACTAATAAGTGGCTCCTTTAACCTCTCCACCCTTATCACAACACAAGAACACCTCTGATTACTCCTGCCATCATGACCCTTGGCCATAATATGATTTATCTCCACACTAGCAGAGACCAACCGAACCCCCTTCGACCTTGCCGAAGGGGAGTCCGAACTAGTCTCAGGCTTCAACATCGAATACGCCGCAGGCCCCTTCGCCCTATTCTTCATAGCCGAATACACAAACATTATTATAATAAACACCCTCACCACTACAATCTTCCTAGGAACAACATATGACGCACTCTCCCCTGAACTCTACACAACATATTTTGTCACCAAGACCCTACTTCTAACCTCCCTGTTCTTATGAATTCGAACAGCATACCCCCGATTCCGCTACGACCAACTCATACACCTCCTATGAAAAAACTTCCTACCACTCACCCTAGCATTACTTATATGATATGTCTCCATACCCATTACAATCTCCAGCATTCCCCCTCAAACCTAAGAAATATGTCTGATAAAAGAGTTACTTTGATAGAGTAAATAATAGGAGCTTAAACCCCCTTATTTctaggactatgagaatcgaacccatccctgagaatccaaaattctccgtgccacctatcacaccccatcctaAAGTAAGGTCAGCTAAATAAGCTATCGGGCCCATACCCCGAAAATGTTGGTTATACCCTTCCCGTACTAATTAATCCCCTGGCCCAACCCGTCATCTACTCTACCATCTTTGCAGGCACACTCATCACAGCGCTAAGCTCGCACTGATTTTTTACCTGAGTAGGCCTAGAAATAAACATGCTAGCTTTTATTCCAGTTCTAACCAAAAAAATAAACCCTCGTTCCACAGAAGCTGCCATCAAGTATTTCCTCACGCAAGCAACCGCATCCATAATCCTTCTAATAGCTATCCTCTTCAACAATATACTCTCCGGACAATGAACCATAACCAATACTACCAATCAATACTCATCATTAATAATCATAATAGCTATAGCAATAAAACTAGGAATAGCCCCCTTTCACTTCTGAGTCCCAGAGGTTACCCAAGGCACCCCTCTGACATCCGGCCTGCTTCTTCTCACATGACAAAAACTAGCCCCCATCTCAATCATATACCAAATCTCTCCCTCACTAAACGTAAGCCTTCTCCTCACTCTCTCAATCTTATCCATCATAGCAGGCAGTTGAGGTGGATTAAACCAAACCCAGCTACGCAAAATCTTAGCATACTCCTCAATTACCCACATAGGATGAATAATAGCAGTTCTACCGTACAACCCTAACATAACCATTCTTAATTTAACTATTTATATTATCCTAACTACTACCGCATTCCTACTACTCAACTTAAACTCCAGCACCACGACCCTACTACTATCTCGCACCTGAAACAAGCTAACATGACTAACACCCTTAATTCCATCCACCCTCCTCTCCCTAGGAGGCCTGCCCCCGCTAACCGGCTTTTTGCCCAAATGGGCCATTATCGAAGAATTCACAAAAAACAATAGCCTCATCATCCCCACCATCATAGCCACCATCACCCTCCTTAACCTCTACTTCTACCTACGCCTAATCTACTCCACCTCAATCACACTACTCCCCATATCTAACAACGTAAAAATAAAATGACAGTTTGAACATACAAAACCCACCCCATTCCTCCCCACACTCATCGCCCTTACCACGCTACTCCTACCTATCTCCCCTTTTATACTAATAATCTTATAGAAATTTAGGTTAAATACAGACCAAGAGCCTTCAAAGCCCTCAGTAAGTTGCAATACTTAATTTCTGTAACAGCTAAGGACTGCAAAACCCCACTCTGCATCAACTGAACGCAAATCAGCCACTTTAATTAAGCTAAGCCCTTACTAGACCAATGGGACTTAAACCCACAAACACTTAGTTAACAGCTAAGCACCCTAATCAACTGGCTTCAATCTACTTCTCCCGCCGCCGGGAAAAAAGGCGGGAGAAGCCCCGGCAGGTTTGAAGCTGCTTCTTCGAATTTGCAATTCAATATGAAAATCACCTCGGAGCTGGTAAAAAGAGGCCTAACCCCTGTCTTTAGATTTACAGTCCAATGCTTCACTCAGCCATTTTACCTCACCCCCACTGATGTTCGCCGACCGTTGACTATTCTCTACAAACCACAAAGACATTGGAACACTATACCTATTATTCGGCGCATGAGCTGGAGTCCTAGGCACAGCTCTAAGCCTCCTTATTCGAGCCGAGCTGGGCCAGCCAGGCAACCTTCTAGGTAACGACCACATCTACAACGTTATCGTCACAGCCCATGCATTTGTAATAATCTTCTTCATAGTAATACCCATCATAATCGGAGGCTTTGGCAACTGACTAGTTCCCCTAATAATCGGTGCCCCCGATATGGCGTTTCCCCGCATAAACAACATAAGCTTCTGACTCTTACCTCCCTCTCTCCTACTCCTGCTCGCATCTGCTATAGTGGAGGCCGGAGCAGGAACAGGTTGAACAGTCTACCCTCCCTTAGCAGGGAACTACTCCCACCCTGGAGCCTCCGTAGACCTAACCATCTTCTCCTTACACCTAGCAGGTGTCTCCTCTATCTTAGGGGCCATCAATTTCATCACAACAATTATCAATATAAAACCCCCTGCCATAACCCAATACCAAACGCCCCTCTTCGTCTGATCCGTCCTAATCACAGCAGTCCTACTTCTCCTATCTCTCCCAGTCCTAGCTGCTGGCATCACTATACTACTAACAGACCGCAACCTCAACACCACCTTCTTCGACCCCGCCGGAGGAGGAGACCCCATTCTATACCAACACCTATTCTGATTTTTCGGTCACCCTGAAGTTTATATTCTTATCCTACCAGGCTTCGGAATAATCTCCCATATTGTAACTTACTACTCCGGAAAAAAAGAACCATTTGGATACATAGGTATGGTCTGAGCTATGATATCAATTGGCTTCCTAGGGTTTATCGTGTGAGCACACCATATATTTACAGTAGGAATAGACGTAGACACACGAGCATATTTCACCTCCGCTACCATAATCATCGCTATCCCCACCGGCGTCAAAGTATTTAGCTGACTCGCCACACTCCACGGAAGCAATATGAAATGATCTGCTGCAGTGCTCTGAGCCCTAGGATTCATCTTTCTTTTCACCGTAGGTGGCCTGACTGGCATTGTATTAGCAAACTCATCACTAGACATCGTACTACACGACACGTACTACGTTGTAGCCCACTTCCACTATGTCCTATCAATAGGAGCTGTATTTGCCATCATAGGAGGCTTCATTCACTGATTTCCCCTATTCTCAGGCTACACCCTAGACCAAACCTACGCCAAAATCCATTTCACTATCATATTCATCGGCGTAAATCTAACTTTCTTCCCACAACACTTTCTCGGCCTATCCGGAATGCCCCGACGTTACTCGGACTACCCCGATGCATACACCACATGAAACATCCTATCATCTGTAGGCTCATTCATTTCTCTAACAGCAGTAATATTAATAATTTTCATGATTTGAGAAGCCTTCGCTTCGAAGCGAAAAGTCCTAATAGTAGAAGAACCCTCCATAAACCTGGAGTGACTATATGGATGCCCCCCACCCTACCACACATTCGAAGAACCCGTATACATAAAATCTAGACAaaaaaggaaggaatcgaaccccccaaagctggtttcaagccaaccccatggcctccatgactttttcAAAAAGGTATTAGAAAAACCATTTCATAACTTTGTCAAAGTTAAATTATAGGCTAAATCCTATATATCTTAATGGCACATGCAGCGCAAGTAGGTCTACAAGACGCTACTTCCCCTATCATAGAAGAGCTTATCACCTTTCATGATCACGCCCTCATAATCATTTTCCTTATCTGCTTCCTAGTCCTGTATGCCCTTTTCCTAACACTCACAACAAAACTAACTAATACTAACATCTCAGACGCTCAGGAAATAGAAACCGTCTGAACTATCCTGCCCGCCATCATCCTAGTCCTCATCGCCCTCCCATCCCTACGCATCCTTTACATAACAGACGAGGTCAACGATCCCTCCCTTACCATCAAATCAATTGGCCACCAATGGTACTGAACCTACGAGTACACCGACTACGGCGGACTAATCTTCAACTCCTACATACTTCCCCCATTATTCCTAGAACCAGGCGACCTGCGACTCCTTGACGTTGACAATCGAGTAGTACTCCCGATTGAAGCCCCCATTCGTATAATAATTACATCACAAGACGTCTTGCACTCATGAGCTGTCCCCACATTAGGCTTAAAAACAGATGCAATTCCCGGACGTCTAAACCAAACCACTTTCACCGCTACACGACCGGGGGTATACTACGGTCAATGCTCTGAAATCTGTGGAGCAAACCACAGTTTCATGCCCATCGTCCTAGAATTAATTCCCCTAAAAATCTTTGAAATAGGGCCCGTATTTACCCTATAGCACCCCCTCTACCCCCTCTAGAGCCCACTGTAAAGCTAACTTAGCATTAACCTTTTAAGTTAAAGATTAAGAGAACCAACACCTCTTTACAGTGAAATGCCCCAACTAAATACTACCGTATGGCCCACCATAATTACCCCCATACTCCTTACACTATTCCTCATCACCCAACTAAAAATATTAAACACAAACTACCACCTACCTCCCTCACCAAAGCCCATAAAAATAAAAAATTATAACAAACCCTGAGAACCAAAATGAACGAAAATCTGTTCGCTTCATTCATTGCCCCCACAATCCTAGGCCTACCCGCCGCAGTACTGATCATTCTATTTCCCCCTCTATTGATCCCCACCTCCAAATATCTCATCAACAACCGACTAATCACCACCCAACAATGACTAATCAAACTAACCTCAAAACAAATGATAACCATACACAACACTAAAGGACGAACCTGATCTCTTATACTAGTATCCTTAATCATTTTTATTGCCACAACTAACCTCCTCGGACTCCTGCCTCACTCATTTACACCAACCACCCAACTATCTATAAACCTAGCCATGGCCATCCCCTTATGAGCGGGCACAGTGATTATAGGCTTTCGCTCTAAGATTAAAAATGCCCTAGCCCACTTCTTACCACAAGGCACACCTACACCCCTTATCCCCATACTAGTTATTATCGAAACCATCAGCCTACTCATTCAACCAATAGCCCTGGCCGTACGCCTAACCGCTAACATTACTGCAGGCCACCTACTCATGCACCTAATTGGAAGCGCCACCCTAGCAATATCAACCATTAACCTTCCCTCTACACTTATCATCTTCACAATTCTAATTCTACTGACTATCCTAGAAATCGCTGTCGCCTTAATCCAAGCCTACGTTTTCACACTTCTAGTAAGCCTCTACCTGCACGACAACACATAATGACCCACCAATCACATGCCTATCATATAGTAAAACCCAGCCCATGACCCCTAACAGGGGCCCTCTCAGCCCTCCTAATGACCTCCGGCCTAGCCATGTGATTTCACTTCCACTCCATAACGCTCCTCATACTAGGCCTACTAACCAACACACTAACCATATACCAATGATGGCGCGATGTAACACGAGAAAGCACATACCAAGGCCACCACACACCACCTGTCCAAAAAGGCCTTCGATACGGGATAATCCTATTTATTACCTCAGAAGTTTTTTTCTTCGCAGGATTTTTCTGAGCCTTTTACCACTCCAGCCTAGCCCCTACCCCCCAATTAGGAGGGCACTGGCCCCCAACAGGCATCACCCCGCTAAATCCCCTAGAAGTCCCACTCCTAAACACATCCGTATTACTCGCATCAGGAGTATCAATCACCTGAGCTCACCATAGTCTAATAGAAAACAACCGAAACCAAATAATTCAAGCACTGCTTATTACAATTTTACTGGGTCTCTATTTTACCCTCCTACAAGCCTCAGAGTACTTCGAGTCTCCCTTCACCATTTCCGACGGCATCTACGGCTCAACATTTTTTGTAGCCACAGGCTTCCACGGACTTCACGTCATTATTGGCTCAACTTTCCTCACTATCTGCTTCATCCGCCAACTAATATTTCACTTTACATCCAAACATCACTTTGGCTTCGAAGCCGCCGCCTGATACTGGCATTTTGTAGATGTGGTTTGACTATTTCTGTATGTCTCCATCTATTGATGAGGGTCTTACTCTTTTAGTATAAATAGTACCGTTAACTTCCAATTAACTAGTTTTGACAACATTCAAAAAAGAGTAATAAACTTCGCCTTAATTTTAATAATCAACACCCTCCTAGCCTTACTACTAATAATTATTACATTTTGACTACCACAACTCAACGGCTACATAGAAAAATCCACCCCTTACGAGTGCGGCTTCGACCCTATATCCCCCGCCCGCGTCCCTTTCTCCATAAAATTCTTCTTAGTAGCTATTACCTTCTTATTATTTGATCTAGAAATTGCCCTCCTTTTACCCCTACCATGAGCCCTACAAACAACTAACCTGCCACTAATAGTTATGTCATCCCTCTTATTAATCATCATCCTAGCCCTAAGTCTGGCCTATGAGTGACTACAAAAAGGATTAGACTGAACCGAATTGGTATATAGTTTAAACAAAACGAATGATTTCGACTCATTAAATTATGATAATCATATTTACCAAATGCCCCTCATTTACATAAATATTATACTAGCATTTACCATCTCACTTCTAGGAATACTAGTATATCGCTCACACCTCATATCCTCCCTACTATGCCTAGAAGGAATAATACTATCGCTGTTCATTATAGCTACTCTCATAACCCTCAACACCCACTCCCTCTTAGCCAATATTGTGCCTATTGCCATACTAGTCTTTGCCGCCTGCGAAGCAGCGGTGGGCCTAGCCCTACTAGTCTCAATCTCCAACACATATGGCCTAGACTACGTACATAACCTAAACCTACTCCAATGCTAAAACTAATCGTCCCAACAATTATATTACTACCACTGACATGACTTTCCAAAAAACACATAATTTGAATCAACACAACCACCCACAGCCTAATTATTAGCATCATCCCTCTACTATTTTTTAACCAAATCAACAACAACCTATTTAGCTGTTCCCCAACCTTTTCCTCCGACCCCCTAACAACCCCCCTCCTAATACTAACTACCTGACTCCTACCCCTCACAATCATGGCAAGCCAACGCCACTTATCCAGTGAACCACTATCACGAAAAAAACTCTACCTCTCTATACTAATCTCCCTACAAATCTCCTTAATTATAACATTCACAGCCACAGAACTAATCATATTTTATATCTTCTTCGAAACCACACTTATCCCCACCTTGGCTATCATCACCCGATGAGGCAACCAGCCAGAACGCCTGAACGCAGGCACATACTTCCTATTCTACACCCTAGTAGGCTCCCTTCCCCTACTCATCGCACTAATTTACACTCACAACACCCTAGGCTCACTAAACATTCTACTACTCACTCTCACTGCCCAAGAACTATCAAACTCCTGAGCCAACAACTTAATATGACTAGCTTACACAATAGCTTTTATAGTAAAGATACCTCTTTACGGACTCCACTTATGACTCCCTAAAGCCCATGTCGAAGCCCCCATCGCTGGGTCAATAGTACTTGCCGCAGTACTCTTAAAACTAGGCGGCTATGGTATAATACGCCTCACACTCATTCTCAACCCCCTGACAAAACACATAGCCTACCCCTTCCTTGTACTATCCCTATGAGGCATAATTATAACAAGCTCCATCTGCCTACGACAAACAGACCTAAAATCGCTCATTGCATACTCTTCAATCAGCCACATAGCCCTCGTAGTAACAGCCATTCTCATCCAAACCCCCTGAAGCTTCACCGGCGCAGTCATTCTCATAATCGCCCACGGGCTTACATCCTCATTACTATTCTGCCTAGCAAACTCAAACTACGAACGCACTCACAGTCGCATCATAATCCTCTCTCAAGGACTTCAAACTCTACTCCCACTAATAGCTTTTTGATGACTTCTAGCAAGCCTCGCTAACCTCGCCTTACCCCCCACTATTAACCTACTGGGAGAACTCTCTGTGCTAGTAACCACGTTCTCCTGATCAAATATCACTCTCCTACTTACAGGACTCAACATACTAGTCACAGCCCTATACTCCCTCTACATATTTACCACAACACAATGGGGCTCACTCACCCACCACATTAACAACATAAAACCCTCATTCACACGAGAAAACACCCTCATGTTCATACACCTATCCCCCATTCTCCTCCTATCCCTCAACCCCGACATCATTACCGGGTTTTCCTCTTGTAAATATAGTTTAACCAAAACATCAGATTGTGAATCTGACAACAGAGGCTTACGACCCCTTATTTACCGAGAAAGCTCACAAGAACTGCTAACTCATGCCCCCATGTCTAACAACATGGCTTTCTCAACTTTTAAAGGATAACAGCTATCCATTGGTCTTAGGCCCCAAAAATTTTGGTGCAACTCCAAATAAAAGTAATAACCATGCACACTACTATAACCACCCTAACCCTGACTTCCCTAATTCCCCCCATCCTTACCACCCTCGTTAACCCTAACAAAAAAAACTCATACCCCCATTATGTAAAATCCATTGTCGCATCCACCTTTATTATCAGTCTCTTCCCCACAACAATATTCATGTGCCTAGACCAAGAAGTTATTATCTCGAACTGACACTGAGCCACAACCCAAACAACCCAGCTCTCCCTAAGCTTCAAACTAGACTACTTCTCCATAATATTCATCCCTGTAGCATTGTTCGTTACATGGTCCATCATAGAATTCTCACTGTGATATATAAACTCAGACCCAAACATTAATCAGTTCTTCAAATATCTACTCATCTTCCTAATTACCATACTAATCTTAGTTACCGCTAACAACCTATTCCAACTGTTCATCGGCTGAGAGGGCGTAGGAATTATATCCTTCTTGCTCATCAGTTGATGATACGCCCGAGCAGATGCCAACACAGCAGCCATTCAAGCAATCCTATACAACCGTATCGGCGATATCGGTTTCATCCTCGCCTTAGCATGATTTATCCTACACTCCAACTCATGAGACCCACAACAAATAGCCCTTCTAAACGCTAATCCAAGCCTCACCCCACTACTAGGCCTCCTCCTAGCAGCAGCAGGCAAATCAGCCCAATTAGGTCTCCACCCCTGACTCCCCTCAGCCATAGAAGGCCCCACCCCAGTCTCAGCCCTACTCCACTCAAGCACTATAGTTGTAGCAGGAATCTTCTTACTCATCCGCTTCCACCCCCTAGCAGAAAATAGCCCACTAATCCAAACTCTAACACTATGCTTAGGCGCTATCACCACTCTGTTCGCAGCAGTCTGCGCCCTTACACAAAATGACATCAAAAAAATCGTAGCCTTCTCCACTTCAAGTCAACTAGGACTCATAATAGTTACAATCGGCATCAACCAACCACACCTAGCATTCCTGCACATCTGTACCCACGCCTTCTTCAAAGCCATACTATTTATGTGCTCCGGGTCCATCATCCACAACCTTAACAATGAACAAGATATTCGAAAAATAGGAGGACTACTCAAAACCATACCTCTCACTTCAACCTCCCTCACCATTGGCAGCCTAGCATTAGCAGGAATACCTTTCCTCACAGGTTTCTACTCCAAAGACCACATCATCGAAACCGCAAACATATCATACACAAACGCCTGAGCCCTATCTATTACTCTCATCGCTACCTCCCTGACAAGCGCCTATAGCACTCGAATAATTCTTCTCACCCTAACAGGTCAACCTCGCTTCCCCACCCTTACTAACATTAACGAAAATAACCCCACCCTACTAAACCCCATTAAACGCCTGGCAGCCGGAAGCCTATTCGCAGGATTTCTCATTACTAACAACATTTCCCCCGCATCCCCCTTCCAAACAACAATCCCCCTCTACCTAAAACTCACAGCCCTCGCTGTCACTTTCCTAGGACTTCTAACAGCCCTAGACCTCAACTACCTAACCAACAAACTTAAAATAAAATCCCCACTATGCACATTTTATTTCTCCAACATACTCGGATTCTACCCTAGCATCACACACCGCACAATCCCCTATCTAGGCCTTCTTACGAGCCAAAACCTGCCCCTACTCCTCCTAGACCTAACCTGACTAGAAAAGCTATTACCTAAAACAATTTCACAGCACCAAATCTCCACCTCCATCATCACCTCAACCCAAAAAGGCATAATTAAACTTTACTTCCTCTCTTTCTTCTTCCCACTCATCCTAACCCTACTCCTAATCACATAACCTATTCCCCCGAGCAATCTCAATTACAATATATACACCAACAAACAATGTTCAACCAGTAACTACTACTAATCAACGCCCATAATCATACAAAGCCCCCGCACCAATAGGATCCTCCCGAATCAACCCTGACCCCTCTCCTTCATAAATTATTCAGCTTCCTACACTATTAAAGTTTACCACAACCACCACCCCATCATACTCTTTCACCCACAGCACCAATCCTACCTCCATCGCTAACCCCACTAAAACACTCACCAAGACCTCAACCCCTGACCCCCATGCCTCAGGATACTCCTCAATAGCCATCGCTGTAGTATATCCAAAGACAACCATCATTCCCCCTAAATAAATTAAAAAAACTATTAAACCCATATAACCTCCCCCAAAATTCAGAATAATAACACACCCGACCACACCGCTAACAATCAATACTAAACCCCCATAAATAGGAGAAGGCTTAGAAGAAAACCCCACAAACCCCATTACTAAACCCACACTCAACAGAAACAAAGCATACATCATTATTCTCGCACGGACTACAACCACGACCAATGATATGAAAAACCATCGTTGTATTTCAACTACAAGAACACCAATGACCCCAATACGCAAAACTAACCCCCTAATAAAATTAATTAACCACTCATTCATCGACCTCCCCACCCCATCCAACATCTCCGCATGATGAAACTTCGGCTCACTCCTTGGCGCCTGCCTGATCCTCCAAATCACCACAGGACTATTCCTAGCCATGCACTACTCACCAGACGCCTCAACCGCCTTTTCATCAATCGCCCACATCACTCGAGACGTAAATTATGGCTGAATCATCCGCTACCTTCACGCCAATGGCGCCTCAATATTCTTTATCTGCCTCTTCCTACACATCGGGCGAGGCCTATATTACGGATCATTTCTCTACTCAGAAACCTGAAACATCGGCATTATCCTCCTGCTTGCAACTATAGCAACAGCCTTCATAGGCTATGTCCTCCCGTGAGGCCAAATATCATTCTGAGGGGCCACAGTAATTACAAACTTACTATCCGCCATCCCATACATTGGGACAGACCTAGTTCAATGAATCTGAGGAGGCTACTCAGTAGACAGTCCCACCCTCACACGATTCTTTACCTTTCACTTCATCTTGCCCTTCATTATTGCAGCCCTAGCAACACTCCACCTCCTATTCTTGCACGAAACGGGATCAAACAACCCCCTAGGAATCACCTCCCATTCCGATAAAATCACCTTCCACCCTTACTACACAATCAAAGACGCCCTCGGCTTACTTCTCTTCCTTCTCTCCTTAATGACATTAACACTATTCTCACCAGACCTCCTAGGCGACCCAGACAATTATACCCTAGCCAACCCCTTAAACACCCCTCCCCACATCAAGCCCGAATGATATTTCCTATTCGCCTACACAATTCTCCGATCCGTCCCTAACAAACTAGGAGGCGTCCTTGCCCTATTACTATCCATCCTCATCCTAGCAATAATCCCCATCCTCCATATATCCAAACAACAAAGCATAATATTTCGCCCACTAAGCCAATCACTTTATTGACTCCTAGCCGCAGACCTCCTCATTCTAACCTGAATCGGAGGACAACCAGTAAGCTACCCTTTTACCATCATTGGACAAGTAGCATCCGTACTATACTTCACAACAATCCTAATCCTAATACCAACTATCTCCCTAATTGAAAACAAAATACTCAAATGGGCCTGTCCTTGTAGTATAAACTAATACACCAGTCTTGTAAACCGGAGATGAAAACCTTTTTCCAAGGACAAATCAGAGAAAAAGTCTTTAACTCCACCATTAGCACCCAAAGCTAAGATTCTAATTTAAACTATTCTCTGTTCTTTCATGGGGAAGCAGATTTGGGTACCACCCAAGTATTGACTCACCCATCAACAACCGCTATGTATTTCGTACATTACTGCCAGCCACCATGAATATTGTACGGTACCATAAATACTTGACCACCTGTAGTACATAAAAACCCAATCCACATCAAAACCCCCTCCCCATGCTTACAAGcaagtacagcaatcaaccctcaactatcacacatcaactgcaactCCAAAGCCACCCCTCACCCACTAGGATACCAACAAACCTACCCACCCTTAACAGTACATAGTACATAAAGCCATTTACCGTACATAGCACATTACAGTCAAATCCCTTCTCGTCCCCATGGATGACCCCCCTCAGATAGGGGTCCCTTGACCACCATCCTCCGTGAAATCAATATCCCGCACAAGAGTGCTACTCTCCTCGCTCCGGGCCCATAACACTTGGGGGTAGCTAAAGTGAACTGTATCCGACATCTGGTTCCTACTTCAGGGTCATAAAGCCTAAATAGCCCACACGTTCCCCTTAAATAAGACATCACGATG\n"
          ]
        }
      ]
    },
    {
      "cell_type": "markdown",
      "source": [
        "## 2.5.3 Predicting ORF in a gene"
      ],
      "metadata": {
        "id": "BD_XZtWY5i1E"
      }
    },
    {
      "cell_type": "code",
      "source": [
        "#placeholder code for finding ORF in genes\n",
        "print(seq) #If you still have this variable active from 2.3\n",
        "#you can also make your own sequence below"
      ],
      "metadata": {
        "id": "XXxGRlqexrdJ",
        "colab": {
          "base_uri": "https://localhost:8080/"
        },
        "outputId": "2c7fecef-a642-4edd-dbc5-b2c4c973b437"
      },
      "execution_count": null,
      "outputs": [
        {
          "output_type": "stream",
          "name": "stdout",
          "text": [
            "GATCACAGGTCTATCACCCTATTAACCACTCACGGGAGCTCTCCATGCATTTGGTATTTTCGTCTGGGGGGTATGCACGCGATAGCATTGCGAGACGCTGGAGCCGGAGCACCCTATGTCGCAGTATCTGTCTTTGATTCCTGCCTCATCCTATTATTTATCGCACCTACGTTCAATATTACAGGCGAACATACTTACTAAAGTGTGTTAATTAATTAATGCTTGTAGGACATAATAATAACAATTGAATGTCTGCACAGCCACTTTCCACACAGACATCATAACAAAAAATTTCCACCAAACCCCCCCTCCCCCGCTTCTGGCCACAGCACTTAAACACATCTCTGCCAAACCCCAAAAACAAAGAACCCTAACACCAGCCTAACCAGATTTCAAATTTTATCTTTTGGCGGTATGCACTTTTAACAGTCACCCCCCAACTAACACATTATTTTCCCCTCCCACTCCCATACTACTAATCTCATCAATACAACCCCCGCCCATCCTACCCAGCACACACACACCGCTGCTAACCCCATACCCCGAACCAACCAAACCCCAAAGACACCCCCCACAGTTTATGTAGCTTACCTCCTCAAAGCAATACACTGAAAATGTTTAGACGGGCTCACATCACCCCATAAACAAATAGGTTTGGTCCTAGCCTTTCTATTAGCTCTTAGTAAGATTACACATGCAAGCATCCCCGTTCCAGTGAGTTCACCCTCTAAATCACCACGATCAAAAGGAACAAGCATCAAGCACGCAGCAATGCAGCTCAAAACGCTTAGCCTAGCCACACCCCCACGGGAAACAGCAGTGATTAACCTTTAGCAATAAACGAAAGTTTAACTAAGCTATACTAACCCCAGGGTTGGTCAATTTCGTGCCAGCCACCGCGGTCACACGATTAACCCAAGTCAATAGAAGCCGGCGTAAAGAGTGTTTTAGATCACCCCCTCCCCAATAAAGCTAAAACTCACCTGAGTTGTAAAAAACTCCAGTTGACACAAAATAGACTACGAAAGTGGCTTTAACATATCTGAACACACAATAGCTAAGACCCAAACTGGGATTAGATACCCCACTATGCTTAGCCCTAAACCTCAACAGTTAAATCAACAAAACTGCTCGCCAGAACACTACGAGCCACAGCTTAAAACTCAAAGGACCTGGCGGTGCTTCATATCCCTCTAGAGGAGCCTGTTCTGTAATCGATAAACCCCGATCAACCTCACCACCTCTTGCTCAGCCTATATACCGCCATCTTCAGCAAACCCTGATGAAGGCTACAAAGTAAGCGCAAGTACCCACGTAAAGACGTTAGGTCAAGGTGTAGCCCATGAGGTGGCAAGAAATGGGCTACATTTTCTACCCCAGAAAACTACGATAGCCCTTATGAAACTTAAGGGTCGAAGGTGGATTTAGCAGTAAACTAAGAGTAGAGTGCTTAGTTGAACAGGGCCCTGAAGCGCGTACACACCGCCCGTCACCCTCCTCAAGTATACTTCAAAGGACATTTAACTAAAACCCCTACGCATTTATATAGAGGAGACAAGTCGTAACATGGTAAGTGTACTGGAAAGTGCACTTGGACGAACCAGAGTGTAGCTTAACACAAAGCACCCAACTTACACTTAGGAGATTTCAACTTAACTTGACCGCTCTGAGCTAAACCTAGCCCCAAACCCACTCCACCTTACTACCAGACAACCTTAGCCAAACCATTTACCCAAATAAAGTATAGGCGATAGAAATTGAAACCTGGCGCAATAGATATAGTACCGCAAGGGAAAGATGAAAAATTATAACCAAGCATAATATAGCAAGGACTAACCCCTATACCTTCTGCATAATGAATTAACTAGAAATAACTTTGCAAGGAGAGCCAAAGCTAAGACCCCCGAAACCAGACGAGCTACCTAAGAACAGCTAAAAGAGCACACCCGTCTATGTAGCAAAATAGTGGGAAGATTTATAGGTAGAGGCGACAAACCTACCGAGCCTGGTGATAGCTGGTTGTCCAAGATAGAATCTTAGTTCAACTTTAAATTTGCCCACAGAACCCTCTAAATCCCCTTGTAAATTTAACTGTTAGTCCAAAGAGGAACAGCTCTTTGGACACTAGGAAAAAACCTTGTAGAGAGAGTAAAAAATTTAACACCCATAGTAGGCCTAAAAGCAGCCACCAATTAAGAAAGCGTTCAAGCTCAACACCCACTACCTAAAAAATCCCAAACATATAACTGAACTCCTCACACCCAATTGGACCAATCTATCACCCTATAGAAGAACTAATGTTAGTATAAGTAACATGAAAACATTCTCCTCCGCATAAGCCTGCGTCAGATTAAAACACTGAACTGACAATTAACAGCCCAATATCTACAATCAACCAACAAGTCATTATTACCCTCACTGTCAACCCAACACAGGCATGCTCATAAGGAAAGGTTAAAAAAAGTAAAAGGAACTCGGCAAATCTTACCCCGCCTGTTTACCAAAAACATCACCTCTAGCATCACCAGTATTAGAGGCACCGCCTGCCCAGTGACACATGTTTAACGGCCGCGGTACCCTAACCGTGCAaaggtagcataatcacttgttccttaaatagggacctgtatgaatggctccacgagggttcagctgtctcttacttttaaccagtgaaattgacctgcccgtgaagaggcgggcataacacagcaagacgagaagaccctatggagctttaatttaTTAATGCAAACAGTACCTAACAAACCCACAGGTCCTAAACTACCAAACCTGCATTAAAAATTTCGGTTGGGGCGACCTCGGAGCAGAACCCAACCTCCGAGCAGTACATGCTAAGACTTCACCAGTCAAAGCGAACTACTATACTCAATTGATCCAATAACTTGACCAACGGAACAAGTTACCCTAGGGATAACAGCGCAATCCTATTCTAGAGTCCATATCAACAATAGGGTTTACGACCTCGATGTTGGATCAGGACATCCCGATGGTGCAGCCGCTATTAAAGGTTCGTTTGTTCAACGATTAAAGTCCTACGTGATCTGAGTTCAGACCGGAGTAATCCAGGTCGGTTTCTATCTACNTTCAAATTCCTCCCTGTACGAAAGGACAAGAGAAATAAGGCCTACTTCACAAAGCGCCTTCCCCCGTAAATGATATCATCTCAACTTAGTATTATACCCACACCCACCCAAGAACAGGGTTTgttaagatggcagagcccggtaatcgcataaaacttaaaactttacagtcagaggttcaattcctcttcttaacaacaTACCCATGGCCAACCTCCTACTCCTCATTGTACCCATTCTAATCGCAATGGCATTCCTAATGCTTACCGAACGAAAAATTCTAGGCTATATACAACTACGCAAAGGCCCCAACGTTGTAGGCCCCTACGGGCTACTACAACCCTTCGCTGACGCCATAAAACTCTTCACCAAAGAGCCCCTAAAACCCGCCACATCTACCATCACCCTCTACATCACCGCCCCGACCTTAGCTCTCACCATCGCTCTTCTACTATGAACCCCCCTCCCCATACCCAACCCCCTGGTCAACCTCAACCTAGGCCTCCTATTTATTCTAGCCACCTCTAGCCTAGCCGTTTACTCAATCCTCTGATCAGGGTGAGCATCAAACTCAAACTACGCCCTGATCGGCGCACTGCGAGCAGTAGCCCAAACAATCTCATATGAAGTCACCCTAGCCATCATTCTACTATCAACATTACTAATAAGTGGCTCCTTTAACCTCTCCACCCTTATCACAACACAAGAACACCTCTGATTACTCCTGCCATCATGACCCTTGGCCATAATATGATTTATCTCCACACTAGCAGAGACCAACCGAACCCCCTTCGACCTTGCCGAAGGGGAGTCCGAACTAGTCTCAGGCTTCAACATCGAATACGCCGCAGGCCCCTTCGCCCTATTCTTCATAGCCGAATACACAAACATTATTATAATAAACACCCTCACCACTACAATCTTCCTAGGAACAACATATGACGCACTCTCCCCTGAACTCTACACAACATATTTTGTCACCAAGACCCTACTTCTAACCTCCCTGTTCTTATGAATTCGAACAGCATACCCCCGATTCCGCTACGACCAACTCATACACCTCCTATGAAAAAACTTCCTACCACTCACCCTAGCATTACTTATATGATATGTCTCCATACCCATTACAATCTCCAGCATTCCCCCTCAAACCTAAGAAATATGTCTGATAAAAGAGTTACTTTGATAGAGTAAATAATAGGAGCTTAAACCCCCTTATTTctaggactatgagaatcgaacccatccctgagaatccaaaattctccgtgccacctatcacaccccatcctaAAGTAAGGTCAGCTAAATAAGCTATCGGGCCCATACCCCGAAAATGTTGGTTATACCCTTCCCGTACTAATTAATCCCCTGGCCCAACCCGTCATCTACTCTACCATCTTTGCAGGCACACTCATCACAGCGCTAAGCTCGCACTGATTTTTTACCTGAGTAGGCCTAGAAATAAACATGCTAGCTTTTATTCCAGTTCTAACCAAAAAAATAAACCCTCGTTCCACAGAAGCTGCCATCAAGTATTTCCTCACGCAAGCAACCGCATCCATAATCCTTCTAATAGCTATCCTCTTCAACAATATACTCTCCGGACAATGAACCATAACCAATACTACCAATCAATACTCATCATTAATAATCATAATAGCTATAGCAATAAAACTAGGAATAGCCCCCTTTCACTTCTGAGTCCCAGAGGTTACCCAAGGCACCCCTCTGACATCCGGCCTGCTTCTTCTCACATGACAAAAACTAGCCCCCATCTCAATCATATACCAAATCTCTCCCTCACTAAACGTAAGCCTTCTCCTCACTCTCTCAATCTTATCCATCATAGCAGGCAGTTGAGGTGGATTAAACCAAACCCAGCTACGCAAAATCTTAGCATACTCCTCAATTACCCACATAGGATGAATAATAGCAGTTCTACCGTACAACCCTAACATAACCATTCTTAATTTAACTATTTATATTATCCTAACTACTACCGCATTCCTACTACTCAACTTAAACTCCAGCACCACGACCCTACTACTATCTCGCACCTGAAACAAGCTAACATGACTAACACCCTTAATTCCATCCACCCTCCTCTCCCTAGGAGGCCTGCCCCCGCTAACCGGCTTTTTGCCCAAATGGGCCATTATCGAAGAATTCACAAAAAACAATAGCCTCATCATCCCCACCATCATAGCCACCATCACCCTCCTTAACCTCTACTTCTACCTACGCCTAATCTACTCCACCTCAATCACACTACTCCCCATATCTAACAACGTAAAAATAAAATGACAGTTTGAACATACAAAACCCACCCCATTCCTCCCCACACTCATCGCCCTTACCACGCTACTCCTACCTATCTCCCCTTTTATACTAATAATCTTATAGAAATTTAGGTTAAATACAGACCAAGAGCCTTCAAAGCCCTCAGTAAGTTGCAATACTTAATTTCTGTAACAGCTAAGGACTGCAAAACCCCACTCTGCATCAACTGAACGCAAATCAGCCACTTTAATTAAGCTAAGCCCTTACTAGACCAATGGGACTTAAACCCACAAACACTTAGTTAACAGCTAAGCACCCTAATCAACTGGCTTCAATCTACTTCTCCCGCCGCCGGGAAAAAAGGCGGGAGAAGCCCCGGCAGGTTTGAAGCTGCTTCTTCGAATTTGCAATTCAATATGAAAATCACCTCGGAGCTGGTAAAAAGAGGCCTAACCCCTGTCTTTAGATTTACAGTCCAATGCTTCACTCAGCCATTTTACCTCACCCCCACTGATGTTCGCCGACCGTTGACTATTCTCTACAAACCACAAAGACATTGGAACACTATACCTATTATTCGGCGCATGAGCTGGAGTCCTAGGCACAGCTCTAAGCCTCCTTATTCGAGCCGAGCTGGGCCAGCCAGGCAACCTTCTAGGTAACGACCACATCTACAACGTTATCGTCACAGCCCATGCATTTGTAATAATCTTCTTCATAGTAATACCCATCATAATCGGAGGCTTTGGCAACTGACTAGTTCCCCTAATAATCGGTGCCCCCGATATGGCGTTTCCCCGCATAAACAACATAAGCTTCTGACTCTTACCTCCCTCTCTCCTACTCCTGCTCGCATCTGCTATAGTGGAGGCCGGAGCAGGAACAGGTTGAACAGTCTACCCTCCCTTAGCAGGGAACTACTCCCACCCTGGAGCCTCCGTAGACCTAACCATCTTCTCCTTACACCTAGCAGGTGTCTCCTCTATCTTAGGGGCCATCAATTTCATCACAACAATTATCAATATAAAACCCCCTGCCATAACCCAATACCAAACGCCCCTCTTCGTCTGATCCGTCCTAATCACAGCAGTCCTACTTCTCCTATCTCTCCCAGTCCTAGCTGCTGGCATCACTATACTACTAACAGACCGCAACCTCAACACCACCTTCTTCGACCCCGCCGGAGGAGGAGACCCCATTCTATACCAACACCTATTCTGATTTTTCGGTCACCCTGAAGTTTATATTCTTATCCTACCAGGCTTCGGAATAATCTCCCATATTGTAACTTACTACTCCGGAAAAAAAGAACCATTTGGATACATAGGTATGGTCTGAGCTATGATATCAATTGGCTTCCTAGGGTTTATCGTGTGAGCACACCATATATTTACAGTAGGAATAGACGTAGACACACGAGCATATTTCACCTCCGCTACCATAATCATCGCTATCCCCACCGGCGTCAAAGTATTTAGCTGACTCGCCACACTCCACGGAAGCAATATGAAATGATCTGCTGCAGTGCTCTGAGCCCTAGGATTCATCTTTCTTTTCACCGTAGGTGGCCTGACTGGCATTGTATTAGCAAACTCATCACTAGACATCGTACTACACGACACGTACTACGTTGTAGCCCACTTCCACTATGTCCTATCAATAGGAGCTGTATTTGCCATCATAGGAGGCTTCATTCACTGATTTCCCCTATTCTCAGGCTACACCCTAGACCAAACCTACGCCAAAATCCATTTCACTATCATATTCATCGGCGTAAATCTAACTTTCTTCCCACAACACTTTCTCGGCCTATCCGGAATGCCCCGACGTTACTCGGACTACCCCGATGCATACACCACATGAAACATCCTATCATCTGTAGGCTCATTCATTTCTCTAACAGCAGTAATATTAATAATTTTCATGATTTGAGAAGCCTTCGCTTCGAAGCGAAAAGTCCTAATAGTAGAAGAACCCTCCATAAACCTGGAGTGACTATATGGATGCCCCCCACCCTACCACACATTCGAAGAACCCGTATACATAAAATCTAGACAaaaaaggaaggaatcgaaccccccaaagctggtttcaagccaaccccatggcctccatgactttttcAAAAAGGTATTAGAAAAACCATTTCATAACTTTGTCAAAGTTAAATTATAGGCTAAATCCTATATATCTTAATGGCACATGCAGCGCAAGTAGGTCTACAAGACGCTACTTCCCCTATCATAGAAGAGCTTATCACCTTTCATGATCACGCCCTCATAATCATTTTCCTTATCTGCTTCCTAGTCCTGTATGCCCTTTTCCTAACACTCACAACAAAACTAACTAATACTAACATCTCAGACGCTCAGGAAATAGAAACCGTCTGAACTATCCTGCCCGCCATCATCCTAGTCCTCATCGCCCTCCCATCCCTACGCATCCTTTACATAACAGACGAGGTCAACGATCCCTCCCTTACCATCAAATCAATTGGCCACCAATGGTACTGAACCTACGAGTACACCGACTACGGCGGACTAATCTTCAACTCCTACATACTTCCCCCATTATTCCTAGAACCAGGCGACCTGCGACTCCTTGACGTTGACAATCGAGTAGTACTCCCGATTGAAGCCCCCATTCGTATAATAATTACATCACAAGACGTCTTGCACTCATGAGCTGTCCCCACATTAGGCTTAAAAACAGATGCAATTCCCGGACGTCTAAACCAAACCACTTTCACCGCTACACGACCGGGGGTATACTACGGTCAATGCTCTGAAATCTGTGGAGCAAACCACAGTTTCATGCCCATCGTCCTAGAATTAATTCCCCTAAAAATCTTTGAAATAGGGCCCGTATTTACCCTATAGCACCCCCTCTACCCCCTCTAGAGCCCACTGTAAAGCTAACTTAGCATTAACCTTTTAAGTTAAAGATTAAGAGAACCAACACCTCTTTACAGTGAAATGCCCCAACTAAATACTACCGTATGGCCCACCATAATTACCCCCATACTCCTTACACTATTCCTCATCACCCAACTAAAAATATTAAACACAAACTACCACCTACCTCCCTCACCAAAGCCCATAAAAATAAAAAATTATAACAAACCCTGAGAACCAAAATGAACGAAAATCTGTTCGCTTCATTCATTGCCCCCACAATCCTAGGCCTACCCGCCGCAGTACTGATCATTCTATTTCCCCCTCTATTGATCCCCACCTCCAAATATCTCATCAACAACCGACTAATCACCACCCAACAATGACTAATCAAACTAACCTCAAAACAAATGATAACCATACACAACACTAAAGGACGAACCTGATCTCTTATACTAGTATCCTTAATCATTTTTATTGCCACAACTAACCTCCTCGGACTCCTGCCTCACTCATTTACACCAACCACCCAACTATCTATAAACCTAGCCATGGCCATCCCCTTATGAGCGGGCACAGTGATTATAGGCTTTCGCTCTAAGATTAAAAATGCCCTAGCCCACTTCTTACCACAAGGCACACCTACACCCCTTATCCCCATACTAGTTATTATCGAAACCATCAGCCTACTCATTCAACCAATAGCCCTGGCCGTACGCCTAACCGCTAACATTACTGCAGGCCACCTACTCATGCACCTAATTGGAAGCGCCACCCTAGCAATATCAACCATTAACCTTCCCTCTACACTTATCATCTTCACAATTCTAATTCTACTGACTATCCTAGAAATCGCTGTCGCCTTAATCCAAGCCTACGTTTTCACACTTCTAGTAAGCCTCTACCTGCACGACAACACATAATGACCCACCAATCACATGCCTATCATATAGTAAAACCCAGCCCATGACCCCTAACAGGGGCCCTCTCAGCCCTCCTAATGACCTCCGGCCTAGCCATGTGATTTCACTTCCACTCCATAACGCTCCTCATACTAGGCCTACTAACCAACACACTAACCATATACCAATGATGGCGCGATGTAACACGAGAAAGCACATACCAAGGCCACCACACACCACCTGTCCAAAAAGGCCTTCGATACGGGATAATCCTATTTATTACCTCAGAAGTTTTTTTCTTCGCAGGATTTTTCTGAGCCTTTTACCACTCCAGCCTAGCCCCTACCCCCCAATTAGGAGGGCACTGGCCCCCAACAGGCATCACCCCGCTAAATCCCCTAGAAGTCCCACTCCTAAACACATCCGTATTACTCGCATCAGGAGTATCAATCACCTGAGCTCACCATAGTCTAATAGAAAACAACCGAAACCAAATAATTCAAGCACTGCTTATTACAATTTTACTGGGTCTCTATTTTACCCTCCTACAAGCCTCAGAGTACTTCGAGTCTCCCTTCACCATTTCCGACGGCATCTACGGCTCAACATTTTTTGTAGCCACAGGCTTCCACGGACTTCACGTCATTATTGGCTCAACTTTCCTCACTATCTGCTTCATCCGCCAACTAATATTTCACTTTACATCCAAACATCACTTTGGCTTCGAAGCCGCCGCCTGATACTGGCATTTTGTAGATGTGGTTTGACTATTTCTGTATGTCTCCATCTATTGATGAGGGTCTTACTCTTTTAGTATAAATAGTACCGTTAACTTCCAATTAACTAGTTTTGACAACATTCAAAAAAGAGTAATAAACTTCGCCTTAATTTTAATAATCAACACCCTCCTAGCCTTACTACTAATAATTATTACATTTTGACTACCACAACTCAACGGCTACATAGAAAAATCCACCCCTTACGAGTGCGGCTTCGACCCTATATCCCCCGCCCGCGTCCCTTTCTCCATAAAATTCTTCTTAGTAGCTATTACCTTCTTATTATTTGATCTAGAAATTGCCCTCCTTTTACCCCTACCATGAGCCCTACAAACAACTAACCTGCCACTAATAGTTATGTCATCCCTCTTATTAATCATCATCCTAGCCCTAAGTCTGGCCTATGAGTGACTACAAAAAGGATTAGACTGAACCGAATTGGTATATAGTTTAAACAAAACGAATGATTTCGACTCATTAAATTATGATAATCATATTTACCAAATGCCCCTCATTTACATAAATATTATACTAGCATTTACCATCTCACTTCTAGGAATACTAGTATATCGCTCACACCTCATATCCTCCCTACTATGCCTAGAAGGAATAATACTATCGCTGTTCATTATAGCTACTCTCATAACCCTCAACACCCACTCCCTCTTAGCCAATATTGTGCCTATTGCCATACTAGTCTTTGCCGCCTGCGAAGCAGCGGTGGGCCTAGCCCTACTAGTCTCAATCTCCAACACATATGGCCTAGACTACGTACATAACCTAAACCTACTCCAATGCTAAAACTAATCGTCCCAACAATTATATTACTACCACTGACATGACTTTCCAAAAAACACATAATTTGAATCAACACAACCACCCACAGCCTAATTATTAGCATCATCCCTCTACTATTTTTTAACCAAATCAACAACAACCTATTTAGCTGTTCCCCAACCTTTTCCTCCGACCCCCTAACAACCCCCCTCCTAATACTAACTACCTGACTCCTACCCCTCACAATCATGGCAAGCCAACGCCACTTATCCAGTGAACCACTATCACGAAAAAAACTCTACCTCTCTATACTAATCTCCCTACAAATCTCCTTAATTATAACATTCACAGCCACAGAACTAATCATATTTTATATCTTCTTCGAAACCACACTTATCCCCACCTTGGCTATCATCACCCGATGAGGCAACCAGCCAGAACGCCTGAACGCAGGCACATACTTCCTATTCTACACCCTAGTAGGCTCCCTTCCCCTACTCATCGCACTAATTTACACTCACAACACCCTAGGCTCACTAAACATTCTACTACTCACTCTCACTGCCCAAGAACTATCAAACTCCTGAGCCAACAACTTAATATGACTAGCTTACACAATAGCTTTTATAGTAAAGATACCTCTTTACGGACTCCACTTATGACTCCCTAAAGCCCATGTCGAAGCCCCCATCGCTGGGTCAATAGTACTTGCCGCAGTACTCTTAAAACTAGGCGGCTATGGTATAATACGCCTCACACTCATTCTCAACCCCCTGACAAAACACATAGCCTACCCCTTCCTTGTACTATCCCTATGAGGCATAATTATAACAAGCTCCATCTGCCTACGACAAACAGACCTAAAATCGCTCATTGCATACTCTTCAATCAGCCACATAGCCCTCGTAGTAACAGCCATTCTCATCCAAACCCCCTGAAGCTTCACCGGCGCAGTCATTCTCATAATCGCCCACGGGCTTACATCCTCATTACTATTCTGCCTAGCAAACTCAAACTACGAACGCACTCACAGTCGCATCATAATCCTCTCTCAAGGACTTCAAACTCTACTCCCACTAATAGCTTTTTGATGACTTCTAGCAAGCCTCGCTAACCTCGCCTTACCCCCCACTATTAACCTACTGGGAGAACTCTCTGTGCTAGTAACCACGTTCTCCTGATCAAATATCACTCTCCTACTTACAGGACTCAACATACTAGTCACAGCCCTATACTCCCTCTACATATTTACCACAACACAATGGGGCTCACTCACCCACCACATTAACAACATAAAACCCTCATTCACACGAGAAAACACCCTCATGTTCATACACCTATCCCCCATTCTCCTCCTATCCCTCAACCCCGACATCATTACCGGGTTTTCCTCTTGTAAATATAGTTTAACCAAAACATCAGATTGTGAATCTGACAACAGAGGCTTACGACCCCTTATTTACCGAGAAAGCTCACAAGAACTGCTAACTCATGCCCCCATGTCTAACAACATGGCTTTCTCAACTTTTAAAGGATAACAGCTATCCATTGGTCTTAGGCCCCAAAAATTTTGGTGCAACTCCAAATAAAAGTAATAACCATGCACACTACTATAACCACCCTAACCCTGACTTCCCTAATTCCCCCCATCCTTACCACCCTCGTTAACCCTAACAAAAAAAACTCATACCCCCATTATGTAAAATCCATTGTCGCATCCACCTTTATTATCAGTCTCTTCCCCACAACAATATTCATGTGCCTAGACCAAGAAGTTATTATCTCGAACTGACACTGAGCCACAACCCAAACAACCCAGCTCTCCCTAAGCTTCAAACTAGACTACTTCTCCATAATATTCATCCCTGTAGCATTGTTCGTTACATGGTCCATCATAGAATTCTCACTGTGATATATAAACTCAGACCCAAACATTAATCAGTTCTTCAAATATCTACTCATCTTCCTAATTACCATACTAATCTTAGTTACCGCTAACAACCTATTCCAACTGTTCATCGGCTGAGAGGGCGTAGGAATTATATCCTTCTTGCTCATCAGTTGATGATACGCCCGAGCAGATGCCAACACAGCAGCCATTCAAGCAATCCTATACAACCGTATCGGCGATATCGGTTTCATCCTCGCCTTAGCATGATTTATCCTACACTCCAACTCATGAGACCCACAACAAATAGCCCTTCTAAACGCTAATCCAAGCCTCACCCCACTACTAGGCCTCCTCCTAGCAGCAGCAGGCAAATCAGCCCAATTAGGTCTCCACCCCTGACTCCCCTCAGCCATAGAAGGCCCCACCCCAGTCTCAGCCCTACTCCACTCAAGCACTATAGTTGTAGCAGGAATCTTCTTACTCATCCGCTTCCACCCCCTAGCAGAAAATAGCCCACTAATCCAAACTCTAACACTATGCTTAGGCGCTATCACCACTCTGTTCGCAGCAGTCTGCGCCCTTACACAAAATGACATCAAAAAAATCGTAGCCTTCTCCACTTCAAGTCAACTAGGACTCATAATAGTTACAATCGGCATCAACCAACCACACCTAGCATTCCTGCACATCTGTACCCACGCCTTCTTCAAAGCCATACTATTTATGTGCTCCGGGTCCATCATCCACAACCTTAACAATGAACAAGATATTCGAAAAATAGGAGGACTACTCAAAACCATACCTCTCACTTCAACCTCCCTCACCATTGGCAGCCTAGCATTAGCAGGAATACCTTTCCTCACAGGTTTCTACTCCAAAGACCACATCATCGAAACCGCAAACATATCATACACAAACGCCTGAGCCCTATCTATTACTCTCATCGCTACCTCCCTGACAAGCGCCTATAGCACTCGAATAATTCTTCTCACCCTAACAGGTCAACCTCGCTTCCCCACCCTTACTAACATTAACGAAAATAACCCCACCCTACTAAACCCCATTAAACGCCTGGCAGCCGGAAGCCTATTCGCAGGATTTCTCATTACTAACAACATTTCCCCCGCATCCCCCTTCCAAACAACAATCCCCCTCTACCTAAAACTCACAGCCCTCGCTGTCACTTTCCTAGGACTTCTAACAGCCCTAGACCTCAACTACCTAACCAACAAACTTAAAATAAAATCCCCACTATGCACATTTTATTTCTCCAACATACTCGGATTCTACCCTAGCATCACACACCGCACAATCCCCTATCTAGGCCTTCTTACGAGCCAAAACCTGCCCCTACTCCTCCTAGACCTAACCTGACTAGAAAAGCTATTACCTAAAACAATTTCACAGCACCAAATCTCCACCTCCATCATCACCTCAACCCAAAAAGGCATAATTAAACTTTACTTCCTCTCTTTCTTCTTCCCACTCATCCTAACCCTACTCCTAATCACATAACCTATTCCCCCGAGCAATCTCAATTACAATATATACACCAACAAACAATGTTCAACCAGTAACTACTACTAATCAACGCCCATAATCATACAAAGCCCCCGCACCAATAGGATCCTCCCGAATCAACCCTGACCCCTCTCCTTCATAAATTATTCAGCTTCCTACACTATTAAAGTTTACCACAACCACCACCCCATCATACTCTTTCACCCACAGCACCAATCCTACCTCCATCGCTAACCCCACTAAAACACTCACCAAGACCTCAACCCCTGACCCCCATGCCTCAGGATACTCCTCAATAGCCATCGCTGTAGTATATCCAAAGACAACCATCATTCCCCCTAAATAAATTAAAAAAACTATTAAACCCATATAACCTCCCCCAAAATTCAGAATAATAACACACCCGACCACACCGCTAACAATCAATACTAAACCCCCATAAATAGGAGAAGGCTTAGAAGAAAACCCCACAAACCCCATTACTAAACCCACACTCAACAGAAACAAAGCATACATCATTATTCTCGCACGGACTACAACCACGACCAATGATATGAAAAACCATCGTTGTATTTCAACTACAAGAACACCAATGACCCCAATACGCAAAACTAACCCCCTAATAAAATTAATTAACCACTCATTCATCGACCTCCCCACCCCATCCAACATCTCCGCATGATGAAACTTCGGCTCACTCCTTGGCGCCTGCCTGATCCTCCAAATCACCACAGGACTATTCCTAGCCATGCACTACTCACCAGACGCCTCAACCGCCTTTTCATCAATCGCCCACATCACTCGAGACGTAAATTATGGCTGAATCATCCGCTACCTTCACGCCAATGGCGCCTCAATATTCTTTATCTGCCTCTTCCTACACATCGGGCGAGGCCTATATTACGGATCATTTCTCTACTCAGAAACCTGAAACATCGGCATTATCCTCCTGCTTGCAACTATAGCAACAGCCTTCATAGGCTATGTCCTCCCGTGAGGCCAAATATCATTCTGAGGGGCCACAGTAATTACAAACTTACTATCCGCCATCCCATACATTGGGACAGACCTAGTTCAATGAATCTGAGGAGGCTACTCAGTAGACAGTCCCACCCTCACACGATTCTTTACCTTTCACTTCATCTTGCCCTTCATTATTGCAGCCCTAGCAACACTCCACCTCCTATTCTTGCACGAAACGGGATCAAACAACCCCCTAGGAATCACCTCCCATTCCGATAAAATCACCTTCCACCCTTACTACACAATCAAAGACGCCCTCGGCTTACTTCTCTTCCTTCTCTCCTTAATGACATTAACACTATTCTCACCAGACCTCCTAGGCGACCCAGACAATTATACCCTAGCCAACCCCTTAAACACCCCTCCCCACATCAAGCCCGAATGATATTTCCTATTCGCCTACACAATTCTCCGATCCGTCCCTAACAAACTAGGAGGCGTCCTTGCCCTATTACTATCCATCCTCATCCTAGCAATAATCCCCATCCTCCATATATCCAAACAACAAAGCATAATATTTCGCCCACTAAGCCAATCACTTTATTGACTCCTAGCCGCAGACCTCCTCATTCTAACCTGAATCGGAGGACAACCAGTAAGCTACCCTTTTACCATCATTGGACAAGTAGCATCCGTACTATACTTCACAACAATCCTAATCCTAATACCAACTATCTCCCTAATTGAAAACAAAATACTCAAATGGGCCTGTCCTTGTAGTATAAACTAATACACCAGTCTTGTAAACCGGAGATGAAAACCTTTTTCCAAGGACAAATCAGAGAAAAAGTCTTTAACTCCACCATTAGCACCCAAAGCTAAGATTCTAATTTAAACTATTCTCTGTTCTTTCATGGGGAAGCAGATTTGGGTACCACCCAAGTATTGACTCACCCATCAACAACCGCTATGTATTTCGTACATTACTGCCAGCCACCATGAATATTGTACGGTACCATAAATACTTGACCACCTGTAGTACATAAAAACCCAATCCACATCAAAACCCCCTCCCCATGCTTACAAGcaagtacagcaatcaaccctcaactatcacacatcaactgcaactCCAAAGCCACCCCTCACCCACTAGGATACCAACAAACCTACCCACCCTTAACAGTACATAGTACATAAAGCCATTTACCGTACATAGCACATTACAGTCAAATCCCTTCTCGTCCCCATGGATGACCCCCCTCAGATAGGGGTCCCTTGACCACCATCCTCCGTGAAATCAATATCCCGCACAAGAGTGCTACTCTCCTCGCTCCGGGCCCATAACACTTGGGGGTAGCTAAAGTGAACTGTATCCGACATCTGGTTCCTACTTCAGGGTCATAAAGCCTAAATAGCCCACACGTTCCCCTTAAATAAGACATCACGATG\n"
          ]
        }
      ]
    },
    {
      "cell_type": "markdown",
      "source": [
        "#2.6 Getting data from public sources\n",
        "\n",
        "\n"
      ],
      "metadata": {
        "id": "6mgq568kTrur"
      }
    },
    {
      "cell_type": "markdown",
      "source": [
        "##2.6.1 The manual way\n",
        "\n",
        "Explore genome browser: https://genome.ucsc.edu/\n",
        "\n",
        "Go to ncbi and find your gene. Browse around and see what information is there.\n",
        "\n",
        "We will do this together in class on Wednesday\n",
        "\n",
        "What happens if you have a sequence and want to know where it is in the genome?\n",
        "\n",
        "We will cover BLAT and BLAST in class together"
      ],
      "metadata": {
        "id": "vQYQXW6CT8Mn"
      }
    },
    {
      "cell_type": "markdown",
      "source": [
        "## 2.6.2 Data commons\n",
        "More extensive guide on data commons here:\n",
        "\n",
        "https://colab.research.google.com/github/datacommonsorg/api-python/blob/master/notebooks/analyzing_genomic_data.ipynb\n",
        "\n",
        "We will do some programmatic access in a later workshop"
      ],
      "metadata": {
        "id": "5nlNv63Qw6y_"
      }
    },
    {
      "cell_type": "code",
      "source": [
        "# Install datacommons - only need to run this once\n",
        "!pip install --upgrade --quiet datacommons\n",
        "\n",
        "#We might need some of this stuff\n",
        "# Import Data Commons\n",
        "import datacommons as dc\n",
        "\n",
        "# Import other required libraries\n",
        "import matplotlib.pyplot as plt\n",
        "import matplotlib.patches as mpatches\n",
        "import pandas as pd\n",
        "import requests\n",
        "import json"
      ],
      "metadata": {
        "colab": {
          "base_uri": "https://localhost:8080/"
        },
        "id": "dfaCo5-7w-5T",
        "outputId": "ef087ccb-86c6-4ce8-a463-09e0736f8499"
      },
      "execution_count": null,
      "outputs": [
        {
          "output_type": "stream",
          "name": "stdout",
          "text": [
            "\u001b[?25l     \u001b[90m━━━━━━━━━━━━━━━━━━━━━━━━━━━━━━━━━━━━━━━━\u001b[0m \u001b[32m0.0/46.5 KB\u001b[0m \u001b[31m?\u001b[0m eta \u001b[36m-:--:--\u001b[0m\r\u001b[2K     \u001b[90m━━━━━━━━━━━━━━━━━━━━━━━━━━━━━━━━━━━━━━━━\u001b[0m \u001b[32m46.5/46.5 KB\u001b[0m \u001b[31m5.0 MB/s\u001b[0m eta \u001b[36m0:00:00\u001b[0m\n",
            "\u001b[?25h"
          ]
        }
      ]
    },
    {
      "cell_type": "code",
      "source": [
        "#Example getting P53 coordinates using data commons\n",
        "\n",
        "#First we will make a dataframe to store data\n",
        "df_P53 = pd.DataFrame({'gene': ['bio/hg38_TP53']})\n",
        "\n",
        "#This function will get the chromosome that the gene is in\n",
        "df_P53['chromosome'] = df_P53['gene'].map(dc.get_property_values(df_P53['gene'], 'inChromosome'))\n",
        "#print(df_P53['chromosome'].iloc[0])\n",
        "#This function will get the genomic coordinates\n",
        "df_P53['genomicCoordinates'] = df_P53['gene'].map(dc.get_property_values(df_P53['gene'], 'genomicCoordinates'))\n",
        "\n",
        "#This function will get the first transcript, you may want to look at others\n",
        "df_P53['rnaTranscript'] = df_P53['gene'].map(dc.get_property_values(df_P53['gene'], 'hasRNATranscript'))\n",
        "\n",
        "P53_transcript = df_P53.iloc[0]['rnaTranscript'][0]\n",
        "\n",
        "#We need to know if this gene is on the positive or negative strand\n",
        "df_P53['posstrandOrientation'] = df_P53['gene'].map(dc.get_property_values(df_P53['gene'], 'strandOrientation'))\n",
        "posstrand = False\n",
        "if(df_P53['posstrandOrientation'].iloc[0][0]=='StrandOrientationPositive'):\n",
        "  print('Gene is on positive strand')\n",
        "elif(df_P53['posstrandOrientation'].iloc[0][0]=='StrandOrientationNegative'):\n",
        "  print('Gene is on negative strand')\n",
        "  posstrand=False\n",
        "else:\n",
        "  print('error reading strand orientation')\n",
        "\n",
        "#This function will get the coding coordinates\n",
        "temp_dict = dc.get_property_values([P53_transcript], 'codingCoordinates')\n",
        "\n",
        "for value in temp_dict[P53_transcript]:\n",
        "  tempvalue = value.replace('Position','')\n",
        "  templist = tempvalue.split(\"To\")\n",
        "  codingstart = templist[0]\n",
        "  codingend = templist[1]\n",
        "print('Coding coordinates run from '+codingstart+' to '+codingend+ ' on chromosome '+ df_P53['chromosome'].iloc[0][0])\n",
        "#This function will get exon coordinates and put them in a set\n",
        "temp_dict = dc.get_property_values([P53_transcript], 'exonCoordinates')\n",
        "\n",
        "exoncords = pd.DataFrame(columns=['exonnum', 'exonstart', 'exonend'])\n",
        "#A python set that includes start and stop for each exon\n",
        "for i,value in enumerate(temp_dict[P53_transcript]):\n",
        "  tempvalue = value.replace('Position','')\n",
        "  templist = tempvalue.split(\"To\")\n",
        "  if(posstrand):\n",
        "    exonvalue = i+1\n",
        "  else:\n",
        "    exonvalue = len(temp_dict[P53_transcript])-(i)\n",
        "  exoncords.loc[len(exoncords.index)] = ['Exon '+str(exonvalue), templist[0],templist[1]]\n",
        "print('exon coordinates:')\n",
        "print(exoncords)\n",
        "\n",
        "#Now we can get the sequences from the coordinates. Let's use NIH Entrez tool for that"
      ],
      "metadata": {
        "colab": {
          "base_uri": "https://localhost:8080/"
        },
        "id": "vz43PvfVw9tx",
        "outputId": "7b7e25ce-189c-43a4-de29-271d44114306"
      },
      "execution_count": null,
      "outputs": [
        {
          "output_type": "stream",
          "name": "stdout",
          "text": [
            "Gene is on negative strand\n",
            "Coding coordinates run from 7669608 to 7676594 on chromosome bio/hg38_chr17\n",
            "exon coordinates:\n",
            "    exonnum exonstart  exonend\n",
            "0   Exon 11   7668401  7669690\n",
            "1   Exon 10   7670608  7670715\n",
            "2    Exon 9   7673534  7673608\n",
            "3    Exon 8   7673700  7673837\n",
            "4    Exon 7   7674180  7674290\n",
            "5    Exon 6   7674858  7674971\n",
            "6    Exon 5   7675052  7675236\n",
            "7    Exon 4   7675993  7676272\n",
            "8    Exon 3   7676381  7676403\n",
            "9    Exon 2   7676520  7676622\n",
            "10   Exon 1   7687376  7687538\n"
          ]
        }
      ]
    },
    {
      "cell_type": "markdown",
      "source": [
        "## 2.6.3 UCSC XML"
      ],
      "metadata": {
        "id": "6t9JBTkWYv4u"
      }
    },
    {
      "cell_type": "code",
      "source": [
        "#Here is a hacky version of getting sequence data by chromosome from UCSC\n",
        "#The function takes in a chromosome and start and stop coords. I made it\n",
        "#where it will give an error if you ask for more than 1000 bp\n",
        "import pandas as pd\n",
        "def getseqdatafromcoords(chr_num_as_str, start, stop):\n",
        "  if(stop<start):\n",
        "    print('warning, your start and stop coordinates are inverted')\n",
        "    return ''\n",
        "  if(stop - start > 2000):\n",
        "    print('warning, you asked for a seq larger than 2000 bp')\n",
        "    return ''\n",
        "  url_for_seq = 'http://genome.ucsc.edu/cgi-bin/das/hg38/dna?segment=chr'+str(chr_num_as_str)+':'+str(start)+','+str(stop)\n",
        "  print(url_for_seq)\n",
        "  df = pd.read_csv(url_for_seq)\n",
        "  seq = ''\n",
        "  index = 4\n",
        "  while True:\n",
        "    df.iat[index,0]\n",
        "    seq = seq+df.iat[index,0]\n",
        "    index = index +1\n",
        "    if (df.iat[index,0]==\"</DNA>\"):\n",
        "      print('break')\n",
        "      break\n",
        "  return seq\n",
        "\n",
        "get_seq = getseqdatafromcoords('X', 83803112, 83803313)\n",
        "print(get_seq)"
      ],
      "metadata": {
        "colab": {
          "base_uri": "https://localhost:8080/"
        },
        "id": "Q1l-PNdVXbdd",
        "outputId": "acc66d36-eae4-485c-d1eb-7d001f591cd6"
      },
      "execution_count": null,
      "outputs": [
        {
          "output_type": "stream",
          "name": "stdout",
          "text": [
            "http://genome.ucsc.edu/cgi-bin/das/hg38/dna?segment=chrX:83803112,83803313\n",
            "break\n",
            "ttcgatttaatcattttgtgtactggtaggctttgattcctttctgtttctcctgtgtatctactgcaggatttttagtgacattgcaatgaggcttacatacagcatcctatagtgatatcagtttattttaagttgataacaacttaattttgacatgtctttattttctgttagtaccattataatacatatattgcaa\n"
          ]
        }
      ]
    },
    {
      "cell_type": "markdown",
      "source": [
        "## 2.6.4 Entrez\n",
        "**From Biopython guide:**\n",
        "\n",
        "Before using Biopython to access the NCBI’s online resources (via Bio.Entrez or some of the other modules), please read the NCBI’s Entrez User Requirements. If the NCBI finds you are abusing their systems, they can and will ban your access!\n",
        "\n",
        "**To paraphrase:**\n",
        "\n",
        "* For any series of more than 100 requests, do this at weekends or outside USA peak times. This is up to you to obey.\n",
        "* Use the https://eutils.ncbi.nlm.nih.gov address, not the standard NCBI Web address. Biopython uses this web address.\n",
        "* If you are using a API key, you can make at most 10 queries per second, otherwise at most 3 queries per second. This is automatically enforced by Biopython. Include api_key=\"MyAPIkey\" in the argument list or set it as a module level variable:\n",
        "```\n",
        ">>> from Bio import Entrez\n",
        ">>> Entrez.api_key = \"MyAPIkey\"\n",
        "```\n",
        "* Use the optional email parameter so the NCBI can contact you if there is a problem. You can either explicitly set this as a parameter with each call to Entrez (e.g. include email=\"A.N.Other@example.com\" in the argument list), or you can set a global email address:\n",
        "```\n",
        ">>> from Bio import Entrez\n",
        ">>> Entrez.email = \"A.N.Other@example.com\"\n",
        "```\n",
        "* Bio.Entrez will then use this email address with each call to Entrez. The example.com address is a reserved domain name specifically for documentation (RFC 2606). Please DO NOT use a random email – it’s better not to give an email at all. The email parameter has been mandatory since June 1, 2010. In case of excessive usage, NCBI will attempt to contact a user at the e-mail address provided prior to blocking access to the E-utilities.\n",
        "* If you are using Biopython within some larger software suite, use the tool parameter to specify this. You can either explicitly set the tool name as a parameter with each call to Entrez (e.g. include tool=\"MyLocalScript\" in the argument list), or you can set a global tool name:\n",
        "```\n",
        ">>> from Bio import Entrez\n",
        ">>> Entrez.tool = \"MyLocalScript\"\n",
        "```\n",
        "* The tool parameter will default to Biopython.\n",
        "* For large queries, the NCBI also recommend using their session history feature (the WebEnv session cookie string, see Section ‍9.16). This is only slightly more complicated."
      ],
      "metadata": {
        "id": "ocIDd-Hii7SO"
      }
    },
    {
      "cell_type": "markdown",
      "source": [
        "  \n",
        "  |chr id for entrez | Length (bp) | Name\n",
        "  |:-:|:-:|:-:\n",
        "  NC_000001.11  |  248956422  |  Homo sapiens chromosome 1\n",
        "  NC_000002.12  |  242193529  |  Homo sapiens chromosome 2\n",
        "  NC_000003.12  |  198295559  |  Homo sapiens chromosome 3\n",
        "  NC_000004.12  |  190214555  |  Homo sapiens chromosome 4\n",
        "  NC_000005.10  |  181538259  |  Homo sapiens chromosome 5\n",
        "  NC_000006.12  |  170805979  |  Homo sapiens chromosome 6\n",
        "  NC_000007.14  |  159345973  |  Homo sapiens chromosome 7\n",
        "  NC_000008.11  |  145138636  |  Homo sapiens chromosome 8\n",
        "  NC_000009.12  |  138394717  |  Homo sapiens chromosome 9\n",
        "  NC_000010.11  |  133797422  |  Homo sapiens chromosome 10\n",
        "  NC_000011.10  |  135086622  |  Homo sapiens chromosome 11\n",
        "  NC_000012.12  |  133275309  |  Homo sapiens chromosome 12\n",
        "  NC_000013.11  |  114364328  |  Homo sapiens chromosome 13\n",
        "  NC_000014.9   |  107043718  |  Homo sapiens chromosome 14\n",
        "  NC_000015.10  |  101991189  |  Homo sapiens chromosome 15\n",
        "  NC_000016.10  |  90338345   |  Homo sapiens chromosome 16\n",
        "  NC_000017.11  |  83257441   |  Homo sapiens chromosome 17\n",
        "  NC_000018.10  |  80373285   |  Homo sapiens chromosome 18\n",
        "  NC_000019.10  |  58617616   |  Homo sapiens chromosome 19\n",
        "  NC_000020.11  |  64444167   |  Homo sapiens chromosome 20\n",
        "  NC_000021.9   |  46709983   |  Homo sapiens chromosome 21\n",
        "  NC_000022.11  |  50818468   |  Homo sapiens chromosome 22\n",
        "  NC_000023.11  |  156040895  |  Homo sapiens chromosome X\n",
        "  NC_000024.10  |  57227415   |  Homo sapiens chromosome Y\n",
        "  NC_012920.1   |  16569      |  Homo sapiens mitochondrion"
      ],
      "metadata": {
        "id": "51TSicILIUTe"
      }
    },
    {
      "cell_type": "markdown",
      "source": [
        "##2.6.5 BLAST and BLAT\n",
        "\n",
        "What if you have the opposite problem - you have a sequence and you want to know what organism it is from - or where it is located in the genome.\n",
        "\n",
        "We can use two tools for this - BLAST (NCBI) or BLAT (UCSC).\n",
        "\n",
        "BLAT works with genome browser to show you where your sequence is located.\n",
        "\n",
        "Try using BLAT with your mRNA sequence to see where your sequence is located\n",
        "\n",
        "Try using BLAST to identify what organism has the following sequence in it's genome?\n",
        "```\n",
        ">Unknown seqeunce\n",
        "TTGAAATTTCGTAGTTTTAAATAACTTTAAGGCTTCGATAATGTTTGACA\n",
        "CGTTAAGGCATGGGCATGGACATGTGAGCAGTGAATTGAGTCATGGATTC\n",
        "GGGGTTCGATGGATGGGTGGTGGGGGAGTGGTGTTAATGGAGGTATTACA\n",
        "CGAGGCTTACAATCAGACAGTATATGTACAAATGTCTGCCGTGGGTGCAA\n",
        "CCAAAAGAGGCTTGACTCGCGAGCTGAGCAATCTATCTGCACGGCCGATA\n",
        "```"
      ],
      "metadata": {
        "id": "agwr-yssFVhf"
      }
    },
    {
      "cell_type": "markdown",
      "source": [
        "##2.6.6 Programmatic access to public databases\n",
        "This section is still a work in progress. Feel free to use some of the code from it as needed. We will probably skip this section in class\n"
      ],
      "metadata": {
        "id": "OOIbd1nxY3Qx"
      }
    },
    {
      "cell_type": "markdown",
      "source": [
        "#2.7 Biopython and getting sequence data\n",
        "\n"
      ],
      "metadata": {
        "id": "NRxLaswlbjN4"
      }
    },
    {
      "cell_type": "markdown",
      "source": [
        "##2.7.1 Extended Code\n",
        "* A, T, C, G – already defined\n",
        "* N = “Any” = A,T,C, or G\n",
        "* R = “puRine” = G or A\n",
        "* Y = “pYrimidine” = C or T\n",
        "* S = “Strong” = G or C\n",
        "* W = “Weak” = A or T\n",
        "* K = “Keto” = G or T\n",
        "* M = “Amino” = A or C\n",
        "* B = “anything but A” = T, C, or G\n",
        "* D = “anything but C” = A, T, or G\n",
        "* H = “Anything but G” = A,T, or C\n",
        "* V = “anything but T” = A, C, or G"
      ],
      "metadata": {
        "id": "R1uLWdUsFB6Q"
      }
    },
    {
      "cell_type": "markdown",
      "source": [
        "## 2.7.2 Getting Biopython running on google colab"
      ],
      "metadata": {
        "id": "xNaxFhtQ062F"
      }
    },
    {
      "cell_type": "code",
      "source": [
        "#This code block tries to print the biopython version. If that fails, it will\n",
        "#install biopython. When you run this cell again, it won't install and will\n",
        "#simply check if it's installed and print the version\n",
        "try:\n",
        "  print(\"Biopython version:\", Bio.__version__)\n",
        "except:\n",
        "  !pip install biopython #(uncomment - need to do this once per session)\n",
        "  import Bio"
      ],
      "metadata": {
        "colab": {
          "base_uri": "https://localhost:8080/"
        },
        "id": "x9aE2HNTBATo",
        "outputId": "c8135206-1611-4a2c-a996-c3ec3b9abedb"
      },
      "execution_count": null,
      "outputs": [
        {
          "output_type": "stream",
          "name": "stdout",
          "text": [
            "Looking in indexes: https://pypi.org/simple, https://us-python.pkg.dev/colab-wheels/public/simple/\n",
            "Collecting biopython\n",
            "  Downloading biopython-1.80-cp38-cp38-manylinux_2_17_x86_64.manylinux2014_x86_64.whl (3.1 MB)\n",
            "\u001b[2K     \u001b[90m━━━━━━━━━━━━━━━━━━━━━━━━━━━━━━━━━━━━━━━━\u001b[0m \u001b[32m3.1/3.1 MB\u001b[0m \u001b[31m34.0 MB/s\u001b[0m eta \u001b[36m0:00:00\u001b[0m\n",
            "\u001b[?25hRequirement already satisfied: numpy in /usr/local/lib/python3.8/dist-packages (from biopython) (1.21.6)\n",
            "Installing collected packages: biopython\n",
            "Successfully installed biopython-1.80\n"
          ]
        }
      ]
    },
    {
      "cell_type": "markdown",
      "source": [
        "## 2.7.3 Example sequence analysis"
      ],
      "metadata": {
        "id": "QrLnuyev1ArN"
      }
    },
    {
      "cell_type": "code",
      "source": [
        "import os\n",
        "import sys\n",
        "\n",
        "import urllib.request\n",
        "from urllib.request import urlretrieve\n",
        "\n",
        "import Bio\n",
        "from Bio import SeqIO, SearchIO, Entrez\n",
        "from Bio.Seq import Seq\n",
        "\n",
        "\n",
        "\n",
        "from Bio.SeqUtils import gc_fraction\n",
        "\n",
        "#Our function from last week as an example\n",
        "def dna_count2(s):\n",
        "  return s.count(\"A\"), s.count(\"G\"), s.count(\"C\"), s.count(\"T\")\n",
        "\n",
        "print(\"Biopython version:\", Bio.__version__) #comfirm it works\n",
        "input_file = \"unknown-sequence.fa\"\n",
        "\n",
        "fasta_loc = (\"https://raw.githubusercontent.com/chris-rands/\"\n",
        "             \"biopython-coronavirus/master/unknown-sequence.fa\")\n",
        "\n",
        "#This is one route to import data from github into biopython\n",
        "if not os.path.exists(input_file):\n",
        "    urlretrieve(fasta_loc, input_file)\n",
        "for record in SeqIO.parse(input_file, \"fasta\"):\n",
        "    print(record.id)\n",
        "\n",
        "print(record.seq)\n",
        "\n",
        "(num_a, num_g, num_c, num_T) = dna_count2(record.seq)\n",
        "print(\"There are \"+str(num_a)+\" A nucleotides in the unknown seq\")\n",
        "#print the GC content using built in package\n",
        "print('The GC percentage is: '+str(round((Bio.SeqUtils.gc_fraction(record.seq)*100),2))+'%')\n",
        "print(record.seq.reverse_complement())\n",
        "my_dna = Seq(\"ATCGnnNNatcgR\")\n",
        "print(my_dna.reverse_complement())"
      ],
      "metadata": {
        "colab": {
          "base_uri": "https://localhost:8080/"
        },
        "id": "T6z02HXpAzTN",
        "outputId": "0d079753-995f-4875-e63b-fcbf7bbe2f69"
      },
      "execution_count": null,
      "outputs": [
        {
          "output_type": "stream",
          "name": "stdout",
          "text": [
            "Biopython version: 1.80\n",
            "Unknown_sequence\n",
            "ATTAAAGGTTTATACCTTCCCAGGTAACAAACCAACCAACTTTCGATCTCTTGTAGATCTGTTCTCTAAACGAACTTTAAAATCTGTGTGGCTGTCACTCGGCTGCATGCTTAGTGCACTCACGCAGTATAATTAATAACTAATTACTGTCGTTGACAGGACACGAGTAACTCGTCTATCTTCTGCAGGCTGCTTACGGTTTCGTCCGTGTTGCAGCCGATCATCAGCACATCTAGGTTTCGTCCGGGTGTGACCGAAAGGTAAGATGGAGAGCCTTGTCCCTGGTTTCAACGAGAAAACACACGTCCAACTCAGTTTGCCTGTTTTACAGGTTCGCGACGTGCTCGTACGTGGCTTTGGAGACTCCGTGGAGGAGGTCTTATCAGAGGCACGTCAACATCTTAAAGATGGCACTTGTGGCTTAGTAGAAGTTGAAAAAGGCGTTTTGCCTCAACTTGAACAGCCCTATGTGTTCATCAAACGTTCGGATGCTCGAACTGCACCTCATGGTCATGTTATGGTTGAGCTGGTAGCAGAACTCGAAGGCATTCAGTACGGTCGTAGTGGTGAGACACTTGGTGTCCTTGTCCCTCATGTGGGCGAAATACCAGTGGCTTACCGCAAGGTTCTTCTTCGTAAGAACGGTAATAAAGGAGCTGGTGGCCATAGTTACGGCGCCGATCTAAAGTCATTTGACTTAGGCGACGAGCTTGGCACTGATCCTTATGAAGATTTTCAAGAAAACTGGAACACTAAACATAGCAGTGGTGTTACCCGTGAACTCATGCGTGAGCTTAACGGAGGGGCATACACTCGCTATGTCGATAACAACTTCTGTGGCCCTGATGGCTACCCTCTTGAGTGCATTAAAGACCTTCTAGCACGTGCTGGTAAAGCTTCATGCACTTTGTCCGAACAACTGGACTTTATTGACACTAAGAGGGGTGTATACTGCTGCCGTGAACATGAGCATGAAATTGCTTGGTACACGGAACGTTCTGAAAAGAGCTATGAATTGCAGACACCTTTTGAAATTAAATTGGCAAAGAAATTTGACACCTTCAATGGGGAATGTCCAAATTTTGTATTTCCCTTAAATTCCATAATCAAGACTATTCAACCAAGGGTTGAAAAGAAAAAGCTTGATGGCTTTATGGGTAGAATTCGATCTGTCTATCCAGTTGCGTCACCAAATGAATGCAACCAAATGTGCCTTTCAACTCTCATGAAGTGTGATCATTGTGGTGAAACTTCATGGCAGACGGGCGATTTTGTTAAAGCCACTTGCGAATTTTGTGGCACTGAGAATTTGACTAAAGAAGGTGCCACTACTTGTGGTTACTTACCCCAAAATGCTGTTGTTAAAATTTATTGTCCAGCATGTCACAATTCAGAAGTAGGACCTGAGCATAGTCTTGCCGAATACCATAATGAATCTGGCTTGAAAACCATTCTTCGTAAGGGTGGTCGCACTATTGCCTTTGGAGGCTGTGTGTTCTCTTATGTTGGTTGCCATAACAAGTGTGCCTATTGGGTTCCACGTGCTAGCGCTAACATAGGTTGTAACCATACAGGTGTTGTTGGAGAAGGTTCCGAAGGTCTTAATGACAACCTTCTTGAAATACTCCAAAAAGAGAAAGTCAACATCAATATTGTTGGTGACTTTAAACTTAATGAAGAGATCGCCATTATTTTGGCATCTTTTTCTGCTTCCACAAGTGCTTTTGTGGAAACTGTGAAAGGTTTGGATTATAAAGCATTCAAACAAATTGTTGAATCCTGTGGTAATTTTAAAGTTACAAAAGGAAAAGCTAAAAAAGGTGCCTGGAATATTGGTGAACAGAAATCAATACTGAGTCCTCTTTATGCATTTGCATCAGAGGCTGCTCGTGTTGTACGATCAATTTTCTCCCGCACTCTTGAAACTGCTCAAAATTCTGTGCGTGTTTTACAGAAGGCCGCTATAACAATACTAGATGGAATTTCACAGTATTCACTGAGACTCATTGATGCTATGATGTTCACATCTGATTTGGCTACTAACAATCTAGTTGTAATGGCCTACATTACAGGTGGTGTTGTTCAGTTGACTTCGCAGTGGCTAACTAACATCTTTGGCACTGTTTATGAAAAACTCAAACCCGTCCTTGATTGGCTTGAAGAGAAGTTTAAGGAAGGTGTAGAGTTTCTTAGAGACGGTTGGGAAATTGTTAAATTTATCTCAACCTGTGCTTGTGAAATTGTCGGTGGACAAATTGTCACCTGTGCAAAGGAAATTAAGGAGAGTGTTCAGACATTCTTTAAGCTTGTAAATAAATTTTTGGCTTTGTGTGCTGACTCTATCATTATTGGTGGAGCTAAACTTAAAGCCTTGAATTTAGGTGAAACATTTGTCACGCACTCAAAGGGATTGTACAGAAAGTGTGTTAAATCCAGAGAAGAAACTGGCCTACTCATGCCTCTAAAAGCCCCAAAAGAAATTATCTTCTTAGAGGGAGAAACACTTCCCACAGAAGTGTTAACAGAGGAAGTTGTCTTGAAAACTGGTGATTTACAACCATTAGAACAACCTACTAGTGAAGCTGTTGAAGCTCCATTGGTTGGTACACCAGTTTGTATTAACGGGCTTATGTTGCTCGAAATCAAAGACACAGAAAAGTACTGTGCCCTTGCACCTAATATGATGGTAACAAACAATACCTTCACACTCAAAGGCGGTGCACCAACAAAGGTTACTTTTGGTGATGACACTGTGATAGAAGTGCAAGGTTACAAGAGTGTGAATATCACTTTTGAACTTGATGAAAGGATTGATAAAGTACTTAATGAGAAGTGCTCTGCCTATACAGTTGAACTCGGTACAGAAGTAAATGAGTTCGCCTGTGTTGTGGCAGATGCTGTCATAAAAACTTTGCAACCAGTATCTGAATTACTTACACCACTGGGCATTGATTTAGATGAGTGGAGTATGGCTACATACTACTTATTTGATGAGTCTGGTGAGTTTAAATTGGCTTCACATATGTATTGTTCTTTCTACCCTCCAGATGAGGATGAAGAAGAAGGTGATTGTGAAGAAGAAGAGTTTGAGCCATCAACTCAATATGAGTATGGTACTGAAGATGATTACCAAGGTAAACCTTTGGAATTTGGTGCCACTTCTGCTGCTCTTCAACCTGAAGAAGAGCAAGAAGAAGATTGGTTAGATGATGATAGTCAACAAACTGTTGGTCAACAAGACGGCAGTGAGGACAATCAGACAACTACTATTCAAACAATTGTTGAGGTTCAACCTCAATTAGAGATGGAACTTACACCAGTTGTTCAGACTATTGAAGTGAATAGTTTTAGTGGTTATTTAAAACTTACTGACAATGTATACATTAAAAATGCAGACATTGTGGAAGAAGCTAAAAAGGTAAAACCAACAGTGGTTGTTAATGCAGCCAATGTTTACCTTAAACATGGAGGAGGTGTTGCAGGAGCCTTAAATAAGGCTACTAACAATGCCATGCAAGTTGAATCTGATGATTACATAGCTACTAATGGACCACTTAAAGTGGGTGGTAGTTGTGTTTTAAGCGGACACAATCTTGCTAAACACTGTCTTCATGTTGTCGGCCCAAATGTTAACAAAGGTGAAGACATTCAACTTCTTAAGAGTGCTTATGAAAATTTTAATCAGCACGAAGTTCTACTTGCACCATTATTATCAGCTGGTATTTTTGGTGCTGACCCTATACATTCTTTAAGAGTTTGTGTAGATACTGTTCGCACAAATGTCTACTTAGCTGTCTTTGATAAAAATCTCTATGACAAACTTGTTTCAAGCTTTTTGGAAATGAAGAGTGAAAAGCAAGTTGAACAAAAGATCGCTGAGATTCCTAAAGAGGAAGTTAAGCCATTTATAACTGAAAGTAAACCTTCAGTTGAACAGAGAAAACAAGATGATAAGAAAATCAAAGCTTGTGTTGAAGAAGTTACAACAACTCTGGAAGAAACTAAGTTCCTCACAGAAAACTTGTTACTTTATATTGACATTAATGGCAATCTTCATCCAGATTCTGCCACTCTTGTTAGTGACATTGACATCACTTTCTTAAAGAAAGATGCTCCATATATAGTGGGTGATGTTGTTCAAGAGGGTGTTTTAACTGCTGTGGTTATACCTACTAAAAAGGCTGGTGGCACTACTGAAATGCTAGCGAAAGCTTTGAGAAAAGTGCCAACAGACAATTATATAACCACTTACCCGGGTCAGGGTTTAAATGGTTACACTGTAGAGGAGGCAAAGACAGTGCTTAAAAAGTGTAAAAGTGCCTTTTACATTCTACCATCTATTATCTCTAATGAGAAGCAAGAAATTCTTGGAACTGTTTCTTGGAATTTGCGAGAAATGCTTGCACATGCAGAAGAAACACGCAAATTAATGCCTGTCTGTGTGGAAACTAAAGCCATAGTTTCAACTATACAGCGTAAATATAAGGGTATTAAAATACAAGAGGGTGTGGTTGATTATGGTGCTAGATTTTACTTTTACACCAGTAAAACAACTGTAGCGTCACTTATCAACACACTTAACGATCTAAATGAAACTCTTGTTACAATGCCACTTGGCTATGTAACACATGGCTTAAATTTGGAAGAAGCTGCTCGGTATATGAGATCTCTCAAAGTGCCAGCTACAGTTTCTGTTTCTTCACCTGATGCTGTTACAGCGTATAATGGTTATCTTACTTCTTCTTCTAAAACACCTGAAGAACATTTTATTGAAACCATCTCACTTGCTGGTTCCTATAAAGATTGGTCCTATTCTGGACAATCTACACAACTAGGTATAGAATTTCTTAAGAGAGGTGATAAAAGTGTATATTACACTAGTAATCCTACCACATTCCACCTAGATGGTGAAGTTATCACCTTTGACAATCTTAAGACACTTCTTTCTTTGAGAGAAGTGAGGACTATTAAGGTGTTTACAACAGTAGACAACATTAACCTCCACACGCAAGTTGTGGACATGTCAATGACATATGGACAACAGTTTGGTCCAACTTATTTGGATGGAGCTGATGTTACTAAAATAAAACCTCATAATTCACATGAAGGTAAAACATTTTATGTTTTACCTAATGATGACACTCTACGTGTTGAGGCTTTTGAGTACTACCACACAACTGATCCTAGTTTTCTGGGTAGGTACATGTCAGCATTAAATCACACTAAAAAGTGGAAATACCCACAAGTTAATGGTTTAACTTCTATTAAATGGGCAGATAACAACTGTTATCTTGCCACTGCATTGTTAACACTCCAACAAATAGAGTTGAAGTTTAATCCACCTGCTCTACAAGATGCTTATTACAGAGCAAGGGCTGGTGAAGCTGCTAACTTTTGTGCACTTATCTTAGCCTACTGTAATAAGACAGTAGGTGAGTTAGGTGATGTTAGAGAAACAATGAGTTACTTGTTTCAACATGCCAATTTAGATTCTTGCAAAAGAGTCTTGAACGTGGTGTGTAAAACTTGTGGACAACAGCAGACAACCCTTAAGGGTGTAGAAGCTGTTATGTACATGGGCACACTTTCTTATGAACAATTTAAGAAAGGTGTTCAGATACCTTGTACGTGTGGTAAACAAGCTACAAAATATCTAGTACAACAGGAGTCACCTTTTGTTATGATGTCAGCACCACCTGCTCAGTATGAACTTAAGCATGGTACATTTACTTGTGCTAGTGAGTACACTGGTAATTACCAGTGTGGTCACTATAAACATATAACTTCTAAAGAAACTTTGTATTGCATAGACGGTGCTTTACTTACAAAGTCCTCAGAATACAAAGGTCCTATTACGGATGTTTTCTACAAAGAAAACAGTTACACAACAACCATAAAACCAGTTACTTATAAATTGGATGGTGTTGTTTGTACAGAAATTGACCCTAAGTTGGACAATTATTATAAGAAAGACAATTCTTATTTCACAGAGCAACCAATTGATCTTGTACCAAACCAACCATATCCAAACGCAAGCTTCGATAATTTTAAGTTTGTATGTGATAATATCAAATTTGCTGATGATTTAAACCAGTTAACTGGTTATAAGAAACCTGCTTCAAGAGAGCTTAAAGTTACATTTTTCCCTGACTTAAATGGTGATGTGGTGGCTATTGATTATAAACACTACACACCCTCTTTTAAGAAAGGAGCTAAATTGTTACATAAACCTATTGTTTGGCATGTTAACAATGCAACTAATAAAGCCACGTATAAACCAAATACCTGGTGTATACGTTGTCTTTGGAGCACAAAACCAGTTGAAACATCAAATTCGTTTGATGTACTGAAGTCAGAGGACGCGCAGGGAATGGATAATCTTGCCTGCGAAGATCTAAAACCAGTCTCTGAAGAAGTAGTGGAAAATCCTACCATACAGAAAGACGTTCTTGAGTGTAATGTGAAAACTACCGAAGTTGTAGGAGACATTATACTTAAACCAGCAAATAATAGTTTAAAAATTACAGAAGAGGTTGGCCACACAGATCTAATGGCTGCTTATGTAGACAATTCTAGTCTTACTATTAAGAAACCTAATGAATTATCTAGAGTATTAGGTTTGAAAACCCTTGCTACTCATGGTTTAGCTGCTGTTAATAGTGTCCCTTGGGATACTATAGCTAATTATGCTAAGCCTTTTCTTAACAAAGTTGTTAGTACAACTACTAACATAGTTACACGGTGTTTAAACCGTGTTTGTACTAATTATATGCCTTATTTCTTTACTTTATTGCTACAATTGTGTACTTTTACTAGAAGTACAAATTCTAGAATTAAAGCATCTATGCCGACTACTATAGCAAAGAATACTGTTAAGAGTGTCGGTAAATTTTGTCTAGAGGCTTCATTTAATTATTTGAAGTCACCTAATTTTTCTAAACTGATAAATATTATAATTTGGTTTTTACTATTAAGTGTTTGCCTAGGTTCTTTAATCTACTCAACCGCTGCTTTAGGTGTTTTAATGTCTAATTTAGGCATGCCTTCTTACTGTACTGGTTACAGAGAAGGCTATTTGAACTCTACTAATGTCACTATTGCAACCTACTGTACTGGTTCTATACCTTGTAGTGTTTGTCTTAGTGGTTTAGATTCTTTAGACACCTATCCTTCTTTAGAAACTATACAAATTACCATTTCATCTTTTAAATGGGATTTAACTGCTTTTGGCTTAGTTGCAGAGTGGTTTTTGGCATATATTCTTTTCACTAGGTTTTTCTATGTACTTGGATTGGCTGCAATCATGCAATTGTTTTTCAGCTATTTTGCAGTACATTTTATTAGTAATTCTTGGCTTATGTGGTTAATAATTAATCTTGTACAAATGGCCCCGATTTCAGCTATGGTTAGAATGTACATCTTCTTTGCATCATTTTATTATGTATGGAAAAGTTATGTGCATGTTGTAGACGGTTGTAATTCATCAACTTGTATGATGTGTTACAAACGTAATAGAGCAACAAGAGTCGAATGTACAACTATTGTTAATGGTGTTAGAAGGTCCTTTTATGTCTATGCTAATGGAGGTAAAGGCTTTTGCAAACTACACAATTGGAATTGTGTTAATTGTGATACATTCTGTGCTGGTAGTACATTTATTAGTGATGAAGTTGCGAGAGACTTGTCACTACAGTTTAAAAGACCAATAAATCCTACTGACCAGTCTTCTTACATCGTTGATAGTGTTACAGTGAAGAATGGTTCCATCCATCTTTACTTTGATAAAGCTGGTCAAAAGACTTATGAAAGACATTCTCTCTCTCATTTTGTTAACTTAGACAACCTGAGAGCTAATAACACTAAAGGTTCATTGCCTATTAATGTTATAGTTTTTGATGGTAAATCAAAATGTGAAGAATCATCTGCAAAATCAGCGTCTGTTTACTACAGTCAGCTTATGTGTCAACCTATACTGTTACTAGATCAGGCATTAGTGTCTGATGTTGGTGATAGTGCGGAAGTTGCAGTTAAAATGTTTGATGCTTACGTTAATACGTTTTCATCAACTTTTAACGTACCAATGGAAAAACTCAAAACACTAGTTGCAACTGCAGAAGCTGAACTTGCAAAGAATGTGTCCTTAGACAATGTCTTATCTACTTTTATTTCAGCAGCTCGGCAAGGGTTTGTTGATTCAGATGTAGAAACTAAAGATGTTGTTGAATGTCTTAAATTGTCACATCAATCTGACATAGAAGTTACTGGCGATAGTTGTAATAACTATATGCTCACCTATAACAAAGTTGAAAACATGACACCCCGTGACCTTGGTGCTTGTATTGACTGTAGTGCGCGTCATATTAATGCGCAGGTAGCAAAAAGTCACAACATTGCTTTGATATGGAACGTTAAAGATTTCATGTCATTGTCTGAACAACTACGAAAACAAATACGTAGTGCTGCTAAAAAGAATAACTTACCTTTTAAGTTGACATGTGCAACTACTAGACAAGTTGTTAATGTTGTAACAACAAAGATAGCACTTAAGGGTGGTAAAATTGTTAATAATTGGTTGAAGCAGTTAATTAAAGTTACACTTGTGTTCCTTTTTGTTGCTGCTATTTTCTATTTAATAACACCTGTTCATGTCATGTCTAAACATACTGACTTTTCAAGTGAAATCATAGGATACAAGGCTATTGATGGTGGTGTCACTCGTGACATAGCATCTACAGATACTTGTTTTGCTAACAAACATGCTGATTTTGACACATGGTTTAGCCAGCGTGGTGGTAGTTATACTAATGACAAAGCTTGCCCATTGATTGCTGCAGTCATAACAAGAGAAGTGGGTTTTGTCGTGCCTGGTTTGCCTGGCACGATATTACGCACAACTAATGGTGACTTTTTGCATTTCTTACCTAGAGTTTTTAGTGCAGTTGGTAACATCTGTTACACACCATCAAAACTTATAGAGTACACTGACTTTGCAACATCAGCTTGTGTTTTGGCTGCTGAATGTACAATTTTTAAAGATGCTTCTGGTAAGCCAGTACCATATTGTTATGATACCAATGTACTAGAAGGTTCTGTTGCTTATGAAAGTTTACGCCCTGACACACGTTATGTGCTCATGGATGGCTCTATTATTCAATTTCCTAACACCTACCTTGAAGGTTCTGTTAGAGTGGTAACAACTTTTGATTCTGAGTACTGTAGGCACGGCACTTGTGAAAGATCAGAAGCTGGTGTTTGTGTATCTACTAGTGGTAGATGGGTACTTAACAATGATTATTACAGATCTTTACCAGGAGTTTTCTGTGGTGTAGATGCTGTAAATTTACTTACTAATATGTTTACACCACTAATTCAACCTATTGGTGCTTTGGACATATCAGCATCTATAGTAGCTGGTGGTATTGTAGCTATCGTAGTAACATGCCTTGCCTACTATTTTATGAGGTTTAGAAGAGCTTTTGGTGAATACAGTCATGTAGTTGCCTTTAATACTTTACTATTCCTTATGTCATTCACTGTACTCTGTTTAACACCAGTTTACTCATTCTTACCTGGTGTTTATTCTGTTATTTACTTGTACTTGACATTTTATCTTACTAATGATGTTTCTTTTTTAGCACATATTCAGTGGATGGTTATGTTCACACCTTTAGTACCTTTCTGGATAACAATTGCTTATATCATTTGTATTTCCACAAAGCATTTCTATTGGTTCTTTAGTAATTACCTAAAGAGACGTGTAGTCTTTAATGGTGTTTCCTTTAGTACTTTTGAAGAAGCTGCGCTGTGCACCTTTTTGTTAAATAAAGAAATGTATCTAAAGTTGCGTAGTGATGTGCTATTACCTCTTACGCAATATAATAGATACTTAGCTCTTTATAATAAGTACAAGTATTTTAGTGGAGCAATGGATACAACTAGCTACAGAGAAGCTGCTTGTTGTCATCTCGCAAAGGCTCTCAATGACTTCAGTAACTCAGGTTCTGATGTTCTTTACCAACCACCACAAACCTCTATCACCTCAGCTGTTTTGCAGAGTGGTTTTAGAAAAATGGCATTCCCATCTGGTAAAGTTGAGGGTTGTATGGTACAAGTAACTTGTGGTACAACTACACTTAACGGTCTTTGGCTTGATGACGTAGTTTACTGTCCAAGACATGTGATCTGCACCTCTGAAGACATGCTTAACCCTAATTATGAAGATTTACTCATTCGTAAGTCTAATCATAATTTCTTGGTACAGGCTGGTAATGTTCAACTCAGGGTTATTGGACATTCTATGCAAAATTGTGTACTTAAGCTTAAGGTTGATACAGCCAATCCTAAGACACCTAAGTATAAGTTTGTTCGCATTCAACCAGGACAGACTTTTTCAGTGTTAGCTTGTTACAATGGTTCACCATCTGGTGTTTACCAATGTGCTATGAGGCCCAATTTCACTATTAAGGGTTCATTCCTTAATGGTTCATGTGGTAGTGTTGGTTTTAACATAGATTATGACTGTGTCTCTTTTTGTTACATGCACCATATGGAATTACCAACTGGAGTTCATGCTGGCACAGACTTAGAAGGTAACTTTTATGGACCTTTTGTTGACAGGCAAACAGCACAAGCAGCTGGTACGGACACAACTATTACAGTTAATGTTTTAGCTTGGTTGTACGCTGCTGTTATAAATGGAGACAGGTGGTTTCTCAATCGATTTACCACAACTCTTAATGACTTTAACCTTGTGGCTATGAAGTACAATTATGAACCTCTAACACAAGACCATGTTGACATACTAGGACCTCTTTCTGCTCAAACTGGAATTGCCGTTTTAGATATGTGTGCTTCATTAAAAGAATTACTGCAAAATGGTATGAATGGACGTACCATATTGGGTAGTGCTTTATTAGAAGATGAATTTACACCTTTTGATGTTGTTAGACAATGCTCAGGTGTTACTTTCCAAAGTGCAGTGAAAAGAACAATCAAGGGTACACACCACTGGTTGTTACTCACAATTTTGACTTCACTTTTAGTTTTAGTCCAGAGTACTCAATGGTCTTTGTTCTTTTTTTTGTATGAAAATGCCTTTTTACCTTTTGCTATGGGTATTATTGCTATGTCTGCTTTTGCAATGATGTTTGTCAAACATAAGCATGCATTTCTCTGTTTGTTTTTGTTACCTTCTCTTGCCACTGTAGCTTATTTTAATATGGTCTATATGCCTGCTAGTTGGGTGATGCGTATTATGACATGGTTGGATATGGTTGATACTAGTTTGTCTGGTTTTAAGCTAAAAGACTGTGTTATGTATGCATCAGCTGTAGTGTTACTAATCCTTATGACAGCAAGAACTGTGTATGATGATGGTGCTAGGAGAGTGTGGACACTTATGAATGTCTTGACACTCGTTTATAAAGTTTATTATGGTAATGCTTTAGATCAAGCCATTTCCATGTGGGCTCTTATAATCTCTGTTACTTCTAACTACTCAGGTGTAGTTACAACTGTCATGTTTTTGGCCAGAGGTATTGTTTTTATGTGTGTTGAGTATTGCCCTATTTTCTTCATAACTGGTAATACACTTCAGTGTATAATGCTAGTTTATTGTTTCTTAGGCTATTTTTGTACTTGTTACTTTGGCCTCTTTTGTTTACTCAACCGCTACTTTAGACTGACTCTTGGTGTTTATGATTACTTAGTTTCTACACAGGAGTTTAGATATATGAATTCACAGGGACTACTCCCACCCAAGAATAGCATAGATGCCTTCAAACTCAACATTAAATTGTTGGGTGTTGGTGGCAAACCTTGTATCAAAGTAGCCACTGTACAGTCTAAAATGTCAGATGTAAAGTGCACATCAGTAGTCTTACTCTCAGTTTTGCAACAACTCAGAGTAGAATCATCATCTAAATTGTGGGCTCAATGTGTCCAGTTACACAATGACATTCTCTTAGCTAAAGATACTACTGAAGCCTTTGAAAAAATGGTTTCACTACTTTCTGTTTTGCTTTCCATGCAGGGTGCTGTAGACATAAACAAGCTTTGTGAAGAAATGCTGGACAACAGGGCAACCTTACAAGCTATAGCCTCAGAGTTTAGTTCCCTTCCATCATATGCAGCTTTTGCTACTGCTCAAGAAGCTTATGAGCAGGCTGTTGCTAATGGTGATTCTGAAGTTGTTCTTAAAAAGTTGAAGAAGTCTTTGAATGTGGCTAAATCTGAATTTGACCGTGATGCAGCCATGCAACGTAAGTTGGAAAAGATGGCTGATCAAGCTATGACCCAAATGTATAAACAGGCTAGATCTGAGGACAAGAGGGCAAAAGTTACTAGTGCTATGCAGACAATGCTTTTCACTATGCTTAGAAAGTTGGATAATGATGCACTCAACAACATTATCAACAATGCAAGAGATGGTTGTGTTCCCTTGAACATAATACCTCTTACAACAGCAGCCAAACTAATGGTTGTCATACCAGACTATAACACATATAAAAATACGTGTGATGGTACAACATTTACTTATGCATCAGCATTGTGGGAAATCCAACAGGTTGTAGATGCAGATAGTAAAATTGTTCAACTTAGTGAAATTAGTATGGACAATTCACCTAATTTAGCATGGCCTCTTATTGTAACAGCTTTAAGGGCCAATTCTGCTGTCAAATTACAGAATAATGAGCTTAGTCCTGTTGCACTACGACAGATGTCTTGTGCTGCCGGTACTACACAAACTGCTTGCACTGATGACAATGCGTTAGCTTACTACAACACAACAAAGGGAGGTAGGTTTGTACTTGCACTGTTATCCGATTTACAGGATTTGAAATGGGCTAGATTCCCTAAGAGTGATGGAACTGGTACTATCTATACAGAACTGGAACCACCTTGTAGGTTTGTTACAGACACACCTAAAGGTCCTAAAGTGAAGTATTTATACTTTATTAAAGGATTAAACAACCTAAATAGAGGTATGGTACTTGGTAGTTTAGCTGCCACAGTACGTCTACAAGCTGGTAATGCAACAGAAGTGCCTGCCAATTCAACTGTATTATCTTTCTGTGCTTTTGCTGTAGATGCTGCTAAAGCTTACAAAGATTATCTAGCTAGTGGGGGACAACCAATCACTAATTGTGTTAAGATGTTGTGTACACACACTGGTACTGGTCAGGCAATAACAGTTACACCGGAAGCCAATATGGATCAAGAATCCTTTGGTGGTGCATCGTGTTGTCTGTACTGCCGTTGCCACATAGATCATCCAAATCCTAAAGGATTTTGTGACTTAAAAGGTAAGTATGTACAAATACCTACAACTTGTGCTAATGACCCTGTGGGTTTTACACTTAAAAACACAGTCTGTACCGTCTGCGGTATGTGGAAAGGTTATGGCTGTAGTTGTGATCAACTCCGCGAACCCATGCTTCAGTCAGCTGATGCACAATCGTTTTTAAACGGGTTTGCGGTGTAAGTGCAGCCCGTCTTACACCGTGCGGCACAGGCACTAGTACTGATGTCGTATACAGGGCTTTTGACATCTACAATGATAAAGTAGCTGGTTTTGCTAAATTCCTAAAAACTAATTGTTGTCGCTTCCAAGAAAAGGACGAAGATGACAATTTAATTGATTCTTACTTTGTAGTTAAGAGACACACTTTCTCTAACTACCAACATGAAGAAACAATTTATAATTTACTTAAGGATTGTCCAGCTGTTGCTAAACATGACTTCTTTAAGTTTAGAATAGACGGTGACATGGTACCACATATATCACGTCAACGTCTTACTAAATACACAATGGCAGACCTCGTCTATGCTTTAAGGCATTTTGATGAAGGTAATTGTGACACATTAAAAGAAATACTTGTCACATACAATTGTTGTGATGATGATTATTTCAATAAAAAGGACTGGTATGATTTTGTAGAAAACCCAGATATATTACGCGTATACGCCAACTTAGGTGAACGTGTACGCCAAGCTTTGTTAAAAACAGTACAATTCTGTGATGCCATGCGAAATGCTGGTATTGTTGGTGTACTGACATTAGATAATCAAGATCTCAATGGTAACTGGTATGATTTCGGTGATTTCATACAAACCACGCCAGGTAGTGGAGTTCCTGTTGTAGATTCTTATTATTCATTGTTAATGCCTATATTAACCTTGACCAGGGCTTTAACTGCAGAGTCACATGTTGACACTGACTTAACAAAGCCTTACATTAAGTGGGATTTGTTAAAATATGACTTCACGGAAGAGAGGTTAAAACTCTTTGACCGTTATTTTAAATATTGGGATCAGACATACCACCCAAATTGTGTTAACTGTTTGGATGACAGATGCATTCTGCATTGTGCAAACTTTAATGTTTTATTCTCTACAGTGTTCCCACCTACAAGTTTTGGACCACTAGTGAGAAAAATATTTGTTGATGGTGTTCCATTTGTAGTTTCAACTGGATACCACTTCAGAGAGCTAGGTGTTGTACATAATCAGGATGTAAACTTACATAGCTCTAGACTTAGTTTTAAGGAATTACTTGTGTATGCTGCTGACCCTGCTATGCACGCTGCTTCTGGTAATCTATTACTAGATAAACGCACTACGTGCTTTTCAGTAGCTGCACTTACTAACAATGTTGCTTTTCAAACTGTCAAACCCGGTAATTTTAACAAAGACTTCTATGACTTTGCTGTGTCTAAGGGTTTCTTTAAGGAAGGAAGTTCTGTTGAATTAAAACACTTCTTCTTTGCTCAGGATGGTAATGCTGCTATCAGCGATTATGACTACTATCGTTATAATCTACCAACAATGTGTGATATCAGACAACTACTATTTGTAGTTGAAGTTGTTGATAAGTACTTTGATTGTTACGATGGTGGCTGTATTAATGCTAACCAAGTCATCGTCAACAACCTAGACAAATCAGCTGGTTTTCCATTTAATAAATGGGGTAAGGCTAGACTTTATTATGATTCAATGAGTTATGAGGATCAAGATGCACTTTTCGCATATACAAAACGTAATGTCATCCCTACTATAACTCAAATGAATCTTAAGTATGCCATTAGTGCAAAGAATAGAGCTCGCACCGTAGCTGGTGTCTCTATCTGTAGTACTATGACCAATAGACAGTTTCATCAAAAATTATTGAAATCAATAGCCGCCACTAGAGGAGCTACTGTAGTAATTGGAACAAGCAAATTCTATGGTGGTTGGCACAACATGTTAAAAACTGTTTATAGTGATGTAGAAAACCCTCACCTTATGGGTTGGGATTATCCTAAATGTGATAGAGCCATGCCTAACATGCTTAGAATTATGGCCTCACTTGTTCTTGCTCGCAAACATACAACGTGTTGTAGCTTGTCACACCGTTTCTATAGATTAGCTAATGAGTGTGCTCAAGTATTGAGTGAAATGGTCATGTGTGGCGGTTCACTATATGTTAAACCAGGTGGAACCTCATCAGGAGATGCCACAACTGCTTATGCTAATAGTGTTTTTAACATTTGTCAAGCTGTCACGGCCAATGTTAATGCACTTTTATCTACTGATGGTAACAAAATTGCCGATAAGTATGTCCGCAATTTACAACACAGACTTTATGAGTGTCTCTATAGAAATAGAGATGTTGACACAGACTTTGTGAATGAGTTTTACGCATATTTGCGTAAACATTTCTCAATGATGATACTCTCTGACGATGCTGTTGTGTGTTTCAATAGCACTTATGCATCTCAAGGTCTAGTGGCTAGCATAAAGAACTTTAAGTCAGTTCTTTATTATCAAAACAATGTTTTTATGTCTGAAGCAAAATGTTGGACTGAGACTGACCTTACTAAAGGACCTCATGAATTTTGCTCTCAACATACAATGCTAGTTAAACAGGGTGATGATTATGTGTACCTTCCTTACCCAGATCCATCAAGAATCCTAGGGGCCGGCTGTTTTGTAGATGATATCGTAAAAACAGATGGTACACTTATGATTGAACGGTTCGTGTCTTTAGCTATAGATGCTTACCCACTTACTAAACATCCTAATCAGGAGTATGCTGATGTCTTTCATTTGTACTTACAATACATAAGAAAGCTACATGATGAGTTAACAGGACACATGTTAGACATGTATTCTGTTATGCTTACTAATGATAACACTTCAAGGTATTGGGAACCTGAGTTTTATGAGGCTATGTACACACCGCATACAGTCTTACAGGCTGTTGGGGCTTGTGTTCTTTGCAATTCACAGACTTCATTAAGATGTGGTGCTTGCATACGTAGACCATTCTTATGTTGTAAATGCTGTTACGACCATGTCATATCAACATCACATAAATTAGTCTTGTCTGTTAATCCGTATGTTTGCAATGCTCCAGGTTGTGATGTCACAGATGTGACTCAACTTTACTTAGGAGGTATGAGCTATTATTGTAAATCACATAAACCACCCATTAGTTTTCCATTGTGTGCTAATGGACAAGTTTTTGGTTTATATAAAAATACATGTGTTGGTAGCGATAATGTTACTGACTTTAATGCAATTGCAACATGTGACTGGACAAATGCTGGTGATTACATTTTAGCTAACACCTGTACTGAAAGACTCAAGCTTTTTGCAGCAGAAACGCTCAAAGCTACTGAGGAGACATTTAAACTGTCTTATGGTATTGCTACTGTACGTGAAGTGCTGTCTGACAGAGAATTACATCTTTCATGGGAAGTTGGTAAACCTAGACCACCACTTAACCGAAATTATGTCTTTACTGGTTATCGTGTAACTAAAAACAGTAAAGTACAAATAGGAGAGTACACCTTTGAAAAAGGTGACTATGGTGATGCTGTTGTTTACCGAGGTACAACAACTTACAAATTAAATGTTGGTGATTATTTTGTGCTGACATCACATACAGTAATGCCATTAAGTGCACCTACACTAGTGCCACAAGAGCACTATGTTAGAATTACTGGCTTATACCCAACACTCAATATCTCAGATGAGTTTTCTAGCAATGTTGCAAATTATCAAAAGGTTGGTATGCAAAAGTATTCTACACTCCAGGGACCACCTGGTACTGGTAAGAGTCATTTTGCTATTGGCCTAGCTCTCTACTACCCTTCTGCTCGCATAGTGTATACAGCTTGCTCTCATGCCGCTGTTGATGCACTATGTGAGAAGGCATTAAAATATTTGCCTATAGATAAATGTAGTAGAATTATACCTGCACGTGCTCGTGTAGAGTGTTTTGATAAATTCAAAGTGAATTCAACATTAGAACAGTATGTCTTTTGTACTGTAAATGCATTGCCTGAGACGACAGCAGATATAGTTGTCTTTGATGAAATTTCAATGGCCACAAATTATGATTTGAGTGTTGTCAATGCCAGATTACGTGCTAAGCACTATGTGTACATTGGCGACCCTGCTCAATTACCTGCACCACGCACATTGCTAACTAAGGGCACACTAGAACCAGAATATTTCAATTCAGTGTGTAGACTTATGAAAACTATAGGTCCAGACATGTTCCTCGGAACTTGTCGGCGTTGTCCTGCTGAAATTGTTGACACTGTGAGTGCTTTGGTTTATGATAATAAGCTTAAAGCACATAAAGACAAATCAGCTCAATGCTTTAAAATGTTTTATAAGGGTGTTATCACGCATGATGTTTCATCTGCAATTAACAGGCCACAAATAGGCGTGGTAAGAGAATTCCTTACACGTAACCCTGCTTGGAGAAAAGCTGTCTTTATTTCACCTTATAATTCACAGAATGCTGTAGCCTCAAAGATTTTGGGACTACCAACTCAAACTGTTGATTCATCACAGGGCTCAGAATATGACTATGTCATATTCACTCAAACCACTGAAACAGCTCACTCTTGTAATGTAAACAGATTTAATGTTGCTATTACCAGAGCAAAAGTAGGCATACTTTGCATAATGTCTGATAGAGACCTTTATGACAAGTTGCAATTTACAAGTCTTGAAATTCCACGTAGGAATGTGGCAACTTTACAAGCTGAAAATGTAACAGGACTCTTTAAAGATTGTAGTAAGGTAATCACTGGGTTACATCCTACACAGGCACCTACACACCTCAGTGTTGACACTAAATTCAAAACTGAAGGTTTATGTGTTGACATACCTGGCATACCTAAGGACATGACCTATAGAAGACTCATCTCTATGATGGGTTTTAAAATGAATTATCAAGTTAATGGTTACCCTAACATGTTTATCACCCGCGAAGAAGCTATAAGACATGTACGTGCATGGATTGGCTTCGATGTCGAGGGGTGTCATGCTACTAGAGAAGCTGTTGGTACCAATTTACCTTTACAGCTAGGTTTTTCTACAGGTGTTAACCTAGTTGCTGTACCTACAGGTTATGTTGATACACCTAATAATACAGATTTTTCCAGAGTTAGTGCTAAACCACCGCCTGGAGATCAATTTAAACACCTCATACCACTTATGTACAAAGGACTTCCTTGGAATGTAGTGCGTATAAAGATTGTACAAATGTTAAGTGACACACTTAAAAATCTCTCTGACAGAGTCGTATTTGTCTTATGGGCACATGGCTTTGAGTTGACATCTATGAAGTATTTTGTGAAAATAGGACCTGAGCGCACCTGTTGTCTATGTGATAGACGTGCCACATGCTTTTCCACTGCTTCAGACACTTATGCCTGTTGGCATCATTCTATTGGATTTGATTACGTCTATAATCCGTTTATGATTGATGTTCAACAATGGGGTTTTACAGGTAACCTACAAAGCAACCATGATCTGTATTGTCAAGTCCATGGTAATGCACATGTAGCTAGTTGTGATGCAATCATGACTAGGTGTCTAGCTGTCCACGAGTGCTTTGTTAAGCGTGTTGACTGGACTATTGAATATCCTATAATTGGTGATGAACTGAAGATTAATGCGGCTTGTAGAAAGGTTCAACACATGGTTGTTAAAGCTGCATTATTAGCAGACAAATTCCCAGTTCTTCACGACATTGGTAACCCTAAAGCTATTAAGTGTGTACCTCAAGCTGATGTAGAATGGAAGTTCTATGATGCACAGCCTTGTAGTGACAAAGCTTATAAAATAGAAGAATTATTCTATTCTTATGCCACACATTCTGACAAATTCACAGATGGTGTATGCCTATTTTGGAATTGCAATGTCGATAGATATCCTGCTAATTCCATTGTTTGTAGATTTGACACTAGAGTGCTATCTAACCTTAACTTGCCTGGTTGTGATGGTGGCAGTTTGTATGTAAATAAACATGCATTCCACACACCAGCTTTTGATAAAAGTGCTTTTGTTAATTTAAAACAATTACCATTTTTCTATTACTCTGACAGTCCATGTGAGTCTCATGGAAAACAAGTAGTGTCAGATATAGATTATGTACCACTAAAGTCTGCTACGTGTATAACACGTTGCAATTTAGGTGGTGCTGTCTGTAGACATCATGCTAATGAGTACAGATTGTATCTCGATGCTTATAACATGATGATCTCAGCTGGCTTTAGCTTGTGGGTTTACAAACAATTTGATACTTATAACCTCTGGAACACTTTTACAAGACTTCAGAGTTTAGAAAATGTGGCTTTTAATGTTGTAAATAAGGGACACTTTGATGGACAACAGGGTGAAGTACCAGTTTCTATCATTAATAACACTGTTTACACAAAAGTTGATGGTGTTGATGTAGAATTGTTTGAAAATAAAACAACATTACCTGTTAATGTAGCATTTGAGCTTTGGGCTAAGCGCAACATTAAACCAGTACCAGAGGTGAAAATACTCAATAATTTGGGTGTGGACATTGCTGCTAATACTGTGATCTGGGACTACAAAAGAGATGCTCCAGCACATATATCTACTATTGGTGTTTGTTCTATGACTGACATAGCCAAGAAACCAACTGAAACGATTTGTGCACCACTCACTGTCTTTTTTGATGGTAGAGTTGATGGTCAAGTAGACTTATTTAGAAATGCCCGTAATGGTGTTCTTATTACAGAAGGTAGTGTTAAAGGTTTACAACCATCTGTAGGTCCCAAACAAGCTAGTCTTAATGGAGTCACATTAATTGGAGAAGCCGTAAAAACACAGTTCAATTATTATAAGAAAGTTGATGGTGTTGTCCAACAATTACCTGAAACTTACTTTACTCAGAGTAGAAATTTACAAGAATTTAAACCCAGGAGTCAAATGGAAATTGATTTCTTAGAATTAGCTATGGATGAATTCATTGAACGGTATAAATTAGAAGGCTATGCCTTCGAACATATCGTTTATGGAGATTTTAGTCATAGTCAGTTAGGTGGTTTACATCTACTGATTGGACTAGCTAAACGTTTTAAGGAATCACCTTTTGAATTAGAAGATTTTATTCCTATGGACAGTACAGTTAAAAACTATTTCATAACAGATGCGCAAACAGGTTCATCTAAGTGTGTGTGTTCTGTTATTGATTTATTACTTGATGATTTTGTTGAAATAATAAAATCCCAAGATTTATCTGTAGTTTCTAAGGTTGTCAAAGTGACTATTGACTATACAGAAATTTCATTTATGCTTTGGTGTAAAGATGGCCATGTAGAAACATTTTACCCAAAATTACAATCTAGTCAAGCGTGGCAACCGGGTGTTGCTATGCCTAATCTTTACAAAATGCAAAGAATGCTATTAGAAAAGTGTGACCTTCAAAATTATGGTGATAGTGCAACATTACCTAAAGGCATAATGATGAATGTCGCAAAATATACTCAACTGTGTCAATATTTAAACACATTAACATTAGCTGTACCCTATAATATGAGAGTTATACATTTTGGTGCTGGTTCTGATAAAGGAGTTGCACCAGGTACAGCTGTTTTAAGACAGTGGTTGCCTACGGGTACGCTGCTTGTCGATTCAGATCTTAATGACTTTGTCTCTGATGCAGATTCAACTTTGATTGGTGATTGTGCAACTGTACATACAGCTAATAAATGGGATCTCATTATTAGTGATATGTACGACCCTAAGACTAAAAATGTTACAAAAGAAAATGACTCTAAAGAGGGTTTTTTCACTTACATTTGTGGGTTTATACAACAAAAGCTAGCTCTTGGAGGTTCCGTGGCTATAAAGATAACAGAACATTCTTGGAATGCTGATCTTTATAAGCTCATGGGACACTTCGCATGGTGGACAGCCTTTGTTACTAATGTGAATGCGTCATCATCTGAAGCATTTTTAATTGGATGTAATTATCTTGGCAAACCACGCGAACAAATAGATGGTTATGTCATGCATGCAAATTACATATTTTGGAGGAATACAAATCCAATTCAGTTGTCTTCCTATTCTTTATTTGACATGAGTAAATTTCCCCTTAAATTAAGGGGTACTGCTGTTATGTCTTTAAAAGAAGGTCAAATCAATGATATGATTTTATCTCTTCTTAGTAAAGGTAGACTTATAATTAGAGAAAACAACAGAGTTGTTATTTCTAGTGATGTTCTTGTTAACAACTAAACGAACAATGTTTGTTTTTCTTGTTTTATTGCCACTAGTCTCTAGTCAGTGTGTTAATCTTACAACCAGAACTCAATTACCCCCTGCATACACTAATTCTTTCACACGTGGTGTTTATTACCCTGACAAAGTTTTCAGATCCTCAGTTTTACATTCAACTCAGGACTTGTTCTTACCTTTCTTTTCCAATGTTACTTGGTTCCATGCTATACATGTCTCTGGGACCAATGGTACTAAGAGGTTTGATAACCCTGTCCTACCATTTAATGATGGTGTTTATTTTGCTTCCACTGAGAAGTCTAACATAATAAGAGGCTGGATTTTTGGTACTACTTTAGATTCGAAGACCCAGTCCCTACTTATTGTTAATAACGCTACTAATGTTGTTATTAAAGTCTGTGAATTTCAATTTTGTAATGATCCATTTTTGGGTGTTTATTACCACAAAAACAACAAAAGTTGGATGGAAAGTGAGTTCAGAGTTTATTCTAGTGCGAATAATTGCACTTTTGAATATGTCTCTCAGCCTTTTCTTATGGACCTTGAAGGAAAACAGGGTAATTTCAAAAATCTTAGGGAATTTGTGTTTAAGAATATTGATGGTTATTTTAAAATATATTCTAAGCACACGCCTATTAATTTAGTGCGTGATCTCCCTCAGGGTTTTTCGGCTTTAGAACCATTGGTAGATTTGCCAATAGGTATTAACATCACTAGGTTTCAAACTTTACTTGCTTTACATAGAAGTTATTTGACTCCTGGTGATTCTTCTTCAGGTTGGACAGCTGGTGCTGCAGCTTATTATGTGGGTTATCTTCAACCTAGGACTTTTCTATTAAAATATAATGAAAATGGAACCATTACAGATGCTGTAGACTGTGCACTTGACCCTCTCTCAGAAACAAAGTGTACGTTGAAATCCTTCACTGTAGAAAAAGGAATCTATCAAACTTCTAACTTTAGAGTCCAACCAACAGAATCTATTGTTAGATTTCCTAATATTACAAACTTGTGCCCTTTTGGTGAAGTTTTTAACGCCACCAGATTTGCATCTGTTTATGCTTGGAACAGGAAGAGAATCAGCAACTGTGTTGCTGATTATTCTGTCCTATATAATTCCGCATCATTTTCCACTTTTAAGTGTTATGGAGTGTCTCCTACTAAATTAAATGATCTCTGCTTTACTAATGTCTATGCAGATTCATTTGTAATTAGAGGTGATGAAGTCAGACAAATCGCTCCAGGGCAAACTGGAAAGATTGCTGATTATAATTATAAATTACCAGATGATTTTACAGGCTGCGTTATAGCTTGGAATTCTAACAATCTTGATTCTAAGGTTGGTGGTAATTATAATTACCTGTATAGATTGTTTAGGAAGTCTAATCTCAAACCTTTTGAGAGAGATATTTCAACTGAAATCTATCAGGCCGGTAGCACACCTTGTAATGGTGTTGAAGGTTTTAATTGTTACTTTCCTTTACAATCATATGGTTTCCAACCCACTAATGGTGTTGGTTACCAACCATACAGAGTAGTAGTACTTTCTTTTGAACTTCTACATGCACCAGCAACTGTTTGTGGACCTAAAAAGTCTACTAATTTGGTTAAAAACAAATGTGTCAATTTCAACTTCAATGGTTTAACAGGCACAGGTGTTCTTACTGAGTCTAACAAAAAGTTTCTGCCTTTCCAACAATTTGGCAGAGACATTGCTGACACTACTGATGCTGTCCGTGATCCACAGACACTTGAGATTCTTGACATTACACCATGTTCTTTTGGTGGTGTCAGTGTTATAACACCAGGAACAAATACTTCTAACCAGGTTGCTGTTCTTTATCAGGATGTTAACTGCACAGAAGTCCCTGTTGCTATTCATGCAGATCAACTTACTCCTACTTGGCGTGTTTATTCTACAGGTTCTAATGTTTTTCAAACACGTGCAGGCTGTTTAATAGGGGCTGAACATGTCAACAACTCATATGAGTGTGACATACCCATTGGTGCAGGTATATGCGCTAGTTATCAGACTCAGACTAATTCTCCTCGGCGGGCACGTAGTGTAGCTAGTCAATCCATCATTGCCTACACTATGTCACTTGGTGCAGAAAATTCAGTTGCTTACTCTAATAACTCTATTGCCATACCCACAAATTTTACTATTAGTGTTACCACAGAAATTCTACCAGTGTCTATGACCAAGACATCAGTAGATTGTACAATGTACATTTGTGGTGATTCAACTGAATGCAGCAATCTTTTGTTGCAATATGGCAGTTTTTGTACACAATTAAACCGTGCTTTAACTGGAATAGCTGTTGAACAAGACAAAAACACCCAAGAAGTTTTTGCACAAGTCAAACAAATTTACAAAACACCACCAATTAAAGATTTTGGTGGTTTTAATTTTTCACAAATATTACCAGATCCATCAAAACCAAGCAAGAGGTCATTTATTGAAGATCTACTTTTCAACAAAGTGACACTTGCAGATGCTGGCTTCATCAAACAATATGGTGATTGCCTTGGTGATATTGCTGCTAGAGACCTCATTTGTGCACAAAAGTTTAACGGCCTTACTGTTTTGCCACCTTTGCTCACAGATGAAATGATTGCTCAATACACTTCTGCACTGTTAGCGGGTACAATCACTTCTGGTTGGACCTTTGGTGCAGGTGCTGCATTACAAATACCATTTGCTATGCAAATGGCTTATAGGTTTAATGGTATTGGAGTTACACAGAATGTTCTCTATGAGAACCAAAAATTGATTGCCAACCAATTTAATAGTGCTATTGGCAAAATTCAAGACTCACTTTCTTCCACAGCAAGTGCACTTGGAAAACTTCAAGATGTGGTCAACCAAAATGCACAAGCTTTAAACACGCTTGTTAAACAACTTAGCTCCAATTTTGGTGCAATTTCAAGTGTTTTAAATGATATCCTTTCACGTCTTGACAAAGTTGAGGCTGAAGTGCAAATTGATAGGTTGATCACAGGCAGACTTCAAAGTTTGCAGACATATGTGACTCAACAATTAATTAGAGCTGCAGAAATCAGAGCTTCTGCTAATCTTGCTGCTACTAAAATGTCAGAGTGTGTACTTGGACAATCAAAAAGAGTTGATTTTTGTGGAAAGGGCTATCATCTTATGTCCTTCCCTCAGTCAGCACCTCATGGTGTAGTCTTCTTGCATGTGACTTATGTCCCTGCACAAGAAAAGAACTTCACAACTGCTCCTGCCATTTGTCATGATGGAAAAGCACACTTTCCTCGTGAAGGTGTCTTTGTTTCAAATGGCACACACTGGTTTGTAACACAAAGGAATTTTTATGAACCACAAATCATTACTACAGACAACACATTTGTGTCTGGTAACTGTGATGTTGTAATAGGAATTGTCAACAACACAGTTTATGATCCTTTGCAACCTGAATTAGACTCATTCAAGGAGGAGTTAGATAAATATTTTAAGAATCATACATCACCAGATGTTGATTTAGGTGACATCTCTGGCATTAATGCTTCAGTTGTAAACATTCAAAAAGAAATTGACCGCCTCAATGAGGTTGCCAAGAATTTAAATGAATCTCTCATCGATCTCCAAGAACTTGGAAAGTATGAGCAGTATATAAAATGGCCATGGTACATTTGGCTAGGTTTTATAGCTGGCTTGATTGCCATAGTAATGGTGACAATTATGCTTTGCTGTATGACCAGTTGCTGTAGTTGTCTCAAGGGCTGTTGTTCTTGTGGATCCTGCTGCAAATTTGATGAAGACGACTCTGAGCCAGTGCTCAAAGGAGTCAAATTACATTACACATAAACGAACTTATGGATTTGTTTATGAGAATCTTCACAATTGGAACTGTAACTTTGAAGCAAGGTGAAATCAAGGATGCTACTCCTTCAGATTTTGTTCGCGCTACTGCAACGATACCGATACAAGCCTCACTCCCTTTCGGATGGCTTATTGTTGGCGTTGCACTTCTTGCTGTTTTTCAGAGCGCTTCCAAAATCATAACCCTCAAAAAGAGATGGCAACTAGCACTCTCCAAGGGTGTTCACTTTGTTTGCAACTTGCTGTTGTTGTTTGTAACAGTTTACTCACACCTTTTGCTCGTTGCTGCTGGCCTTGAAGCCCCTTTTCTCTATCTTTATGCTTTAGTCTACTTCTTGCAGAGTATAAACTTTGTAAGAATAATAATGAGGCTTTGGCTTTGCTGGAAATGCCGTTCCAAAAACCCATTACTTTATGATGCCAACTATTTTCTTTGCTGGCATACTAATTGTTACGACTATTGTATACCTTACAATAGTGTAACTTCTTCAATTGTCATTACTTCAGGTGATGGCACAACAAGTCCTATTTCTGAACATGACTACCAGATTGGTGGTTATACTGAAAAATGGGAATCTGGAGTAAAAGACTGTGTTGTATTACACAGTTACTTCACTTCAGACTATTACCAGCTGTACTCAACTCAATTGAGTACAGACACTGGTGTTGAACATGTTACCTTCTTCATCTACAATAAAATTGTTGATGAGCCTGAAGAACATGTCCAAATTCACACAATCGACGGTTCATCCGGAGTTGTTAATCCAGTAATGGAACCAATTTATGATGAACCGACGACGACTACTAGCGTGCCTTTGTAAGCACAAGCTGATGAGTACGAACTTATGTACTCATTCGTTTCGGAAGAGACAGGTACGTTAATAGTTAATAGCGTACTTCTTTTTCTTGCTTTCGTGGTATTCTTGCTAGTTACACTAGCCATCCTTACTGCGCTTCGATTGTGTGCGTACTGCTGCAATATTGTTAACGTGAGTCTTGTAAAACCTTCTTTTTACGTTTACTCTCGTGTTAAAAATCTGAATTCTTCTAGAGTTCCTGATCTTCTGGTCTAAACGAACTAAATATTATATTAGTTTTTCTGTTTGGAACTTTAATTTTAGCCATGGCAGATTCCAACGGTACTATTACCGTTGAAGAGCTTAAAAAGCTCCTTGAACAATGGAACCTAGTAATAGGTTTCCTATTCCTTACATGGATTTGTCTTCTACAATTTGCCTATGCCAACAGGAATAGGTTTTTGTATATAATTAAGTTAATTTTCCTCTGGCTGTTATGGCCAGTAACTTTAGCTTGTTTTGTGCTTGCTGCTGTTTACAGAATAAATTGGATCACCGGTGGAATTGCTATCGCAATGGCTTGTCTTGTAGGCTTGATGTGGCTCAGCTACTTCATTGCTTCTTTCAGACTGTTTGCGCGTACGCGTTCCATGTGGTCATTCAATCCAGAAACTAACATTCTTCTCAACGTGCCACTCCATGGCACTATTCTGACCAGACCGCTTCTAGAAAGTGAACTCGTAATCGGAGCTGTGATCCTTCGTGGACATCTTCGTATTGCTGGACACCATCTAGGACGCTGTGACATCAAGGACCTGCCTAAAGAAATCACTGTTGCTACATCACGAACGCTTTCTTATTACAAATTGGGAGCTTCGCAGCGTGTAGCAGGTGACTCAGGTTTTGCTGCATACAGTCGCTACAGGATTGGCAACTATAAATTAAACACAGACCATTCCAGTAGCAGTGACAATATTGCTTTGCTTGTACAGTAAGTGACAACAGATGTTTCATCTCGTTGACTTTCAGGTTACTATAGCAGAGATATTACTAATTATTATGAGGACTTTTAAAGTTTCCATTTGGAATCTTGATTACATCATAAACCTCATAATTAAAAATTTATCTAAGTCACTAACTGAGAATAAATATTCTCAATTAGATGAAGAGCAACCAATGGAGATTGATTAAACGAACATGAAAATTATTCTTTTCTTGGCACTGATAACACTCGCTACTTGTGAGCTTTATCACTACCAAGAGTGTGTTAGAGGTACAACAGTACTTTTAAAAGAACCTTGCTCTTCTGGAACATACGAGGGCAATTCACCATTTCATCCTCTAGCTGATAACAAATTTGCACTGACTTGCTTTAGCACTCAATTTGCTTTTGCTTGTCCTGACGGCGTAAAACACGTCTATCAGTTACGTGCCAGATCAGTTTCACCTAAACTGTTCATCAGACAAGAGGAAGTTCAAGAACTTTACTCTCCAATTTTTCTTATTGTTGCGGCAATAGTGTTTATAACACTTTGCTTCACACTCAAAAGAAAGACAGAATGATTGAACTTTCATTAATTGACTTCTATTTGTGCTTTTTAGCCTTTCTGCTATTCCTTGTTTTAATTATGCTTATTATCTTTTGGTTCTCACTTGAACTGCAAGATCATAATGAAACTTGTCACGCCTAAACGAACATGAAATTTCTTGTTTTCTTAGGAATCATCACAACTGTAGCTGCATTTCACCAAGAATGTAGTTTACAGTCATGTACTCAACATCAACCATATGTAGTTGATGACCCGTGTCCTATTCACTTCTATTCTAAATGGTATATTAGAGTAGGAGCTAGAAAATCAGCACCTTTAATTGAATTGTGCGTGGATGAGGCTGGTTCTAAATCACCCATTCAGTACATCGATATCGGTAATTATACAGTTTCCTGTTTACCTTTTACAATTAATTGCCAGGAACCTAAATTGGGTAGTCTTGTAGTGCGTTGTTCGTTCTATGAAGACTTTTTAGAGTATCATGACGTTCGTGTTGTTTTAGATTTCATCTAAACGAACAAACTAAAATGTCTGATAATGGACCCCAAAATCAGCGAAATGCACCCCGCATTACGTTTGGTGGACCCTCAGATTCAACTGGCAGTAACCAGAATGGAGAACGCAGTGGGGCGCGATCAAAACAACGTCGGCCCCAAGGTTTACCCAATAATACTGCGTCTTGGTTCACCGCTCTCACTCAACATGGCAAGGAAGACCTTAAATTCCCTCGAGGACAAGGCGTTCCAATTAACACCAATAGCAGTCCAGATGACCAAATTGGCTACTACCGAAGAGCTACCAGACGAATTCGTGGTGGTGACGGTAAAATGAAAGATCTCAGTCCAAGATGGTATTTCTACTACCTAGGAACTGGGCCAGAAGCTGGACTTCCCTATGGTGCTAACAAAGACGGCATCATATGGGTTGCAACTGAGGGAGCCTTGAATACACCAAAAGATCACATTGGCACCCGCAATCCTGCTAACAATGCTGCAATCGTGCTACAACTTCCTCAAGGAACAACATTGCCAAAAGGCTTCTACGCAGAAGGGAGCAGAGGCGGCAGTCAAGCCTCTTCTCGTTCCTCATCACGTAGTCGCAACAGTTCAAGAAATTCAACTCCAGGCAGCAGTAGGGGAACTTCTCCTGCTAGAATGGCTGGCAATGGCGGTGATGCTGCTCTTGCTTTGCTGCTGCTTGACAGATTGAACCAGCTTGAGAGCAAAATGTCTGGTAAAGGCCAACAACAACAAGGCCAAACTGTCACTAAGAAATCTGCTGCTGAGGCTTCTAAGAAGCCTCGGCAAAAACGTACTGCCACTAAAGCATACAATGTAACACAAGCTTTCGGCAGACGTGGTCCAGAACAAACCCAAGGAAATTTTGGGGACCAGGAACTAATCAGACAAGGAACTGATTACAAACATTGGCCGCAAATTGCACAATTTGCCCCCAGCGCTTCAGCGTTCTTCGGAATGTCGCGCATTGGCATGGAAGTCACACCTTCGGGAACGTGGTTGACCTACACAGGTGCCATCAAATTGGATGACAAAGATCCAAATTTCAAAGATCAAGTCATTTTGCTGAATAAGCATATTGACGCATACAAAACATTCCCACCAACAGAGCCTAAAAAGGACAAAAAGAAGAAGGCTGATGAAACTCAAGCCTTACCGCAGAGACAGAAGAAACAGCAAACTGTGACTCTTCTTCCTGCTGCAGATTTGGATGATTTCTCCAAACAATTGCAACAATCCATGAGCAGTGCTGACTCAACTCAGGCCTAAACTCATGCAGACCACACAAGGCAGATGGGCTATATAAACGTTTTCGCTTTTCCGTTTACGATATATAGTCTACTCTTGTGCAGAATGAATTCTCGTAACTACATAGCACAAGTAGATGTAGTTAACTTTAATCTCACATAGCAATCTTTAATCAGTGTGTAACATTAGGGAGGACTTGAAAGAGCCACCACATTTTCACCGAGGCCACGCGGAGTACGATCGAGTGTACAGTGAACAATGCTAGGGAGAGCTGCCTATATGGAAGAGCCCTAATGTGTAAAATTAATTTTAGTAGTGCTATCCCCATGTGATTTTAATAGCTTCTTAGGAGAATGACAAAAAAAAAAAAAAAAAAAAAAAAAAAAAAAAA\n",
            "There are 8954 A nucleotides in the unknown seq\n",
            "The GC percentage is: 37.97%\n",
            "TTTTTTTTTTTTTTTTTTTTTTTTTTTTTTTTTGTCATTCTCCTAAGAAGCTATTAAAATCACATGGGGATAGCACTACTAAAATTAATTTTACACATTAGGGCTCTTCCATATAGGCAGCTCTCCCTAGCATTGTTCACTGTACACTCGATCGTACTCCGCGTGGCCTCGGTGAAAATGTGGTGGCTCTTTCAAGTCCTCCCTAATGTTACACACTGATTAAAGATTGCTATGTGAGATTAAAGTTAACTACATCTACTTGTGCTATGTAGTTACGAGAATTCATTCTGCACAAGAGTAGACTATATATCGTAAACGGAAAAGCGAAAACGTTTATATAGCCCATCTGCCTTGTGTGGTCTGCATGAGTTTAGGCCTGAGTTGAGTCAGCACTGCTCATGGATTGTTGCAATTGTTTGGAGAAATCATCCAAATCTGCAGCAGGAAGAAGAGTCACAGTTTGCTGTTTCTTCTGTCTCTGCGGTAAGGCTTGAGTTTCATCAGCCTTCTTCTTTTTGTCCTTTTTAGGCTCTGTTGGTGGGAATGTTTTGTATGCGTCAATATGCTTATTCAGCAAAATGACTTGATCTTTGAAATTTGGATCTTTGTCATCCAATTTGATGGCACCTGTGTAGGTCAACCACGTTCCCGAAGGTGTGACTTCCATGCCAATGCGCGACATTCCGAAGAACGCTGAAGCGCTGGGGGCAAATTGTGCAATTTGCGGCCAATGTTTGTAATCAGTTCCTTGTCTGATTAGTTCCTGGTCCCCAAAATTTCCTTGGGTTTGTTCTGGACCACGTCTGCCGAAAGCTTGTGTTACATTGTATGCTTTAGTGGCAGTACGTTTTTGCCGAGGCTTCTTAGAAGCCTCAGCAGCAGATTTCTTAGTGACAGTTTGGCCTTGTTGTTGTTGGCCTTTACCAGACATTTTGCTCTCAAGCTGGTTCAATCTGTCAAGCAGCAGCAAAGCAAGAGCAGCATCACCGCCATTGCCAGCCATTCTAGCAGGAGAAGTTCCCCTACTGCTGCCTGGAGTTGAATTTCTTGAACTGTTGCGACTACGTGATGAGGAACGAGAAGAGGCTTGACTGCCGCCTCTGCTCCCTTCTGCGTAGAAGCCTTTTGGCAATGTTGTTCCTTGAGGAAGTTGTAGCACGATTGCAGCATTGTTAGCAGGATTGCGGGTGCCAATGTGATCTTTTGGTGTATTCAAGGCTCCCTCAGTTGCAACCCATATGATGCCGTCTTTGTTAGCACCATAGGGAAGTCCAGCTTCTGGCCCAGTTCCTAGGTAGTAGAAATACCATCTTGGACTGAGATCTTTCATTTTACCGTCACCACCACGAATTCGTCTGGTAGCTCTTCGGTAGTAGCCAATTTGGTCATCTGGACTGCTATTGGTGTTAATTGGAACGCCTTGTCCTCGAGGGAATTTAAGGTCTTCCTTGCCATGTTGAGTGAGAGCGGTGAACCAAGACGCAGTATTATTGGGTAAACCTTGGGGCCGACGTTGTTTTGATCGCGCCCCACTGCGTTCTCCATTCTGGTTACTGCCAGTTGAATCTGAGGGTCCACCAAACGTAATGCGGGGTGCATTTCGCTGATTTTGGGGTCCATTATCAGACATTTTAGTTTGTTCGTTTAGATGAAATCTAAAACAACACGAACGTCATGATACTCTAAAAAGTCTTCATAGAACGAACAACGCACTACAAGACTACCCAATTTAGGTTCCTGGCAATTAATTGTAAAAGGTAAACAGGAAACTGTATAATTACCGATATCGATGTACTGAATGGGTGATTTAGAACCAGCCTCATCCACGCACAATTCAATTAAAGGTGCTGATTTTCTAGCTCCTACTCTAATATACCATTTAGAATAGAAGTGAATAGGACACGGGTCATCAACTACATATGGTTGATGTTGAGTACATGACTGTAAACTACATTCTTGGTGAAATGCAGCTACAGTTGTGATGATTCCTAAGAAAACAAGAAATTTCATGTTCGTTTAGGCGTGACAAGTTTCATTATGATCTTGCAGTTCAAGTGAGAACCAAAAGATAATAAGCATAATTAAAACAAGGAATAGCAGAAAGGCTAAAAAGCACAAATAGAAGTCAATTAATGAAAGTTCAATCATTCTGTCTTTCTTTTGAGTGTGAAGCAAAGTGTTATAAACACTATTGCCGCAACAATAAGAAAAATTGGAGAGTAAAGTTCTTGAACTTCCTCTTGTCTGATGAACAGTTTAGGTGAAACTGATCTGGCACGTAACTGATAGACGTGTTTTACGCCGTCAGGACAAGCAAAAGCAAATTGAGTGCTAAAGCAAGTCAGTGCAAATTTGTTATCAGCTAGAGGATGAAATGGTGAATTGCCCTCGTATGTTCCAGAAGAGCAAGGTTCTTTTAAAAGTACTGTTGTACCTCTAACACACTCTTGGTAGTGATAAAGCTCACAAGTAGCGAGTGTTATCAGTGCCAAGAAAAGAATAATTTTCATGTTCGTTTAATCAATCTCCATTGGTTGCTCTTCATCTAATTGAGAATATTTATTCTCAGTTAGTGACTTAGATAAATTTTTAATTATGAGGTTTATGATGTAATCAAGATTCCAAATGGAAACTTTAAAAGTCCTCATAATAATTAGTAATATCTCTGCTATAGTAACCTGAAAGTCAACGAGATGAAACATCTGTTGTCACTTACTGTACAAGCAAAGCAATATTGTCACTGCTACTGGAATGGTCTGTGTTTAATTTATAGTTGCCAATCCTGTAGCGACTGTATGCAGCAAAACCTGAGTCACCTGCTACACGCTGCGAAGCTCCCAATTTGTAATAAGAAAGCGTTCGTGATGTAGCAACAGTGATTTCTTTAGGCAGGTCCTTGATGTCACAGCGTCCTAGATGGTGTCCAGCAATACGAAGATGTCCACGAAGGATCACAGCTCCGATTACGAGTTCACTTTCTAGAAGCGGTCTGGTCAGAATAGTGCCATGGAGTGGCACGTTGAGAAGAATGTTAGTTTCTGGATTGAATGACCACATGGAACGCGTACGCGCAAACAGTCTGAAAGAAGCAATGAAGTAGCTGAGCCACATCAAGCCTACAAGACAAGCCATTGCGATAGCAATTCCACCGGTGATCCAATTTATTCTGTAAACAGCAGCAAGCACAAAACAAGCTAAAGTTACTGGCCATAACAGCCAGAGGAAAATTAACTTAATTATATACAAAAACCTATTCCTGTTGGCATAGGCAAATTGTAGAAGACAAATCCATGTAAGGAATAGGAAACCTATTACTAGGTTCCATTGTTCAAGGAGCTTTTTAAGCTCTTCAACGGTAATAGTACCGTTGGAATCTGCCATGGCTAAAATTAAAGTTCCAAACAGAAAAACTAATATAATATTTAGTTCGTTTAGACCAGAAGATCAGGAACTCTAGAAGAATTCAGATTTTTAACACGAGAGTAAACGTAAAAAGAAGGTTTTACAAGACTCACGTTAACAATATTGCAGCAGTACGCACACAATCGAAGCGCAGTAAGGATGGCTAGTGTAACTAGCAAGAATACCACGAAAGCAAGAAAAAGAAGTACGCTATTAACTATTAACGTACCTGTCTCTTCCGAAACGAATGAGTACATAAGTTCGTACTCATCAGCTTGTGCTTACAAAGGCACGCTAGTAGTCGTCGTCGGTTCATCATAAATTGGTTCCATTACTGGATTAACAACTCCGGATGAACCGTCGATTGTGTGAATTTGGACATGTTCTTCAGGCTCATCAACAATTTTATTGTAGATGAAGAAGGTAACATGTTCAACACCAGTGTCTGTACTCAATTGAGTTGAGTACAGCTGGTAATAGTCTGAAGTGAAGTAACTGTGTAATACAACACAGTCTTTTACTCCAGATTCCCATTTTTCAGTATAACCACCAATCTGGTAGTCATGTTCAGAAATAGGACTTGTTGTGCCATCACCTGAAGTAATGACAATTGAAGAAGTTACACTATTGTAAGGTATACAATAGTCGTAACAATTAGTATGCCAGCAAAGAAAATAGTTGGCATCATAAAGTAATGGGTTTTTGGAACGGCATTTCCAGCAAAGCCAAAGCCTCATTATTATTCTTACAAAGTTTATACTCTGCAAGAAGTAGACTAAAGCATAAAGATAGAGAAAAGGGGCTTCAAGGCCAGCAGCAACGAGCAAAAGGTGTGAGTAAACTGTTACAAACAACAACAGCAAGTTGCAAACAAAGTGAACACCCTTGGAGAGTGCTAGTTGCCATCTCTTTTTGAGGGTTATGATTTTGGAAGCGCTCTGAAAAACAGCAAGAAGTGCAACGCCAACAATAAGCCATCCGAAAGGGAGTGAGGCTTGTATCGGTATCGTTGCAGTAGCGCGAACAAAATCTGAAGGAGTAGCATCCTTGATTTCACCTTGCTTCAAAGTTACAGTTCCAATTGTGAAGATTCTCATAAACAAATCCATAAGTTCGTTTATGTGTAATGTAATTTGACTCCTTTGAGCACTGGCTCAGAGTCGTCTTCATCAAATTTGCAGCAGGATCCACAAGAACAACAGCCCTTGAGACAACTACAGCAACTGGTCATACAGCAAAGCATAATTGTCACCATTACTATGGCAATCAAGCCAGCTATAAAACCTAGCCAAATGTACCATGGCCATTTTATATACTGCTCATACTTTCCAAGTTCTTGGAGATCGATGAGAGATTCATTTAAATTCTTGGCAACCTCATTGAGGCGGTCAATTTCTTTTTGAATGTTTACAACTGAAGCATTAATGCCAGAGATGTCACCTAAATCAACATCTGGTGATGTATGATTCTTAAAATATTTATCTAACTCCTCCTTGAATGAGTCTAATTCAGGTTGCAAAGGATCATAAACTGTGTTGTTGACAATTCCTATTACAACATCACAGTTACCAGACACAAATGTGTTGTCTGTAGTAATGATTTGTGGTTCATAAAAATTCCTTTGTGTTACAAACCAGTGTGTGCCATTTGAAACAAAGACACCTTCACGAGGAAAGTGTGCTTTTCCATCATGACAAATGGCAGGAGCAGTTGTGAAGTTCTTTTCTTGTGCAGGGACATAAGTCACATGCAAGAAGACTACACCATGAGGTGCTGACTGAGGGAAGGACATAAGATGATAGCCCTTTCCACAAAAATCAACTCTTTTTGATTGTCCAAGTACACACTCTGACATTTTAGTAGCAGCAAGATTAGCAGAAGCTCTGATTTCTGCAGCTCTAATTAATTGTTGAGTCACATATGTCTGCAAACTTTGAAGTCTGCCTGTGATCAACCTATCAATTTGCACTTCAGCCTCAACTTTGTCAAGACGTGAAAGGATATCATTTAAAACACTTGAAATTGCACCAAAATTGGAGCTAAGTTGTTTAACAAGCGTGTTTAAAGCTTGTGCATTTTGGTTGACCACATCTTGAAGTTTTCCAAGTGCACTTGCTGTGGAAGAAAGTGAGTCTTGAATTTTGCCAATAGCACTATTAAATTGGTTGGCAATCAATTTTTGGTTCTCATAGAGAACATTCTGTGTAACTCCAATACCATTAAACCTATAAGCCATTTGCATAGCAAATGGTATTTGTAATGCAGCACCTGCACCAAAGGTCCAACCAGAAGTGATTGTACCCGCTAACAGTGCAGAAGTGTATTGAGCAATCATTTCATCTGTGAGCAAAGGTGGCAAAACAGTAAGGCCGTTAAACTTTTGTGCACAAATGAGGTCTCTAGCAGCAATATCACCAAGGCAATCACCATATTGTTTGATGAAGCCAGCATCTGCAAGTGTCACTTTGTTGAAAAGTAGATCTTCAATAAATGACCTCTTGCTTGGTTTTGATGGATCTGGTAATATTTGTGAAAAATTAAAACCACCAAAATCTTTAATTGGTGGTGTTTTGTAAATTTGTTTGACTTGTGCAAAAACTTCTTGGGTGTTTTTGTCTTGTTCAACAGCTATTCCAGTTAAAGCACGGTTTAATTGTGTACAAAAACTGCCATATTGCAACAAAAGATTGCTGCATTCAGTTGAATCACCACAAATGTACATTGTACAATCTACTGATGTCTTGGTCATAGACACTGGTAGAATTTCTGTGGTAACACTAATAGTAAAATTTGTGGGTATGGCAATAGAGTTATTAGAGTAAGCAACTGAATTTTCTGCACCAAGTGACATAGTGTAGGCAATGATGGATTGACTAGCTACACTACGTGCCCGCCGAGGAGAATTAGTCTGAGTCTGATAACTAGCGCATATACCTGCACCAATGGGTATGTCACACTCATATGAGTTGTTGACATGTTCAGCCCCTATTAAACAGCCTGCACGTGTTTGAAAAACATTAGAACCTGTAGAATAAACACGCCAAGTAGGAGTAAGTTGATCTGCATGAATAGCAACAGGGACTTCTGTGCAGTTAACATCCTGATAAAGAACAGCAACCTGGTTAGAAGTATTTGTTCCTGGTGTTATAACACTGACACCACCAAAAGAACATGGTGTAATGTCAAGAATCTCAAGTGTCTGTGGATCACGGACAGCATCAGTAGTGTCAGCAATGTCTCTGCCAAATTGTTGGAAAGGCAGAAACTTTTTGTTAGACTCAGTAAGAACACCTGTGCCTGTTAAACCATTGAAGTTGAAATTGACACATTTGTTTTTAACCAAATTAGTAGACTTTTTAGGTCCACAAACAGTTGCTGGTGCATGTAGAAGTTCAAAAGAAAGTACTACTACTCTGTATGGTTGGTAACCAACACCATTAGTGGGTTGGAAACCATATGATTGTAAAGGAAAGTAACAATTAAAACCTTCAACACCATTACAAGGTGTGCTACCGGCCTGATAGATTTCAGTTGAAATATCTCTCTCAAAAGGTTTGAGATTAGACTTCCTAAACAATCTATACAGGTAATTATAATTACCACCAACCTTAGAATCAAGATTGTTAGAATTCCAAGCTATAACGCAGCCTGTAAAATCATCTGGTAATTTATAATTATAATCAGCAATCTTTCCAGTTTGCCCTGGAGCGATTTGTCTGACTTCATCACCTCTAATTACAAATGAATCTGCATAGACATTAGTAAAGCAGAGATCATTTAATTTAGTAGGAGACACTCCATAACACTTAAAAGTGGAAAATGATGCGGAATTATATAGGACAGAATAATCAGCAACACAGTTGCTGATTCTCTTCCTGTTCCAAGCATAAACAGATGCAAATCTGGTGGCGTTAAAAACTTCACCAAAAGGGCACAAGTTTGTAATATTAGGAAATCTAACAATAGATTCTGTTGGTTGGACTCTAAAGTTAGAAGTTTGATAGATTCCTTTTTCTACAGTGAAGGATTTCAACGTACACTTTGTTTCTGAGAGAGGGTCAAGTGCACAGTCTACAGCATCTGTAATGGTTCCATTTTCATTATATTTTAATAGAAAAGTCCTAGGTTGAAGATAACCCACATAATAAGCTGCAGCACCAGCTGTCCAACCTGAAGAAGAATCACCAGGAGTCAAATAACTTCTATGTAAAGCAAGTAAAGTTTGAAACCTAGTGATGTTAATACCTATTGGCAAATCTACCAATGGTTCTAAAGCCGAAAAACCCTGAGGGAGATCACGCACTAAATTAATAGGCGTGTGCTTAGAATATATTTTAAAATAACCATCAATATTCTTAAACACAAATTCCCTAAGATTTTTGAAATTACCCTGTTTTCCTTCAAGGTCCATAAGAAAAGGCTGAGAGACATATTCAAAAGTGCAATTATTCGCACTAGAATAAACTCTGAACTCACTTTCCATCCAACTTTTGTTGTTTTTGTGGTAATAAACACCCAAAAATGGATCATTACAAAATTGAAATTCACAGACTTTAATAACAACATTAGTAGCGTTATTAACAATAAGTAGGGACTGGGTCTTCGAATCTAAAGTAGTACCAAAAATCCAGCCTCTTATTATGTTAGACTTCTCAGTGGAAGCAAAATAAACACCATCATTAAATGGTAGGACAGGGTTATCAAACCTCTTAGTACCATTGGTCCCAGAGACATGTATAGCATGGAACCAAGTAACATTGGAAAAGAAAGGTAAGAACAAGTCCTGAGTTGAATGTAAAACTGAGGATCTGAAAACTTTGTCAGGGTAATAAACACCACGTGTGAAAGAATTAGTGTATGCAGGGGGTAATTGAGTTCTGGTTGTAAGATTAACACACTGACTAGAGACTAGTGGCAATAAAACAAGAAAAACAAACATTGTTCGTTTAGTTGTTAACAAGAACATCACTAGAAATAACAACTCTGTTGTTTTCTCTAATTATAAGTCTACCTTTACTAAGAAGAGATAAAATCATATCATTGATTTGACCTTCTTTTAAAGACATAACAGCAGTACCCCTTAATTTAAGGGGAAATTTACTCATGTCAAATAAAGAATAGGAAGACAACTGAATTGGATTTGTATTCCTCCAAAATATGTAATTTGCATGCATGACATAACCATCTATTTGTTCGCGTGGTTTGCCAAGATAATTACATCCAATTAAAAATGCTTCAGATGATGACGCATTCACATTAGTAACAAAGGCTGTCCACCATGCGAAGTGTCCCATGAGCTTATAAAGATCAGCATTCCAAGAATGTTCTGTTATCTTTATAGCCACGGAACCTCCAAGAGCTAGCTTTTGTTGTATAAACCCACAAATGTAAGTGAAAAAACCCTCTTTAGAGTCATTTTCTTTTGTAACATTTTTAGTCTTAGGGTCGTACATATCACTAATAATGAGATCCCATTTATTAGCTGTATGTACAGTTGCACAATCACCAATCAAAGTTGAATCTGCATCAGAGACAAAGTCATTAAGATCTGAATCGACAAGCAGCGTACCCGTAGGCAACCACTGTCTTAAAACAGCTGTACCTGGTGCAACTCCTTTATCAGAACCAGCACCAAAATGTATAACTCTCATATTATAGGGTACAGCTAATGTTAATGTGTTTAAATATTGACACAGTTGAGTATATTTTGCGACATTCATCATTATGCCTTTAGGTAATGTTGCACTATCACCATAATTTTGAAGGTCACACTTTTCTAATAGCATTCTTTGCATTTTGTAAAGATTAGGCATAGCAACACCCGGTTGCCACGCTTGACTAGATTGTAATTTTGGGTAAAATGTTTCTACATGGCCATCTTTACACCAAAGCATAAATGAAATTTCTGTATAGTCAATAGTCACTTTGACAACCTTAGAAACTACAGATAAATCTTGGGATTTTATTATTTCAACAAAATCATCAAGTAATAAATCAATAACAGAACACACACACTTAGATGAACCTGTTTGCGCATCTGTTATGAAATAGTTTTTAACTGTACTGTCCATAGGAATAAAATCTTCTAATTCAAAAGGTGATTCCTTAAAACGTTTAGCTAGTCCAATCAGTAGATGTAAACCACCTAACTGACTATGACTAAAATCTCCATAAACGATATGTTCGAAGGCATAGCCTTCTAATTTATACCGTTCAATGAATTCATCCATAGCTAATTCTAAGAAATCAATTTCCATTTGACTCCTGGGTTTAAATTCTTGTAAATTTCTACTCTGAGTAAAGTAAGTTTCAGGTAATTGTTGGACAACACCATCAACTTTCTTATAATAATTGAACTGTGTTTTTACGGCTTCTCCAATTAATGTGACTCCATTAAGACTAGCTTGTTTGGGACCTACAGATGGTTGTAAACCTTTAACACTACCTTCTGTAATAAGAACACCATTACGGGCATTTCTAAATAAGTCTACTTGACCATCAACTCTACCATCAAAAAAGACAGTGAGTGGTGCACAAATCGTTTCAGTTGGTTTCTTGGCTATGTCAGTCATAGAACAAACACCAATAGTAGATATATGTGCTGGAGCATCTCTTTTGTAGTCCCAGATCACAGTATTAGCAGCAATGTCCACACCCAAATTATTGAGTATTTTCACCTCTGGTACTGGTTTAATGTTGCGCTTAGCCCAAAGCTCAAATGCTACATTAACAGGTAATGTTGTTTTATTTTCAAACAATTCTACATCAACACCATCAACTTTTGTGTAAACAGTGTTATTAATGATAGAAACTGGTACTTCACCCTGTTGTCCATCAAAGTGTCCCTTATTTACAACATTAAAAGCCACATTTTCTAAACTCTGAAGTCTTGTAAAAGTGTTCCAGAGGTTATAAGTATCAAATTGTTTGTAAACCCACAAGCTAAAGCCAGCTGAGATCATCATGTTATAAGCATCGAGATACAATCTGTACTCATTAGCATGATGTCTACAGACAGCACCACCTAAATTGCAACGTGTTATACACGTAGCAGACTTTAGTGGTACATAATCTATATCTGACACTACTTGTTTTCCATGAGACTCACATGGACTGTCAGAGTAATAGAAAAATGGTAATTGTTTTAAATTAACAAAAGCACTTTTATCAAAAGCTGGTGTGTGGAATGCATGTTTATTTACATACAAACTGCCACCATCACAACCAGGCAAGTTAAGGTTAGATAGCACTCTAGTGTCAAATCTACAAACAATGGAATTAGCAGGATATCTATCGACATTGCAATTCCAAAATAGGCATACACCATCTGTGAATTTGTCAGAATGTGTGGCATAAGAATAGAATAATTCTTCTATTTTATAAGCTTTGTCACTACAAGGCTGTGCATCATAGAACTTCCATTCTACATCAGCTTGAGGTACACACTTAATAGCTTTAGGGTTACCAATGTCGTGAAGAACTGGGAATTTGTCTGCTAATAATGCAGCTTTAACAACCATGTGTTGAACCTTTCTACAAGCCGCATTAATCTTCAGTTCATCACCAATTATAGGATATTCAATAGTCCAGTCAACACGCTTAACAAAGCACTCGTGGACAGCTAGACACCTAGTCATGATTGCATCACAACTAGCTACATGTGCATTACCATGGACTTGACAATACAGATCATGGTTGCTTTGTAGGTTACCTGTAAAACCCCATTGTTGAACATCAATCATAAACGGATTATAGACGTAATCAAATCCAATAGAATGATGCCAACAGGCATAAGTGTCTGAAGCAGTGGAAAAGCATGTGGCACGTCTATCACATAGACAACAGGTGCGCTCAGGTCCTATTTTCACAAAATACTTCATAGATGTCAACTCAAAGCCATGTGCCCATAAGACAAATACGACTCTGTCAGAGAGATTTTTAAGTGTGTCACTTAACATTTGTACAATCTTTATACGCACTACATTCCAAGGAAGTCCTTTGTACATAAGTGGTATGAGGTGTTTAAATTGATCTCCAGGCGGTGGTTTAGCACTAACTCTGGAAAAATCTGTATTATTAGGTGTATCAACATAACCTGTAGGTACAGCAACTAGGTTAACACCTGTAGAAAAACCTAGCTGTAAAGGTAAATTGGTACCAACAGCTTCTCTAGTAGCATGACACCCCTCGACATCGAAGCCAATCCATGCACGTACATGTCTTATAGCTTCTTCGCGGGTGATAAACATGTTAGGGTAACCATTAACTTGATAATTCATTTTAAAACCCATCATAGAGATGAGTCTTCTATAGGTCATGTCCTTAGGTATGCCAGGTATGTCAACACATAAACCTTCAGTTTTGAATTTAGTGTCAACACTGAGGTGTGTAGGTGCCTGTGTAGGATGTAACCCAGTGATTACCTTACTACAATCTTTAAAGAGTCCTGTTACATTTTCAGCTTGTAAAGTTGCCACATTCCTACGTGGAATTTCAAGACTTGTAAATTGCAACTTGTCATAAAGGTCTCTATCAGACATTATGCAAAGTATGCCTACTTTTGCTCTGGTAATAGCAACATTAAATCTGTTTACATTACAAGAGTGAGCTGTTTCAGTGGTTTGAGTGAATATGACATAGTCATATTCTGAGCCCTGTGATGAATCAACAGTTTGAGTTGGTAGTCCCAAAATCTTTGAGGCTACAGCATTCTGTGAATTATAAGGTGAAATAAAGACAGCTTTTCTCCAAGCAGGGTTACGTGTAAGGAATTCTCTTACCACGCCTATTTGTGGCCTGTTAATTGCAGATGAAACATCATGCGTGATAACACCCTTATAAAACATTTTAAAGCATTGAGCTGATTTGTCTTTATGTGCTTTAAGCTTATTATCATAAACCAAAGCACTCACAGTGTCAACAATTTCAGCAGGACAACGCCGACAAGTTCCGAGGAACATGTCTGGACCTATAGTTTTCATAAGTCTACACACTGAATTGAAATATTCTGGTTCTAGTGTGCCCTTAGTTAGCAATGTGCGTGGTGCAGGTAATTGAGCAGGGTCGCCAATGTACACATAGTGCTTAGCACGTAATCTGGCATTGACAACACTCAAATCATAATTTGTGGCCATTGAAATTTCATCAAAGACAACTATATCTGCTGTCGTCTCAGGCAATGCATTTACAGTACAAAAGACATACTGTTCTAATGTTGAATTCACTTTGAATTTATCAAAACACTCTACACGAGCACGTGCAGGTATAATTCTACTACATTTATCTATAGGCAAATATTTTAATGCCTTCTCACATAGTGCATCAACAGCGGCATGAGAGCAAGCTGTATACACTATGCGAGCAGAAGGGTAGTAGAGAGCTAGGCCAATAGCAAAATGACTCTTACCAGTACCAGGTGGTCCCTGGAGTGTAGAATACTTTTGCATACCAACCTTTTGATAATTTGCAACATTGCTAGAAAACTCATCTGAGATATTGAGTGTTGGGTATAAGCCAGTAATTCTAACATAGTGCTCTTGTGGCACTAGTGTAGGTGCACTTAATGGCATTACTGTATGTGATGTCAGCACAAAATAATCACCAACATTTAATTTGTAAGTTGTTGTACCTCGGTAAACAACAGCATCACCATAGTCACCTTTTTCAAAGGTGTACTCTCCTATTTGTACTTTACTGTTTTTAGTTACACGATAACCAGTAAAGACATAATTTCGGTTAAGTGGTGGTCTAGGTTTACCAACTTCCCATGAAAGATGTAATTCTCTGTCAGACAGCACTTCACGTACAGTAGCAATACCATAAGACAGTTTAAATGTCTCCTCAGTAGCTTTGAGCGTTTCTGCTGCAAAAAGCTTGAGTCTTTCAGTACAGGTGTTAGCTAAAATGTAATCACCAGCATTTGTCCAGTCACATGTTGCAATTGCATTAAAGTCAGTAACATTATCGCTACCAACACATGTATTTTTATATAAACCAAAAACTTGTCCATTAGCACACAATGGAAAACTAATGGGTGGTTTATGTGATTTACAATAATAGCTCATACCTCCTAAGTAAAGTTGAGTCACATCTGTGACATCACAACCTGGAGCATTGCAAACATACGGATTAACAGACAAGACTAATTTATGTGATGTTGATATGACATGGTCGTAACAGCATTTACAACATAAGAATGGTCTACGTATGCAAGCACCACATCTTAATGAAGTCTGTGAATTGCAAAGAACACAAGCCCCAACAGCCTGTAAGACTGTATGCGGTGTGTACATAGCCTCATAAAACTCAGGTTCCCAATACCTTGAAGTGTTATCATTAGTAAGCATAACAGAATACATGTCTAACATGTGTCCTGTTAACTCATCATGTAGCTTTCTTATGTATTGTAAGTACAAATGAAAGACATCAGCATACTCCTGATTAGGATGTTTAGTAAGTGGGTAAGCATCTATAGCTAAAGACACGAACCGTTCAATCATAAGTGTACCATCTGTTTTTACGATATCATCTACAAAACAGCCGGCCCCTAGGATTCTTGATGGATCTGGGTAAGGAAGGTACACATAATCATCACCCTGTTTAACTAGCATTGTATGTTGAGAGCAAAATTCATGAGGTCCTTTAGTAAGGTCAGTCTCAGTCCAACATTTTGCTTCAGACATAAAAACATTGTTTTGATAATAAAGAACTGACTTAAAGTTCTTTATGCTAGCCACTAGACCTTGAGATGCATAAGTGCTATTGAAACACACAACAGCATCGTCAGAGAGTATCATCATTGAGAAATGTTTACGCAAATATGCGTAAAACTCATTCACAAAGTCTGTGTCAACATCTCTATTTCTATAGAGACACTCATAAAGTCTGTGTTGTAAATTGCGGACATACTTATCGGCAATTTTGTTACCATCAGTAGATAAAAGTGCATTAACATTGGCCGTGACAGCTTGACAAATGTTAAAAACACTATTAGCATAAGCAGTTGTGGCATCTCCTGATGAGGTTCCACCTGGTTTAACATATAGTGAACCGCCACACATGACCATTTCACTCAATACTTGAGCACACTCATTAGCTAATCTATAGAAACGGTGTGACAAGCTACAACACGTTGTATGTTTGCGAGCAAGAACAAGTGAGGCCATAATTCTAAGCATGTTAGGCATGGCTCTATCACATTTAGGATAATCCCAACCCATAAGGTGAGGGTTTTCTACATCACTATAAACAGTTTTTAACATGTTGTGCCAACCACCATAGAATTTGCTTGTTCCAATTACTACAGTAGCTCCTCTAGTGGCGGCTATTGATTTCAATAATTTTTGATGAAACTGTCTATTGGTCATAGTACTACAGATAGAGACACCAGCTACGGTGCGAGCTCTATTCTTTGCACTAATGGCATACTTAAGATTCATTTGAGTTATAGTAGGGATGACATTACGTTTTGTATATGCGAAAAGTGCATCTTGATCCTCATAACTCATTGAATCATAATAAAGTCTAGCCTTACCCCATTTATTAAATGGAAAACCAGCTGATTTGTCTAGGTTGTTGACGATGACTTGGTTAGCATTAATACAGCCACCATCGTAACAATCAAAGTACTTATCAACAACTTCAACTACAAATAGTAGTTGTCTGATATCACACATTGTTGGTAGATTATAACGATAGTAGTCATAATCGCTGATAGCAGCATTACCATCCTGAGCAAAGAAGAAGTGTTTTAATTCAACAGAACTTCCTTCCTTAAAGAAACCCTTAGACACAGCAAAGTCATAGAAGTCTTTGTTAAAATTACCGGGTTTGACAGTTTGAAAAGCAACATTGTTAGTAAGTGCAGCTACTGAAAAGCACGTAGTGCGTTTATCTAGTAATAGATTACCAGAAGCAGCGTGCATAGCAGGGTCAGCAGCATACACAAGTAATTCCTTAAAACTAAGTCTAGAGCTATGTAAGTTTACATCCTGATTATGTACAACACCTAGCTCTCTGAAGTGGTATCCAGTTGAAACTACAAATGGAACACCATCAACAAATATTTTTCTCACTAGTGGTCCAAAACTTGTAGGTGGGAACACTGTAGAGAATAAAACATTAAAGTTTGCACAATGCAGAATGCATCTGTCATCCAAACAGTTAACACAATTTGGGTGGTATGTCTGATCCCAATATTTAAAATAACGGTCAAAGAGTTTTAACCTCTCTTCCGTGAAGTCATATTTTAACAAATCCCACTTAATGTAAGGCTTTGTTAAGTCAGTGTCAACATGTGACTCTGCAGTTAAAGCCCTGGTCAAGGTTAATATAGGCATTAACAATGAATAATAAGAATCTACAACAGGAACTCCACTACCTGGCGTGGTTTGTATGAAATCACCGAAATCATACCAGTTACCATTGAGATCTTGATTATCTAATGTCAGTACACCAACAATACCAGCATTTCGCATGGCATCACAGAATTGTACTGTTTTTAACAAAGCTTGGCGTACACGTTCACCTAAGTTGGCGTATACGCGTAATATATCTGGGTTTTCTACAAAATCATACCAGTCCTTTTTATTGAAATAATCATCATCACAACAATTGTATGTGACAAGTATTTCTTTTAATGTGTCACAATTACCTTCATCAAAATGCCTTAAAGCATAGACGAGGTCTGCCATTGTGTATTTAGTAAGACGTTGACGTGATATATGTGGTACCATGTCACCGTCTATTCTAAACTTAAAGAAGTCATGTTTAGCAACAGCTGGACAATCCTTAAGTAAATTATAAATTGTTTCTTCATGTTGGTAGTTAGAGAAAGTGTGTCTCTTAACTACAAAGTAAGAATCAATTAAATTGTCATCTTCGTCCTTTTCTTGGAAGCGACAACAATTAGTTTTTAGGAATTTAGCAAAACCAGCTACTTTATCATTGTAGATGTCAAAAGCCCTGTATACGACATCAGTACTAGTGCCTGTGCCGCACGGTGTAAGACGGGCTGCACTTACACCGCAAACCCGTTTAAAAACGATTGTGCATCAGCTGACTGAAGCATGGGTTCGCGGAGTTGATCACAACTACAGCCATAACCTTTCCACATACCGCAGACGGTACAGACTGTGTTTTTAAGTGTAAAACCCACAGGGTCATTAGCACAAGTTGTAGGTATTTGTACATACTTACCTTTTAAGTCACAAAATCCTTTAGGATTTGGATGATCTATGTGGCAACGGCAGTACAGACAACACGATGCACCACCAAAGGATTCTTGATCCATATTGGCTTCCGGTGTAACTGTTATTGCCTGACCAGTACCAGTGTGTGTACACAACATCTTAACACAATTAGTGATTGGTTGTCCCCCACTAGCTAGATAATCTTTGTAAGCTTTAGCAGCATCTACAGCAAAAGCACAGAAAGATAATACAGTTGAATTGGCAGGCACTTCTGTTGCATTACCAGCTTGTAGACGTACTGTGGCAGCTAAACTACCAAGTACCATACCTCTATTTAGGTTGTTTAATCCTTTAATAAAGTATAAATACTTCACTTTAGGACCTTTAGGTGTGTCTGTAACAAACCTACAAGGTGGTTCCAGTTCTGTATAGATAGTACCAGTTCCATCACTCTTAGGGAATCTAGCCCATTTCAAATCCTGTAAATCGGATAACAGTGCAAGTACAAACCTACCTCCCTTTGTTGTGTTGTAGTAAGCTAACGCATTGTCATCAGTGCAAGCAGTTTGTGTAGTACCGGCAGCACAAGACATCTGTCGTAGTGCAACAGGACTAAGCTCATTATTCTGTAATTTGACAGCAGAATTGGCCCTTAAAGCTGTTACAATAAGAGGCCATGCTAAATTAGGTGAATTGTCCATACTAATTTCACTAAGTTGAACAATTTTACTATCTGCATCTACAACCTGTTGGATTTCCCACAATGCTGATGCATAAGTAAATGTTGTACCATCACACGTATTTTTATATGTGTTATAGTCTGGTATGACAACCATTAGTTTGGCTGCTGTTGTAAGAGGTATTATGTTCAAGGGAACACAACCATCTCTTGCATTGTTGATAATGTTGTTGAGTGCATCATTATCCAACTTTCTAAGCATAGTGAAAAGCATTGTCTGCATAGCACTAGTAACTTTTGCCCTCTTGTCCTCAGATCTAGCCTGTTTATACATTTGGGTCATAGCTTGATCAGCCATCTTTTCCAACTTACGTTGCATGGCTGCATCACGGTCAAATTCAGATTTAGCCACATTCAAAGACTTCTTCAACTTTTTAAGAACAACTTCAGAATCACCATTAGCAACAGCCTGCTCATAAGCTTCTTGAGCAGTAGCAAAAGCTGCATATGATGGAAGGGAACTAAACTCTGAGGCTATAGCTTGTAAGGTTGCCCTGTTGTCCAGCATTTCTTCACAAAGCTTGTTTATGTCTACAGCACCCTGCATGGAAAGCAAAACAGAAAGTAGTGAAACCATTTTTTCAAAGGCTTCAGTAGTATCTTTAGCTAAGAGAATGTCATTGTGTAACTGGACACATTGAGCCCACAATTTAGATGATGATTCTACTCTGAGTTGTTGCAAAACTGAGAGTAAGACTACTGATGTGCACTTTACATCTGACATTTTAGACTGTACAGTGGCTACTTTGATACAAGGTTTGCCACCAACACCCAACAATTTAATGTTGAGTTTGAAGGCATCTATGCTATTCTTGGGTGGGAGTAGTCCCTGTGAATTCATATATCTAAACTCCTGTGTAGAAACTAAGTAATCATAAACACCAAGAGTCAGTCTAAAGTAGCGGTTGAGTAAACAAAAGAGGCCAAAGTAACAAGTACAAAAATAGCCTAAGAAACAATAAACTAGCATTATACACTGAAGTGTATTACCAGTTATGAAGAAAATAGGGCAATACTCAACACACATAAAAACAATACCTCTGGCCAAAAACATGACAGTTGTAACTACACCTGAGTAGTTAGAAGTAACAGAGATTATAAGAGCCCACATGGAAATGGCTTGATCTAAAGCATTACCATAATAAACTTTATAAACGAGTGTCAAGACATTCATAAGTGTCCACACTCTCCTAGCACCATCATCATACACAGTTCTTGCTGTCATAAGGATTAGTAACACTACAGCTGATGCATACATAACACAGTCTTTTAGCTTAAAACCAGACAAACTAGTATCAACCATATCCAACCATGTCATAATACGCATCACCCAACTAGCAGGCATATAGACCATATTAAAATAAGCTACAGTGGCAAGAGAAGGTAACAAAAACAAACAGAGAAATGCATGCTTATGTTTGACAAACATCATTGCAAAAGCAGACATAGCAATAATACCCATAGCAAAAGGTAAAAAGGCATTTTCATACAAAAAAAAGAACAAAGACCATTGAGTACTCTGGACTAAAACTAAAAGTGAAGTCAAAATTGTGAGTAACAACCAGTGGTGTGTACCCTTGATTGTTCTTTTCACTGCACTTTGGAAAGTAACACCTGAGCATTGTCTAACAACATCAAAAGGTGTAAATTCATCTTCTAATAAAGCACTACCCAATATGGTACGTCCATTCATACCATTTTGCAGTAATTCTTTTAATGAAGCACACATATCTAAAACGGCAATTCCAGTTTGAGCAGAAAGAGGTCCTAGTATGTCAACATGGTCTTGTGTTAGAGGTTCATAATTGTACTTCATAGCCACAAGGTTAAAGTCATTAAGAGTTGTGGTAAATCGATTGAGAAACCACCTGTCTCCATTTATAACAGCAGCGTACAACCAAGCTAAAACATTAACTGTAATAGTTGTGTCCGTACCAGCTGCTTGTGCTGTTTGCCTGTCAACAAAAGGTCCATAAAAGTTACCTTCTAAGTCTGTGCCAGCATGAACTCCAGTTGGTAATTCCATATGGTGCATGTAACAAAAAGAGACACAGTCATAATCTATGTTAAAACCAACACTACCACATGAACCATTAAGGAATGAACCCTTAATAGTGAAATTGGGCCTCATAGCACATTGGTAAACACCAGATGGTGAACCATTGTAACAAGCTAACACTGAAAAAGTCTGTCCTGGTTGAATGCGAACAAACTTATACTTAGGTGTCTTAGGATTGGCTGTATCAACCTTAAGCTTAAGTACACAATTTTGCATAGAATGTCCAATAACCCTGAGTTGAACATTACCAGCCTGTACCAAGAAATTATGATTAGACTTACGAATGAGTAAATCTTCATAATTAGGGTTAAGCATGTCTTCAGAGGTGCAGATCACATGTCTTGGACAGTAAACTACGTCATCAAGCCAAAGACCGTTAAGTGTAGTTGTACCACAAGTTACTTGTACCATACAACCCTCAACTTTACCAGATGGGAATGCCATTTTTCTAAAACCACTCTGCAAAACAGCTGAGGTGATAGAGGTTTGTGGTGGTTGGTAAAGAACATCAGAACCTGAGTTACTGAAGTCATTGAGAGCCTTTGCGAGATGACAACAAGCAGCTTCTCTGTAGCTAGTTGTATCCATTGCTCCACTAAAATACTTGTACTTATTATAAAGAGCTAAGTATCTATTATATTGCGTAAGAGGTAATAGCACATCACTACGCAACTTTAGATACATTTCTTTATTTAACAAAAAGGTGCACAGCGCAGCTTCTTCAAAAGTACTAAAGGAAACACCATTAAAGACTACACGTCTCTTTAGGTAATTACTAAAGAACCAATAGAAATGCTTTGTGGAAATACAAATGATATAAGCAATTGTTATCCAGAAAGGTACTAAAGGTGTGAACATAACCATCCACTGAATATGTGCTAAAAAAGAAACATCATTAGTAAGATAAAATGTCAAGTACAAGTAAATAACAGAATAAACACCAGGTAAGAATGAGTAAACTGGTGTTAAACAGAGTACAGTGAATGACATAAGGAATAGTAAAGTATTAAAGGCAACTACATGACTGTATTCACCAAAAGCTCTTCTAAACCTCATAAAATAGTAGGCAAGGCATGTTACTACGATAGCTACAATACCACCAGCTACTATAGATGCTGATATGTCCAAAGCACCAATAGGTTGAATTAGTGGTGTAAACATATTAGTAAGTAAATTTACAGCATCTACACCACAGAAAACTCCTGGTAAAGATCTGTAATAATCATTGTTAAGTACCCATCTACCACTAGTAGATACACAAACACCAGCTTCTGATCTTTCACAAGTGCCGTGCCTACAGTACTCAGAATCAAAAGTTGTTACCACTCTAACAGAACCTTCAAGGTAGGTGTTAGGAAATTGAATAATAGAGCCATCCATGAGCACATAACGTGTGTCAGGGCGTAAACTTTCATAAGCAACAGAACCTTCTAGTACATTGGTATCATAACAATATGGTACTGGCTTACCAGAAGCATCTTTAAAAATTGTACATTCAGCAGCCAAAACACAAGCTGATGTTGCAAAGTCAGTGTACTCTATAAGTTTTGATGGTGTGTAACAGATGTTACCAACTGCACTAAAAACTCTAGGTAAGAAATGCAAAAAGTCACCATTAGTTGTGCGTAATATCGTGCCAGGCAAACCAGGCACGACAAAACCCACTTCTCTTGTTATGACTGCAGCAATCAATGGGCAAGCTTTGTCATTAGTATAACTACCACCACGCTGGCTAAACCATGTGTCAAAATCAGCATGTTTGTTAGCAAAACAAGTATCTGTAGATGCTATGTCACGAGTGACACCACCATCAATAGCCTTGTATCCTATGATTTCACTTGAAAAGTCAGTATGTTTAGACATGACATGAACAGGTGTTATTAAATAGAAAATAGCAGCAACAAAAAGGAACACAAGTGTAACTTTAATTAACTGCTTCAACCAATTATTAACAATTTTACCACCCTTAAGTGCTATCTTTGTTGTTACAACATTAACAACTTGTCTAGTAGTTGCACATGTCAACTTAAAAGGTAAGTTATTCTTTTTAGCAGCACTACGTATTTGTTTTCGTAGTTGTTCAGACAATGACATGAAATCTTTAACGTTCCATATCAAAGCAATGTTGTGACTTTTTGCTACCTGCGCATTAATATGACGCGCACTACAGTCAATACAAGCACCAAGGTCACGGGGTGTCATGTTTTCAACTTTGTTATAGGTGAGCATATAGTTATTACAACTATCGCCAGTAACTTCTATGTCAGATTGATGTGACAATTTAAGACATTCAACAACATCTTTAGTTTCTACATCTGAATCAACAAACCCTTGCCGAGCTGCTGAAATAAAAGTAGATAAGACATTGTCTAAGGACACATTCTTTGCAAGTTCAGCTTCTGCAGTTGCAACTAGTGTTTTGAGTTTTTCCATTGGTACGTTAAAAGTTGATGAAAACGTATTAACGTAAGCATCAAACATTTTAACTGCAACTTCCGCACTATCACCAACATCAGACACTAATGCCTGATCTAGTAACAGTATAGGTTGACACATAAGCTGACTGTAGTAAACAGACGCTGATTTTGCAGATGATTCTTCACATTTTGATTTACCATCAAAAACTATAACATTAATAGGCAATGAACCTTTAGTGTTATTAGCTCTCAGGTTGTCTAAGTTAACAAAATGAGAGAGAGAATGTCTTTCATAAGTCTTTTGACCAGCTTTATCAAAGTAAAGATGGATGGAACCATTCTTCACTGTAACACTATCAACGATGTAAGAAGACTGGTCAGTAGGATTTATTGGTCTTTTAAACTGTAGTGACAAGTCTCTCGCAACTTCATCACTAATAAATGTACTACCAGCACAGAATGTATCACAATTAACACAATTCCAATTGTGTAGTTTGCAAAAGCCTTTACCTCCATTAGCATAGACATAAAAGGACCTTCTAACACCATTAACAATAGTTGTACATTCGACTCTTGTTGCTCTATTACGTTTGTAACACATCATACAAGTTGATGAATTACAACCGTCTACAACATGCACATAACTTTTCCATACATAATAAAATGATGCAAAGAAGATGTACATTCTAACCATAGCTGAAATCGGGGCCATTTGTACAAGATTAATTATTAACCACATAAGCCAAGAATTACTAATAAAATGTACTGCAAAATAGCTGAAAAACAATTGCATGATTGCAGCCAATCCAAGTACATAGAAAAACCTAGTGAAAAGAATATATGCCAAAAACCACTCTGCAACTAAGCCAAAAGCAGTTAAATCCCATTTAAAAGATGAAATGGTAATTTGTATAGTTTCTAAAGAAGGATAGGTGTCTAAAGAATCTAAACCACTAAGACAAACACTACAAGGTATAGAACCAGTACAGTAGGTTGCAATAGTGACATTAGTAGAGTTCAAATAGCCTTCTCTGTAACCAGTACAGTAAGAAGGCATGCCTAAATTAGACATTAAAACACCTAAAGCAGCGGTTGAGTAGATTAAAGAACCTAGGCAAACACTTAATAGTAAAAACCAAATTATAATATTTATCAGTTTAGAAAAATTAGGTGACTTCAAATAATTAAATGAAGCCTCTAGACAAAATTTACCGACACTCTTAACAGTATTCTTTGCTATAGTAGTCGGCATAGATGCTTTAATTCTAGAATTTGTACTTCTAGTAAAAGTACACAATTGTAGCAATAAAGTAAAGAAATAAGGCATATAATTAGTACAAACACGGTTTAAACACCGTGTAACTATGTTAGTAGTTGTACTAACAACTTTGTTAAGAAAAGGCTTAGCATAATTAGCTATAGTATCCCAAGGGACACTATTAACAGCAGCTAAACCATGAGTAGCAAGGGTTTTCAAACCTAATACTCTAGATAATTCATTAGGTTTCTTAATAGTAAGACTAGAATTGTCTACATAAGCAGCCATTAGATCTGTGTGGCCAACCTCTTCTGTAATTTTTAAACTATTATTTGCTGGTTTAAGTATAATGTCTCCTACAACTTCGGTAGTTTTCACATTACACTCAAGAACGTCTTTCTGTATGGTAGGATTTTCCACTACTTCTTCAGAGACTGGTTTTAGATCTTCGCAGGCAAGATTATCCATTCCCTGCGCGTCCTCTGACTTCAGTACATCAAACGAATTTGATGTTTCAACTGGTTTTGTGCTCCAAAGACAACGTATACACCAGGTATTTGGTTTATACGTGGCTTTATTAGTTGCATTGTTAACATGCCAAACAATAGGTTTATGTAACAATTTAGCTCCTTTCTTAAAAGAGGGTGTGTAGTGTTTATAATCAATAGCCACCACATCACCATTTAAGTCAGGGAAAAATGTAACTTTAAGCTCTCTTGAAGCAGGTTTCTTATAACCAGTTAACTGGTTTAAATCATCAGCAAATTTGATATTATCACATACAAACTTAAAATTATCGAAGCTTGCGTTTGGATATGGTTGGTTTGGTACAAGATCAATTGGTTGCTCTGTGAAATAAGAATTGTCTTTCTTATAATAATTGTCCAACTTAGGGTCAATTTCTGTACAAACAACACCATCCAATTTATAAGTAACTGGTTTTATGGTTGTTGTGTAACTGTTTTCTTTGTAGAAAACATCCGTAATAGGACCTTTGTATTCTGAGGACTTTGTAAGTAAAGCACCGTCTATGCAATACAAAGTTTCTTTAGAAGTTATATGTTTATAGTGACCACACTGGTAATTACCAGTGTACTCACTAGCACAAGTAAATGTACCATGCTTAAGTTCATACTGAGCAGGTGGTGCTGACATCATAACAAAAGGTGACTCCTGTTGTACTAGATATTTTGTAGCTTGTTTACCACACGTACAAGGTATCTGAACACCTTTCTTAAATTGTTCATAAGAAAGTGTGCCCATGTACATAACAGCTTCTACACCCTTAAGGGTTGTCTGCTGTTGTCCACAAGTTTTACACACCACGTTCAAGACTCTTTTGCAAGAATCTAAATTGGCATGTTGAAACAAGTAACTCATTGTTTCTCTAACATCACCTAACTCACCTACTGTCTTATTACAGTAGGCTAAGATAAGTGCACAAAAGTTAGCAGCTTCACCAGCCCTTGCTCTGTAATAAGCATCTTGTAGAGCAGGTGGATTAAACTTCAACTCTATTTGTTGGAGTGTTAACAATGCAGTGGCAAGATAACAGTTGTTATCTGCCCATTTAATAGAAGTTAAACCATTAACTTGTGGGTATTTCCACTTTTTAGTGTGATTTAATGCTGACATGTACCTACCCAGAAAACTAGGATCAGTTGTGTGGTAGTACTCAAAAGCCTCAACACGTAGAGTGTCATCATTAGGTAAAACATAAAATGTTTTACCTTCATGTGAATTATGAGGTTTTATTTTAGTAACATCAGCTCCATCCAAATAAGTTGGACCAAACTGTTGTCCATATGTCATTGACATGTCCACAACTTGCGTGTGGAGGTTAATGTTGTCTACTGTTGTAAACACCTTAATAGTCCTCACTTCTCTCAAAGAAAGAAGTGTCTTAAGATTGTCAAAGGTGATAACTTCACCATCTAGGTGGAATGTGGTAGGATTACTAGTGTAATATACACTTTTATCACCTCTCTTAAGAAATTCTATACCTAGTTGTGTAGATTGTCCAGAATAGGACCAATCTTTATAGGAACCAGCAAGTGAGATGGTTTCAATAAAATGTTCTTCAGGTGTTTTAGAAGAAGAAGTAAGATAACCATTATACGCTGTAACAGCATCAGGTGAAGAAACAGAAACTGTAGCTGGCACTTTGAGAGATCTCATATACCGAGCAGCTTCTTCCAAATTTAAGCCATGTGTTACATAGCCAAGTGGCATTGTAACAAGAGTTTCATTTAGATCGTTAAGTGTGTTGATAAGTGACGCTACAGTTGTTTTACTGGTGTAAAAGTAAAATCTAGCACCATAATCAACCACACCCTCTTGTATTTTAATACCCTTATATTTACGCTGTATAGTTGAAACTATGGCTTTAGTTTCCACACAGACAGGCATTAATTTGCGTGTTTCTTCTGCATGTGCAAGCATTTCTCGCAAATTCCAAGAAACAGTTCCAAGAATTTCTTGCTTCTCATTAGAGATAATAGATGGTAGAATGTAAAAGGCACTTTTACACTTTTTAAGCACTGTCTTTGCCTCCTCTACAGTGTAACCATTTAAACCCTGACCCGGGTAAGTGGTTATATAATTGTCTGTTGGCACTTTTCTCAAAGCTTTCGCTAGCATTTCAGTAGTGCCACCAGCCTTTTTAGTAGGTATAACCACAGCAGTTAAAACACCCTCTTGAACAACATCACCCACTATATATGGAGCATCTTTCTTTAAGAAAGTGATGTCAATGTCACTAACAAGAGTGGCAGAATCTGGATGAAGATTGCCATTAATGTCAATATAAAGTAACAAGTTTTCTGTGAGGAACTTAGTTTCTTCCAGAGTTGTTGTAACTTCTTCAACACAAGCTTTGATTTTCTTATCATCTTGTTTTCTCTGTTCAACTGAAGGTTTACTTTCAGTTATAAATGGCTTAACTTCCTCTTTAGGAATCTCAGCGATCTTTTGTTCAACTTGCTTTTCACTCTTCATTTCCAAAAAGCTTGAAACAAGTTTGTCATAGAGATTTTTATCAAAGACAGCTAAGTAGACATTTGTGCGAACAGTATCTACACAAACTCTTAAAGAATGTATAGGGTCAGCACCAAAAATACCAGCTGATAATAATGGTGCAAGTAGAACTTCGTGCTGATTAAAATTTTCATAAGCACTCTTAAGAAGTTGAATGTCTTCACCTTTGTTAACATTTGGGCCGACAACATGAAGACAGTGTTTAGCAAGATTGTGTCCGCTTAAAACACAACTACCACCCACTTTAAGTGGTCCATTAGTAGCTATGTAATCATCAGATTCAACTTGCATGGCATTGTTAGTAGCCTTATTTAAGGCTCCTGCAACACCTCCTCCATGTTTAAGGTAAACATTGGCTGCATTAACAACCACTGTTGGTTTTACCTTTTTAGCTTCTTCCACAATGTCTGCATTTTTAATGTATACATTGTCAGTAAGTTTTAAATAACCACTAAAACTATTCACTTCAATAGTCTGAACAACTGGTGTAAGTTCCATCTCTAATTGAGGTTGAACCTCAACAATTGTTTGAATAGTAGTTGTCTGATTGTCCTCACTGCCGTCTTGTTGACCAACAGTTTGTTGACTATCATCATCTAACCAATCTTCTTCTTGCTCTTCTTCAGGTTGAAGAGCAGCAGAAGTGGCACCAAATTCCAAAGGTTTACCTTGGTAATCATCTTCAGTACCATACTCATATTGAGTTGATGGCTCAAACTCTTCTTCTTCACAATCACCTTCTTCTTCATCCTCATCTGGAGGGTAGAAAGAACAATACATATGTGAAGCCAATTTAAACTCACCAGACTCATCAAATAAGTAGTATGTAGCCATACTCCACTCATCTAAATCAATGCCCAGTGGTGTAAGTAATTCAGATACTGGTTGCAAAGTTTTTATGACAGCATCTGCCACAACACAGGCGAACTCATTTACTTCTGTACCGAGTTCAACTGTATAGGCAGAGCACTTCTCATTAAGTACTTTATCAATCCTTTCATCAAGTTCAAAAGTGATATTCACACTCTTGTAACCTTGCACTTCTATCACAGTGTCATCACCAAAAGTAACCTTTGTTGGTGCACCGCCTTTGAGTGTGAAGGTATTGTTTGTTACCATCATATTAGGTGCAAGGGCACAGTACTTTTCTGTGTCTTTGATTTCGAGCAACATAAGCCCGTTAATACAAACTGGTGTACCAACCAATGGAGCTTCAACAGCTTCACTAGTAGGTTGTTCTAATGGTTGTAAATCACCAGTTTTCAAGACAACTTCCTCTGTTAACACTTCTGTGGGAAGTGTTTCTCCCTCTAAGAAGATAATTTCTTTTGGGGCTTTTAGAGGCATGAGTAGGCCAGTTTCTTCTCTGGATTTAACACACTTTCTGTACAATCCCTTTGAGTGCGTGACAAATGTTTCACCTAAATTCAAGGCTTTAAGTTTAGCTCCACCAATAATGATAGAGTCAGCACACAAAGCCAAAAATTTATTTACAAGCTTAAAGAATGTCTGAACACTCTCCTTAATTTCCTTTGCACAGGTGACAATTTGTCCACCGACAATTTCACAAGCACAGGTTGAGATAAATTTAACAATTTCCCAACCGTCTCTAAGAAACTCTACACCTTCCTTAAACTTCTCTTCAAGCCAATCAAGGACGGGTTTGAGTTTTTCATAAACAGTGCCAAAGATGTTAGTTAGCCACTGCGAAGTCAACTGAACAACACCACCTGTAATGTAGGCCATTACAACTAGATTGTTAGTAGCCAAATCAGATGTGAACATCATAGCATCAATGAGTCTCAGTGAATACTGTGAAATTCCATCTAGTATTGTTATAGCGGCCTTCTGTAAAACACGCACAGAATTTTGAGCAGTTTCAAGAGTGCGGGAGAAAATTGATCGTACAACACGAGCAGCCTCTGATGCAAATGCATAAAGAGGACTCAGTATTGATTTCTGTTCACCAATATTCCAGGCACCTTTTTTAGCTTTTCCTTTTGTAACTTTAAAATTACCACAGGATTCAACAATTTGTTTGAATGCTTTATAATCCAAACCTTTCACAGTTTCCACAAAAGCACTTGTGGAAGCAGAAAAAGATGCCAAAATAATGGCGATCTCTTCATTAAGTTTAAAGTCACCAACAATATTGATGTTGACTTTCTCTTTTTGGAGTATTTCAAGAAGGTTGTCATTAAGACCTTCGGAACCTTCTCCAACAACACCTGTATGGTTACAACCTATGTTAGCGCTAGCACGTGGAACCCAATAGGCACACTTGTTATGGCAACCAACATAAGAGAACACACAGCCTCCAAAGGCAATAGTGCGACCACCCTTACGAAGAATGGTTTTCAAGCCAGATTCATTATGGTATTCGGCAAGACTATGCTCAGGTCCTACTTCTGAATTGTGACATGCTGGACAATAAATTTTAACAACAGCATTTTGGGGTAAGTAACCACAAGTAGTGGCACCTTCTTTAGTCAAATTCTCAGTGCCACAAAATTCGCAAGTGGCTTTAACAAAATCGCCCGTCTGCCATGAAGTTTCACCACAATGATCACACTTCATGAGAGTTGAAAGGCACATTTGGTTGCATTCATTTGGTGACGCAACTGGATAGACAGATCGAATTCTACCCATAAAGCCATCAAGCTTTTTCTTTTCAACCCTTGGTTGAATAGTCTTGATTATGGAATTTAAGGGAAATACAAAATTTGGACATTCCCCATTGAAGGTGTCAAATTTCTTTGCCAATTTAATTTCAAAAGGTGTCTGCAATTCATAGCTCTTTTCAGAACGTTCCGTGTACCAAGCAATTTCATGCTCATGTTCACGGCAGCAGTATACACCCCTCTTAGTGTCAATAAAGTCCAGTTGTTCGGACAAAGTGCATGAAGCTTTACCAGCACGTGCTAGAAGGTCTTTAATGCACTCAAGAGGGTAGCCATCAGGGCCACAGAAGTTGTTATCGACATAGCGAGTGTATGCCCCTCCGTTAAGCTCACGCATGAGTTCACGGGTAACACCACTGCTATGTTTAGTGTTCCAGTTTTCTTGAAAATCTTCATAAGGATCAGTGCCAAGCTCGTCGCCTAAGTCAAATGACTTTAGATCGGCGCCGTAACTATGGCCACCAGCTCCTTTATTACCGTTCTTACGAAGAAGAACCTTGCGGTAAGCCACTGGTATTTCGCCCACATGAGGGACAAGGACACCAAGTGTCTCACCACTACGACCGTACTGAATGCCTTCGAGTTCTGCTACCAGCTCAACCATAACATGACCATGAGGTGCAGTTCGAGCATCCGAACGTTTGATGAACACATAGGGCTGTTCAAGTTGAGGCAAAACGCCTTTTTCAACTTCTACTAAGCCACAAGTGCCATCTTTAAGATGTTGACGTGCCTCTGATAAGACCTCCTCCACGGAGTCTCCAAAGCCACGTACGAGCACGTCGCGAACCTGTAAAACAGGCAAACTGAGTTGGACGTGTGTTTTCTCGTTGAAACCAGGGACAAGGCTCTCCATCTTACCTTTCGGTCACACCCGGACGAAACCTAGATGTGCTGATGATCGGCTGCAACACGGACGAAACCGTAAGCAGCCTGCAGAAGATAGACGAGTTACTCGTGTCCTGTCAACGACAGTAATTAGTTATTAATTATACTGCGTGAGTGCACTAAGCATGCAGCCGAGTGACAGCCACACAGATTTTAAAGTTCGTTTAGAGAACAGATCTACAAGAGATCGAAAGTTGGTTGGTTTGTTACCTGGGAAGGTATAAACCTTTAAT\n",
            "YcgatNNnnCGAT\n"
          ]
        }
      ]
    },
    {
      "cell_type": "markdown",
      "source": [
        "#2.8 Challenge Problems\n",
        "1. Write a function to reverse complement a sequence\n",
        "2. Write a function to transcribe a sequence of DNA into RNA\n",
        "3. Write a function to translate a sequence of DNA (or RNA, or both) into amino acids\n",
        "4. Eight queens problem - write a recursive algorithm to solve the 8 queens problem?\n",
        "5. More adavanced - how many solutions are there?\n",
        "5. More advanced - can you solve an n queens problem? How does the amount of time scale with N?"
      ],
      "metadata": {
        "id": "H2wtjDZcdVzi"
      }
    },
    {
      "cell_type": "markdown",
      "source": [
        "##2.8.1 Review: Reverse Complement function\n",
        "Above, we discussed the double strand nature of DNA. There are two strands that are reversed and the complement of each other:\n",
        "\n",
        "<img src=\"https://cdn.kastatic.org/ka-perseus-images/8b34811a58635746dd54952b8d182fa1f0322170.png\">\n",
        "\n",
        "A common technique is to reverse and complement a sequence of DNA. It is rare to do either reverse or complement alone and they are usually done together. Let's try to write our own function. The goal of this function is to take a sequence and give us the reverse complement\n",
        "\n",
        "To reverse commplement DNA, we need to perform two operations\n",
        "\n",
        "1. Reverse the DNA strand\n",
        "2. Complement the DNA strand (replace A with T, etc)\n",
        "\n",
        "We showed a quick way to reverse a string above\n",
        "```python\n",
        "reverse_seq = my_seq[::-1]\n",
        "```\n",
        "\n",
        "Now to complement. We can't just replace them one at a time without overwriting\n",
        "We need an intermediate\n",
        "```python\n",
        "my_seq_upper = upper(my_seq)\n",
        "my_seq_rc = my_seq_upper.replace('A','t')\n",
        "#Other\n",
        "#Now upper case\n",
        "\n",
        "```"
      ],
      "metadata": {
        "id": "20ionN5DbbdO"
      }
    },
    {
      "cell_type": "code",
      "source": [
        "def reverse_complement(my_seq):\n",
        "  print(my_seq)\n",
        "  reverse_seq = my_seq[::-1]\n",
        "  print(reverse_seq)\n",
        "  my_seq_upper = reverse_seq.upper()\n",
        "  print(my_seq_upper)\n",
        "\n",
        "  my_seq_rc = my_seq_upper.replace('A','t')\n",
        "  print(my_seq_rc)\n",
        "  my_seq_rc = my_seq_rc.replace('T','a')\n",
        "  print(my_seq_rc)\n",
        "  my_seq_rc = my_seq_rc.replace('C','g')\n",
        "  print(my_seq_rc)\n",
        "  my_seq_rc = my_seq_rc.replace('G','c')\n",
        "  print(my_seq_rc)\n",
        "  my_seq_rc = my_seq_rc.upper()\n",
        "  print(my_seq_rc)\n",
        "  return my_seq_rc\n",
        "\n",
        "print(reverse_complement('atcg'))"
      ],
      "metadata": {
        "id": "FofzYR3Oc7G6",
        "colab": {
          "base_uri": "https://localhost:8080/"
        },
        "outputId": "972db950-a190-4f2b-c821-8640c26cb038"
      },
      "execution_count": null,
      "outputs": [
        {
          "output_type": "stream",
          "name": "stdout",
          "text": [
            "atcg\n",
            "gcta\n",
            "GCTA\n",
            "GCTT\n",
            "GCaa\n",
            "Ggaa\n",
            "cgaa\n",
            "CGAA\n",
            "CGAA\n"
          ]
        }
      ]
    },
    {
      "cell_type": "markdown",
      "source": [
        "* A, T, C, G – already defined\n",
        "* N = “Any” = A,T,C, or G\n",
        "* R = “puRine” = G or A\n",
        "* Y = “pYrimidine” = C or T\n",
        "* S = “Strong” = G or C\n",
        "* W = “Weak” = A or T\n",
        "* K = “Keto” = G or T\n",
        "* M = “Amino” = A or C\n",
        "* B = “anything but A” = T, C, or G\n",
        "* D = “anything but C” = A, T, or G\n",
        "* H = “Anything but G” = A,T, or C\n",
        "* V = “anything but T” = A, C, or G"
      ],
      "metadata": {
        "id": "g31cRC5F0iuD"
      }
    },
    {
      "cell_type": "code",
      "source": [
        "def reverse_complement_ambiguous(my_seq):\n",
        " #Make a dictionary with ambiguous symbols\n",
        "  complements = { \"A\":\"T\", \"T\":\"A\",\"C\":\"G\",\"G\":\"C\",\"N\":\"N\",\"R\":\"Y\",\"Y\":\"R\",\n",
        "                 \"S\":\"S\",\"W\":\"W\",\"K\":\"M\",\"M\":\"K\",\"B\":\"V\",\"V\":\"B\",\"D\":\"H\",\"H\":\"D\",\n",
        "                 \"a\":\"t\", \"t\":\"a\",\"c\":\"g\",\"g\":\"c\",\"n\":\"n\",\"r\":\"y\",\"y\":\"r\",\n",
        "                 \"s\":\"s\",\"w\":\"w\",\"k\":\"m\",\"m\":\"k\",\"b\":\"v\",\"v\":\"b\",\"d\":\"h\",\"h\":\"d\"}\n",
        "  #This line is doing the wor. It is iterating through a reversed my_seq\n",
        "  #and putting each nucleotide into the variable base. For each of those\n",
        "  #it looks up in the dictionary what the complement is and adds those to\n",
        "  #a growing string.\n",
        "  return \"\".join(complements[base] for base in reversed(my_seq))\n",
        "\n",
        "#Example\n",
        "print(reverse_complement_ambiguous('ATGCTGANNNnnnRRGatcg'))"
      ],
      "metadata": {
        "colab": {
          "base_uri": "https://localhost:8080/"
        },
        "id": "ig2Cqnej0RLk",
        "outputId": "36ac78db-07dc-49d2-c2d7-0e6b993edbc1"
      },
      "execution_count": null,
      "outputs": [
        {
          "output_type": "stream",
          "name": "stdout",
          "text": [
            "cgatCYYnnnNNNTCAGCAT\n"
          ]
        }
      ]
    },
    {
      "cell_type": "markdown",
      "source": [
        "## 2.8.2 Transcribe\n",
        "Replace T with U"
      ],
      "metadata": {
        "id": "nz_ib4TSyehs"
      }
    },
    {
      "cell_type": "code",
      "source": [
        "#Write a function to transcribe a sequence\n",
        "def transcribe(dna_sequence):\n",
        "\n",
        "  rna_sequence = dna_sequence.replace('T', 'U')\n",
        "  return rna_sequence\n",
        "\n",
        "# Example usage:\n",
        "my_dna = \"ATCGT\"\n",
        "my_rna = transcribe(my_dna)\n",
        "print(my_rna) # Output: AUCGU"
      ],
      "metadata": {
        "id": "uG-C5Hplzujp",
        "colab": {
          "base_uri": "https://localhost:8080/"
        },
        "outputId": "abe9bae9-22ff-4fca-fd8c-9590796fa71c"
      },
      "execution_count": null,
      "outputs": [
        {
          "output_type": "stream",
          "name": "stdout",
          "text": [
            "AUCGU\n"
          ]
        }
      ]
    },
    {
      "cell_type": "markdown",
      "source": [
        "##2.8.3 Translate\n",
        "\n",
        "We need to use the codon chart. I'll save you some time and make a dictionary that has all of the codons in it.\n",
        "\n",
        "\n",
        "```python\n",
        "codon_table = {\n",
        "        'ATA':'I', 'ATC':'I', 'ATT':'I', 'ATG':'M',\n",
        "        'ACA':'T', 'ACC':'T', 'ACG':'T', 'ACT':'T',\n",
        "        'AAC':'N', 'AAT':'N', 'AAA':'K', 'AAG':'K',\n",
        "        'AGC':'S', 'AGT':'S', 'AGA':'R', 'AGG':'R',                 \n",
        "        'CTA':'L', 'CTC':'L', 'CTG':'L', 'CTT':'L',\n",
        "        'CCA':'P', 'CCC':'P', 'CCG':'P', 'CCT':'P',\n",
        "        'CAC':'H', 'CAT':'H', 'CAA':'Q', 'CAG':'Q',\n",
        "        'CGA':'R', 'CGC':'R', 'CGG':'R', 'CGT':'R',\n",
        "        'GTA':'V', 'GTC':'V', 'GTG':'V', 'GTT':'V',\n",
        "        'GCA':'A', 'GCC':'A', 'GCG':'A', 'GCT':'A',\n",
        "        'GAC':'D', 'GAT':'D', 'GAA':'E', 'GAG':'E',\n",
        "        'GGA':'G', 'GGC':'G', 'GGG':'G', 'GGT':'G',\n",
        "        'TCA':'S', 'TCC':'S', 'TCG':'S', 'TCT':'S',\n",
        "        'TTC':'F', 'TTT':'F', 'TTA':'L', 'TTG':'L',\n",
        "        'TAC':'Y', 'TAT':'Y', 'TAA':'_', 'TAG':'_',\n",
        "        'TGC':'C', 'TGT':'C', 'TGA':'_', 'TGG':'W',\n",
        "    }\n",
        "```"
      ],
      "metadata": {
        "id": "XYaGxScryiUA"
      }
    },
    {
      "cell_type": "code",
      "source": [
        "#Write a function to translate the following sequence of DNA:\n",
        "my_seq = \"GGCGAAAACGAGGAGGATATTACAATAAATGGA\"\n",
        "\n",
        "def translate(sequence):\n",
        "\n",
        "  codon_table = {\n",
        "          'ATA':'I', 'ATC':'I', 'ATT':'I', 'ATG':'M',\n",
        "          'ACA':'T', 'ACC':'T', 'ACG':'T', 'ACT':'T',\n",
        "          'AAC':'N', 'AAT':'N', 'AAA':'K', 'AAG':'K',\n",
        "          'AGC':'S', 'AGT':'S', 'AGA':'R', 'AGG':'R',\n",
        "          'CTA':'L', 'CTC':'L', 'CTG':'L', 'CTT':'L',\n",
        "          'CCA':'P', 'CCC':'P', 'CCG':'P', 'CCT':'P',\n",
        "          'CAC':'H', 'CAT':'H', 'CAA':'Q', 'CAG':'Q',\n",
        "          'CGA':'R', 'CGC':'R', 'CGG':'R', 'CGT':'R',\n",
        "          'GTA':'V', 'GTC':'V', 'GTG':'V', 'GTT':'V',\n",
        "          'GCA':'A', 'GCC':'A', 'GCG':'A', 'GCT':'A',\n",
        "          'GAC':'D', 'GAT':'D', 'GAA':'E', 'GAG':'E',\n",
        "          'GGA':'G', 'GGC':'G', 'GGG':'G', 'GGT':'G',\n",
        "          'TCA':'S', 'TCC':'S', 'TCG':'S', 'TCT':'S',\n",
        "          'TTC':'F', 'TTT':'F', 'TTA':'L', 'TTG':'L',\n",
        "          'TAC':'Y', 'TAT':'Y', 'TAA':'_', 'TAG':'_',\n",
        "          'TGC':'C', 'TGT':'C', 'TGA':'_', 'TGG':'W',\n",
        "      }\n",
        "  protein_sequence = \"\"\n",
        "  for i in range(0, len(sequence) - 2, 3):\n",
        "    codon = sequence[i:i + 3]\n",
        "    if codon in codon_table:\n",
        "      protein_sequence += codon_table[codon]\n",
        "    else:\n",
        "      protein_sequence += \"X\"  # Unknown codon\n",
        "  return protein_sequence\n",
        "\n",
        "# Example usage\n",
        "my_seq = \"GGCGAAAACGAGGAGGATATTACAATAAATGGA\"\n",
        "protein = translate(my_seq)\n",
        "print(protein)"
      ],
      "metadata": {
        "id": "DOJqGl4Dzzyb",
        "colab": {
          "base_uri": "https://localhost:8080/"
        },
        "outputId": "41563ee6-c42b-40cb-9665-f0f64085b64e"
      },
      "execution_count": null,
      "outputs": [
        {
          "output_type": "stream",
          "name": "stdout",
          "text": [
            "GENEEDITING\n"
          ]
        }
      ]
    },
    {
      "cell_type": "markdown",
      "source": [
        "That was genuinely clever lmao I thought I messed up"
      ],
      "metadata": {
        "id": "nW8aWE_03AD1"
      }
    },
    {
      "cell_type": "markdown",
      "source": [
        "## 2.8.4 Finding ORF in a sequence\n",
        "An open reading frame (ORF) is defined as a sequence that begins with a start codon 'ATG' and ends with one of the following stop codons 'TAA', 'TAG', 'TGA'\n",
        "\n",
        "Could you write a function that takes a sequence as input (a string) and returns the longest ORF? Or a list of all ORFs?"
      ],
      "metadata": {
        "id": "gi86p0jd60RI"
      }
    },
    {
      "cell_type": "code",
      "source": [
        "import re\n",
        "\n",
        "def find_orfs(sequence):\n",
        "    \"\"\"Finds all Open Reading Frames (ORFs) in a given DNA sequence and returns the longest one.\"\"\"\n",
        "    start_codon = \"ATG\"\n",
        "    stop_codons = {\"TAA\", \"TAG\", \"TGA\"}\n",
        "    orfs = []\n",
        "\n",
        "    for frame in range(3):\n",
        "        i = frame\n",
        "        while i < len(sequence) - 2:\n",
        "            if sequence[i:i+3] == start_codon:\n",
        "                for j in range(i+3, len(sequence) - 2, 3):\n",
        "                    codon = sequence[j:j+3]\n",
        "                    if codon in stop_codons:\n",
        "                        orfs.append(sequence[i:j+3])\n",
        "                        break\n",
        "            i += 3\n",
        "\n",
        "    return max(orfs, key=len) if orfs else None, orfs\n",
        "\n",
        "# Example usage:\n",
        "dna_sequence = \"AAGATGCGTAAATGCCCTAGATGTGA\"\n",
        "longest_orf, all_orfs = find_orfs(dna_sequence)\n",
        "print(\"Longest ORF:\", longest_orf)\n",
        "print(\"All ORFs:\", all_orfs)"
      ],
      "metadata": {
        "colab": {
          "base_uri": "https://localhost:8080/"
        },
        "id": "7mfw94_O4HvE",
        "outputId": "9644eaa0-7f87-44b4-ea0b-8aefb436dcc9"
      },
      "execution_count": null,
      "outputs": [
        {
          "output_type": "stream",
          "name": "stdout",
          "text": [
            "Longest ORF: ATGCCCTAG\n",
            "All ORFs: ['ATGCCCTAG', 'ATGTGA']\n"
          ]
        }
      ]
    },
    {
      "cell_type": "markdown",
      "source": [
        "##2.8.5 Eight queens problem intro (Recursion)\n",
        "\n",
        "In two weeks, we will cover DNA alignment. To perform DNA alignment we need to have a little background.\n",
        "\n",
        "First we need a program that can look deeply into many possible alignments. Recursion is a process where a function calls on itself. This allows for unique\n",
        "functionality distinct from for loops and while loops\n",
        "\n",
        "A good example of this is the 8 queens problem. Imagine you are provided a chess board and 8 queens. The goal is to place 8 queens anywhere on the board such that they cannot attack each other.\n",
        "\n",
        "<img src=\"https://raw.githubusercontent.com/chrisnelsonlab/DIY-Genome-2021/main/images/8queens.png\" width=\"300\">\n",
        "\n",
        "\n",
        "It may be simpler to start with a 4x4 chess board and try to place 4 queens (there are 2 solutions to this version (technically it's only one by symmetry). Try this excercise on a piece of paper or on the image below. Pay attention to your mental process as you try and solve.\n",
        "\n",
        "\n",
        "<img src=\"https://raw.githubusercontent.com/chrisnelsonlab/DIY-Genome-2021/main/images/4queens.png\" width=\"250\">\n",
        "\n",
        "\n",
        "*For help, check workbook 4 or look online for solutions.*"
      ],
      "metadata": {
        "id": "ylh30d5Zggkw"
      }
    },
    {
      "cell_type": "code",
      "source": [
        "def is_safe(board, row, col, n):\n",
        "    \"\"\"Check if a queen can be placed at board[row][col] without being attacked.\"\"\"\n",
        "    for i in range(col):\n",
        "        if board[row][i]:\n",
        "            return False\n",
        "\n",
        "    for i, j in zip(range(row, -1, -1), range(col, -1, -1)):\n",
        "        if board[i][j]:\n",
        "            return False\n",
        "\n",
        "    for i, j in zip(range(row, n, 1), range(col, -1, -1)):\n",
        "        if board[i][j]:\n",
        "            return False\n",
        "\n",
        "    return True\n",
        "\n",
        "def solve_n_queens_util(board, col, n, solutions):\n",
        "    \"\"\"Recursively solve the N-Queens problem and store solutions.\"\"\"\n",
        "    if col >= n:\n",
        "        solutions.append([row[:] for row in board])\n",
        "        return\n",
        "\n",
        "    for i in range(n):\n",
        "        if is_safe(board, i, col, n):\n",
        "            board[i][col] = 1\n",
        "            solve_n_queens_util(board, col + 1, n, solutions)\n",
        "            board[i][col] = 0\n",
        "\n",
        "def solve_n_queens(n):\n",
        "    \"\"\"Solves the N-Queens problem and returns all solutions.\"\"\"\n",
        "    board = [[0] * n for _ in range(n)]\n",
        "    solutions = []\n",
        "    solve_n_queens_util(board, 0, n, solutions)\n",
        "    return solutions\n",
        "\n",
        "# Example usage:\n",
        "n = 4  # Change to 8 for the full 8-Queens problem\n",
        "solutions = solve_n_queens(n)\n",
        "for sol in solutions:\n",
        "    for row in sol:\n",
        "        print(\" \".join(\"Q\" if cell else \".\" for cell in row))\n",
        "    print()"
      ],
      "metadata": {
        "id": "9-tJmC5lggx7",
        "outputId": "9a2ad94c-0117-4013-846d-ec02f914170e",
        "colab": {
          "base_uri": "https://localhost:8080/"
        }
      },
      "execution_count": null,
      "outputs": [
        {
          "output_type": "stream",
          "name": "stdout",
          "text": [
            ". . Q .\n",
            "Q . . .\n",
            ". . . Q\n",
            ". Q . .\n",
            "\n",
            ". Q . .\n",
            ". . . Q\n",
            "Q . . .\n",
            ". . Q .\n",
            "\n"
          ]
        }
      ]
    },
    {
      "cell_type": "markdown",
      "source": [
        "## FUTURE: 2.8.X Dynamic programming\n",
        "\n",
        "One way to speed up recursive algorithms is to remember information from previous iterations. A great example of this is calculating the Fibonacci sequence.\n",
        "[This will be a topic for future classes - if you have interest in knowing more about this, contact me!]"
      ],
      "metadata": {
        "id": "z_tkkvSOsfAU"
      }
    },
    {
      "cell_type": "markdown",
      "source": [
        "#2.9 Tutorial List Updated\n",
        "\n",
        "First notebook example:\n",
        "https://colab.research.google.com/\n",
        "\n",
        "Using Markdown\n",
        "https://colab.research.google.com/notebooks/markdown_guide.ipynb\n",
        "\n",
        "Importing Libraries: https://colab.research.google.com/notebooks/snippets/importing_libraries.ipynb\n",
        "\n",
        "Using Forms:\n",
        "https://colab.research.google.com/notebooks/forms.ipynb\n",
        "\n",
        "Data input/output:\n",
        "https://colab.research.google.com/notebooks/io.ipynb\n",
        "\n",
        "Data Commons:\n",
        "https://colab.research.google.com/github/datacommonsorg/api-python/blob/master/notebooks/analyzing_genomic_data.ipynb\n",
        "\n",
        "Biopython example:\n",
        "https://colab.research.google.com/github/chris-rands/biopython-coronavirus/blob/master/biopython-coronavirus-notebook.ipynb\n",
        "\n",
        "Machine learning + bioinformatics\n",
        "https://notebook.community/lilleswing/deepchem/examples/tutorials/21_Introduction_to_Bioinformatics"
      ],
      "metadata": {
        "id": "99MkfQDI7m4M"
      }
    },
    {
      "cell_type": "markdown",
      "source": [
        "#2.10 Learning Check\n",
        "\n"
      ],
      "metadata": {
        "id": "VTAjiXYXt-OL"
      }
    },
    {
      "cell_type": "code",
      "source": [
        "#@title Learning Check (input answers and hit play button)\n",
        "\n",
        "#@markdown Q1: I've been to UCSC genome browser and found my gene\n",
        "answer1 = 'Yes' #@param [\" \",\"Yes\", \"No\"]\n",
        "\n",
        "#@markdown Q2: I've been to NCBI and found my gene\n",
        "answer2 = 'Yes' #@param [\" \",\"Yes\", \"No\"]\n",
        "\n",
        "\n",
        "#@markdown Q3: What two nucleotides were before every exon in your gene?\n",
        "\n",
        "#@markdown If your gene is running from right to left, don't forget to reverse complement\n",
        "answer3 = 'AG' #@param [\" \",\"CG\", \"GG\",\"GT\",\"NN\",\"AG\", \"GA\"]\n",
        "\n",
        "\n",
        "#@markdown Q4: Which one of these would be first in order for a gene?\n",
        "answer4 = 'promoter' #@param [\" \",\"intron\", \"exon\",\"promoter\",\"5'UTR\",\"3'UTR\", \"Transcription Stop\"]\n",
        "\n",
        "\n",
        "#@markdown Q5: What organism is this sequence likely from?\n",
        "\n",
        "#@markdown Sequence = \"cgcaatttacaacacagactttatgagtgtctctatagaaatagagatgttgacacagac\"\n",
        "answer5 = \"SARS-CoV-2\" #@param [\"\", \"human\", \"mouse\", \"aligator\", \"SARS-CoV-2\"]\n",
        "\n",
        "if (answer1 == \"Yes\"):\n",
        "  print('Q1: Good')\n",
        "else:\n",
        "  print('Q1: Go to genome browser!')\n",
        "\n",
        "if (answer2 == \"Yes\"):\n",
        "  print('Q2: Good')\n",
        "else:\n",
        "  print('Q2: Go to NCBI!')\n",
        "\n",
        "if (answer3 == \"AG\"):\n",
        "  print('Q3: Correct')\n",
        "else:\n",
        "  print('Q3: Incorrect')\n",
        "\n",
        "if (answer4 == \"promoter\"):\n",
        "  print('Q3: Correct')\n",
        "else:\n",
        "  print('Q3: Incorrect')\n",
        "if (answer5 == \"SARS-CoV-2\"):\n",
        "  print('Q4: Correct')\n",
        "else:\n",
        "  print('Q4: Incorrect')"
      ],
      "metadata": {
        "colab": {
          "base_uri": "https://localhost:8080/"
        },
        "cellView": "form",
        "id": "IhvaTFPt7hC0",
        "outputId": "c5f56c33-7a9b-45a7-be69-839142063bfe"
      },
      "execution_count": null,
      "outputs": [
        {
          "output_type": "stream",
          "name": "stdout",
          "text": [
            "Q1: Good\n",
            "Q2: Good\n",
            "Q3: Correct\n",
            "Q3: Correct\n",
            "Q4: Correct\n"
          ]
        }
      ]
    },
    {
      "cell_type": "markdown",
      "source": [
        "# 2.? Sequence Databases\n",
        "\n",
        "\n",
        "https://colab.research.google.com/github/datacommonsorg/api-python/blob/master/notebooks/analyzing_genomic_data.ipynb"
      ],
      "metadata": {
        "id": "Ni3dSMV1olTB"
      }
    },
    {
      "cell_type": "code",
      "source": [
        "# Install datacommons\n",
        "!pip install --upgrade --quiet datacommons\n",
        "# Import Data Commons\n",
        "import datacommons as dc\n",
        "\n",
        "# Import other required libraries\n",
        "import matplotlib.pyplot as plt\n",
        "import matplotlib.patches as mpatches\n",
        "import pandas as pd\n",
        "import requests\n",
        "import json\n",
        "\n",
        "df_RUNX1 = pd.DataFrame({'gene': ['bio/hg38_RUNX1']})\n",
        "# Grab the chromosome and genomic coordinates using get_property_values\n",
        "df_RUNX1['chromosome'] = df_RUNX1['gene'].map(dc.get_property_values(df_RUNX1['gene'], 'inChromosome'))\n",
        "df_RUNX1['genomicCoordinates'] = df_RUNX1['gene'].map(dc.get_property_values(df_RUNX1['gene'], 'genomicCoordinates'))\n",
        "\n",
        "# display the genomic coordinates\n",
        "print(df_RUNX1)\n",
        "\n",
        "# define start and stop of RUNX1\n",
        "start, stop = df_RUNX1['genomicCoordinates'][0][0].strip('Position').split('To')\n",
        "start = int(start)\n",
        "stop = int(stop)"
      ],
      "metadata": {
        "id": "RTytRBKaow6J"
      },
      "execution_count": null,
      "outputs": []
    },
    {
      "cell_type": "markdown",
      "source": [
        "# 2.11 HW2\n",
        "\n",
        "Note about genes, RNA, and protein. Let's stick with this guide: https://www.jci.org/kiosk/publish/genestyle\n",
        "\n",
        "So my gene (*TP53* the gene will be italicisized and capital).\n",
        "My mRNA would be *TP53* mRNA and the protein would be p53\n",
        "\n",
        "\n",
        "For the gene you chose, answer the following questions:\n"
      ],
      "metadata": {
        "id": "nPSR_1qFc6gR"
      }
    },
    {
      "cell_type": "markdown",
      "source": [
        "## 2.11.1 Q1 Provide an introduction to your gene in Markdown\n",
        "\n",
        ">Pick a gene that is related to a human disease. Do your best to pick different genes than the rest of the class. Briefly describe the function and what is known in an introductory paragraph. Cite your references in an appropriate format. (suggestion 250 words max, 2-5 references).\n",
        "\n",
        "### Introduction to *Gene Choice* (replace with yours)\n",
        "*TP53*, also known as tumor protein p53, is a tumor suppressor gene that plays a critical role in the regulation of cell growth and division. It is located on chromosome 17 and encodes for a protein called p53, which acts as a transcription factor that controls the expression of genes involved in cell cycle arrest, DNA repair, and apoptosis (cell death) (1). Mutations in TP53 are among the most common genetic alterations found in human cancer, and the p53 protein is considered the \"guardian of the genome\" because of its role in preventing the development of cancer (2).\n",
        "\n",
        "The p53 protein is activated in response to cellular stress, such as DNA damage, and functions by binding to DNA and regulating the expression of genes involved in cell cycle arrest, DNA repair, and apoptosis. When the cell's DNA is damaged and cannot be repaired, p53 activates the process of apoptosis, which leads to the death of the cell. This helps prevent the spread of potentially cancerous cells (1,3).\n",
        "\n",
        "The TP53 gene can be mutated in a variety of ways, including point mutations, insertions, and deletions. These mutations can result in the loss of p53 function, leading to the development of cancer. In fact, it is estimated that over 50% of human cancers have mutations in TP53 (4). The most common types of cancer associated with TP53 mutations include lung cancer, breast cancer, ovarian cancer, and colon cancer (5).\n",
        "\n",
        "In conclusion, TP53 is a crucial tumor suppressor gene thatplays a critical role in the regulation of cell growth and division by encoding for the p53 protein. The p53 protein acts as a transcription factor that controls the expression of genes involved in cell cycle arrest, DNA repair, and apoptosis. Mutations in the TP53 gene are among the most common genetic alterations found in human cancer and can result in the loss of p53 function, leading to the development of cancer. The most common types of cancer associated with TP53 mutations include lung cancer, breast cancer, ovarian cancer, and colon cancer.\n",
        "\n",
        "It is important to note that the TP53 gene has many functions and is not only limited to cancer development, it also plays a role in aging, immune system, and other physiological functions. Studies have shown that TP53 mutations can also cause different types of genetic disorders like Li-Fraumeni syndrome, which is a rare disorder that predisposes individuals to a wide variety of cancers. In addition to that, the p53 protein also plays a key role in regulating the immune system and inflammatory response, by modulating the activity of immune cells and promoting the clearance of infected or damaged cells.\n",
        "\n",
        "In terms of future research, more studies are needed to fully understand the mechanisms by which TP53 mutations lead to cancer, as well as to develop effective therapies that target these mutations. Targeted therapies that restore the function of the p53 protein or inhibit the activity of mutant p53 proteins are currently being developed and tested in clinical trials, and show promising results for the treatment of cancers with TP53 mutations (6,7).\n",
        "\n",
        "\n",
        "\n",
        "\n",
        "\n",
        "**References:**\n",
        "\n",
        "[1] Levine, A.J. (1997). p53, the cellular gatekeeper for growth and division. Cell, 88(3), 323-331. - This one is real\n",
        "\n",
        "[2] Vousden, K.H., & Lu, X. (2013). Live or let die: the cell's response to p53. Nature Reviews Cancer, 13(5), 275-287. - This one is real\n",
        "\n",
        "[3] Lane, D.P., & Crawford, L.V. (1979). Isolation of a new structural gene, p53, encoding a phosphoprotein associated with cell transformation. Nature, 278(5705), 261-263. - This is a weird one. I think it picked up this (https://www.nature.com/articles/278261a0)\n",
        "\n",
        "[4] Soussi, T., & Wiman, K.G. (2007). p53: a guardian of the genome or a double-edged sword? Nature Reviews Cancer, 7(8), 523-531.- I'm pretty sure ChatGPT made this one up\n",
        "\n",
        "[5] Lozano, G. (2012). The p53 tumour suppressor gene: 20 years of p53 research. Nature Reviews Cancer, 12(7), 553-567.- I'm pretty sure ChatGPT made this one up\n",
        "\n",
        "[6] Dominguez-Sola, D. et al. (2019) Targeting the p53 pathway in cancer: challenges and opportunities. Nature Reviews Cancer. 19(3, pp.187-204) - I'm pretty sure ChatGPT made this one up\n",
        "\n",
        "[7] Jia, L. et al. (2020) p53 pathway-targeted therapy: current status and future prospects. Cancer Letters. 472, pp.15-26. Also made up?\n",
        "\n",
        "**-Written by ChatGPT, spot edited by prof Nelson**\n",
        "\n",
        "\n"
      ],
      "metadata": {
        "id": "PDp6RroSfAiG"
      }
    },
    {
      "cell_type": "markdown",
      "source": [
        "## 2.11.2 Q2\n",
        ">What kind of gene therapy or genome editing strategy do you expect could be used to treat this disease by targeting this gene? Consider DNA repair, transcriptional activation or transcriptional repression. (suggestion 250 words max)\n",
        "\n",
        "\n",
        "There are several different gene therapy and genome editing strategies that could potentially be used to treat diseases by targeting TP53.\n",
        "\n",
        "One strategy would be to use DNA repair techniques to correct mutations in the TP53 gene. This could involve using techniques such as homologous recombination or non-homologous end joining to repair the damaged DNA. Another approach would be to use transcriptional activation techniques to increase the expression of wild-type TP53 in cells with mutations. This could be achieved by using techniques such as CRISPR-mediated transcriptional activation, which uses a modified form of the CRISPR-Cas9 system to activate gene expression (1).\n",
        "\n",
        "Another approach would be to use transcriptional repression techniques to inhibit the activity of mutant TP53 proteins. This could be achieved by using techniques such as RNA interference or CRISPR-mediated transcriptional repression (CRISPRi) (2).\n",
        "\n",
        "Another strategy that has been proposed is to use genome editing techniques to introduce a functional copy of the TP53 gene in cells with TP53 mutations. This could be achieved by using techniques such as CRISPR-mediated gene therapy, which uses the CRISPR-Cas9 system to introduce a functional copy of the TP53 gene into cells (3).\n",
        "\n",
        "In conclusion, there are several different gene therapy and genome editing strategies that could be used to treat diseases by targeting TP53, including DNA repair, transcriptional activation, and transcriptional repression. Each of these strategies has its own potential benefits and limitations, and further research is needed to determine which strategies will be most effective in the clinic.\n",
        "\n",
        "**References:**\n",
        "\n",
        "[1] Liu, Y. et al. (2018) CRISPR-mediated transcriptional activation. Nature Methods. 15(11), pp.793-796\n",
        "\n",
        "[2] Ran, F.A. et al. (2013) Double nicking by RNA-guided CRISPR Cas9 for enhanced genome editing specificity. Cell. 154(6), pp.1380-1389\n",
        "\n",
        "[3] Nelson, C.E. et al. (2019) Progress and challenges in CRISPR-mediated therapeutics. Nature Reviews Genetics. 20(11), pp.637-652 - *Now I know this one is made up. That's me and I didn't write that article. I'm honored that chatGPT would make up a reference for me though*\n",
        "\n",
        "**-chatGPT**\n"
      ],
      "metadata": {
        "id": "aFD_54JWflr5"
      }
    },
    {
      "cell_type": "markdown",
      "source": [
        "## 2.11.3 Q3\n",
        "What are the genomic coordinates of your gene? Use hg38.\n",
        "\n",
        "The coordinates of *TRSP2* from hg38 are:\n",
        "\n",
        "chr22:43955442-44331714"
      ],
      "metadata": {
        "id": "exxv1HHLgFst"
      }
    },
    {
      "cell_type": "markdown",
      "source": [
        "## 2.11.4 Q4\n",
        "\n",
        "What is the **cDNA sequence** of the most common isoform. If you are in doubt about the isoform, you can use the longest isoform. You can do this with code below or using online tools.\n",
        "\n",
        "Document here how you collected the sequence:\n",
        "I chose transcript variant 1 for TRSP2 documented here:\n",
        "https://www.ncbi.nlm.nih.gov/nucleotide/CP034501.1?report=genbank&log$=nuclalign&blast_rank=4&RID=URJ19R12013\n",
        "\n",
        "This isoform is encoded by:\n",
        "\n",
        "```\n",
        ">NM_000546.6 Homo sapiens tRNA-SeC (anticodon TCA) 2-1 [TRSP2/TRU-TCA2-1], transcript variant 1, tRNA\n",
        "CGAGCCTACTAGGAGTCACCAGACCCCACGTCCGAAGTTTGGACACCGACAGATCACTGTCTCACCAAGTTAAGGTGGAAACAT\n",
        "```\n",
        "I used the code below to find the largest open reading frame in this sequence"
      ],
      "metadata": {
        "id": "SbZ2_dxZgOkI"
      }
    },
    {
      "cell_type": "code",
      "source": [
        "#Placeholder function for translating a sequence\n",
        "codon_table = {\n",
        "        'ATA':'I', 'ATC':'I', 'ATT':'I', 'ATG':'M',\n",
        "        'ACA':'T', 'ACC':'T', 'ACG':'T', 'ACT':'T',\n",
        "        'AAC':'N', 'AAT':'N', 'AAA':'K', 'AAG':'K',\n",
        "        'AGC':'S', 'AGT':'S', 'AGA':'R', 'AGG':'R',\n",
        "        'CTA':'L', 'CTC':'L', 'CTG':'L', 'CTT':'L',\n",
        "        'CCA':'P', 'CCC':'P', 'CCG':'P', 'CCT':'P',\n",
        "        'CAC':'H', 'CAT':'H', 'CAA':'Q', 'CAG':'Q',\n",
        "        'CGA':'R', 'CGC':'R', 'CGG':'R', 'CGT':'R',\n",
        "        'GTA':'V', 'GTC':'V', 'GTG':'V', 'GTT':'V',\n",
        "        'GCA':'A', 'GCC':'A', 'GCG':'A', 'GCT':'A',\n",
        "        'GAC':'D', 'GAT':'D', 'GAA':'E', 'GAG':'E',\n",
        "        'GGA':'G', 'GGC':'G', 'GGG':'G', 'GGT':'G',\n",
        "        'TCA':'S', 'TCC':'S', 'TCG':'S', 'TCT':'S',\n",
        "        'TTC':'F', 'TTT':'F', 'TTA':'L', 'TTG':'L',\n",
        "        'TAC':'Y', 'TAT':'Y', 'TAA':'_', 'TAG':'_',\n",
        "        'TGC':'C', 'TGT':'C', 'TGA':'_', 'TGG':'W',\n",
        "    }\n",
        "def seq_translate(my_seq):\n",
        "  amino_acid_seq = ''\n",
        "  for i in range(0,len(my_seq),3):\n",
        "    amino_acid_seq = amino_acid_seq + codon_table[my_seq[i:i+3]]\n",
        "  return amino_acid_seq\n",
        "\n",
        "example_AA = seq_translate('ATGTTATCGGGGTGA')\n",
        "print(example_AA)"
      ],
      "metadata": {
        "colab": {
          "base_uri": "https://localhost:8080/"
        },
        "id": "bjWSD6uDD2Gs",
        "outputId": "1b0b479e-8640-4253-f436-73b0d2b8c671"
      },
      "execution_count": 1,
      "outputs": [
        {
          "output_type": "stream",
          "name": "stdout",
          "text": [
            "MLSG_\n"
          ]
        }
      ]
    },
    {
      "cell_type": "code",
      "source": [
        "codon_table = {\n",
        "    'ATA': 'I', 'ATC': 'I', 'ATT': 'I', 'ATG': 'M',\n",
        "    'ACA': 'T', 'ACC': 'T', 'ACG': 'T', 'ACT': 'T',\n",
        "    'AAC': 'N', 'AAT': 'N', 'AAA': 'K', 'AAG': 'K',\n",
        "    'AGC': 'S', 'AGT': 'S', 'AGA': 'R', 'AGG': 'R',\n",
        "    'CTA': 'L', 'CTC': 'L', 'CTG': 'L', 'CTT': 'L',\n",
        "    'CCA': 'P', 'CCC': 'P', 'CCG': 'P', 'CCT': 'P',\n",
        "    'CAC': 'H', 'CAT': 'H', 'CAA': 'Q', 'CAG': 'Q',\n",
        "    'CGA': 'R', 'CGC': 'R', 'CGG': 'R', 'CGT': 'R',\n",
        "    'GTA': 'V', 'GTC': 'V', 'GTG': 'V', 'GTT': 'V',\n",
        "    'GCA': 'A', 'GCC': 'A', 'GCG': 'A', 'GCT': 'A',\n",
        "    'GAC': 'D', 'GAT': 'D', 'GAA': 'E', 'GAG': 'E',\n",
        "    'GGA': 'G', 'GGC': 'G', 'GGG': 'G', 'GGT': 'G',\n",
        "    'TCA': 'S', 'TCC': 'S', 'TCG': 'S', 'TCT': 'S',\n",
        "    'TTC': 'F', 'TTT': 'F', 'TTA': 'L', 'TTG': 'L',\n",
        "    'TAC': 'Y', 'TAT': 'Y', 'TAA': '_', 'TAG': '_',\n",
        "    'TGC': 'C', 'TGT': 'C', 'TGA': '_', 'TGG': 'W'\n",
        "}\n",
        "\n",
        "def seq_translate(my_seq):\n",
        "    \"\"\"Translates a DNA sequence into an amino acid sequence, handling invalid codons.\"\"\"\n",
        "    amino_acid_seq = ''\n",
        "    for i in range(0, len(my_seq) - (len(my_seq) % 3), 3):  # Ensure full codons\n",
        "        codon = my_seq[i:i+3]\n",
        "        amino_acid_seq += codon_table.get(codon, \"X\")  # Use .get() to handle invalid codons safely\n",
        "    return amino_acid_seq\n",
        "\n",
        "# The provided TRSP2 transcript sequence\n",
        "my_transcript = 'CGAGCCTACTAGGAGTCACCAGACCCCACGTCCGAAGTTTGGACACCGACAGATCACTGTCTCACCAAGTTAAGGTGGAAACAT'\n",
        "print(f\"Original DNA sequence: {my_transcript}\")\n",
        "\n",
        "# Translate the sequence\n",
        "translated_AA = seq_translate(my_transcript)\n",
        "print(f\"Translated Amino Acid Sequence: {translated_AA}\")\n",
        "\n",
        "# Find the longest ORF\n",
        "longest_orf = 0\n",
        "longest_start = -1\n",
        "longest_end = -1\n",
        "\n",
        "for i in range(len(my_transcript) - 2):\n",
        "    if my_transcript[i:i + 3] == 'ATG':  # Look for start codon\n",
        "        for j in range(i + 3, len(my_transcript) - 2, 3):\n",
        "            if my_transcript[j:j + 3] in ('TAG', 'TAA', 'TGA'):  # Stop codon found\n",
        "                orf_length = j - i\n",
        "                if orf_length > longest_orf:\n",
        "                    longest_orf = orf_length\n",
        "                    longest_start = i\n",
        "                    longest_end = j + 3  # Include stop codon\n",
        "                break  # Stop looking for stop codons after the first valid one\n",
        "\n",
        "if longest_start != -1 and longest_end != -1:\n",
        "    longest_orf_seq = my_transcript[longest_start:longest_end]\n",
        "    print(f'The longest ORF has a size of: {longest_orf} bp, start: {longest_start}, stop: {longest_end}')\n",
        "    print(f'The amino acid sequence of the longest ORF is: {seq_translate(longest_orf_seq)}')\n",
        "else:\n",
        "    print(\"No valid ORF found in the sequence.\")"
      ],
      "metadata": {
        "id": "BkJN_xppgh9e",
        "colab": {
          "base_uri": "https://localhost:8080/"
        },
        "outputId": "2f746c48-5267-482b-f680-b58eb0420029"
      },
      "execution_count": 6,
      "outputs": [
        {
          "output_type": "stream",
          "name": "stdout",
          "text": [
            "Original DNA sequence: CGAGCCTACTAGGAGTCACCAGACCCCACGTCCGAAGTTTGGACACCGACAGATCACTGTCTCACCAAGTTAAGGTGGAAACAT\n",
            "Translated Amino Acid Sequence: RAY_ESPDPTSEVWTPTDHCLTKLRWKH\n",
            "No valid ORF found in the sequence.\n"
          ]
        }
      ]
    },
    {
      "cell_type": "markdown",
      "source": [
        "##2.11.5 Q5\n",
        "What is the **amino acid sequence** of the sequence from Q4?\n",
        "\n",
        "Document here how you arived at the sequence:\n",
        "To find the amino acid sequence of the sequence from Q4, I followed these steps:\n",
        "\n",
        "Identify the Longest Open Reading Frame (ORF)\n",
        "\n",
        "Scanned the provided DNA sequence for the start codon (ATG).\n",
        "From each start codon, checked for the first stop codon (TAA, TAG, TGA).\n",
        "Measured the length of the ORFs and selected the longest one.\n",
        "Extract the Longest ORF Sequence\n",
        "\n",
        "Retrieved the nucleotide sequence corresponding to the longest ORF.\n",
        "Translate the ORF into an Amino Acid Sequence\n",
        "\n",
        "Used the standard codon table to convert each triplet (codon) into its respective amino acid.\n",
        "I found the longest ORF as documented in the code above.\n",
        "\n",
        "```\n",
        ">TRSP2/1 amino acid sequence\n",
        "It appears that no valid open reading frame (ORF) was found within the given sequence. This means that there is either no start codon (ATG) present or no appropriate stop codon (TAA, TAG, TGA) that follows in a proper reading frame.\n",
        "```\n"
      ],
      "metadata": {
        "id": "PlfbzZJRgmw6"
      }
    },
    {
      "cell_type": "code",
      "source": [
        "#placeholder code if needed"
      ],
      "metadata": {
        "id": "AXlmmXWgEw7J"
      },
      "execution_count": null,
      "outputs": []
    }
  ]
}